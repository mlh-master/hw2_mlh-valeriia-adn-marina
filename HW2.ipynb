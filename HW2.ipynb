{
 "cells": [
  {
   "cell_type": "markdown",
   "metadata": {},
   "source": [
    "# Coding Assigment\n",
    "## Question 1\n",
    "First of all let us import all libraries:"
   ]
  },
  {
   "cell_type": "code",
   "execution_count": 1,
   "metadata": {},
   "outputs": [
    {
     "data": {
      "text/html": [
       "<div>\n",
       "<style scoped>\n",
       "    .dataframe tbody tr th:only-of-type {\n",
       "        vertical-align: middle;\n",
       "    }\n",
       "\n",
       "    .dataframe tbody tr th {\n",
       "        vertical-align: top;\n",
       "    }\n",
       "\n",
       "    .dataframe thead th {\n",
       "        text-align: right;\n",
       "    }\n",
       "</style>\n",
       "<table border=\"1\" class=\"dataframe\">\n",
       "  <thead>\n",
       "    <tr style=\"text-align: right;\">\n",
       "      <th></th>\n",
       "      <th>Age</th>\n",
       "      <th>Gender</th>\n",
       "      <th>Increased Urination</th>\n",
       "      <th>Increased Thirst</th>\n",
       "      <th>Sudden Weight Loss</th>\n",
       "      <th>Weakness</th>\n",
       "      <th>Increased Hunger</th>\n",
       "      <th>Genital Thrush</th>\n",
       "      <th>Visual Blurring</th>\n",
       "      <th>Itching</th>\n",
       "      <th>Irritability</th>\n",
       "      <th>Delayed Healing</th>\n",
       "      <th>Partial Paresis</th>\n",
       "      <th>Muscle Stiffness</th>\n",
       "      <th>Hair Loss</th>\n",
       "      <th>Obesity</th>\n",
       "      <th>Diagnosis</th>\n",
       "      <th>Family History</th>\n",
       "    </tr>\n",
       "  </thead>\n",
       "  <tbody>\n",
       "    <tr>\n",
       "      <th>0</th>\n",
       "      <td>45</td>\n",
       "      <td>Male</td>\n",
       "      <td>No</td>\n",
       "      <td>No</td>\n",
       "      <td>No</td>\n",
       "      <td>Yes</td>\n",
       "      <td>No</td>\n",
       "      <td>No</td>\n",
       "      <td>No</td>\n",
       "      <td>Yes</td>\n",
       "      <td>No</td>\n",
       "      <td>No</td>\n",
       "      <td>Yes</td>\n",
       "      <td>No</td>\n",
       "      <td>Yes</td>\n",
       "      <td>No</td>\n",
       "      <td>Negative</td>\n",
       "      <td>0</td>\n",
       "    </tr>\n",
       "    <tr>\n",
       "      <th>1</th>\n",
       "      <td>42</td>\n",
       "      <td>Male</td>\n",
       "      <td>No</td>\n",
       "      <td>No</td>\n",
       "      <td>No</td>\n",
       "      <td>No</td>\n",
       "      <td>No</td>\n",
       "      <td>No</td>\n",
       "      <td>No</td>\n",
       "      <td>No</td>\n",
       "      <td>No</td>\n",
       "      <td>No</td>\n",
       "      <td>No</td>\n",
       "      <td>No</td>\n",
       "      <td>Yes</td>\n",
       "      <td>No</td>\n",
       "      <td>Negative</td>\n",
       "      <td>0</td>\n",
       "    </tr>\n",
       "    <tr>\n",
       "      <th>2</th>\n",
       "      <td>45</td>\n",
       "      <td>Male</td>\n",
       "      <td>Yes</td>\n",
       "      <td>Yes</td>\n",
       "      <td>No</td>\n",
       "      <td>Yes</td>\n",
       "      <td>No</td>\n",
       "      <td>Yes</td>\n",
       "      <td>No</td>\n",
       "      <td>No</td>\n",
       "      <td>No</td>\n",
       "      <td>Yes</td>\n",
       "      <td>No</td>\n",
       "      <td>No</td>\n",
       "      <td>Yes</td>\n",
       "      <td>No</td>\n",
       "      <td>Positive</td>\n",
       "      <td>0</td>\n",
       "    </tr>\n",
       "    <tr>\n",
       "      <th>3</th>\n",
       "      <td>59</td>\n",
       "      <td>Female</td>\n",
       "      <td>No</td>\n",
       "      <td>No</td>\n",
       "      <td>No</td>\n",
       "      <td>No</td>\n",
       "      <td>No</td>\n",
       "      <td>No</td>\n",
       "      <td>No</td>\n",
       "      <td>No</td>\n",
       "      <td>No</td>\n",
       "      <td>No</td>\n",
       "      <td>No</td>\n",
       "      <td>No</td>\n",
       "      <td>No</td>\n",
       "      <td>No</td>\n",
       "      <td>Positive</td>\n",
       "      <td>1</td>\n",
       "    </tr>\n",
       "    <tr>\n",
       "      <th>4</th>\n",
       "      <td>40</td>\n",
       "      <td>Female</td>\n",
       "      <td>Yes</td>\n",
       "      <td>Yes</td>\n",
       "      <td>Yes</td>\n",
       "      <td>Yes</td>\n",
       "      <td>No</td>\n",
       "      <td>No</td>\n",
       "      <td>Yes</td>\n",
       "      <td>Yes</td>\n",
       "      <td>No</td>\n",
       "      <td>No</td>\n",
       "      <td>Yes</td>\n",
       "      <td>Yes</td>\n",
       "      <td>No</td>\n",
       "      <td>No</td>\n",
       "      <td>Positive</td>\n",
       "      <td>0</td>\n",
       "    </tr>\n",
       "    <tr>\n",
       "      <th>5</th>\n",
       "      <td>72</td>\n",
       "      <td>Male</td>\n",
       "      <td>Yes</td>\n",
       "      <td>No</td>\n",
       "      <td>No</td>\n",
       "      <td>No</td>\n",
       "      <td>Yes</td>\n",
       "      <td>No</td>\n",
       "      <td>Yes</td>\n",
       "      <td>Yes</td>\n",
       "      <td>No</td>\n",
       "      <td>Yes</td>\n",
       "      <td>Yes</td>\n",
       "      <td>Yes</td>\n",
       "      <td>Yes</td>\n",
       "      <td>No</td>\n",
       "      <td>Negative</td>\n",
       "      <td>0</td>\n",
       "    </tr>\n",
       "    <tr>\n",
       "      <th>6</th>\n",
       "      <td>43</td>\n",
       "      <td>Male</td>\n",
       "      <td>No</td>\n",
       "      <td>No</td>\n",
       "      <td>No</td>\n",
       "      <td>Yes</td>\n",
       "      <td>No</td>\n",
       "      <td>Yes</td>\n",
       "      <td>No</td>\n",
       "      <td>Yes</td>\n",
       "      <td>No</td>\n",
       "      <td>Yes</td>\n",
       "      <td>No</td>\n",
       "      <td>No</td>\n",
       "      <td>Yes</td>\n",
       "      <td>No</td>\n",
       "      <td>Negative</td>\n",
       "      <td>1</td>\n",
       "    </tr>\n",
       "    <tr>\n",
       "      <th>7</th>\n",
       "      <td>57</td>\n",
       "      <td>Male</td>\n",
       "      <td>Yes</td>\n",
       "      <td>Yes</td>\n",
       "      <td>Yes</td>\n",
       "      <td>Yes</td>\n",
       "      <td>Yes</td>\n",
       "      <td>No</td>\n",
       "      <td>Yes</td>\n",
       "      <td>No</td>\n",
       "      <td>No</td>\n",
       "      <td>No</td>\n",
       "      <td>Yes</td>\n",
       "      <td>No</td>\n",
       "      <td>No</td>\n",
       "      <td>No</td>\n",
       "      <td>Positive</td>\n",
       "      <td>0</td>\n",
       "    </tr>\n",
       "    <tr>\n",
       "      <th>8</th>\n",
       "      <td>37</td>\n",
       "      <td>Male</td>\n",
       "      <td>No</td>\n",
       "      <td>No</td>\n",
       "      <td>No</td>\n",
       "      <td>Yes</td>\n",
       "      <td>No</td>\n",
       "      <td>No</td>\n",
       "      <td>No</td>\n",
       "      <td>No</td>\n",
       "      <td>No</td>\n",
       "      <td>Yes</td>\n",
       "      <td>No</td>\n",
       "      <td>No</td>\n",
       "      <td>Yes</td>\n",
       "      <td>No</td>\n",
       "      <td>Positive</td>\n",
       "      <td>1</td>\n",
       "    </tr>\n",
       "    <tr>\n",
       "      <th>9</th>\n",
       "      <td>56</td>\n",
       "      <td>Male</td>\n",
       "      <td>Yes</td>\n",
       "      <td>No</td>\n",
       "      <td>Yes</td>\n",
       "      <td>Yes</td>\n",
       "      <td>No</td>\n",
       "      <td>Yes</td>\n",
       "      <td>No</td>\n",
       "      <td>Yes</td>\n",
       "      <td>Yes</td>\n",
       "      <td>No</td>\n",
       "      <td>No</td>\n",
       "      <td>No</td>\n",
       "      <td>Yes</td>\n",
       "      <td>No</td>\n",
       "      <td>Positive</td>\n",
       "      <td>1</td>\n",
       "    </tr>\n",
       "  </tbody>\n",
       "</table>\n",
       "</div>"
      ],
      "text/plain": [
       "   Age  Gender Increased Urination Increased Thirst Sudden Weight Loss  \\\n",
       "0   45    Male                  No               No                 No   \n",
       "1   42    Male                  No               No                 No   \n",
       "2   45    Male                 Yes              Yes                 No   \n",
       "3   59  Female                  No               No                 No   \n",
       "4   40  Female                 Yes              Yes                Yes   \n",
       "5   72    Male                 Yes               No                 No   \n",
       "6   43    Male                  No               No                 No   \n",
       "7   57    Male                 Yes              Yes                Yes   \n",
       "8   37    Male                  No               No                 No   \n",
       "9   56    Male                 Yes               No                Yes   \n",
       "\n",
       "  Weakness Increased Hunger Genital Thrush Visual Blurring Itching  \\\n",
       "0      Yes               No             No              No     Yes   \n",
       "1       No               No             No              No      No   \n",
       "2      Yes               No            Yes              No      No   \n",
       "3       No               No             No              No      No   \n",
       "4      Yes               No             No             Yes     Yes   \n",
       "5       No              Yes             No             Yes     Yes   \n",
       "6      Yes               No            Yes              No     Yes   \n",
       "7      Yes              Yes             No             Yes      No   \n",
       "8      Yes               No             No              No      No   \n",
       "9      Yes               No            Yes              No     Yes   \n",
       "\n",
       "  Irritability Delayed Healing Partial Paresis Muscle Stiffness Hair Loss  \\\n",
       "0           No              No             Yes               No       Yes   \n",
       "1           No              No              No               No       Yes   \n",
       "2           No             Yes              No               No       Yes   \n",
       "3           No              No              No               No        No   \n",
       "4           No              No             Yes              Yes        No   \n",
       "5           No             Yes             Yes              Yes       Yes   \n",
       "6           No             Yes              No               No       Yes   \n",
       "7           No              No             Yes               No        No   \n",
       "8           No             Yes              No               No       Yes   \n",
       "9          Yes              No              No               No       Yes   \n",
       "\n",
       "  Obesity Diagnosis  Family History  \n",
       "0      No  Negative               0  \n",
       "1      No  Negative               0  \n",
       "2      No  Positive               0  \n",
       "3      No  Positive               1  \n",
       "4      No  Positive               0  \n",
       "5      No  Negative               0  \n",
       "6      No  Negative               1  \n",
       "7      No  Positive               0  \n",
       "8      No  Positive               1  \n",
       "9      No  Positive               1  "
      ]
     },
     "execution_count": 1,
     "metadata": {},
     "output_type": "execute_result"
    }
   ],
   "source": [
    "import pandas as pd\n",
    "import numpy as np\n",
    "from pathlib import Path\n",
    "import random\n",
    "import matplotlib.pyplot as plt\n",
    "from sklearn.preprocessing import StandardScaler\n",
    "import functions as f            #our functions.py\n",
    "import matplotlib.pyplot as plt\n",
    "import seaborn as sns\n",
    "from sklearn import metrics\n",
    "from sklearn.model_selection import train_test_split\n",
    "from sklearn.linear_model import LogisticRegression\n",
    "from sklearn.model_selection import GridSearchCV\n",
    "from sklearn.pipeline import Pipeline\n",
    "from sklearn.model_selection import StratifiedKFold as SKFold\n",
    "from sklearn.preprocessing import OneHotEncoder\n",
    "from sklearn.preprocessing import LabelEncoder\n",
    "from sklearn.decomposition import PCA\n",
    "from sklearn.ensemble import RandomForestClassifier as rfc\n",
    "from sklearn.metrics import roc_auc_score\n",
    "from sklearn.pipeline import Pipeline\n",
    "from sklearn import svm\n",
    "\n",
    "\n",
    "%matplotlib inline\n",
    "%load_ext autoreload\n",
    "\n",
    "file = Path.cwd().joinpath('HW2_data.csv') # concatenates HW2_data.csv to the current folder that should be the extracted zip folder \n",
    "dataset = pd.read_csv(file)  # load the data and drop the first row that was filled with nans\n",
    "\n",
    "random.seed(149) #our random seed\n",
    "dataset.head(10) #visualise file"
   ]
  },
  {
   "cell_type": "markdown",
   "metadata": {},
   "source": [
    "Here we wanted to know some info about our data:"
   ]
  },
  {
   "cell_type": "code",
   "execution_count": 2,
   "metadata": {},
   "outputs": [
    {
     "name": "stdout",
     "output_type": "stream",
     "text": [
      "<class 'pandas.core.frame.DataFrame'>\n",
      "RangeIndex: 565 entries, 0 to 564\n",
      "Data columns (total 18 columns):\n",
      " #   Column               Non-Null Count  Dtype \n",
      "---  ------               --------------  ----- \n",
      " 0   Age                  565 non-null    int64 \n",
      " 1   Gender               565 non-null    object\n",
      " 2   Increased Urination  565 non-null    object\n",
      " 3   Increased Thirst     545 non-null    object\n",
      " 4   Sudden Weight Loss   556 non-null    object\n",
      " 5   Weakness             565 non-null    object\n",
      " 6   Increased Hunger     552 non-null    object\n",
      " 7   Genital Thrush       551 non-null    object\n",
      " 8   Visual Blurring      565 non-null    object\n",
      " 9   Itching              554 non-null    object\n",
      " 10  Irritability         565 non-null    object\n",
      " 11  Delayed Healing      565 non-null    object\n",
      " 12  Partial Paresis      565 non-null    object\n",
      " 13  Muscle Stiffness     550 non-null    object\n",
      " 14  Hair Loss            565 non-null    object\n",
      " 15  Obesity              565 non-null    object\n",
      " 16  Diagnosis            565 non-null    object\n",
      " 17  Family History       565 non-null    int64 \n",
      "dtypes: int64(2), object(16)\n",
      "memory usage: 79.6+ KB\n"
     ]
    }
   ],
   "source": [
    "dataset = dataset.interpolate()\n",
    "dataset.info()"
   ]
  },
  {
   "cell_type": "markdown",
   "metadata": {},
   "source": [
    "Here we wanted to calculate what is a percentage of NaN values in a dataset:"
   ]
  },
  {
   "cell_type": "code",
   "execution_count": 3,
   "metadata": {},
   "outputs": [
    {
     "name": "stdout",
     "output_type": "stream",
     "text": [
      "NAN pecent in feature Age  =  0.00%\n",
      "NAN pecent in feature Gender  =  0.00%\n",
      "NAN pecent in feature Increased Urination  =  0.00%\n",
      "NAN pecent in feature Increased Thirst  =  3.54%\n",
      "NAN pecent in feature Sudden Weight Loss  =  1.59%\n",
      "NAN pecent in feature Weakness  =  0.00%\n",
      "NAN pecent in feature Increased Hunger  =  2.30%\n",
      "NAN pecent in feature Genital Thrush  =  2.48%\n",
      "NAN pecent in feature Visual Blurring  =  0.00%\n",
      "NAN pecent in feature Itching  =  1.95%\n",
      "NAN pecent in feature Irritability  =  0.00%\n",
      "NAN pecent in feature Delayed Healing  =  0.00%\n",
      "NAN pecent in feature Partial Paresis  =  0.00%\n",
      "NAN pecent in feature Muscle Stiffness  =  2.65%\n",
      "NAN pecent in feature Hair Loss  =  0.00%\n",
      "NAN pecent in feature Obesity  =  0.00%\n",
      "NAN pecent in feature Diagnosis  =  0.00%\n",
      "NAN pecent in feature Family History  =  0.00%\n"
     ]
    }
   ],
   "source": [
    "df = dataset.copy()\n",
    "df = df.replace('Female',0).replace('Male',1).replace('No',0).replace('Yes',1).replace('Positive',1).replace('Negative',0)\n",
    "isna = np.zeros(len(df.keys()))\n",
    "percent_nan = np.zeros(len(df.keys()))\n",
    "for i,feat in enumerate(df.keys()):\n",
    "    isna[i] = df[feat].isna().sum()\n",
    "    percent_nan[i] = 100*(isna[i]/len(df[feat]))\n",
    "    print('NAN pecent in feature {}  =  {:.02f}%'.format(feat,percent_nan[i]))"
   ]
  },
  {
   "cell_type": "markdown",
   "metadata": {},
   "source": [
    "So we can see that the NaN values take less than 4% of the data in each feature, so we can drop the NaN's and it will have little effect on a future analysis.\n",
    "In addition, we wanted to make dataset become binary, to easier analysis and visualisation."
   ]
  },
  {
   "cell_type": "code",
   "execution_count": 4,
   "metadata": {},
   "outputs": [
    {
     "data": {
      "text/html": [
       "<div>\n",
       "<style scoped>\n",
       "    .dataframe tbody tr th:only-of-type {\n",
       "        vertical-align: middle;\n",
       "    }\n",
       "\n",
       "    .dataframe tbody tr th {\n",
       "        vertical-align: top;\n",
       "    }\n",
       "\n",
       "    .dataframe thead th {\n",
       "        text-align: right;\n",
       "    }\n",
       "</style>\n",
       "<table border=\"1\" class=\"dataframe\">\n",
       "  <thead>\n",
       "    <tr style=\"text-align: right;\">\n",
       "      <th></th>\n",
       "      <th>Age</th>\n",
       "      <th>Gender</th>\n",
       "      <th>Increased Urination</th>\n",
       "      <th>Increased Thirst</th>\n",
       "      <th>Sudden Weight Loss</th>\n",
       "      <th>Weakness</th>\n",
       "      <th>Increased Hunger</th>\n",
       "      <th>Genital Thrush</th>\n",
       "      <th>Visual Blurring</th>\n",
       "      <th>Itching</th>\n",
       "      <th>Irritability</th>\n",
       "      <th>Delayed Healing</th>\n",
       "      <th>Partial Paresis</th>\n",
       "      <th>Muscle Stiffness</th>\n",
       "      <th>Hair Loss</th>\n",
       "      <th>Obesity</th>\n",
       "      <th>Diagnosis</th>\n",
       "      <th>Family History</th>\n",
       "    </tr>\n",
       "  </thead>\n",
       "  <tbody>\n",
       "    <tr>\n",
       "      <th>0</th>\n",
       "      <td>45</td>\n",
       "      <td>1</td>\n",
       "      <td>0</td>\n",
       "      <td>0.0</td>\n",
       "      <td>0.0</td>\n",
       "      <td>1</td>\n",
       "      <td>0.0</td>\n",
       "      <td>0.0</td>\n",
       "      <td>0</td>\n",
       "      <td>1.0</td>\n",
       "      <td>0</td>\n",
       "      <td>0</td>\n",
       "      <td>1</td>\n",
       "      <td>0.0</td>\n",
       "      <td>1</td>\n",
       "      <td>0</td>\n",
       "      <td>0</td>\n",
       "      <td>0</td>\n",
       "    </tr>\n",
       "    <tr>\n",
       "      <th>1</th>\n",
       "      <td>42</td>\n",
       "      <td>1</td>\n",
       "      <td>0</td>\n",
       "      <td>0.0</td>\n",
       "      <td>0.0</td>\n",
       "      <td>0</td>\n",
       "      <td>0.0</td>\n",
       "      <td>0.0</td>\n",
       "      <td>0</td>\n",
       "      <td>0.0</td>\n",
       "      <td>0</td>\n",
       "      <td>0</td>\n",
       "      <td>0</td>\n",
       "      <td>0.0</td>\n",
       "      <td>1</td>\n",
       "      <td>0</td>\n",
       "      <td>0</td>\n",
       "      <td>0</td>\n",
       "    </tr>\n",
       "    <tr>\n",
       "      <th>2</th>\n",
       "      <td>45</td>\n",
       "      <td>1</td>\n",
       "      <td>1</td>\n",
       "      <td>1.0</td>\n",
       "      <td>0.0</td>\n",
       "      <td>1</td>\n",
       "      <td>0.0</td>\n",
       "      <td>1.0</td>\n",
       "      <td>0</td>\n",
       "      <td>0.0</td>\n",
       "      <td>0</td>\n",
       "      <td>1</td>\n",
       "      <td>0</td>\n",
       "      <td>0.0</td>\n",
       "      <td>1</td>\n",
       "      <td>0</td>\n",
       "      <td>1</td>\n",
       "      <td>0</td>\n",
       "    </tr>\n",
       "    <tr>\n",
       "      <th>3</th>\n",
       "      <td>59</td>\n",
       "      <td>0</td>\n",
       "      <td>0</td>\n",
       "      <td>0.0</td>\n",
       "      <td>0.0</td>\n",
       "      <td>0</td>\n",
       "      <td>0.0</td>\n",
       "      <td>0.0</td>\n",
       "      <td>0</td>\n",
       "      <td>0.0</td>\n",
       "      <td>0</td>\n",
       "      <td>0</td>\n",
       "      <td>0</td>\n",
       "      <td>0.0</td>\n",
       "      <td>0</td>\n",
       "      <td>0</td>\n",
       "      <td>1</td>\n",
       "      <td>1</td>\n",
       "    </tr>\n",
       "    <tr>\n",
       "      <th>4</th>\n",
       "      <td>40</td>\n",
       "      <td>0</td>\n",
       "      <td>1</td>\n",
       "      <td>1.0</td>\n",
       "      <td>1.0</td>\n",
       "      <td>1</td>\n",
       "      <td>0.0</td>\n",
       "      <td>0.0</td>\n",
       "      <td>1</td>\n",
       "      <td>1.0</td>\n",
       "      <td>0</td>\n",
       "      <td>0</td>\n",
       "      <td>1</td>\n",
       "      <td>1.0</td>\n",
       "      <td>0</td>\n",
       "      <td>0</td>\n",
       "      <td>1</td>\n",
       "      <td>0</td>\n",
       "    </tr>\n",
       "    <tr>\n",
       "      <th>5</th>\n",
       "      <td>72</td>\n",
       "      <td>1</td>\n",
       "      <td>1</td>\n",
       "      <td>0.0</td>\n",
       "      <td>0.0</td>\n",
       "      <td>0</td>\n",
       "      <td>1.0</td>\n",
       "      <td>0.0</td>\n",
       "      <td>1</td>\n",
       "      <td>1.0</td>\n",
       "      <td>0</td>\n",
       "      <td>1</td>\n",
       "      <td>1</td>\n",
       "      <td>1.0</td>\n",
       "      <td>1</td>\n",
       "      <td>0</td>\n",
       "      <td>0</td>\n",
       "      <td>0</td>\n",
       "    </tr>\n",
       "    <tr>\n",
       "      <th>6</th>\n",
       "      <td>43</td>\n",
       "      <td>1</td>\n",
       "      <td>0</td>\n",
       "      <td>0.0</td>\n",
       "      <td>0.0</td>\n",
       "      <td>1</td>\n",
       "      <td>0.0</td>\n",
       "      <td>1.0</td>\n",
       "      <td>0</td>\n",
       "      <td>1.0</td>\n",
       "      <td>0</td>\n",
       "      <td>1</td>\n",
       "      <td>0</td>\n",
       "      <td>0.0</td>\n",
       "      <td>1</td>\n",
       "      <td>0</td>\n",
       "      <td>0</td>\n",
       "      <td>1</td>\n",
       "    </tr>\n",
       "    <tr>\n",
       "      <th>7</th>\n",
       "      <td>57</td>\n",
       "      <td>1</td>\n",
       "      <td>1</td>\n",
       "      <td>1.0</td>\n",
       "      <td>1.0</td>\n",
       "      <td>1</td>\n",
       "      <td>1.0</td>\n",
       "      <td>0.0</td>\n",
       "      <td>1</td>\n",
       "      <td>0.0</td>\n",
       "      <td>0</td>\n",
       "      <td>0</td>\n",
       "      <td>1</td>\n",
       "      <td>0.0</td>\n",
       "      <td>0</td>\n",
       "      <td>0</td>\n",
       "      <td>1</td>\n",
       "      <td>0</td>\n",
       "    </tr>\n",
       "    <tr>\n",
       "      <th>8</th>\n",
       "      <td>37</td>\n",
       "      <td>1</td>\n",
       "      <td>0</td>\n",
       "      <td>0.0</td>\n",
       "      <td>0.0</td>\n",
       "      <td>1</td>\n",
       "      <td>0.0</td>\n",
       "      <td>0.0</td>\n",
       "      <td>0</td>\n",
       "      <td>0.0</td>\n",
       "      <td>0</td>\n",
       "      <td>1</td>\n",
       "      <td>0</td>\n",
       "      <td>0.0</td>\n",
       "      <td>1</td>\n",
       "      <td>0</td>\n",
       "      <td>1</td>\n",
       "      <td>1</td>\n",
       "    </tr>\n",
       "    <tr>\n",
       "      <th>9</th>\n",
       "      <td>56</td>\n",
       "      <td>1</td>\n",
       "      <td>1</td>\n",
       "      <td>0.0</td>\n",
       "      <td>1.0</td>\n",
       "      <td>1</td>\n",
       "      <td>0.0</td>\n",
       "      <td>1.0</td>\n",
       "      <td>0</td>\n",
       "      <td>1.0</td>\n",
       "      <td>1</td>\n",
       "      <td>0</td>\n",
       "      <td>0</td>\n",
       "      <td>0.0</td>\n",
       "      <td>1</td>\n",
       "      <td>0</td>\n",
       "      <td>1</td>\n",
       "      <td>1</td>\n",
       "    </tr>\n",
       "  </tbody>\n",
       "</table>\n",
       "</div>"
      ],
      "text/plain": [
       "   Age  Gender  Increased Urination  Increased Thirst  Sudden Weight Loss  \\\n",
       "0   45       1                    0               0.0                 0.0   \n",
       "1   42       1                    0               0.0                 0.0   \n",
       "2   45       1                    1               1.0                 0.0   \n",
       "3   59       0                    0               0.0                 0.0   \n",
       "4   40       0                    1               1.0                 1.0   \n",
       "5   72       1                    1               0.0                 0.0   \n",
       "6   43       1                    0               0.0                 0.0   \n",
       "7   57       1                    1               1.0                 1.0   \n",
       "8   37       1                    0               0.0                 0.0   \n",
       "9   56       1                    1               0.0                 1.0   \n",
       "\n",
       "   Weakness  Increased Hunger  Genital Thrush  Visual Blurring  Itching  \\\n",
       "0         1               0.0             0.0                0      1.0   \n",
       "1         0               0.0             0.0                0      0.0   \n",
       "2         1               0.0             1.0                0      0.0   \n",
       "3         0               0.0             0.0                0      0.0   \n",
       "4         1               0.0             0.0                1      1.0   \n",
       "5         0               1.0             0.0                1      1.0   \n",
       "6         1               0.0             1.0                0      1.0   \n",
       "7         1               1.0             0.0                1      0.0   \n",
       "8         1               0.0             0.0                0      0.0   \n",
       "9         1               0.0             1.0                0      1.0   \n",
       "\n",
       "   Irritability  Delayed Healing  Partial Paresis  Muscle Stiffness  \\\n",
       "0             0                0                1               0.0   \n",
       "1             0                0                0               0.0   \n",
       "2             0                1                0               0.0   \n",
       "3             0                0                0               0.0   \n",
       "4             0                0                1               1.0   \n",
       "5             0                1                1               1.0   \n",
       "6             0                1                0               0.0   \n",
       "7             0                0                1               0.0   \n",
       "8             0                1                0               0.0   \n",
       "9             1                0                0               0.0   \n",
       "\n",
       "   Hair Loss  Obesity  Diagnosis  Family History  \n",
       "0          1        0          0               0  \n",
       "1          1        0          0               0  \n",
       "2          1        0          1               0  \n",
       "3          0        0          1               1  \n",
       "4          0        0          1               0  \n",
       "5          1        0          0               0  \n",
       "6          1        0          0               1  \n",
       "7          0        0          1               0  \n",
       "8          1        0          1               1  \n",
       "9          1        0          1               1  "
      ]
     },
     "execution_count": 4,
     "metadata": {},
     "output_type": "execute_result"
    }
   ],
   "source": [
    "def make_data_binary(data):\n",
    "    binary = data.copy()\n",
    "    ''' \n",
    "    We have changed the values from string to the binary ones, it will be easier for us \n",
    "    to work with the data.\n",
    "    Female = 0, Male = 1.\n",
    "    Yes = 1, No = 0\n",
    "    Positive = 1, Negative = 0\n",
    "    '''\n",
    "    binary = binary.replace('Female',0).replace('Male',1).replace('No',0).replace('Yes',1).replace('Positive',1).replace('Negative',0)\n",
    "    return binary.dropna() #we see in the data we have nan values. We have dropped them.\n",
    "\n",
    "data = make_data_binary(dataset)\n",
    "diag_state = data[[\"Diagnosis\"]]\n",
    "data.head(10) #visualize data after binarization"
   ]
  },
  {
   "cell_type": "markdown",
   "metadata": {},
   "source": [
    "Here we wanted to show that our data labels are not equal by it amount, so we will need to do the stratification, when we will split the data to train and test."
   ]
  },
  {
   "cell_type": "markdown",
   "metadata": {},
   "source": [
    "## Question 2"
   ]
  },
  {
   "cell_type": "code",
   "execution_count": 5,
   "metadata": {},
   "outputs": [],
   "source": [
    "orig_feat = data.columns.values.tolist()\n",
    "orig_feat.remove('Diagnosis')\n",
    "X_train, X_test, y_train, y_test = train_test_split(data, np.ravel(diag_state), test_size=0.2, random_state=10, stratify=np.ravel(diag_state)) #we use stratify to save proportion of classes in the train and test sets  "
   ]
  },
  {
   "cell_type": "markdown",
   "metadata": {},
   "source": [
    "## Question 3\n",
    "### a"
   ]
  },
  {
   "cell_type": "markdown",
   "metadata": {},
   "source": [
    "Here we wanted to show the table (but in our case it is data frame) which shows distribution between each feature label in Train and Test Sets."
   ]
  },
  {
   "cell_type": "code",
   "execution_count": 6,
   "metadata": {},
   "outputs": [
    {
     "data": {
      "text/html": [
       "<div>\n",
       "<style scoped>\n",
       "    .dataframe tbody tr th:only-of-type {\n",
       "        vertical-align: middle;\n",
       "    }\n",
       "\n",
       "    .dataframe tbody tr th {\n",
       "        vertical-align: top;\n",
       "    }\n",
       "\n",
       "    .dataframe thead th {\n",
       "        text-align: right;\n",
       "    }\n",
       "</style>\n",
       "<table border=\"1\" class=\"dataframe\">\n",
       "  <thead>\n",
       "    <tr style=\"text-align: right;\">\n",
       "      <th></th>\n",
       "      <th>Train%</th>\n",
       "      <th>Test%</th>\n",
       "      <th>Delta%</th>\n",
       "    </tr>\n",
       "  </thead>\n",
       "  <tbody>\n",
       "    <tr>\n",
       "      <th>Gender</th>\n",
       "      <td>61.483254</td>\n",
       "      <td>69.523810</td>\n",
       "      <td>-8.040556</td>\n",
       "    </tr>\n",
       "    <tr>\n",
       "      <th>Increased Urination</th>\n",
       "      <td>50.478469</td>\n",
       "      <td>45.714286</td>\n",
       "      <td>4.764183</td>\n",
       "    </tr>\n",
       "    <tr>\n",
       "      <th>Increased Thirst</th>\n",
       "      <td>46.172249</td>\n",
       "      <td>38.095238</td>\n",
       "      <td>8.077011</td>\n",
       "    </tr>\n",
       "    <tr>\n",
       "      <th>Sudden Weight Loss</th>\n",
       "      <td>41.626794</td>\n",
       "      <td>40.952381</td>\n",
       "      <td>0.674413</td>\n",
       "    </tr>\n",
       "    <tr>\n",
       "      <th>Weakness</th>\n",
       "      <td>58.133971</td>\n",
       "      <td>60.000000</td>\n",
       "      <td>-1.866029</td>\n",
       "    </tr>\n",
       "    <tr>\n",
       "      <th>Increased Hunger</th>\n",
       "      <td>46.650718</td>\n",
       "      <td>40.952381</td>\n",
       "      <td>5.698337</td>\n",
       "    </tr>\n",
       "    <tr>\n",
       "      <th>Genital Thrush</th>\n",
       "      <td>20.334928</td>\n",
       "      <td>29.523810</td>\n",
       "      <td>-9.188881</td>\n",
       "    </tr>\n",
       "    <tr>\n",
       "      <th>Visual Blurring</th>\n",
       "      <td>45.933014</td>\n",
       "      <td>39.047619</td>\n",
       "      <td>6.885395</td>\n",
       "    </tr>\n",
       "    <tr>\n",
       "      <th>Itching</th>\n",
       "      <td>49.521531</td>\n",
       "      <td>44.761905</td>\n",
       "      <td>4.759626</td>\n",
       "    </tr>\n",
       "    <tr>\n",
       "      <th>Irritability</th>\n",
       "      <td>24.641148</td>\n",
       "      <td>22.857143</td>\n",
       "      <td>1.784005</td>\n",
       "    </tr>\n",
       "    <tr>\n",
       "      <th>Delayed Healing</th>\n",
       "      <td>47.846890</td>\n",
       "      <td>38.095238</td>\n",
       "      <td>9.751652</td>\n",
       "    </tr>\n",
       "    <tr>\n",
       "      <th>Partial Paresis</th>\n",
       "      <td>43.779904</td>\n",
       "      <td>39.047619</td>\n",
       "      <td>4.732285</td>\n",
       "    </tr>\n",
       "    <tr>\n",
       "      <th>Muscle Stiffness</th>\n",
       "      <td>37.559809</td>\n",
       "      <td>36.190476</td>\n",
       "      <td>1.369332</td>\n",
       "    </tr>\n",
       "    <tr>\n",
       "      <th>Hair Loss</th>\n",
       "      <td>34.928230</td>\n",
       "      <td>33.333333</td>\n",
       "      <td>1.594896</td>\n",
       "    </tr>\n",
       "    <tr>\n",
       "      <th>Obesity</th>\n",
       "      <td>17.224880</td>\n",
       "      <td>15.238095</td>\n",
       "      <td>1.986785</td>\n",
       "    </tr>\n",
       "    <tr>\n",
       "      <th>Family History</th>\n",
       "      <td>49.760766</td>\n",
       "      <td>55.238095</td>\n",
       "      <td>-5.477330</td>\n",
       "    </tr>\n",
       "  </tbody>\n",
       "</table>\n",
       "</div>"
      ],
      "text/plain": [
       "                        Train%      Test%    Delta%\n",
       "Gender               61.483254  69.523810 -8.040556\n",
       "Increased Urination  50.478469  45.714286  4.764183\n",
       "Increased Thirst     46.172249  38.095238  8.077011\n",
       "Sudden Weight Loss   41.626794  40.952381  0.674413\n",
       "Weakness             58.133971  60.000000 -1.866029\n",
       "Increased Hunger     46.650718  40.952381  5.698337\n",
       "Genital Thrush       20.334928  29.523810 -9.188881\n",
       "Visual Blurring      45.933014  39.047619  6.885395\n",
       "Itching              49.521531  44.761905  4.759626\n",
       "Irritability         24.641148  22.857143  1.784005\n",
       "Delayed Healing      47.846890  38.095238  9.751652\n",
       "Partial Paresis      43.779904  39.047619  4.732285\n",
       "Muscle Stiffness     37.559809  36.190476  1.369332\n",
       "Hair Loss            34.928230  33.333333  1.594896\n",
       "Obesity              17.224880  15.238095  1.986785\n",
       "Family History       49.760766  55.238095 -5.477330"
      ]
     },
     "execution_count": 6,
     "metadata": {},
     "output_type": "execute_result"
    }
   ],
   "source": [
    "# a\n",
    "features = dataset.keys().tolist()\n",
    "percent_train,feat = f.find_distribution(X_train,features)\n",
    "percent_test,_ = f.find_distribution(X_test,features)\n",
    "delta = -(percent_test-percent_train)\n",
    "a = np.array([percent_train,percent_test,delta]).T\n",
    "\n",
    "distribution = pd.DataFrame(a,columns = ['Train%','Test%','Delta%'], index = feat )\n",
    "distribution.head(16)"
   ]
  },
  {
   "cell_type": "markdown",
   "metadata": {},
   "source": [
    "ai. If the data is not balanced, regular splitting the data to train and test can lead to imbalance of features between train and test."
   ]
  },
  {
   "cell_type": "markdown",
   "metadata": {},
   "source": [
    "aii. To solve the issue we need to use \"stratify\" that save proportion of classes during splitting to train and test sets.\n",
    "### b"
   ]
  },
  {
   "cell_type": "code",
   "execution_count": 7,
   "metadata": {},
   "outputs": [
    {
     "data": {
      "image/png": "[encoded data removed]",
      "text/plain": [
       "<Figure size 1440x1080 with 15 Axes>"
      ]
     },
     "metadata": {
      "needs_background": "light"
     },
     "output_type": "display_data"
    }
   ],
   "source": [
    "# b\n",
    "import matplotlib.pyplot as plt\n",
    "import seaborn as sns\n",
    "\n",
    "fig, axs = plt.subplots(3,5, figsize=(20,15))\n",
    "axs = axs.ravel()\n",
    "for i, feat in enumerate(dataset.keys()):\n",
    "    if feat== 'Age' or feat =='Diagnosis' or feat == 'Family History': \n",
    "        continue\n",
    "    sns.countplot(x = dataset[feat], hue = dataset['Diagnosis'], ax = axs[i-1])\n",
    "plt.tight_layout()\n",
    "plt.show()"
   ]
  },
  {
   "cell_type": "markdown",
   "metadata": {},
   "source": [
    "From the countplots above we can say that the most important features are Increased Urination and Increased Thirst, because in this features we can pretty good distinguish betwen Negative and Positive Diagnosis when we have or have not each of the features symptoms. "
   ]
  },
  {
   "cell_type": "markdown",
   "metadata": {},
   "source": [
    "Let us show to you distribution of the labels vs Age. We can see that there are more positive persons at the age > 75, and < 25."
   ]
  },
  {
   "cell_type": "code",
   "execution_count": 8,
   "metadata": {},
   "outputs": [
    {
     "data": {
      "image/png": "[encoded data removed]",
      "text/plain": [
       "<Figure size 432x288 with 1 Axes>"
      ]
     },
     "metadata": {
      "needs_background": "light"
     },
     "output_type": "display_data"
    }
   ],
   "source": [
    "bins = 100\n",
    "feat = 'Age'\n",
    "idx_1 = (diag_state == 1).index[(diag_state == 1)['Diagnosis'] == True].tolist() # positive\n",
    "idx_2 = (diag_state == 0).index[(diag_state == 0)['Diagnosis'] == True].tolist() # negative\n",
    "plt.hist(dataset[feat].loc[idx_2], bins, density=True, alpha=0.5, label='Negative')\n",
    "plt.hist(dataset[feat].loc[idx_1], bins, density=True, alpha=0.5, label='Positive')\n",
    "plt.xlabel('Age')\n",
    "plt.ylabel('Probabilty')\n",
    "plt.legend(loc='upper right')\n",
    "plt.show()"
   ]
  },
  {
   "cell_type": "markdown",
   "metadata": {},
   "source": [
    "### c"
   ]
  },
  {
   "cell_type": "code",
   "execution_count": 9,
   "metadata": {},
   "outputs": [
    {
     "data": {
      "image/png": "[encoded data removed]",
      "text/plain": [
       "<Figure size 432x288 with 1 Axes>"
      ]
     },
     "metadata": {},
     "output_type": "display_data"
    },
    {
     "name": "stdout",
     "output_type": "stream",
     "text": [
      "Negative samples account for 38.62% of the data.\n",
      "Positive samples account for 61.38% of the data.\n"
     ]
    }
   ],
   "source": [
    "\n",
    "data['Diagnosis'].value_counts().plot(kind=\"pie\", labels=['Negative','Positive'], colors = ['steelblue', 'salmon'], autopct='%1.1f%%') \n",
    "plt.show()\n",
    "print(\"Negative samples account for \" + str(\"{0:.2f}\".format(100 * len(idx_2) / len(diag_state))) + \"% of the data.\")\n",
    "print(\"Positive samples account for \" + str(\"{0:.2f}\".format(100 * len(idx_1) / len(diag_state))) + \"% of the data.\")"
   ]
  },
  {
   "cell_type": "markdown",
   "metadata": {},
   "source": [
    "For instance in this graph we can see good binary separation for Weakness:"
   ]
  },
  {
   "cell_type": "code",
   "execution_count": 10,
   "metadata": {},
   "outputs": [
    {
     "data": {
      "image/png": "[encoded data removed]",
      "text/plain": [
       "<Figure size 432x288 with 1 Axes>"
      ]
     },
     "metadata": {},
     "output_type": "display_data"
    },
    {
     "data": {
      "image/png": "[encoded data removed]",
      "text/plain": [
       "<Figure size 432x288 with 1 Axes>"
      ]
     },
     "metadata": {},
     "output_type": "display_data"
    }
   ],
   "source": [
    "data['Increased Urination'].value_counts().plot(kind=\"pie\", labels=['Yes','No'], colors = ['steelblue', 'salmon'], autopct='%1.1f%%',\n",
    "                                                title = 'Increased Urination') \n",
    "plt.show()\n",
    "data['Weakness'].value_counts().plot(kind=\"pie\", labels=['Yes','No'], colors = ['steelblue', 'salmon'], autopct='%1.1f%%',\n",
    "                                    title = 'Weakness') \n",
    "plt.show()"
   ]
  },
  {
   "cell_type": "markdown",
   "metadata": {},
   "source": [
    "From the pictures above we can infer that our dataset (except Age) is binary ('YES','NO')."
   ]
  },
  {
   "cell_type": "markdown",
   "metadata": {},
   "source": [
    "### d"
   ]
  },
  {
   "cell_type": "markdown",
   "metadata": {},
   "source": [
    "We decided to look at the same Age correlation but for different Genders:"
   ]
  },
  {
   "cell_type": "code",
   "execution_count": 11,
   "metadata": {},
   "outputs": [
    {
     "name": "stderr",
     "output_type": "stream",
     "text": [
      "C:\\Users\\Valeriia Kravchik\\anaconda3\\envs\\bm-336546-hw2\\lib\\site-packages\\seaborn\\distributions.py:2551: FutureWarning: `distplot` is a deprecated function and will be removed in a future version. Please adapt your code to use either `displot` (a figure-level function with similar flexibility) or `histplot` (an axes-level function for histograms).\n",
      "  warnings.warn(msg, FutureWarning)\n",
      "C:\\Users\\Valeriia Kravchik\\anaconda3\\envs\\bm-336546-hw2\\lib\\site-packages\\seaborn\\distributions.py:2551: FutureWarning: `distplot` is a deprecated function and will be removed in a future version. Please adapt your code to use either `displot` (a figure-level function with similar flexibility) or `histplot` (an axes-level function for histograms).\n",
      "  warnings.warn(msg, FutureWarning)\n",
      "C:\\Users\\Valeriia Kravchik\\anaconda3\\envs\\bm-336546-hw2\\lib\\site-packages\\seaborn\\distributions.py:2551: FutureWarning: `distplot` is a deprecated function and will be removed in a future version. Please adapt your code to use either `displot` (a figure-level function with similar flexibility) or `histplot` (an axes-level function for histograms).\n",
      "  warnings.warn(msg, FutureWarning)\n",
      "C:\\Users\\Valeriia Kravchik\\anaconda3\\envs\\bm-336546-hw2\\lib\\site-packages\\seaborn\\distributions.py:2551: FutureWarning: `distplot` is a deprecated function and will be removed in a future version. Please adapt your code to use either `displot` (a figure-level function with similar flexibility) or `histplot` (an axes-level function for histograms).\n",
      "  warnings.warn(msg, FutureWarning)\n"
     ]
    },
    {
     "data": {
      "image/png": "[encoded data removed]",
      "text/plain": [
       "<Figure size 720x288 with 2 Axes>"
      ]
     },
     "metadata": {
      "needs_background": "light"
     },
     "output_type": "display_data"
    }
   ],
   "source": [
    "Positive = 'Positive'\n",
    "Negative = 'Negative'\n",
    "fig, axes = plt.subplots(nrows=1, ncols=2,figsize=(10, 4))\n",
    "women = data[data['Gender']==1]\n",
    "men = data[data['Gender']==0]\n",
    "ax = sns.distplot(women[women['Diagnosis']==1].Age.dropna(), bins=18, label = Positive, ax = axes[0], kde =False)\n",
    "ax = sns.distplot(women[women['Diagnosis']==0].Age.dropna(), bins=40, label = Negative, ax = axes[0], kde =False)\n",
    "ax.legend()\n",
    "ax.set_title('Male')\n",
    "ax = sns.distplot(men[men['Diagnosis']==1].Age.dropna(), bins=18, label = Positive, ax = axes[1], kde = False)\n",
    "ax = sns.distplot(men[men['Diagnosis']==0].Age.dropna(), bins=40, label = Negative, ax = axes[1], kde = False)\n",
    "ax.legend()\n",
    "_ = ax.set_title('Female')"
   ]
  },
  {
   "cell_type": "markdown",
   "metadata": {},
   "source": [
    "And we saw that so many female persons have a T1D, comparing with helthy ones. It shows us that dataset is not so balanced.\n"
   ]
  },
  {
   "cell_type": "markdown",
   "metadata": {},
   "source": [
    "d. \n",
    "i. There are few negative samples of female in the data and number of positive samples of female in the dataset is bigger than number of positive samples of men, but we found in the internet that more men suffer from the Type 1 Diabetes. Moreover distribution of ages of the negative patienst is smaller than one of the positive patients. "
   ]
  },
  {
   "cell_type": "markdown",
   "metadata": {},
   "source": [
    "d.ii. There are features like Increased urination and Increased thirst that have separation (not 100%) between positive and negative diagnoses. For example if \"Increased urination\" = Yes the probability to get positive diagnosis much bigger than probability to get negative diagnosis and vice versa.   "
   ]
  },
  {
   "cell_type": "markdown",
   "metadata": {},
   "source": [
    "## Question 4"
   ]
  },
  {
   "cell_type": "markdown",
   "metadata": {},
   "source": [
    "Let us encode the data to onehot vector, using sklearn.\n",
    "And doing the scaling for the Age only, using the equation: $\\displaystyle \\frac{Age - \\mu}{\\sigma}$"
   ]
  },
  {
   "cell_type": "code",
   "execution_count": 12,
   "metadata": {},
   "outputs": [],
   "source": [
    "d = data\n",
    "ohe = OneHotEncoder( sparse=False ) \n",
    "X_ohe = ohe.fit_transform(d.drop('Age', axis=1).drop('Diagnosis',axis = 1)) # drop Age and Diagnosis\n",
    "'''\n",
    "Here we wanted to do scaling for our data. But because the most of the data is binary, we do not need to scale it,\n",
    "but the Age, are not binary, so let us scale it, using the formula described in Markdown above.\n",
    "'''\n",
    "dd = dataset.dropna()['Age'].values\n",
    "dd = np.reshape(dd,(1, dd.size))\n",
    "X_ohe = np.concatenate((dd.T,X_ohe), axis = 1)\n",
    "Age =  X_ohe[:,0]\n",
    "mu = np.mean(Age)\n",
    "std = np.std(Age)\n",
    "Age -=mu\n",
    "Age/=std\n",
    "age = np.array([Age])\n",
    "X2 = np.concatenate((age.T, X_ohe[:,1:-1]),axis=1) # this is the new OneHot Vector, with scaled Age for all the features"
   ]
  },
  {
   "cell_type": "markdown",
   "metadata": {},
   "source": [
    "Let us split the data again, using the scaled data and onehot vector"
   ]
  },
  {
   "cell_type": "code",
   "execution_count": 13,
   "metadata": {},
   "outputs": [],
   "source": [
    "X_train, X_test, y_train, y_test = train_test_split(X2, d['Diagnosis'], test_size=0.2, random_state=10, stratify =d['Diagnosis'] )"
   ]
  },
  {
   "cell_type": "markdown",
   "metadata": {},
   "source": [
    "Here we wil use 5k cross fold validation to train the models, using Logistic Regression. We will look for the highest test AUC."
   ]
  },
  {
   "cell_type": "code",
   "execution_count": 14,
   "metadata": {},
   "outputs": [
    {
     "name": "stdout",
     "output_type": "stream",
     "text": [
      "Fitting 5 folds for each of 12 candidates, totalling 60 fits\n",
      "[CV] classifier=LogisticRegression(), classifier__C=0.001, classifier__penalty=l1, classifier__solver=liblinear \n",
      "[CV]  classifier=LogisticRegression(), classifier__C=0.001, classifier__penalty=l1, classifier__solver=liblinear, roc_auc=(train=0.500, test=0.500), total=   0.0s\n",
      "[CV] classifier=LogisticRegression(), classifier__C=0.001, classifier__penalty=l1, classifier__solver=liblinear \n",
      "[CV]  classifier=LogisticRegression(), classifier__C=0.001, classifier__penalty=l1, classifier__solver=liblinear, roc_auc=(train=0.500, test=0.500), total=   0.0s\n",
      "[CV] classifier=LogisticRegression(), classifier__C=0.001, classifier__penalty=l1, classifier__solver=liblinear \n",
      "[CV]  classifier=LogisticRegression(), classifier__C=0.001, classifier__penalty=l1, classifier__solver=liblinear, roc_auc=(train=0.500, test=0.500), total=   0.0s\n",
      "[CV] classifier=LogisticRegression(), classifier__C=0.001, classifier__penalty=l1, classifier__solver=liblinear \n",
      "[CV]  classifier=LogisticRegression(), classifier__C=0.001, classifier__penalty=l1, classifier__solver=liblinear, roc_auc=(train=0.500, test=0.500), total=   0.0s\n",
      "[CV] classifier=LogisticRegression(), classifier__C=0.001, classifier__penalty=l1, classifier__solver=liblinear \n",
      "[CV]  classifier=LogisticRegression(), classifier__C=0.001, classifier__penalty=l1, classifier__solver=liblinear, roc_auc=(train=0.500, test=0.500), total=   0.0s\n",
      "[CV] classifier=LogisticRegression(), classifier__C=0.001, classifier__penalty=l2, classifier__solver=liblinear \n",
      "[CV]  classifier=LogisticRegression(), classifier__C=0.001, classifier__penalty=l2, classifier__solver=liblinear, roc_auc=(train=0.947, test=0.977), total=   0.0s\n",
      "[CV] classifier=LogisticRegression(), classifier__C=0.001, classifier__penalty=l2, classifier__solver=liblinear \n",
      "[CV]  classifier=LogisticRegression(), classifier__C=0.001, classifier__penalty=l2, classifier__solver=liblinear, roc_auc=(train=0.962, test=0.926), total=   0.0s\n",
      "[CV] classifier=LogisticRegression(), classifier__C=0.001, classifier__penalty=l2, classifier__solver=liblinear \n",
      "[CV]  classifier=LogisticRegression(), classifier__C=0.001, classifier__penalty=l2, classifier__solver=liblinear, roc_auc=(train=0.950, test=0.925), total=   0.0s\n",
      "[CV] classifier=LogisticRegression(), classifier__C=0.001, classifier__penalty=l2, classifier__solver=liblinear "
     ]
    },
    {
     "name": "stderr",
     "output_type": "stream",
     "text": [
      "[Parallel(n_jobs=1)]: Using backend SequentialBackend with 1 concurrent workers.\n",
      "[Parallel(n_jobs=1)]: Done   1 out of   1 | elapsed:    0.0s remaining:    0.0s\n",
      "[Parallel(n_jobs=1)]: Done   2 out of   2 | elapsed:    0.0s remaining:    0.0s\n"
     ]
    },
    {
     "name": "stdout",
     "output_type": "stream",
     "text": [
      "\n",
      "[CV]  classifier=LogisticRegression(), classifier__C=0.001, classifier__penalty=l2, classifier__solver=liblinear, roc_auc=(train=0.948, test=0.985), total=   0.0s\n",
      "[CV] classifier=LogisticRegression(), classifier__C=0.001, classifier__penalty=l2, classifier__solver=liblinear \n",
      "[CV]  classifier=LogisticRegression(), classifier__C=0.001, classifier__penalty=l2, classifier__solver=liblinear, roc_auc=(train=0.954, test=0.931), total=   0.0s\n",
      "[CV] classifier=LogisticRegression(), classifier__C=0.01, classifier__penalty=l1, classifier__solver=liblinear \n",
      "[CV]  classifier=LogisticRegression(), classifier__C=0.01, classifier__penalty=l1, classifier__solver=liblinear, roc_auc=(train=0.500, test=0.500), total=   0.0s\n",
      "[CV] classifier=LogisticRegression(), classifier__C=0.01, classifier__penalty=l1, classifier__solver=liblinear \n",
      "[CV]  classifier=LogisticRegression(), classifier__C=0.01, classifier__penalty=l1, classifier__solver=liblinear, roc_auc=(train=0.500, test=0.500), total=   0.0s\n",
      "[CV] classifier=LogisticRegression(), classifier__C=0.01, classifier__penalty=l1, classifier__solver=liblinear \n",
      "[CV]  classifier=LogisticRegression(), classifier__C=0.01, classifier__penalty=l1, classifier__solver=liblinear, roc_auc=(train=0.500, test=0.500), total=   0.0s\n",
      "[CV] classifier=LogisticRegression(), classifier__C=0.01, classifier__penalty=l1, classifier__solver=liblinear \n",
      "[CV]  classifier=LogisticRegression(), classifier__C=0.01, classifier__penalty=l1, classifier__solver=liblinear, roc_auc=(train=0.500, test=0.500), total=   0.0s\n",
      "[CV] classifier=LogisticRegression(), classifier__C=0.01, classifier__penalty=l1, classifier__solver=liblinear \n",
      "[CV]  classifier=LogisticRegression(), classifier__C=0.01, classifier__penalty=l1, classifier__solver=liblinear, roc_auc=(train=0.500, test=0.500), total=   0.0s\n",
      "[CV] classifier=LogisticRegression(), classifier__C=0.01, classifier__penalty=l2, classifier__solver=liblinear \n",
      "[CV]  classifier=LogisticRegression(), classifier__C=0.01, classifier__penalty=l2, classifier__solver=liblinear, roc_auc=(train=0.961, test=0.990), total=   0.0s\n",
      "[CV] classifier=LogisticRegression(), classifier__C=0.01, classifier__penalty=l2, classifier__solver=liblinear \n",
      "[CV]  classifier=LogisticRegression(), classifier__C=0.01, classifier__penalty=l2, classifier__solver=liblinear, roc_auc=(train=0.975, test=0.933), total=   0.0s\n",
      "[CV] classifier=LogisticRegression(), classifier__C=0.01, classifier__penalty=l2, classifier__solver=liblinear \n",
      "[CV]  classifier=LogisticRegression(), classifier__C=0.01, classifier__penalty=l2, classifier__solver=liblinear, roc_auc=(train=0.966, test=0.950), total=   0.0s\n",
      "[CV] classifier=LogisticRegression(), classifier__C=0.01, classifier__penalty=l2, classifier__solver=liblinear \n",
      "[CV]  classifier=LogisticRegression(), classifier__C=0.01, classifier__penalty=l2, classifier__solver=liblinear, roc_auc=(train=0.964, test=0.987), total=   0.0s\n",
      "[CV] classifier=LogisticRegression(), classifier__C=0.01, classifier__penalty=l2, classifier__solver=liblinear \n",
      "[CV]  classifier=LogisticRegression(), classifier__C=0.01, classifier__penalty=l2, classifier__solver=liblinear, roc_auc=(train=0.968, test=0.940), total=   0.0s\n",
      "[CV] classifier=LogisticRegression(), classifier__C=0.1, classifier__penalty=l1, classifier__solver=liblinear \n",
      "[CV]  classifier=LogisticRegression(), classifier__C=0.1, classifier__penalty=l1, classifier__solver=liblinear, roc_auc=(train=0.956, test=0.987), total=   0.0s\n",
      "[CV] classifier=LogisticRegression(), classifier__C=0.1, classifier__penalty=l1, classifier__solver=liblinear \n",
      "[CV]  classifier=LogisticRegression(), classifier__C=0.1, classifier__penalty=l1, classifier__solver=liblinear, roc_auc=(train=0.971, test=0.924), total=   0.0s\n",
      "[CV] classifier=LogisticRegression(), classifier__C=0.1, classifier__penalty=l1, classifier__solver=liblinear \n",
      "[CV]  classifier=LogisticRegression(), classifier__C=0.1, classifier__penalty=l1, classifier__solver=liblinear, roc_auc=(train=0.961, test=0.959), total=   0.0s\n",
      "[CV] classifier=LogisticRegression(), classifier__C=0.1, classifier__penalty=l1, classifier__solver=liblinear \n",
      "[CV]  classifier=LogisticRegression(), classifier__C=0.1, classifier__penalty=l1, classifier__solver=liblinear, roc_auc=(train=0.954, test=0.980), total=   0.0s\n",
      "[CV] classifier=LogisticRegression(), classifier__C=0.1, classifier__penalty=l1, classifier__solver=liblinear \n",
      "[CV]  classifier=LogisticRegression(), classifier__C=0.1, classifier__penalty=l1, classifier__solver=liblinear, roc_auc=(train=0.968, test=0.928), total=   0.0s\n",
      "[CV] classifier=LogisticRegression(), classifier__C=0.1, classifier__penalty=l2, classifier__solver=liblinear \n",
      "[CV]  classifier=LogisticRegression(), classifier__C=0.1, classifier__penalty=l2, classifier__solver=liblinear, roc_auc=(train=0.975, test=1.000), total=   0.0s\n",
      "[CV] classifier=LogisticRegression(), classifier__C=0.1, classifier__penalty=l2, classifier__solver=liblinear \n",
      "[CV]  classifier=LogisticRegression(), classifier__C=0.1, classifier__penalty=l2, classifier__solver=liblinear, roc_auc=(train=0.986, test=0.940), total=   0.0s\n",
      "[CV] classifier=LogisticRegression(), classifier__C=0.1, classifier__penalty=l2, classifier__solver=liblinear \n",
      "[CV]  classifier=LogisticRegression(), classifier__C=0.1, classifier__penalty=l2, classifier__solver=liblinear, roc_auc=(train=0.981, test=0.971), total=   0.0s\n",
      "[CV] classifier=LogisticRegression(), classifier__C=0.1, classifier__penalty=l2, classifier__solver=liblinear \n",
      "[CV]  classifier=LogisticRegression(), classifier__C=0.1, classifier__penalty=l2, classifier__solver=liblinear, roc_auc=(train=0.977, test=0.986), total=   0.0s\n",
      "[CV] classifier=LogisticRegression(), classifier__C=0.1, classifier__penalty=l2, classifier__solver=liblinear \n",
      "[CV]  classifier=LogisticRegression(), classifier__C=0.1, classifier__penalty=l2, classifier__solver=liblinear, roc_auc=(train=0.980, test=0.965), total=   0.0s\n",
      "[CV] classifier=LogisticRegression(), classifier__C=1, classifier__penalty=l1, classifier__solver=liblinear \n",
      "[CV]  classifier=LogisticRegression(), classifier__C=1, classifier__penalty=l1, classifier__solver=liblinear, roc_auc=(train=0.983, test=0.992), total=   0.0s\n",
      "[CV] classifier=LogisticRegression(), classifier__C=1, classifier__penalty=l1, classifier__solver=liblinear \n",
      "[CV]  classifier=LogisticRegression(), classifier__C=1, classifier__penalty=l1, classifier__solver=liblinear, roc_auc=(train=0.991, test=0.944), total=   0.0s\n",
      "[CV] classifier=LogisticRegression(), classifier__C=1, classifier__penalty=l1, classifier__solver=liblinear \n",
      "[CV]  classifier=LogisticRegression(), classifier__C=1, classifier__penalty=l1, classifier__solver=liblinear, roc_auc=(train=0.986, test=0.983), total=   0.0s\n",
      "[CV] classifier=LogisticRegression(), classifier__C=1, classifier__penalty=l1, classifier__solver=liblinear \n",
      "[CV]  classifier=LogisticRegression(), classifier__C=1, classifier__penalty=l1, classifier__solver=liblinear, roc_auc=(train=0.984, test=0.993), total=   0.0s\n",
      "[CV] classifier=LogisticRegression(), classifier__C=1, classifier__penalty=l1, classifier__solver=liblinear \n",
      "[CV]  classifier=LogisticRegression(), classifier__C=1, classifier__penalty=l1, classifier__solver=liblinear, roc_auc=(train=0.986, test=0.971), total=   0.0s\n",
      "[CV] classifier=LogisticRegression(), classifier__C=1, classifier__penalty=l2, classifier__solver=liblinear \n",
      "[CV]  classifier=LogisticRegression(), classifier__C=1, classifier__penalty=l2, classifier__solver=liblinear, roc_auc=(train=0.983, test=0.996), total=   0.0s\n",
      "[CV] classifier=LogisticRegression(), classifier__C=1, classifier__penalty=l2, classifier__solver=liblinear \n",
      "[CV]  classifier=LogisticRegression(), classifier__C=1, classifier__penalty=l2, classifier__solver=liblinear, roc_auc=(train=0.989, test=0.942), total=   0.0s\n",
      "[CV] classifier=LogisticRegression(), classifier__C=1, classifier__penalty=l2, classifier__solver=liblinear \n",
      "[CV]  classifier=LogisticRegression(), classifier__C=1, classifier__penalty=l2, classifier__solver=liblinear, roc_auc=(train=0.986, test=0.976), total=   0.0s\n",
      "[CV] classifier=LogisticRegression(), classifier__C=1, classifier__penalty=l2, classifier__solver=liblinear \n",
      "[CV]  classifier=LogisticRegression(), classifier__C=1, classifier__penalty=l2, classifier__solver=liblinear, roc_auc=(train=0.984, test=0.987), total=   0.0s\n",
      "[CV] classifier=LogisticRegression(), classifier__C=1, classifier__penalty=l2, classifier__solver=liblinear \n",
      "[CV]  classifier=LogisticRegression(), classifier__C=1, classifier__penalty=l2, classifier__solver=liblinear, roc_auc=(train=0.985, test=0.975), total=   0.0s\n",
      "[CV] classifier=LogisticRegression(), classifier__C=10, classifier__penalty=l1, classifier__solver=liblinear \n",
      "[CV]  classifier=LogisticRegression(), classifier__C=10, classifier__penalty=l1, classifier__solver=liblinear, roc_auc=(train=0.984, test=0.992), total=   0.0s\n",
      "[CV] classifier=LogisticRegression(), classifier__C=10, classifier__penalty=l1, classifier__solver=liblinear \n",
      "[CV]  classifier=LogisticRegression(), classifier__C=10, classifier__penalty=l1, classifier__solver=liblinear, roc_auc=(train=0.993, test=0.947), total=   0.0s\n",
      "[CV] classifier=LogisticRegression(), classifier__C=10, classifier__penalty=l1, classifier__solver=liblinear \n",
      "[CV]  classifier=LogisticRegression(), classifier__C=10, classifier__penalty=l1, classifier__solver=liblinear, roc_auc=(train=0.987, test=0.981), total=   0.0s\n",
      "[CV] classifier=LogisticRegression(), classifier__C=10, classifier__penalty=l1, classifier__solver=liblinear \n",
      "[CV]  classifier=LogisticRegression(), classifier__C=10, classifier__penalty=l1, classifier__solver=liblinear, roc_auc=(train=0.986, test=0.988), total=   0.0s\n",
      "[CV] classifier=LogisticRegression(), classifier__C=10, classifier__penalty=l1, classifier__solver=liblinear \n",
      "[CV]  classifier=LogisticRegression(), classifier__C=10, classifier__penalty=l1, classifier__solver=liblinear, roc_auc=(train=0.987, test=0.974), total=   0.0s\n",
      "[CV] classifier=LogisticRegression(), classifier__C=10, classifier__penalty=l2, classifier__solver=liblinear \n",
      "[CV]  classifier=LogisticRegression(), classifier__C=10, classifier__penalty=l2, classifier__solver=liblinear, roc_auc=(train=0.984, test=0.991), total=   0.0s\n",
      "[CV] classifier=LogisticRegression(), classifier__C=10, classifier__penalty=l2, classifier__solver=liblinear \n",
      "[CV]  classifier=LogisticRegression(), classifier__C=10, classifier__penalty=l2, classifier__solver=liblinear, roc_auc=(train=0.992, test=0.946), total=   0.0s\n",
      "[CV] classifier=LogisticRegression(), classifier__C=10, classifier__penalty=l2, classifier__solver=liblinear \n",
      "[CV]  classifier=LogisticRegression(), classifier__C=10, classifier__penalty=l2, classifier__solver=liblinear, roc_auc=(train=0.987, test=0.980), total=   0.0s\n",
      "[CV] classifier=LogisticRegression(), classifier__C=10, classifier__penalty=l2, classifier__solver=liblinear \n",
      "[CV]  classifier=LogisticRegression(), classifier__C=10, classifier__penalty=l2, classifier__solver=liblinear, roc_auc=(train=0.986, test=0.987), total=   0.0s\n",
      "[CV] classifier=LogisticRegression(), classifier__C=10, classifier__penalty=l2, classifier__solver=liblinear \n",
      "[CV]  classifier=LogisticRegression(), classifier__C=10, classifier__penalty=l2, classifier__solver=liblinear, roc_auc=(train=0.987, test=0.976), total=   0.0s\n",
      "[CV] classifier=LogisticRegression(), classifier__C=100, classifier__penalty=l1, classifier__solver=liblinear \n",
      "[CV]  classifier=LogisticRegression(), classifier__C=100, classifier__penalty=l1, classifier__solver=liblinear, roc_auc=(train=0.984, test=0.991), total=   0.0s\n",
      "[CV] classifier=LogisticRegression(), classifier__C=100, classifier__penalty=l1, classifier__solver=liblinear \n",
      "[CV]  classifier=LogisticRegression(), classifier__C=100, classifier__penalty=l1, classifier__solver=liblinear, roc_auc=(train=0.993, test=0.945), total=   0.0s\n",
      "[CV] classifier=LogisticRegression(), classifier__C=100, classifier__penalty=l1, classifier__solver=liblinear \n",
      "[CV]  classifier=LogisticRegression(), classifier__C=100, classifier__penalty=l1, classifier__solver=liblinear, roc_auc=(train=0.987, test=0.979), total=   0.0s\n",
      "[CV] classifier=LogisticRegression(), classifier__C=100, classifier__penalty=l1, classifier__solver=liblinear \n",
      "[CV]  classifier=LogisticRegression(), classifier__C=100, classifier__penalty=l1, classifier__solver=liblinear, roc_auc=(train=0.987, test=0.988), total=   0.0s\n",
      "[CV] classifier=LogisticRegression(), classifier__C=100, classifier__penalty=l1, classifier__solver=liblinear \n",
      "[CV]  classifier=LogisticRegression(), classifier__C=100, classifier__penalty=l1, classifier__solver=liblinear, roc_auc=(train=0.987, test=0.974), total=   0.0s\n",
      "[CV] classifier=LogisticRegression(), classifier__C=100, classifier__penalty=l2, classifier__solver=liblinear \n",
      "[CV]  classifier=LogisticRegression(), classifier__C=100, classifier__penalty=l2, classifier__solver=liblinear, roc_auc=(train=0.984, test=0.992), total=   0.0s\n",
      "[CV] classifier=LogisticRegression(), classifier__C=100, classifier__penalty=l2, classifier__solver=liblinear \n",
      "[CV]  classifier=LogisticRegression(), classifier__C=100, classifier__penalty=l2, classifier__solver=liblinear, roc_auc=(train=0.993, test=0.944), total=   0.0s\n",
      "[CV] classifier=LogisticRegression(), classifier__C=100, classifier__penalty=l2, classifier__solver=liblinear \n",
      "[CV]  classifier=LogisticRegression(), classifier__C=100, classifier__penalty=l2, classifier__solver=liblinear, roc_auc=(train=0.987, test=0.978), total=   0.0s\n",
      "[CV] classifier=LogisticRegression(), classifier__C=100, classifier__penalty=l2, classifier__solver=liblinear \n",
      "[CV]  classifier=LogisticRegression(), classifier__C=100, classifier__penalty=l2, classifier__solver=liblinear, roc_auc=(train=0.987, test=0.988), total=   0.0s\n",
      "[CV] classifier=LogisticRegression(), classifier__C=100, classifier__penalty=l2, classifier__solver=liblinear \n",
      "[CV]  classifier=LogisticRegression(), classifier__C=100, classifier__penalty=l2, classifier__solver=liblinear, roc_auc=(train=0.987, test=0.974), total=   0.0s\n"
     ]
    },
    {
     "name": "stderr",
     "output_type": "stream",
     "text": [
      "[Parallel(n_jobs=1)]: Done  60 out of  60 | elapsed:    1.3s finished\n"
     ]
    },
    {
     "data": {
      "image/png": "[encoded data removed]",
      "text/plain": [
       "<Figure size 432x288 with 2 Axes>"
      ]
     },
     "metadata": {
      "needs_background": "light"
     },
     "output_type": "display_data"
    }
   ],
   "source": [
    "C = [0.001, 0.01, 0.1, 1, 10, 100]\n",
    "\n",
    "\n",
    "best_logreg = f.cv_kfold_logreg(X_train,y_train,C,5)\n",
    "\n",
    "y_pred_logreg =  best_logreg.predict(X_test)\n",
    "y_pred_proba_logreg = best_logreg.predict_proba(X_test)\n",
    "cnf_matrix = metrics.confusion_matrix(y_test, y_pred_logreg)\n",
    "ax1 = plt.subplot(211)\n",
    "sns.heatmap(cnf_matrix, annot=True, xticklabels=['Negative','Positive'], yticklabels=['Negative','Positive'])\n",
    "ax1.set(ylabel='True labels', xlabel='Predicted labels')\n",
    "plt.show()"
   ]
  },
  {
   "cell_type": "markdown",
   "metadata": {},
   "source": [
    "Report the evaluation metrics of the train and test sets:"
   ]
  },
  {
   "cell_type": "code",
   "execution_count": 15,
   "metadata": {},
   "outputs": [
    {
     "name": "stdout",
     "output_type": "stream",
     "text": [
      "For the train set:\n",
      "\n",
      "Accuracy is 0.93. \n",
      "F1 is 0.94. \n",
      "AUROC is 0.986\n",
      "\n",
      "For the test set:\n",
      "\n",
      "Accuracy is 0.90. \n",
      "F1 is 0.92. \n",
      "AUROC is 0.954\n"
     ]
    }
   ],
   "source": [
    "print('For the train set:\\n')\n",
    "f.calc_stat(X_train,y_train,best_logreg)\n",
    "print('\\nFor the test set:\\n')\n",
    "f.calc_stat(X_test,y_test,best_logreg)"
   ]
  },
  {
   "cell_type": "markdown",
   "metadata": {},
   "source": [
    "Another linear classifier is SVM with linear kernel:"
   ]
  },
  {
   "cell_type": "code",
   "execution_count": 16,
   "metadata": {},
   "outputs": [
    {
     "name": "stdout",
     "output_type": "stream",
     "text": [
      "Fitting 5 folds for each of 2 candidates, totalling 10 fits\n",
      "[CV] svm__C=100, svm__kernel=linear ..................................\n"
     ]
    },
    {
     "name": "stderr",
     "output_type": "stream",
     "text": [
      "[Parallel(n_jobs=1)]: Using backend SequentialBackend with 1 concurrent workers.\n"
     ]
    },
    {
     "name": "stdout",
     "output_type": "stream",
     "text": [
      "[CV]  svm__C=100, svm__kernel=linear, roc_auc=(train=0.973, test=0.989), total=   1.1s\n",
      "[CV] svm__C=100, svm__kernel=linear ..................................\n"
     ]
    },
    {
     "name": "stderr",
     "output_type": "stream",
     "text": [
      "[Parallel(n_jobs=1)]: Done   1 out of   1 | elapsed:    1.0s remaining:    0.0s\n"
     ]
    },
    {
     "name": "stdout",
     "output_type": "stream",
     "text": [
      "[CV]  svm__C=100, svm__kernel=linear, roc_auc=(train=0.991, test=0.940), total=   0.4s\n",
      "[CV] svm__C=100, svm__kernel=linear ..................................\n"
     ]
    },
    {
     "name": "stderr",
     "output_type": "stream",
     "text": [
      "[Parallel(n_jobs=1)]: Done   2 out of   2 | elapsed:    1.4s remaining:    0.0s\n"
     ]
    },
    {
     "name": "stdout",
     "output_type": "stream",
     "text": [
      "[CV]  svm__C=100, svm__kernel=linear, roc_auc=(train=0.980, test=0.953), total=   0.9s\n",
      "[CV] svm__C=100, svm__kernel=linear ..................................\n",
      "[CV]  svm__C=100, svm__kernel=linear, roc_auc=(train=0.980, test=0.987), total=   1.3s\n",
      "[CV] svm__C=100, svm__kernel=linear ..................................\n",
      "[CV]  svm__C=100, svm__kernel=linear, roc_auc=(train=0.982, test=0.972), total=   0.9s\n",
      "[CV] svm__C=1000, svm__kernel=linear .................................\n",
      "[CV]  svm__C=1000, svm__kernel=linear, roc_auc=(train=0.973, test=0.989), total=  20.1s\n",
      "[CV] svm__C=1000, svm__kernel=linear .................................\n",
      "[CV]  svm__C=1000, svm__kernel=linear, roc_auc=(train=0.991, test=0.936), total=   5.6s\n",
      "[CV] svm__C=1000, svm__kernel=linear .................................\n",
      "[CV]  svm__C=1000, svm__kernel=linear, roc_auc=(train=0.980, test=0.952), total=   9.9s\n",
      "[CV] svm__C=1000, svm__kernel=linear .................................\n",
      "[CV]  svm__C=1000, svm__kernel=linear, roc_auc=(train=0.980, test=0.987), total=   7.1s\n",
      "[CV] svm__C=1000, svm__kernel=linear .................................\n",
      "[CV]  svm__C=1000, svm__kernel=linear, roc_auc=(train=0.982, test=0.972), total=  10.9s\n"
     ]
    },
    {
     "name": "stderr",
     "output_type": "stream",
     "text": [
      "[Parallel(n_jobs=1)]: Done  10 out of  10 | elapsed:   58.2s finished\n"
     ]
    }
   ],
   "source": [
    "# C = [0.001, 0.01, 0.1, 1, 10, 100]\n",
    "C = [100, 1000]\n",
    "best_svm_lin = f.cv_kfold_svm(X_train,y_train,C=C,K=5,gamma=[0],flag = 'linear')"
   ]
  },
  {
   "cell_type": "code",
   "execution_count": 17,
   "metadata": {},
   "outputs": [
    {
     "data": {
      "image/png": "[encoded data removed]",
      "text/plain": [
       "<Figure size 432x288 with 2 Axes>"
      ]
     },
     "metadata": {
      "needs_background": "light"
     },
     "output_type": "display_data"
    }
   ],
   "source": [
    "y_pred_svm_lin_best =  best_svm_lin.predict(X_test)\n",
    "y_pred_proba_svm_lin_best = best_svm_lin.predict_proba(X_test)\n",
    "cnf_matrix = metrics.confusion_matrix(y_test, y_pred_svm_lin_best)\n",
    "ax1 = plt.subplot(211)\n",
    "sns.heatmap(cnf_matrix, annot=True, xticklabels=['Negative','Positive'], yticklabels=['Negative','Positive'])\n",
    "ax1.set(ylabel='True labels', xlabel='Predicted labels')\n",
    "plt.show()\n"
   ]
  },
  {
   "cell_type": "code",
   "execution_count": 18,
   "metadata": {},
   "outputs": [
    {
     "name": "stdout",
     "output_type": "stream",
     "text": [
      "For the train set:\n",
      "\n",
      "Accuracy is 0.94. \n",
      "F1 is 0.95. \n",
      "AUROC is 0.980\n",
      "\n",
      "For the test set:\n",
      "\n",
      "Accuracy is 0.91. \n",
      "F1 is 0.93. \n",
      "AUROC is 0.957\n"
     ]
    }
   ],
   "source": [
    "print('For the train set:\\n')\n",
    "f.calc_stat(X_train,y_train,best_svm_lin)\n",
    "print('\\nFor the test set:\\n')\n",
    "f.calc_stat(X_test,y_test,best_svm_lin)"
   ]
  },
  {
   "cell_type": "markdown",
   "metadata": {},
   "source": [
    "Non-linear classifiers. First of all SVM with kernel rbf."
   ]
  },
  {
   "cell_type": "code",
   "execution_count": 19,
   "metadata": {},
   "outputs": [
    {
     "name": "stdout",
     "output_type": "stream",
     "text": [
      "Fitting 5 folds for each of 4 candidates, totalling 20 fits\n",
      "[CV] svm__C=10, svm__gamma=0.1, svm__kernel=rbf ......................\n",
      "[CV]  svm__C=10, svm__gamma=0.1, svm__kernel=rbf, roc_auc=(train=1.000, test=0.999), total=   0.1s\n",
      "[CV] svm__C=10, svm__gamma=0.1, svm__kernel=rbf ......................\n",
      "[CV]  svm__C=10, svm__gamma=0.1, svm__kernel=rbf, roc_auc=(train=1.000, test=0.991), total=   0.1s\n",
      "[CV] svm__C=10, svm__gamma=0.1, svm__kernel=rbf ......................\n"
     ]
    },
    {
     "name": "stderr",
     "output_type": "stream",
     "text": [
      "[Parallel(n_jobs=1)]: Using backend SequentialBackend with 1 concurrent workers.\n",
      "[Parallel(n_jobs=1)]: Done   1 out of   1 | elapsed:    0.0s remaining:    0.0s\n",
      "[Parallel(n_jobs=1)]: Done   2 out of   2 | elapsed:    0.0s remaining:    0.0s\n"
     ]
    },
    {
     "name": "stdout",
     "output_type": "stream",
     "text": [
      "[CV]  svm__C=10, svm__gamma=0.1, svm__kernel=rbf, roc_auc=(train=1.000, test=1.000), total=   0.0s\n",
      "[CV] svm__C=10, svm__gamma=0.1, svm__kernel=rbf ......................\n",
      "[CV]  svm__C=10, svm__gamma=0.1, svm__kernel=rbf, roc_auc=(train=1.000, test=1.000), total=   0.1s\n",
      "[CV] svm__C=10, svm__gamma=0.1, svm__kernel=rbf ......................\n",
      "[CV]  svm__C=10, svm__gamma=0.1, svm__kernel=rbf, roc_auc=(train=1.000, test=0.993), total=   0.1s\n",
      "[CV] svm__C=10, svm__gamma=1, svm__kernel=rbf ........................\n",
      "[CV]  svm__C=10, svm__gamma=1, svm__kernel=rbf, roc_auc=(train=1.000, test=0.980), total=   0.1s\n",
      "[CV] svm__C=10, svm__gamma=1, svm__kernel=rbf ........................\n",
      "[CV]  svm__C=10, svm__gamma=1, svm__kernel=rbf, roc_auc=(train=1.000, test=0.984), total=   0.1s\n",
      "[CV] svm__C=10, svm__gamma=1, svm__kernel=rbf ........................\n",
      "[CV]  svm__C=10, svm__gamma=1, svm__kernel=rbf, roc_auc=(train=1.000, test=1.000), total=   0.1s\n",
      "[CV] svm__C=10, svm__gamma=1, svm__kernel=rbf ........................\n",
      "[CV]  svm__C=10, svm__gamma=1, svm__kernel=rbf, roc_auc=(train=1.000, test=0.999), total=   0.1s\n",
      "[CV] svm__C=10, svm__gamma=1, svm__kernel=rbf ........................\n",
      "[CV]  svm__C=10, svm__gamma=1, svm__kernel=rbf, roc_auc=(train=1.000, test=0.994), total=   0.1s\n",
      "[CV] svm__C=100, svm__gamma=0.1, svm__kernel=rbf .....................\n",
      "[CV]  svm__C=100, svm__gamma=0.1, svm__kernel=rbf, roc_auc=(train=1.000, test=0.995), total=   0.0s\n",
      "[CV] svm__C=100, svm__gamma=0.1, svm__kernel=rbf .....................\n",
      "[CV]  svm__C=100, svm__gamma=0.1, svm__kernel=rbf, roc_auc=(train=1.000, test=0.992), total=   0.1s\n",
      "[CV] svm__C=100, svm__gamma=0.1, svm__kernel=rbf .....................\n",
      "[CV]  svm__C=100, svm__gamma=0.1, svm__kernel=rbf, roc_auc=(train=1.000, test=0.992), total=   0.1s\n",
      "[CV] svm__C=100, svm__gamma=0.1, svm__kernel=rbf .....................\n",
      "[CV]  svm__C=100, svm__gamma=0.1, svm__kernel=rbf, roc_auc=(train=1.000, test=1.000), total=   0.1s\n",
      "[CV] svm__C=100, svm__gamma=0.1, svm__kernel=rbf .....................\n",
      "[CV]  svm__C=100, svm__gamma=0.1, svm__kernel=rbf, roc_auc=(train=1.000, test=0.999), total=   0.1s\n",
      "[CV] svm__C=100, svm__gamma=1, svm__kernel=rbf .......................\n",
      "[CV]  svm__C=100, svm__gamma=1, svm__kernel=rbf, roc_auc=(train=1.000, test=0.987), total=   0.1s\n",
      "[CV] svm__C=100, svm__gamma=1, svm__kernel=rbf .......................\n",
      "[CV]  svm__C=100, svm__gamma=1, svm__kernel=rbf, roc_auc=(train=1.000, test=0.989), total=   0.1s\n",
      "[CV] svm__C=100, svm__gamma=1, svm__kernel=rbf .......................\n",
      "[CV]  svm__C=100, svm__gamma=1, svm__kernel=rbf, roc_auc=(train=1.000, test=1.000), total=   0.1s\n",
      "[CV] svm__C=100, svm__gamma=1, svm__kernel=rbf .......................\n",
      "[CV]  svm__C=100, svm__gamma=1, svm__kernel=rbf, roc_auc=(train=1.000, test=0.999), total=   0.1s\n",
      "[CV] svm__C=100, svm__gamma=1, svm__kernel=rbf .......................\n",
      "[CV]  svm__C=100, svm__gamma=1, svm__kernel=rbf, roc_auc=(train=1.000, test=0.994), total=   0.1s\n"
     ]
    },
    {
     "name": "stderr",
     "output_type": "stream",
     "text": [
      "[Parallel(n_jobs=1)]: Done  20 out of  20 | elapsed:    1.8s finished\n"
     ]
    }
   ],
   "source": [
    "C = [10, 100]\n",
    "gamma = [0.1, 1]\n",
    "best_svm_rbf = f.cv_kfold_svm(X_train,y_train,C=C,K=5,gamma=gamma, flag = 'rbf')"
   ]
  },
  {
   "cell_type": "code",
   "execution_count": 20,
   "metadata": {},
   "outputs": [
    {
     "data": {
      "image/png": "[encoded data removed]",
      "text/plain": [
       "<Figure size 432x288 with 2 Axes>"
      ]
     },
     "metadata": {
      "needs_background": "light"
     },
     "output_type": "display_data"
    }
   ],
   "source": [
    "y_pred_svm_rbf_best =  best_svm_rbf.predict(X_test)\n",
    "y_pred_proba_svm_rbf_best = best_svm_rbf.predict_proba(X_test)\n",
    "cnf_matrix = metrics.confusion_matrix(y_test, y_pred_svm_rbf_best)\n",
    "ax1 = plt.subplot(211)\n",
    "sns.heatmap(cnf_matrix, annot=True, xticklabels=['Negative','Positive'], yticklabels=['Negative','Positive'])\n",
    "ax1.set(ylabel='True labels', xlabel='Predicted labels')\n",
    "plt.show()"
   ]
  },
  {
   "cell_type": "code",
   "execution_count": 21,
   "metadata": {},
   "outputs": [
    {
     "name": "stdout",
     "output_type": "stream",
     "text": [
      "For the train set:\n",
      "\n",
      "Accuracy is 1.00. \n",
      "F1 is 1.00. \n",
      "AUROC is 1.000\n",
      "\n",
      "For the test set:\n",
      "\n",
      "Accuracy is 0.90. \n",
      "F1 is 0.92. \n",
      "AUROC is 0.993\n"
     ]
    }
   ],
   "source": [
    "print('For the train set:\\n')\n",
    "f.calc_stat(X_train,y_train,best_svm_rbf)\n",
    "print('\\nFor the test set:\\n')\n",
    "f.calc_stat(X_test,y_test,best_svm_rbf)"
   ]
  },
  {
   "cell_type": "markdown",
   "metadata": {},
   "source": [
    "Non-linear classifier - SVM with kernel poly."
   ]
  },
  {
   "cell_type": "code",
   "execution_count": 22,
   "metadata": {},
   "outputs": [
    {
     "name": "stdout",
     "output_type": "stream",
     "text": [
      "Fitting 5 folds for each of 4 candidates, totalling 20 fits\n",
      "[CV] svm__C=10, svm__gamma=0.1, svm__kernel=poly .....................\n",
      "[CV]  svm__C=10, svm__gamma=0.1, svm__kernel=poly, roc_auc=(train=1.000, test=0.995), total=   0.0s\n",
      "[CV] svm__C=10, svm__gamma=0.1, svm__kernel=poly .....................\n",
      "[CV]  svm__C=10, svm__gamma=0.1, svm__kernel=poly, roc_auc=(train=1.000, test=0.991), total=   0.0s\n",
      "[CV] svm__C=10, svm__gamma=0.1, svm__kernel=poly .....................\n",
      "[CV]  svm__C=10, svm__gamma=0.1, svm__kernel=poly, roc_auc=(train=1.000, test=0.989), total=   0.0s\n",
      "[CV] svm__C=10, svm__gamma=0.1, svm__kernel=poly .....................\n"
     ]
    },
    {
     "name": "stderr",
     "output_type": "stream",
     "text": [
      "[Parallel(n_jobs=1)]: Using backend SequentialBackend with 1 concurrent workers.\n",
      "[Parallel(n_jobs=1)]: Done   1 out of   1 | elapsed:    0.0s remaining:    0.0s\n",
      "[Parallel(n_jobs=1)]: Done   2 out of   2 | elapsed:    0.0s remaining:    0.0s\n"
     ]
    },
    {
     "name": "stdout",
     "output_type": "stream",
     "text": [
      "[CV]  svm__C=10, svm__gamma=0.1, svm__kernel=poly, roc_auc=(train=1.000, test=1.000), total=   0.1s\n",
      "[CV] svm__C=10, svm__gamma=0.1, svm__kernel=poly .....................\n",
      "[CV]  svm__C=10, svm__gamma=0.1, svm__kernel=poly, roc_auc=(train=1.000, test=0.998), total=   0.0s\n",
      "[CV] svm__C=10, svm__gamma=1, svm__kernel=poly .......................\n",
      "[CV]  svm__C=10, svm__gamma=1, svm__kernel=poly, roc_auc=(train=1.000, test=0.968), total=   0.0s\n",
      "[CV] svm__C=10, svm__gamma=1, svm__kernel=poly .......................\n",
      "[CV]  svm__C=10, svm__gamma=1, svm__kernel=poly, roc_auc=(train=1.000, test=0.978), total=   0.0s\n",
      "[CV] svm__C=10, svm__gamma=1, svm__kernel=poly .......................\n",
      "[CV]  svm__C=10, svm__gamma=1, svm__kernel=poly, roc_auc=(train=1.000, test=0.936), total=   0.0s\n",
      "[CV] svm__C=10, svm__gamma=1, svm__kernel=poly .......................\n",
      "[CV]  svm__C=10, svm__gamma=1, svm__kernel=poly, roc_auc=(train=1.000, test=0.997), total=   0.0s\n",
      "[CV] svm__C=10, svm__gamma=1, svm__kernel=poly .......................\n",
      "[CV]  svm__C=10, svm__gamma=1, svm__kernel=poly, roc_auc=(train=1.000, test=0.996), total=   0.0s\n",
      "[CV] svm__C=100, svm__gamma=0.1, svm__kernel=poly ....................\n",
      "[CV]  svm__C=100, svm__gamma=0.1, svm__kernel=poly, roc_auc=(train=1.000, test=0.993), total=   0.0s\n",
      "[CV] svm__C=100, svm__gamma=0.1, svm__kernel=poly ....................\n",
      "[CV]  svm__C=100, svm__gamma=0.1, svm__kernel=poly, roc_auc=(train=1.000, test=0.992), total=   0.0s\n",
      "[CV] svm__C=100, svm__gamma=0.1, svm__kernel=poly ....................\n",
      "[CV]  svm__C=100, svm__gamma=0.1, svm__kernel=poly, roc_auc=(train=1.000, test=0.969), total=   0.0s\n",
      "[CV] svm__C=100, svm__gamma=0.1, svm__kernel=poly ....................\n",
      "[CV]  svm__C=100, svm__gamma=0.1, svm__kernel=poly, roc_auc=(train=1.000, test=1.000), total=   0.0s\n",
      "[CV] svm__C=100, svm__gamma=0.1, svm__kernel=poly ....................\n",
      "[CV]  svm__C=100, svm__gamma=0.1, svm__kernel=poly, roc_auc=(train=1.000, test=0.999), total=   0.0s\n",
      "[CV] svm__C=100, svm__gamma=1, svm__kernel=poly ......................\n",
      "[CV]  svm__C=100, svm__gamma=1, svm__kernel=poly, roc_auc=(train=1.000, test=0.968), total=   0.0s\n",
      "[CV] svm__C=100, svm__gamma=1, svm__kernel=poly ......................\n",
      "[CV]  svm__C=100, svm__gamma=1, svm__kernel=poly, roc_auc=(train=1.000, test=0.978), total=   0.0s\n",
      "[CV] svm__C=100, svm__gamma=1, svm__kernel=poly ......................\n",
      "[CV]  svm__C=100, svm__gamma=1, svm__kernel=poly, roc_auc=(train=1.000, test=0.936), total=   0.0s\n",
      "[CV] svm__C=100, svm__gamma=1, svm__kernel=poly ......................\n",
      "[CV]  svm__C=100, svm__gamma=1, svm__kernel=poly, roc_auc=(train=1.000, test=0.997), total=   0.1s\n",
      "[CV] svm__C=100, svm__gamma=1, svm__kernel=poly ......................\n",
      "[CV]  svm__C=100, svm__gamma=1, svm__kernel=poly, roc_auc=(train=1.000, test=0.996), total=   0.1s\n"
     ]
    },
    {
     "name": "stderr",
     "output_type": "stream",
     "text": [
      "[Parallel(n_jobs=1)]: Done  20 out of  20 | elapsed:    0.9s finished\n"
     ]
    }
   ],
   "source": [
    "C = [10, 100]\n",
    "gamma = [0.1, 1]\n",
    "best_svm_poly = f.cv_kfold_svm(X_train,y_train,C=C,K=5,gamma=gamma, flag = 'poly')\n"
   ]
  },
  {
   "cell_type": "code",
   "execution_count": 23,
   "metadata": {},
   "outputs": [
    {
     "data": {
      "image/png": "[encoded data removed]",
      "text/plain": [
       "<Figure size 432x288 with 2 Axes>"
      ]
     },
     "metadata": {
      "needs_background": "light"
     },
     "output_type": "display_data"
    }
   ],
   "source": [
    "y_pred_svm_poly_best =  best_svm_poly.predict(X_test)\n",
    "y_pred_proba_svm_poly_best = best_svm_poly.predict_proba(X_test)\n",
    "cnf_matrix = metrics.confusion_matrix(y_test, y_pred_svm_poly_best)\n",
    "ax1 = plt.subplot(211)\n",
    "sns.heatmap(cnf_matrix, annot=True, xticklabels=['Negative','Positive'], yticklabels=['Negative','Positive'])\n",
    "ax1.set(ylabel='True labels', xlabel='Predicted labels')\n",
    "plt.show()"
   ]
  },
  {
   "cell_type": "code",
   "execution_count": 24,
   "metadata": {},
   "outputs": [
    {
     "name": "stdout",
     "output_type": "stream",
     "text": [
      "For the train set:\n",
      "\n",
      "Accuracy is 1.00. \n",
      "F1 is 1.00. \n",
      "AUROC is 1.000\n",
      "\n",
      "For the test set:\n",
      "\n",
      "Accuracy is 0.90. \n",
      "F1 is 0.91. \n",
      "AUROC is 0.996\n"
     ]
    }
   ],
   "source": [
    "print('For the train set:\\n')\n",
    "f.calc_stat(X_train,y_train,best_svm_poly)\n",
    "print('\\nFor the test set:\\n')\n",
    "f.calc_stat(X_test,y_test,best_svm_poly)"
   ]
  },
  {
   "cell_type": "markdown",
   "metadata": {},
   "source": [
    "## Question 6\n",
    "Random Forest to chose the best 2 features:"
   ]
  },
  {
   "cell_type": "code",
   "execution_count": 25,
   "metadata": {},
   "outputs": [
    {
     "data": {
      "image/png": "[encoded data removed]",
      "text/plain": [
       "<Figure size 432x288 with 2 Axes>"
      ]
     },
     "metadata": {
      "needs_background": "light"
     },
     "output_type": "display_data"
    },
    {
     "name": "stdout",
     "output_type": "stream",
     "text": [
      "Accuracy is: 91.43%\n",
      "F1 score is: 91.27%\n",
      "AUC is:  99.29%\n"
     ]
    }
   ],
   "source": [
    "# Scaling of the Age because here we won't use onehot vector:\n",
    "df = data.drop(['Diagnosis'],axis=1)\n",
    "Age = df['Age']\n",
    "mu = np.mean(Age)\n",
    "std = np.std(Age)\n",
    "Age -= mu\n",
    "Age /= std\n",
    "df = df.drop(['Age'], axis=1)\n",
    "df.insert(0,'Age',Age, True)\n",
    "#Taken from tutorial:\n",
    "clf = rfc(n_estimators=10)\n",
    "X_train, X_test, y_train, y_test = train_test_split(df, np.ravel(diag_state), test_size=0.2, random_state=10, stratify = np.ravel(diag_state) )\n",
    "clf.fit(X_train, y_train)\n",
    "y_pred = clf.predict(X_test)\n",
    "y_pred_proba_test = clf.predict_proba(X_test)\n",
    "cnf_matrix = metrics.confusion_matrix(y_test, y_pred)\n",
    "ax = plt.subplot()\n",
    "sns.heatmap(cnf_matrix, annot=True, xticklabels=['Negative', 'Positive'],\n",
    "            yticklabels=['Negative', 'Positive'])\n",
    "ax.set(ylabel='True labels', xlabel='Predicted labels')\n",
    "plt.show()\n",
    "print(\"Accuracy is: \" + str(\"{0:.2f}\".format(100 * metrics.accuracy_score(y_test, y_pred))) + \"%\")\n",
    "print(\"F1 score is: \" + str(\"{0:.2f}\".format(100 * metrics.f1_score(y_test, y_pred, average='macro'))) + \"%\")\n",
    "print('AUC is:  ' + str(\"{0:.02f}\".format(100*roc_auc_score(y_test, y_pred_proba_test[:, 1]))) + '%')"
   ]
  },
  {
   "cell_type": "code",
   "execution_count": 26,
   "metadata": {},
   "outputs": [
    {
     "data": {
      "image/png": "[encoded data removed]",
      "text/plain": [
       "<Figure size 864x432 with 1 Axes>"
      ]
     },
     "metadata": {
      "needs_background": "light"
     },
     "output_type": "display_data"
    }
   ],
   "source": [
    "# Here we show the most important features (from the most important to less)\n",
    "importances = clf.feature_importances_\n",
    "indices = np.argsort(importances)[::-1]\n",
    "plt.figure(figsize=(12,6))\n",
    "plt.title(\"Feature importances\")\n",
    "plt.bar(range(X_train.shape[1]), importances[indices],\n",
    "        color=\"r\", align=\"center\")\n",
    "o = np.zeros(len(orig_feat)).tolist()\n",
    "for i,val in enumerate(indices):\n",
    "    o[i] = orig_feat[val]\n",
    "plt.xticks(range(X_train.shape[1]), o)\n",
    "plt.xlim([-1, X_train.shape[1]])\n",
    "plt.xticks(rotation=90)\n",
    "plt.tight_layout()\n",
    "plt.show()"
   ]
  },
  {
   "cell_type": "markdown",
   "metadata": {},
   "source": [
    "## Question 7\n",
    "### a\n",
    "We took the whole dataset to implement a PCA.\n",
    "We did scaling for whole data here."
   ]
  },
  {
   "cell_type": "code",
   "execution_count": 27,
   "metadata": {},
   "outputs": [
    {
     "data": {
      "image/png": "[encoded data removed]",
      "text/plain": [
       "<Figure size 576x576 with 1 Axes>"
      ]
     },
     "metadata": {
      "needs_background": "light"
     },
     "output_type": "display_data"
    }
   ],
   "source": [
    "pca = PCA(n_components=2)\n",
    "pca.fit(df)\n",
    "transform_data = pca.transform(df)\n",
    "PC = pca.fit_transform(df)\n",
    "pdf = pd.DataFrame(data = PC\n",
    "             , columns = ['PC1', 'PC2'])\n",
    "df_ = pd.concat([pdf, data[['Diagnosis']]], axis = 1)\n",
    "fig = plt.figure(figsize = (8,8))\n",
    "ax = fig.add_subplot(1,1,1) \n",
    "ax.set_xlabel('PC1', fontsize = 15)\n",
    "ax.set_ylabel('PC2', fontsize = 15)\n",
    "ax.set_title('2 component PCA', fontsize = 20)\n",
    "targets = [1,0]\n",
    "colors = ['r', 'g']\n",
    "for target, color in zip(targets,colors):\n",
    "    indicesToKeep = df_['Diagnosis'] == target\n",
    "    ax.scatter(df_.loc[indicesToKeep, 'PC1']\n",
    "               , df_.loc[indicesToKeep, 'PC2']\n",
    "               , c = color\n",
    "               , s = 50)\n",
    "ax.legend(['Positive','Negative'])\n",
    "ax.grid()\n"
   ]
  },
  {
   "cell_type": "markdown",
   "metadata": {},
   "source": [
    "### b\n",
    "PCA does not work good with binary data, so the results can be not realistic. But we did scaling to the Age in the previous question.\n",
    "From graph (part a) that we get, we can see that our reduced to 2 RCA components data is relativly linearly separable."
   ]
  },
  {
   "cell_type": "markdown",
   "metadata": {},
   "source": [
    "### c"
   ]
  },
  {
   "cell_type": "code",
   "execution_count": 49,
   "metadata": {},
   "outputs": [
    {
     "name": "stdout",
     "output_type": "stream",
     "text": [
      "Fitting 5 folds for each of 2 candidates, totalling 10 fits\n",
      "[CV] classifier=LogisticRegression(), classifier__C=100, classifier__penalty=l1, classifier__solver=liblinear \n",
      "[CV]  classifier=LogisticRegression(), classifier__C=100, classifier__penalty=l1, classifier__solver=liblinear, roc_auc=(train=0.942, test=0.973), total=   0.0s\n",
      "[CV] classifier=LogisticRegression(), classifier__C=100, classifier__penalty=l1, classifier__solver=liblinear \n",
      "[CV]  classifier=LogisticRegression(), classifier__C=100, classifier__penalty=l1, classifier__solver=liblinear, roc_auc=(train=0.958, test=0.915), total=   0.0s\n",
      "[CV] classifier=LogisticRegression(), classifier__C=100, classifier__penalty=l1, classifier__solver=liblinear \n",
      "[CV]  classifier=LogisticRegression(), classifier__C=100, classifier__penalty=l1, classifier__solver=liblinear, roc_auc=(train=0.950, test=0.934), total=   0.0s\n",
      "[CV] classifier=LogisticRegression(), classifier__C=100, classifier__penalty=l1, classifier__solver=liblinear \n",
      "[CV]  classifier=LogisticRegression(), classifier__C=100, classifier__penalty=l1, classifier__solver=liblinear, roc_auc=(train=0.945, test=0.961), total=   0.0s\n",
      "[CV] classifier=LogisticRegression(), classifier__C=100, classifier__penalty=l1, classifier__solver=liblinear \n",
      "[CV]  classifier=LogisticRegression(), classifier__C=100, classifier__penalty=l1, classifier__solver=liblinear, roc_auc=(train=0.949, test=0.950), total=   0.0s\n",
      "[CV] classifier=LogisticRegression(), classifier__C=100, classifier__penalty=l2, classifier__solver=liblinear \n",
      "[CV]  classifier=LogisticRegression(), classifier__C=100, classifier__penalty=l2, classifier__solver=liblinear, roc_auc=(train=0.942, test=0.973), total=   0.0s\n",
      "[CV] classifier=LogisticRegression(), classifier__C=100, classifier__penalty=l2, classifier__solver=liblinear \n",
      "[CV]  classifier=LogisticRegression(), classifier__C=100, classifier__penalty=l2, classifier__solver=liblinear, roc_auc=(train=0.958, test=0.915), total=   0.0s\n",
      "[CV] classifier=LogisticRegression(), classifier__C=100, classifier__penalty=l2, classifier__solver=liblinear \n"
     ]
    },
    {
     "name": "stderr",
     "output_type": "stream",
     "text": [
      "[Parallel(n_jobs=1)]: Using backend SequentialBackend with 1 concurrent workers.\n",
      "[Parallel(n_jobs=1)]: Done   1 out of   1 | elapsed:    0.0s remaining:    0.0s\n",
      "[Parallel(n_jobs=1)]: Done   2 out of   2 | elapsed:    0.0s remaining:    0.0s\n"
     ]
    },
    {
     "name": "stdout",
     "output_type": "stream",
     "text": [
      "[CV]  classifier=LogisticRegression(), classifier__C=100, classifier__penalty=l2, classifier__solver=liblinear, roc_auc=(train=0.950, test=0.934), total=   0.0s\n",
      "[CV] classifier=LogisticRegression(), classifier__C=100, classifier__penalty=l2, classifier__solver=liblinear \n",
      "[CV]  classifier=LogisticRegression(), classifier__C=100, classifier__penalty=l2, classifier__solver=liblinear, roc_auc=(train=0.945, test=0.961), total=   0.0s\n",
      "[CV] classifier=LogisticRegression(), classifier__C=100, classifier__penalty=l2, classifier__solver=liblinear \n",
      "[CV]  classifier=LogisticRegression(), classifier__C=100, classifier__penalty=l2, classifier__solver=liblinear, roc_auc=(train=0.949, test=0.950), total=   0.0s\n"
     ]
    },
    {
     "name": "stderr",
     "output_type": "stream",
     "text": [
      "[Parallel(n_jobs=1)]: Done  10 out of  10 | elapsed:    0.2s finished\n"
     ]
    }
   ],
   "source": [
    "X_train, X_test, y_train, y_test = train_test_split(X2, d['Diagnosis'], test_size=0.2, random_state=10, stratify =d['Diagnosis'] )\n",
    "skf = SKFold(n_splits=5)\n",
    "pca = PCA(n_components=2)\n",
    "logreg = LogisticRegression()\n",
    "pipe_pca_logreg = Pipeline(steps=[('pca', pca), ('classifier', logreg)])\n",
    "Svm = GridSearchCV(estimator=pipe_pca_logreg,\n",
    "                           param_grid={'classifier': [LogisticRegression()],\n",
    "              'classifier__penalty': ['l1', 'l2'],\n",
    "              'classifier__C': C,\n",
    "              'classifier__solver': ['liblinear']},\n",
    "                           scoring=['roc_auc'],\n",
    "                           cv=skf, refit='roc_auc', verbose=3, return_train_score=True)\n",
    "Svm.fit(X_train, y_train)\n",
    "best_logreg1 = Svm.best_estimator_\n",
    "\n"
   ]
  },
  {
   "cell_type": "code",
   "execution_count": 50,
   "metadata": {},
   "outputs": [
    {
     "name": "stdout",
     "output_type": "stream",
     "text": [
      "Fitting 5 folds for each of 1 candidates, totalling 5 fits\n",
      "[CV] svm__C=100, svm__kernel=linear ..................................\n"
     ]
    },
    {
     "name": "stderr",
     "output_type": "stream",
     "text": [
      "[Parallel(n_jobs=1)]: Using backend SequentialBackend with 1 concurrent workers.\n"
     ]
    },
    {
     "name": "stdout",
     "output_type": "stream",
     "text": [
      "[CV]  svm__C=100, svm__kernel=linear, roc_auc=(train=0.941, test=0.971), total=   0.2s\n",
      "[CV] svm__C=100, svm__kernel=linear ..................................\n"
     ]
    },
    {
     "name": "stderr",
     "output_type": "stream",
     "text": [
      "[Parallel(n_jobs=1)]: Done   1 out of   1 | elapsed:    0.1s remaining:    0.0s\n"
     ]
    },
    {
     "name": "stdout",
     "output_type": "stream",
     "text": [
      "[CV]  svm__C=100, svm__kernel=linear, roc_auc=(train=0.957, test=0.912), total=   0.4s\n",
      "[CV] svm__C=100, svm__kernel=linear ..................................\n"
     ]
    },
    {
     "name": "stderr",
     "output_type": "stream",
     "text": [
      "[Parallel(n_jobs=1)]: Done   2 out of   2 | elapsed:    0.5s remaining:    0.0s\n"
     ]
    },
    {
     "name": "stdout",
     "output_type": "stream",
     "text": [
      "[CV]  svm__C=100, svm__kernel=linear, roc_auc=(train=0.948, test=0.935), total=   0.4s\n",
      "[CV] svm__C=100, svm__kernel=linear ..................................\n",
      "[CV]  svm__C=100, svm__kernel=linear, roc_auc=(train=0.944, test=0.954), total=   0.3s\n",
      "[CV] svm__C=100, svm__kernel=linear ..................................\n",
      "[CV]  svm__C=100, svm__kernel=linear, roc_auc=(train=0.949, test=0.950), total=   0.2s\n"
     ]
    },
    {
     "name": "stderr",
     "output_type": "stream",
     "text": [
      "[Parallel(n_jobs=1)]: Done   5 out of   5 | elapsed:    1.5s finished\n"
     ]
    }
   ],
   "source": [
    "\n",
    "\n",
    "svm_lin = svm.SVC(probability=True,gamma='auto',kernel = 'linear')\n",
    "pca = PCA(n_components=2)\n",
    "pipe_pca_svm_lin = Pipeline(steps=[('pca', pca), ('svm', svm_lin)])\n",
    "Svm = GridSearchCV(estimator=pipe_pca_svm_lin,\n",
    "                           param_grid={'svm__kernel': ['linear'], 'svm__C': C},\n",
    "                           scoring=['roc_auc'],\n",
    "                           cv=skf, refit='roc_auc', verbose=3, return_train_score=True)\n",
    "Svm.fit(X_train, y_train)\n",
    "best_svm_lin1 = Svm.best_estimator_"
   ]
  },
  {
   "cell_type": "code",
   "execution_count": 51,
   "metadata": {},
   "outputs": [
    {
     "name": "stdout",
     "output_type": "stream",
     "text": [
      "Fitting 5 folds for each of 1 candidates, totalling 5 fits\n",
      "[CV] svm__C=100, svm__kernel=rbf .....................................\n",
      "[CV]  svm__C=100, svm__kernel=rbf, roc_auc=(train=0.953, test=0.979), total=   0.1s\n",
      "[CV] svm__C=100, svm__kernel=rbf .....................................\n"
     ]
    },
    {
     "name": "stderr",
     "output_type": "stream",
     "text": [
      "[Parallel(n_jobs=1)]: Using backend SequentialBackend with 1 concurrent workers.\n",
      "[Parallel(n_jobs=1)]: Done   1 out of   1 | elapsed:    0.0s remaining:    0.0s\n"
     ]
    },
    {
     "name": "stdout",
     "output_type": "stream",
     "text": [
      "[CV]  svm__C=100, svm__kernel=rbf, roc_auc=(train=0.958, test=0.896), total=   0.1s\n",
      "[CV] svm__C=100, svm__kernel=rbf .....................................\n",
      "[CV]  svm__C=100, svm__kernel=rbf, roc_auc=(train=0.964, test=0.938), total=   0.1s\n",
      "[CV] svm__C=100, svm__kernel=rbf .....................................\n",
      "[CV]  svm__C=100, svm__kernel=rbf, roc_auc=(train=0.965, test=0.950), total=   0.1s\n",
      "[CV] svm__C=100, svm__kernel=rbf ....................................."
     ]
    },
    {
     "name": "stderr",
     "output_type": "stream",
     "text": [
      "[Parallel(n_jobs=1)]: Done   2 out of   2 | elapsed:    0.1s remaining:    0.0s\n"
     ]
    },
    {
     "name": "stdout",
     "output_type": "stream",
     "text": [
      "\n",
      "[CV]  svm__C=100, svm__kernel=rbf, roc_auc=(train=0.968, test=0.931), total=   0.1s\n"
     ]
    },
    {
     "name": "stderr",
     "output_type": "stream",
     "text": [
      "[Parallel(n_jobs=1)]: Done   5 out of   5 | elapsed:    0.4s finished\n"
     ]
    }
   ],
   "source": [
    "pca = PCA(n_components=2)\n",
    "svm_rbf = svm.SVC(probability=True,gamma='auto',kernel = 'linear')\n",
    "pca = PCA(n_components=2)\n",
    "pipe_pca_svm_rbf = Pipeline(steps=[('pca', pca), ('svm', svm_rbf)])\n",
    "Svm = GridSearchCV(estimator=pipe_pca_svm_rbf,\n",
    "                           param_grid={'svm__kernel': ['rbf'], 'svm__C': C},\n",
    "                           scoring=['roc_auc'],\n",
    "                           cv=skf, refit='roc_auc', verbose=3, return_train_score=True)\n",
    "Svm.fit(X_train, y_train)\n",
    "best_svm_rbf1 = Svm.best_estimator_\n",
    "\n"
   ]
  },
  {
   "cell_type": "code",
   "execution_count": 52,
   "metadata": {},
   "outputs": [
    {
     "name": "stdout",
     "output_type": "stream",
     "text": [
      "Fitting 5 folds for each of 1 candidates, totalling 5 fits\n",
      "[CV] svm__C=100, svm__kernel=poly ....................................\n"
     ]
    },
    {
     "name": "stderr",
     "output_type": "stream",
     "text": [
      "[Parallel(n_jobs=1)]: Using backend SequentialBackend with 1 concurrent workers.\n"
     ]
    },
    {
     "name": "stdout",
     "output_type": "stream",
     "text": [
      "[CV]  svm__C=100, svm__kernel=poly, roc_auc=(train=0.955, test=0.988), total=   0.6s\n",
      "[CV] svm__C=100, svm__kernel=poly ....................................\n"
     ]
    },
    {
     "name": "stderr",
     "output_type": "stream",
     "text": [
      "[Parallel(n_jobs=1)]: Done   1 out of   1 | elapsed:    0.5s remaining:    0.0s\n"
     ]
    },
    {
     "name": "stdout",
     "output_type": "stream",
     "text": [
      "[CV]  svm__C=100, svm__kernel=poly, roc_auc=(train=0.974, test=0.944), total=   0.2s\n",
      "[CV] svm__C=100, svm__kernel=poly ....................................\n"
     ]
    },
    {
     "name": "stderr",
     "output_type": "stream",
     "text": [
      "[Parallel(n_jobs=1)]: Done   2 out of   2 | elapsed:    0.8s remaining:    0.0s\n"
     ]
    },
    {
     "name": "stdout",
     "output_type": "stream",
     "text": [
      "[CV]  svm__C=100, svm__kernel=poly, roc_auc=(train=0.965, test=0.957), total=   0.2s\n",
      "[CV] svm__C=100, svm__kernel=poly ....................................\n",
      "[CV]  svm__C=100, svm__kernel=poly, roc_auc=(train=0.963, test=0.980), total=   0.5s\n",
      "[CV] svm__C=100, svm__kernel=poly ....................................\n",
      "[CV]  svm__C=100, svm__kernel=poly, roc_auc=(train=0.969, test=0.955), total=   0.4s\n"
     ]
    },
    {
     "name": "stderr",
     "output_type": "stream",
     "text": [
      "[Parallel(n_jobs=1)]: Done   5 out of   5 | elapsed:    1.9s finished\n"
     ]
    }
   ],
   "source": [
    "pca = PCA(n_components=2)\n",
    "svm_poly = svm.SVC(probability=True,gamma='auto',kernel = 'poly')\n",
    "pca = PCA(n_components=2)\n",
    "pipe_pca_svm_poly = Pipeline(steps=[('pca', pca), ('svm', svm_poly)])\n",
    "Svm = GridSearchCV(estimator=pipe_pca_svm_poly,\n",
    "                           param_grid={'svm__kernel': ['poly'], 'svm__C': C},\n",
    "                           scoring=['roc_auc'],\n",
    "                           cv=skf, refit='roc_auc', verbose=3, return_train_score=True)\n",
    "Svm.fit(X_train, y_train)\n",
    "best_svm_poly1 = Svm.best_estimator_\n",
    "\n"
   ]
  },
  {
   "cell_type": "markdown",
   "metadata": {},
   "source": [
    "### d"
   ]
  },
  {
   "cell_type": "code",
   "execution_count": 53,
   "metadata": {},
   "outputs": [
    {
     "name": "stdout",
     "output_type": "stream",
     "text": [
      "Fitting 5 folds for each of 12 candidates, totalling 60 fits\n",
      "[CV] classifier=LogisticRegression(), classifier__C=0.001, classifier__penalty=l1, classifier__solver=liblinear \n",
      "[CV]  classifier=LogisticRegression(), classifier__C=0.001, classifier__penalty=l1, classifier__solver=liblinear, roc_auc=(train=0.500, test=0.500), total=   0.0s\n",
      "[CV] classifier=LogisticRegression(), classifier__C=0.001, classifier__penalty=l1, classifier__solver=liblinear \n",
      "[CV]  classifier=LogisticRegression(), classifier__C=0.001, classifier__penalty=l1, classifier__solver=liblinear, roc_auc=(train=0.500, test=0.500), total=   0.0s\n",
      "[CV] classifier=LogisticRegression(), classifier__C=0.001, classifier__penalty=l1, classifier__solver=liblinear \n",
      "[CV]  classifier=LogisticRegression(), classifier__C=0.001, classifier__penalty=l1, classifier__solver=liblinear, roc_auc=(train=0.500, test=0.500), total=   0.0s\n",
      "[CV] classifier=LogisticRegression(), classifier__C=0.001, classifier__penalty=l1, classifier__solver=liblinear \n",
      "[CV]  classifier=LogisticRegression(), classifier__C=0.001, classifier__penalty=l1, classifier__solver=liblinear, roc_auc=(train=0.500, test=0.500), total=   0.0s\n",
      "[CV] classifier=LogisticRegression(), classifier__C=0.001, classifier__penalty=l1, classifier__solver=liblinear \n",
      "[CV]  classifier=LogisticRegression(), classifier__C=0.001, classifier__penalty=l1, classifier__solver=liblinear, roc_auc=(train=0.500, test=0.500), total=   0.0s\n",
      "[CV] classifier=LogisticRegression(), classifier__C=0.001, classifier__penalty=l2, classifier__solver=liblinear \n",
      "[CV]  classifier=LogisticRegression(), classifier__C=0.001, classifier__penalty=l2, classifier__solver=liblinear, roc_auc=(train=0.906, test=0.897), total=   0.0s\n",
      "[CV] classifier=LogisticRegression(), classifier__C=0.001, classifier__penalty=l2, classifier__solver=liblinear \n",
      "[CV]  classifier=LogisticRegression(), classifier__C=0.001, classifier__penalty=l2, classifier__solver=liblinear, roc_auc=(train=0.910, test=0.881), total=   0.0s\n",
      "[CV] classifier=LogisticRegression(), classifier__C=0.001, classifier__penalty=l2, classifier__solver=liblinear \n",
      "[CV]  classifier=LogisticRegression(), classifier__C=0.001, classifier__penalty=l2, classifier__solver=liblinear, roc_auc=(train=0.898, test=0.927), total=   0.0s\n",
      "[CV] classifier=LogisticRegression(), classifier__C=0.001, classifier__penalty=l2, classifier__solver=liblinear \n",
      "[CV]  classifier=LogisticRegression(), classifier__C=0.001, classifier__penalty=l2, classifier__solver=liblinear, roc_auc=(train=0.908, test=0.884), total=   0.0s\n",
      "[CV] classifier=LogisticRegression(), classifier__C=0.001, classifier__penalty=l2, classifier__solver=liblinear \n",
      "[CV]  classifier=LogisticRegression(), classifier__C=0.001, classifier__penalty=l2, classifier__solver=liblinear, roc_auc=(train=0.898, test=0.930), total=   0.0s\n",
      "[CV] classifier=LogisticRegression(), classifier__C=0.01, classifier__penalty=l1, classifier__solver=liblinear "
     ]
    },
    {
     "name": "stderr",
     "output_type": "stream",
     "text": [
      "[Parallel(n_jobs=1)]: Using backend SequentialBackend with 1 concurrent workers.\n",
      "[Parallel(n_jobs=1)]: Done   1 out of   1 | elapsed:    0.0s remaining:    0.0s\n",
      "[Parallel(n_jobs=1)]: Done   2 out of   2 | elapsed:    0.0s remaining:    0.0s\n"
     ]
    },
    {
     "name": "stdout",
     "output_type": "stream",
     "text": [
      "\n",
      "[CV]  classifier=LogisticRegression(), classifier__C=0.01, classifier__penalty=l1, classifier__solver=liblinear, roc_auc=(train=0.500, test=0.500), total=   0.0s\n",
      "[CV] classifier=LogisticRegression(), classifier__C=0.01, classifier__penalty=l1, classifier__solver=liblinear \n",
      "[CV]  classifier=LogisticRegression(), classifier__C=0.01, classifier__penalty=l1, classifier__solver=liblinear, roc_auc=(train=0.500, test=0.500), total=   0.0s\n",
      "[CV] classifier=LogisticRegression(), classifier__C=0.01, classifier__penalty=l1, classifier__solver=liblinear \n",
      "[CV]  classifier=LogisticRegression(), classifier__C=0.01, classifier__penalty=l1, classifier__solver=liblinear, roc_auc=(train=0.500, test=0.500), total=   0.0s\n",
      "[CV] classifier=LogisticRegression(), classifier__C=0.01, classifier__penalty=l1, classifier__solver=liblinear \n",
      "[CV]  classifier=LogisticRegression(), classifier__C=0.01, classifier__penalty=l1, classifier__solver=liblinear, roc_auc=(train=0.500, test=0.500), total=   0.0s\n",
      "[CV] classifier=LogisticRegression(), classifier__C=0.01, classifier__penalty=l1, classifier__solver=liblinear \n",
      "[CV]  classifier=LogisticRegression(), classifier__C=0.01, classifier__penalty=l1, classifier__solver=liblinear, roc_auc=(train=0.500, test=0.500), total=   0.0s\n",
      "[CV] classifier=LogisticRegression(), classifier__C=0.01, classifier__penalty=l2, classifier__solver=liblinear \n",
      "[CV]  classifier=LogisticRegression(), classifier__C=0.01, classifier__penalty=l2, classifier__solver=liblinear, roc_auc=(train=0.906, test=0.897), total=   0.0s\n",
      "[CV] classifier=LogisticRegression(), classifier__C=0.01, classifier__penalty=l2, classifier__solver=liblinear \n",
      "[CV]  classifier=LogisticRegression(), classifier__C=0.01, classifier__penalty=l2, classifier__solver=liblinear, roc_auc=(train=0.910, test=0.881), total=   0.0s\n",
      "[CV] classifier=LogisticRegression(), classifier__C=0.01, classifier__penalty=l2, classifier__solver=liblinear \n",
      "[CV]  classifier=LogisticRegression(), classifier__C=0.01, classifier__penalty=l2, classifier__solver=liblinear, roc_auc=(train=0.898, test=0.927), total=   0.0s\n",
      "[CV] classifier=LogisticRegression(), classifier__C=0.01, classifier__penalty=l2, classifier__solver=liblinear \n",
      "[CV]  classifier=LogisticRegression(), classifier__C=0.01, classifier__penalty=l2, classifier__solver=liblinear, roc_auc=(train=0.908, test=0.884), total=   0.0s\n",
      "[CV] classifier=LogisticRegression(), classifier__C=0.01, classifier__penalty=l2, classifier__solver=liblinear \n",
      "[CV]  classifier=LogisticRegression(), classifier__C=0.01, classifier__penalty=l2, classifier__solver=liblinear, roc_auc=(train=0.898, test=0.930), total=   0.0s\n",
      "[CV] classifier=LogisticRegression(), classifier__C=0.1, classifier__penalty=l1, classifier__solver=liblinear \n",
      "[CV]  classifier=LogisticRegression(), classifier__C=0.1, classifier__penalty=l1, classifier__solver=liblinear, roc_auc=(train=0.906, test=0.897), total=   0.0s\n",
      "[CV] classifier=LogisticRegression(), classifier__C=0.1, classifier__penalty=l1, classifier__solver=liblinear \n",
      "[CV]  classifier=LogisticRegression(), classifier__C=0.1, classifier__penalty=l1, classifier__solver=liblinear, roc_auc=(train=0.910, test=0.881), total=   0.0s\n",
      "[CV] classifier=LogisticRegression(), classifier__C=0.1, classifier__penalty=l1, classifier__solver=liblinear \n",
      "[CV]  classifier=LogisticRegression(), classifier__C=0.1, classifier__penalty=l1, classifier__solver=liblinear, roc_auc=(train=0.901, test=0.905), total=   0.0s\n",
      "[CV] classifier=LogisticRegression(), classifier__C=0.1, classifier__penalty=l1, classifier__solver=liblinear \n",
      "[CV]  classifier=LogisticRegression(), classifier__C=0.1, classifier__penalty=l1, classifier__solver=liblinear, roc_auc=(train=0.908, test=0.884), total=   0.0s\n",
      "[CV] classifier=LogisticRegression(), classifier__C=0.1, classifier__penalty=l1, classifier__solver=liblinear \n",
      "[CV]  classifier=LogisticRegression(), classifier__C=0.1, classifier__penalty=l1, classifier__solver=liblinear, roc_auc=(train=0.898, test=0.930), total=   0.0s\n",
      "[CV] classifier=LogisticRegression(), classifier__C=0.1, classifier__penalty=l2, classifier__solver=liblinear \n",
      "[CV]  classifier=LogisticRegression(), classifier__C=0.1, classifier__penalty=l2, classifier__solver=liblinear, roc_auc=(train=0.906, test=0.897), total=   0.0s\n",
      "[CV] classifier=LogisticRegression(), classifier__C=0.1, classifier__penalty=l2, classifier__solver=liblinear \n",
      "[CV]  classifier=LogisticRegression(), classifier__C=0.1, classifier__penalty=l2, classifier__solver=liblinear, roc_auc=(train=0.910, test=0.881), total=   0.0s\n",
      "[CV] classifier=LogisticRegression(), classifier__C=0.1, classifier__penalty=l2, classifier__solver=liblinear \n",
      "[CV]  classifier=LogisticRegression(), classifier__C=0.1, classifier__penalty=l2, classifier__solver=liblinear, roc_auc=(train=0.901, test=0.905), total=   0.0s\n",
      "[CV] classifier=LogisticRegression(), classifier__C=0.1, classifier__penalty=l2, classifier__solver=liblinear \n",
      "[CV]  classifier=LogisticRegression(), classifier__C=0.1, classifier__penalty=l2, classifier__solver=liblinear, roc_auc=(train=0.908, test=0.884), total=   0.0s\n",
      "[CV] classifier=LogisticRegression(), classifier__C=0.1, classifier__penalty=l2, classifier__solver=liblinear \n",
      "[CV]  classifier=LogisticRegression(), classifier__C=0.1, classifier__penalty=l2, classifier__solver=liblinear, roc_auc=(train=0.898, test=0.930), total=   0.0s\n",
      "[CV] classifier=LogisticRegression(), classifier__C=1, classifier__penalty=l1, classifier__solver=liblinear \n",
      "[CV]  classifier=LogisticRegression(), classifier__C=1, classifier__penalty=l1, classifier__solver=liblinear, roc_auc=(train=0.906, test=0.897), total=   0.0s\n",
      "[CV] classifier=LogisticRegression(), classifier__C=1, classifier__penalty=l1, classifier__solver=liblinear \n",
      "[CV]  classifier=LogisticRegression(), classifier__C=1, classifier__penalty=l1, classifier__solver=liblinear, roc_auc=(train=0.910, test=0.866), total=   0.0s\n",
      "[CV] classifier=LogisticRegression(), classifier__C=1, classifier__penalty=l1, classifier__solver=liblinear \n",
      "[CV]  classifier=LogisticRegression(), classifier__C=1, classifier__penalty=l1, classifier__solver=liblinear, roc_auc=(train=0.901, test=0.905), total=   0.0s\n",
      "[CV] classifier=LogisticRegression(), classifier__C=1, classifier__penalty=l1, classifier__solver=liblinear \n",
      "[CV]  classifier=LogisticRegression(), classifier__C=1, classifier__penalty=l1, classifier__solver=liblinear, roc_auc=(train=0.908, test=0.884), total=   0.0s\n",
      "[CV] classifier=LogisticRegression(), classifier__C=1, classifier__penalty=l1, classifier__solver=liblinear \n",
      "[CV]  classifier=LogisticRegression(), classifier__C=1, classifier__penalty=l1, classifier__solver=liblinear, roc_auc=(train=0.898, test=0.930), total=   0.0s\n",
      "[CV] classifier=LogisticRegression(), classifier__C=1, classifier__penalty=l2, classifier__solver=liblinear \n",
      "[CV]  classifier=LogisticRegression(), classifier__C=1, classifier__penalty=l2, classifier__solver=liblinear, roc_auc=(train=0.906, test=0.897), total=   0.0s\n",
      "[CV] classifier=LogisticRegression(), classifier__C=1, classifier__penalty=l2, classifier__solver=liblinear \n",
      "[CV]  classifier=LogisticRegression(), classifier__C=1, classifier__penalty=l2, classifier__solver=liblinear, roc_auc=(train=0.910, test=0.866), total=   0.0s\n",
      "[CV] classifier=LogisticRegression(), classifier__C=1, classifier__penalty=l2, classifier__solver=liblinear \n",
      "[CV]  classifier=LogisticRegression(), classifier__C=1, classifier__penalty=l2, classifier__solver=liblinear, roc_auc=(train=0.901, test=0.905), total=   0.0s\n",
      "[CV] classifier=LogisticRegression(), classifier__C=1, classifier__penalty=l2, classifier__solver=liblinear \n",
      "[CV]  classifier=LogisticRegression(), classifier__C=1, classifier__penalty=l2, classifier__solver=liblinear, roc_auc=(train=0.908, test=0.884), total=   0.0s\n",
      "[CV] classifier=LogisticRegression(), classifier__C=1, classifier__penalty=l2, classifier__solver=liblinear \n",
      "[CV]  classifier=LogisticRegression(), classifier__C=1, classifier__penalty=l2, classifier__solver=liblinear, roc_auc=(train=0.898, test=0.930), total=   0.0s\n",
      "[CV] classifier=LogisticRegression(), classifier__C=10, classifier__penalty=l1, classifier__solver=liblinear \n",
      "[CV]  classifier=LogisticRegression(), classifier__C=10, classifier__penalty=l1, classifier__solver=liblinear, roc_auc=(train=0.906, test=0.897), total=   0.0s\n",
      "[CV] classifier=LogisticRegression(), classifier__C=10, classifier__penalty=l1, classifier__solver=liblinear \n",
      "[CV]  classifier=LogisticRegression(), classifier__C=10, classifier__penalty=l1, classifier__solver=liblinear, roc_auc=(train=0.910, test=0.866), total=   0.0s\n",
      "[CV] classifier=LogisticRegression(), classifier__C=10, classifier__penalty=l1, classifier__solver=liblinear \n",
      "[CV]  classifier=LogisticRegression(), classifier__C=10, classifier__penalty=l1, classifier__solver=liblinear, roc_auc=(train=0.901, test=0.905), total=   0.0s\n",
      "[CV] classifier=LogisticRegression(), classifier__C=10, classifier__penalty=l1, classifier__solver=liblinear \n",
      "[CV]  classifier=LogisticRegression(), classifier__C=10, classifier__penalty=l1, classifier__solver=liblinear, roc_auc=(train=0.908, test=0.884), total=   0.0s\n",
      "[CV] classifier=LogisticRegression(), classifier__C=10, classifier__penalty=l1, classifier__solver=liblinear \n",
      "[CV]  classifier=LogisticRegression(), classifier__C=10, classifier__penalty=l1, classifier__solver=liblinear, roc_auc=(train=0.898, test=0.930), total=   0.0s\n",
      "[CV] classifier=LogisticRegression(), classifier__C=10, classifier__penalty=l2, classifier__solver=liblinear \n",
      "[CV]  classifier=LogisticRegression(), classifier__C=10, classifier__penalty=l2, classifier__solver=liblinear, roc_auc=(train=0.906, test=0.897), total=   0.0s\n",
      "[CV] classifier=LogisticRegression(), classifier__C=10, classifier__penalty=l2, classifier__solver=liblinear \n",
      "[CV]  classifier=LogisticRegression(), classifier__C=10, classifier__penalty=l2, classifier__solver=liblinear, roc_auc=(train=0.910, test=0.866), total=   0.0s\n",
      "[CV] classifier=LogisticRegression(), classifier__C=10, classifier__penalty=l2, classifier__solver=liblinear \n",
      "[CV]  classifier=LogisticRegression(), classifier__C=10, classifier__penalty=l2, classifier__solver=liblinear, roc_auc=(train=0.901, test=0.905), total=   0.0s\n",
      "[CV] classifier=LogisticRegression(), classifier__C=10, classifier__penalty=l2, classifier__solver=liblinear \n",
      "[CV]  classifier=LogisticRegression(), classifier__C=10, classifier__penalty=l2, classifier__solver=liblinear, roc_auc=(train=0.908, test=0.884), total=   0.0s\n",
      "[CV] classifier=LogisticRegression(), classifier__C=10, classifier__penalty=l2, classifier__solver=liblinear \n",
      "[CV]  classifier=LogisticRegression(), classifier__C=10, classifier__penalty=l2, classifier__solver=liblinear, roc_auc=(train=0.898, test=0.930), total=   0.0s\n",
      "[CV] classifier=LogisticRegression(), classifier__C=100, classifier__penalty=l1, classifier__solver=liblinear \n",
      "[CV]  classifier=LogisticRegression(), classifier__C=100, classifier__penalty=l1, classifier__solver=liblinear, roc_auc=(train=0.906, test=0.897), total=   0.0s\n",
      "[CV] classifier=LogisticRegression(), classifier__C=100, classifier__penalty=l1, classifier__solver=liblinear \n",
      "[CV]  classifier=LogisticRegression(), classifier__C=100, classifier__penalty=l1, classifier__solver=liblinear, roc_auc=(train=0.910, test=0.866), total=   0.0s\n",
      "[CV] classifier=LogisticRegression(), classifier__C=100, classifier__penalty=l1, classifier__solver=liblinear \n",
      "[CV]  classifier=LogisticRegression(), classifier__C=100, classifier__penalty=l1, classifier__solver=liblinear, roc_auc=(train=0.901, test=0.905), total=   0.0s\n",
      "[CV] classifier=LogisticRegression(), classifier__C=100, classifier__penalty=l1, classifier__solver=liblinear \n",
      "[CV]  classifier=LogisticRegression(), classifier__C=100, classifier__penalty=l1, classifier__solver=liblinear, roc_auc=(train=0.908, test=0.884), total=   0.0s\n",
      "[CV] classifier=LogisticRegression(), classifier__C=100, classifier__penalty=l1, classifier__solver=liblinear \n",
      "[CV]  classifier=LogisticRegression(), classifier__C=100, classifier__penalty=l1, classifier__solver=liblinear, roc_auc=(train=0.898, test=0.930), total=   0.0s\n",
      "[CV] classifier=LogisticRegression(), classifier__C=100, classifier__penalty=l2, classifier__solver=liblinear \n",
      "[CV]  classifier=LogisticRegression(), classifier__C=100, classifier__penalty=l2, classifier__solver=liblinear, roc_auc=(train=0.906, test=0.897), total=   0.0s\n",
      "[CV] classifier=LogisticRegression(), classifier__C=100, classifier__penalty=l2, classifier__solver=liblinear \n",
      "[CV]  classifier=LogisticRegression(), classifier__C=100, classifier__penalty=l2, classifier__solver=liblinear, roc_auc=(train=0.910, test=0.866), total=   0.0s\n",
      "[CV] classifier=LogisticRegression(), classifier__C=100, classifier__penalty=l2, classifier__solver=liblinear \n",
      "[CV]  classifier=LogisticRegression(), classifier__C=100, classifier__penalty=l2, classifier__solver=liblinear, roc_auc=(train=0.901, test=0.905), total=   0.0s\n",
      "[CV] classifier=LogisticRegression(), classifier__C=100, classifier__penalty=l2, classifier__solver=liblinear \n",
      "[CV]  classifier=LogisticRegression(), classifier__C=100, classifier__penalty=l2, classifier__solver=liblinear, roc_auc=(train=0.908, test=0.884), total=   0.0s\n",
      "[CV] classifier=LogisticRegression(), classifier__C=100, classifier__penalty=l2, classifier__solver=liblinear \n",
      "[CV]  classifier=LogisticRegression(), classifier__C=100, classifier__penalty=l2, classifier__solver=liblinear, roc_auc=(train=0.898, test=0.930), total=   0.0s\n"
     ]
    },
    {
     "name": "stderr",
     "output_type": "stream",
     "text": [
      "[Parallel(n_jobs=1)]: Done  60 out of  60 | elapsed:    1.0s finished\n"
     ]
    }
   ],
   "source": [
    "X3 = dataset.dropna()[['Increased Urination', 'Increased Thirst']]\n",
    "X3n = pd.get_dummies(X3)\n",
    "X_train, X_test, y_train, y_test = train_test_split(X3n.values, d['Diagnosis'], test_size=0.2, random_state=42,stratify = d['Diagnosis'])\n",
    "C = [0.001, 0.01, 0.1, 1, 10, 100]\n",
    "best_logreg_2feat = f.cv_kfold_logreg(X_train,y_train,C,K=5)"
   ]
  },
  {
   "cell_type": "code",
   "execution_count": 54,
   "metadata": {},
   "outputs": [
    {
     "name": "stdout",
     "output_type": "stream",
     "text": [
      "Fitting 5 folds for each of 2 candidates, totalling 10 fits\n"
     ]
    },
    {
     "name": "stderr",
     "output_type": "stream",
     "text": [
      "[Parallel(n_jobs=1)]: Using backend SequentialBackend with 1 concurrent workers.\n",
      "[Parallel(n_jobs=1)]: Done   1 out of   1 | elapsed:    0.0s remaining:    0.0s\n",
      "[Parallel(n_jobs=1)]: Done   2 out of   2 | elapsed:    0.0s remaining:    0.0s\n"
     ]
    },
    {
     "name": "stdout",
     "output_type": "stream",
     "text": [
      "[CV] svm__C=10, svm__kernel=linear ...................................\n",
      "[CV]  svm__C=10, svm__kernel=linear, roc_auc=(train=0.904, test=0.898), total=   0.0s\n",
      "[CV] svm__C=10, svm__kernel=linear ...................................\n",
      "[CV]  svm__C=10, svm__kernel=linear, roc_auc=(train=0.910, test=0.874), total=   0.0s\n",
      "[CV] svm__C=10, svm__kernel=linear ...................................\n",
      "[CV]  svm__C=10, svm__kernel=linear, roc_auc=(train=0.900, test=0.916), total=   0.0s\n",
      "[CV] svm__C=10, svm__kernel=linear ...................................\n",
      "[CV]  svm__C=10, svm__kernel=linear, roc_auc=(train=0.906, test=0.891), total=   0.0s\n",
      "[CV] svm__C=10, svm__kernel=linear ...................................\n",
      "[CV]  svm__C=10, svm__kernel=linear, roc_auc=(train=0.895, test=0.935), total=   0.0s\n",
      "[CV] svm__C=100, svm__kernel=linear ..................................\n",
      "[CV]  svm__C=100, svm__kernel=linear, roc_auc=(train=0.904, test=0.898), total=   0.0s\n",
      "[CV] svm__C=100, svm__kernel=linear ..................................\n",
      "[CV]  svm__C=100, svm__kernel=linear, roc_auc=(train=0.910, test=0.874), total=   0.0s\n",
      "[CV] svm__C=100, svm__kernel=linear ..................................\n",
      "[CV]  svm__C=100, svm__kernel=linear, roc_auc=(train=0.900, test=0.916), total=   0.0s\n",
      "[CV] svm__C=100, svm__kernel=linear ..................................\n",
      "[CV]  svm__C=100, svm__kernel=linear, roc_auc=(train=0.906, test=0.891), total=   0.0s\n",
      "[CV] svm__C=100, svm__kernel=linear ..................................\n",
      "[CV]  svm__C=100, svm__kernel=linear, roc_auc=(train=0.895, test=0.935), total=   0.0s\n"
     ]
    },
    {
     "name": "stderr",
     "output_type": "stream",
     "text": [
      "[Parallel(n_jobs=1)]: Done  10 out of  10 | elapsed:    0.2s finished\n"
     ]
    }
   ],
   "source": [
    "C = [10, 100]\n",
    "best_svm_lin = f.cv_kfold_svm(X_train,y_train,C=C,K=5,gamma=[0],flag = 'linear')"
   ]
  },
  {
   "cell_type": "code",
   "execution_count": 55,
   "metadata": {},
   "outputs": [
    {
     "name": "stdout",
     "output_type": "stream",
     "text": [
      "Fitting 5 folds for each of 4 candidates, totalling 20 fits\n",
      "[CV] svm__C=10, svm__gamma=0.1, svm__kernel=rbf ......................\n",
      "[CV]  svm__C=10, svm__gamma=0.1, svm__kernel=rbf, roc_auc=(train=0.906, test=0.897), total=   0.0s\n",
      "[CV] svm__C=10, svm__gamma=0.1, svm__kernel=rbf ......................\n",
      "[CV]  svm__C=10, svm__gamma=0.1, svm__kernel=rbf, roc_auc=(train=0.910, test=0.881), total=   0.0s\n",
      "[CV] svm__C=10, svm__gamma=0.1, svm__kernel=rbf ......................"
     ]
    },
    {
     "name": "stderr",
     "output_type": "stream",
     "text": [
      "[Parallel(n_jobs=1)]: Using backend SequentialBackend with 1 concurrent workers.\n",
      "[Parallel(n_jobs=1)]: Done   1 out of   1 | elapsed:    0.0s remaining:    0.0s\n",
      "[Parallel(n_jobs=1)]: Done   2 out of   2 | elapsed:    0.0s remaining:    0.0s\n"
     ]
    },
    {
     "name": "stdout",
     "output_type": "stream",
     "text": [
      "\n",
      "[CV]  svm__C=10, svm__gamma=0.1, svm__kernel=rbf, roc_auc=(train=0.898, test=0.927), total=   0.0s\n",
      "[CV] svm__C=10, svm__gamma=0.1, svm__kernel=rbf ......................\n",
      "[CV]  svm__C=10, svm__gamma=0.1, svm__kernel=rbf, roc_auc=(train=0.908, test=0.884), total=   0.0s\n",
      "[CV] svm__C=10, svm__gamma=0.1, svm__kernel=rbf ......................\n",
      "[CV]  svm__C=10, svm__gamma=0.1, svm__kernel=rbf, roc_auc=(train=0.898, test=0.930), total=   0.0s\n",
      "[CV] svm__C=10, svm__gamma=1, svm__kernel=rbf ........................\n",
      "[CV]  svm__C=10, svm__gamma=1, svm__kernel=rbf, roc_auc=(train=0.819, test=0.877), total=   0.0s\n",
      "[CV] svm__C=10, svm__gamma=1, svm__kernel=rbf ........................\n",
      "[CV]  svm__C=10, svm__gamma=1, svm__kernel=rbf, roc_auc=(train=0.834, test=0.816), total=   0.0s\n",
      "[CV] svm__C=10, svm__gamma=1, svm__kernel=rbf ........................\n",
      "[CV]  svm__C=10, svm__gamma=1, svm__kernel=rbf, roc_auc=(train=0.824, test=0.856), total=   0.0s\n",
      "[CV] svm__C=10, svm__gamma=1, svm__kernel=rbf ........................\n",
      "[CV]  svm__C=10, svm__gamma=1, svm__kernel=rbf, roc_auc=(train=0.843, test=0.778), total=   0.0s\n",
      "[CV] svm__C=10, svm__gamma=1, svm__kernel=rbf ........................\n",
      "[CV]  svm__C=10, svm__gamma=1, svm__kernel=rbf, roc_auc=(train=0.831, test=0.825), total=   0.0s\n",
      "[CV] svm__C=100, svm__gamma=0.1, svm__kernel=rbf .....................\n",
      "[CV]  svm__C=100, svm__gamma=0.1, svm__kernel=rbf, roc_auc=(train=0.902, test=0.899), total=   0.0s\n",
      "[CV] svm__C=100, svm__gamma=0.1, svm__kernel=rbf .....................\n",
      "[CV]  svm__C=100, svm__gamma=0.1, svm__kernel=rbf, roc_auc=(train=0.910, test=0.866), total=   0.0s\n",
      "[CV] svm__C=100, svm__gamma=0.1, svm__kernel=rbf .....................\n",
      "[CV]  svm__C=100, svm__gamma=0.1, svm__kernel=rbf, roc_auc=(train=0.901, test=0.905), total=   0.0s\n",
      "[CV] svm__C=100, svm__gamma=0.1, svm__kernel=rbf .....................\n",
      "[CV]  svm__C=100, svm__gamma=0.1, svm__kernel=rbf, roc_auc=(train=0.903, test=0.897), total=   0.0s\n",
      "[CV] svm__C=100, svm__gamma=0.1, svm__kernel=rbf .....................\n",
      "[CV]  svm__C=100, svm__gamma=0.1, svm__kernel=rbf, roc_auc=(train=0.893, test=0.940), total=   0.0s\n",
      "[CV] svm__C=100, svm__gamma=1, svm__kernel=rbf .......................\n",
      "[CV]  svm__C=100, svm__gamma=1, svm__kernel=rbf, roc_auc=(train=0.902, test=0.899), total=   0.0s\n",
      "[CV] svm__C=100, svm__gamma=1, svm__kernel=rbf .......................\n",
      "[CV]  svm__C=100, svm__gamma=1, svm__kernel=rbf, roc_auc=(train=0.910, test=0.866), total=   0.0s\n",
      "[CV] svm__C=100, svm__gamma=1, svm__kernel=rbf .......................\n",
      "[CV]  svm__C=100, svm__gamma=1, svm__kernel=rbf, roc_auc=(train=0.901, test=0.905), total=   0.0s\n",
      "[CV] svm__C=100, svm__gamma=1, svm__kernel=rbf .......................\n",
      "[CV]  svm__C=100, svm__gamma=1, svm__kernel=rbf, roc_auc=(train=0.903, test=0.897), total=   0.0s\n",
      "[CV] svm__C=100, svm__gamma=1, svm__kernel=rbf .......................\n",
      "[CV]  svm__C=100, svm__gamma=1, svm__kernel=rbf, roc_auc=(train=0.893, test=0.940), total=   0.0s\n"
     ]
    },
    {
     "name": "stderr",
     "output_type": "stream",
     "text": [
      "[Parallel(n_jobs=1)]: Done  20 out of  20 | elapsed:    0.6s finished\n"
     ]
    }
   ],
   "source": [
    "C = [10, 100]\n",
    "gamma = [0.1, 1]\n",
    "best_svm_rbf = f.cv_kfold_svm(X_train,y_train,C=C,K=5,gamma=gamma,flag = 'rbf')"
   ]
  },
  {
   "cell_type": "code",
   "execution_count": 56,
   "metadata": {},
   "outputs": [
    {
     "name": "stdout",
     "output_type": "stream",
     "text": [
      "Fitting 5 folds for each of 1 candidates, totalling 5 fits\n",
      "[CV] svm__C=100, svm__gamma=10, svm__kernel=poly .....................\n",
      "[CV]  svm__C=100, svm__gamma=10, svm__kernel=poly, roc_auc=(train=0.856, test=0.877), total=   0.0s\n",
      "[CV] svm__C=100, svm__gamma=10, svm__kernel=poly .....................\n",
      "[CV]  svm__C=100, svm__gamma=10, svm__kernel=poly, roc_auc=(train=0.858, test=0.865), total=   0.0s\n",
      "[CV] svm__C=100, svm__gamma=10, svm__kernel=poly .....................\n",
      "[CV]  svm__C=100, svm__gamma=10, svm__kernel=poly, roc_auc=(train=0.847, test=0.909), total=   0.0s\n",
      "[CV] svm__C=100, svm__gamma=10, svm__kernel=poly ....................."
     ]
    },
    {
     "name": "stderr",
     "output_type": "stream",
     "text": [
      "[Parallel(n_jobs=1)]: Using backend SequentialBackend with 1 concurrent workers.\n",
      "[Parallel(n_jobs=1)]: Done   1 out of   1 | elapsed:    0.0s remaining:    0.0s\n",
      "[Parallel(n_jobs=1)]: Done   2 out of   2 | elapsed:    0.0s remaining:    0.0s\n"
     ]
    },
    {
     "name": "stdout",
     "output_type": "stream",
     "text": [
      "\n",
      "[CV]  svm__C=100, svm__gamma=10, svm__kernel=poly, roc_auc=(train=0.876, test=0.796), total=   0.0s\n",
      "[CV] svm__C=100, svm__gamma=10, svm__kernel=poly .....................\n",
      "[CV]  svm__C=100, svm__gamma=10, svm__kernel=poly, roc_auc=(train=0.862, test=0.846), total=   0.0s\n"
     ]
    },
    {
     "name": "stderr",
     "output_type": "stream",
     "text": [
      "[Parallel(n_jobs=1)]: Done   5 out of   5 | elapsed:    0.1s finished\n"
     ]
    }
   ],
   "source": [
    "C = [100]\n",
    "gamma = [10]\n",
    "best_svm_poly = f.cv_kfold_svm(X_train,y_train,C=C,K=5,gamma=gamma,flag = 'poly')"
   ]
  },
  {
   "cell_type": "code",
   "execution_count": 57,
   "metadata": {},
   "outputs": [
    {
     "name": "stdout",
     "output_type": "stream",
     "text": [
      "For 2 best features, which we have chosen from RF:\n",
      "\n",
      "\n",
      "For Logistic Regression:\n",
      "\n",
      "\n",
      "For the train set:\n",
      "\n",
      "Accuracy is 0.86. \n",
      "F1 is 0.89. \n",
      "AUROC is 0.904\n",
      "\n",
      "For the test set:\n",
      "\n",
      "Accuracy is 0.90. \n",
      "F1 is 0.91. \n",
      "AUROC is 0.918\n",
      "\n",
      "For SVM kernel linear:\n",
      "\n",
      "\n",
      "For the train set:\n",
      "\n",
      "Accuracy is 0.86. \n",
      "F1 is 0.89. \n",
      "AUROC is 0.903\n",
      "\n",
      "For the test set:\n",
      "\n",
      "Accuracy is 0.90. \n",
      "F1 is 0.91. \n",
      "AUROC is 0.924\n",
      "\n",
      "For SVM kernel rbf:\n",
      "\n",
      "\n",
      "For the train set:\n",
      "\n",
      "Accuracy is 0.86. \n",
      "F1 is 0.89. \n",
      "AUROC is 0.904\n",
      "\n",
      "For the test set:\n",
      "\n",
      "Accuracy is 0.90. \n",
      "F1 is 0.91. \n",
      "AUROC is 0.918\n",
      "\n",
      "For SVM kernel poly:\n",
      "\n",
      "\n",
      "For the train set:\n",
      "\n",
      "Accuracy is 0.86. \n",
      "F1 is 0.89. \n",
      "AUROC is 0.860\n",
      "\n",
      "For the test set:\n",
      "\n",
      "Accuracy is 0.90. \n",
      "F1 is 0.91. \n",
      "AUROC is 0.872\n",
      "\n",
      "\n",
      "\n",
      "\n",
      "For PCA preprocessing for 4 different classifiers:\n",
      "\n",
      "\n",
      "For Logistic Regression:\n",
      "\n",
      "\n",
      "For the train set:\n",
      "\n",
      "Accuracy is 0.88. \n",
      "F1 is 0.90. \n",
      "AUROC is 0.941\n",
      "\n",
      "For the test set:\n",
      "\n",
      "Accuracy is 0.89. \n",
      "F1 is 0.90. \n",
      "AUROC is 0.955\n",
      "\n",
      "For SVM kernel linear:\n",
      "\n",
      "\n",
      "For the train set:\n",
      "\n",
      "Accuracy is 0.88. \n",
      "F1 is 0.90. \n",
      "AUROC is 0.941\n",
      "\n",
      "For the test set:\n",
      "\n",
      "Accuracy is 0.90. \n",
      "F1 is 0.92. \n",
      "AUROC is 0.959\n",
      "\n",
      "For SVM kernel rbf:\n",
      "\n",
      "\n",
      "For the train set:\n",
      "\n",
      "Accuracy is 0.91. \n",
      "F1 is 0.92. \n",
      "AUROC is 0.953\n",
      "\n",
      "For the test set:\n",
      "\n",
      "Accuracy is 0.90. \n",
      "F1 is 0.92. \n",
      "AUROC is 0.921\n",
      "\n",
      "For SVM kernel poly:\n",
      "\n",
      "\n",
      "For the train set:\n",
      "\n",
      "Accuracy is 0.89. \n",
      "F1 is 0.91. \n",
      "AUROC is 0.956\n",
      "\n",
      "For the test set:\n",
      "\n",
      "Accuracy is 0.92. \n",
      "F1 is 0.94. \n",
      "AUROC is 0.966\n"
     ]
    }
   ],
   "source": [
    "print('For 2 best features, which we have chosen from RF:\\n')\n",
    "print('\\nFor Logistic Regression:\\n')\n",
    "print('\\nFor the train set:\\n')\n",
    "f.calc_stat(X_train,y_train,best_logreg_2feat)\n",
    "print('\\nFor the test set:\\n')\n",
    "f.calc_stat(X_test,y_test,best_logreg_2feat)\n",
    "\n",
    "print('\\nFor SVM kernel linear:\\n')\n",
    "print('\\nFor the train set:\\n')\n",
    "f.calc_stat(X_train,y_train,best_svm_lin)\n",
    "print('\\nFor the test set:\\n')\n",
    "f.calc_stat(X_test,y_test,best_svm_lin)\n",
    "\n",
    "print('\\nFor SVM kernel rbf:\\n')\n",
    "print('\\nFor the train set:\\n')\n",
    "f.calc_stat(X_train,y_train,best_svm_rbf)\n",
    "print('\\nFor the test set:\\n')\n",
    "f.calc_stat(X_test,y_test,best_svm_rbf)\n",
    "\n",
    "print('\\nFor SVM kernel poly:\\n')\n",
    "print('\\nFor the train set:\\n')\n",
    "f.calc_stat(X_train,y_train,best_svm_poly)\n",
    "print('\\nFor the test set:\\n')\n",
    "f.calc_stat(X_test,y_test,best_svm_poly)\n",
    "\n",
    "X_train, X_test, y_train, y_test = train_test_split(X2, d[\"Diagnosis\"], test_size=0.2, random_state=42,stratify = d[\"Diagnosis\"])\n",
    "print('\\n\\n\\n\\nFor PCA preprocessing for 4 different classifiers:\\n')\n",
    "print('\\nFor Logistic Regression:\\n')\n",
    "print('\\nFor the train set:\\n')\n",
    "f.calc_stat(X_train,y_train,best_logreg1)\n",
    "print('\\nFor the test set:\\n')\n",
    "f.calc_stat(X_test,y_test,best_logreg1)\n",
    "\n",
    "print('\\nFor SVM kernel linear:\\n')\n",
    "print('\\nFor the train set:\\n')\n",
    "f.calc_stat(X_train,y_train,best_svm_lin1)\n",
    "print('\\nFor the test set:\\n')\n",
    "f.calc_stat(X_test,y_test,best_svm_lin1)\n",
    "\n",
    "print('\\nFor SVM kernel rbf:\\n')\n",
    "print('\\nFor the train set:\\n')\n",
    "f.calc_stat(X_train,y_train,best_svm_rbf1)\n",
    "print('\\nFor the test set:\\n')\n",
    "f.calc_stat(X_test,y_test,best_svm_rbf1)\n",
    "\n",
    "print('\\nFor SVM kernel poly:\\n')\n",
    "print('\\nFor the train set:\\n')\n",
    "f.calc_stat(X_train,y_train,best_svm_poly1)\n",
    "print('\\nFor the test set:\\n')\n",
    "f.calc_stat(X_test,y_test,best_svm_poly1)"
   ]
  },
  {
   "cell_type": "markdown",
   "metadata": {},
   "source": [
    "The code for the partc C and D was taken from the previous part of the hw. (At C we have PCA in addition).\n",
    "### e\n",
    "The PCA is better than 2 features. PCA finds the components which maximize variance, so it does not mean that it takes the 2 best features, it takes a vector which contains \"elements\" from every feature. So it can give a better results than taking only 2 features. \n"
   ]
  },
  {
   "cell_type": "markdown",
   "metadata": {},
   "source": [
    "# Theory Questions \n",
    "\n",
    "Q1: We think that performance is more important for us, because if we have unbalanced data we can get high accuracy but the other performances will be bad. For example if we have 3% pathology data samples and the classifier always returns healthy label we will get high accuracy (97%) but sensitivity, for example, will be low. \n",
    "\n",
    "Q2: If we chose just 2 features we have 2 options:\n",
    "1) we choose the most correlated features and other not usefull for our classification we will get good performance for predicted labels, and it will be easy for computation\n",
    "\n",
    "2) if we chose features with bad correlation (it means not usefull for classification) we will get a bad prediction results. But computation will be fast.\n",
    "\n",
    "If we chose all the features, we have extra information that can be not useful for us and make computetions slower, require a large amount of system memory and will affect the performance. In other hand many features can lead to better performance, because we have more information that is usefull. \n",
    "\n",
    "Q3: We have very similar data, so it will be hard to find margin that maximize the distance between support vectors. Hence linear svm will be less usefull here. Logistic regression is based on probabilities so we think that it will work better. In the question we have no information about number of examples and features, and the numbers will influence the model we will prefer. If we have small number of features and medium number of examples we will prefer to use non-linear SVM, in other cases we will prefer logistic regression. (We used information from https://medium.com/axum-labs/logistic-regression-vs-support-vector-machines-svm-c335610a3d16)\n",
    "\n",
    "Q4:\n",
    "SVM works well with unstructured and semi-structured data such as images and text, while logistic regression works well with already identified explanatory variables. The risk of overfitting is less in linear, whereas logistic regression can lead to overfitting easier. SVM is based on geometric properties of data, it tries to find the best margin that will maximize distance between support vectors. The main hyperparameter of linear SVM is C. The parameter regulates number of misclasified data points, because real data almost always is not ideally linear separable. If C is big number of misclassifications is low and margin is smaller than in the case when C is small. Logistic regression is based on statistical approaches. Its main hyperparameters are C, penalty and solver.\n",
    "Optimization problem to solve in Logistic regression is:\n",
    "\n",
    "$\\displaystyle \\sum_{i=1}^{m} \\log P\\{y^{(i)} | x^{(i)} , \\theta\\} - \\lambda||\\theta||_1 \\rightarrow max $ - this is penalty L1, \n",
    "\n",
    "$\\displaystyle \\sum_{i=1}^{m} \\log P\\{y^{(i)} | x^{(i)} , \\theta\\} - \\lambda||\\theta||^2 \\rightarrow max $ - this is penalty L2,\n",
    "\n",
    "where $\\displaystyle \\lambda = C$- regularization parameter. When C is low -> regularization is high, else if C is high -> regularization is low.\n",
    "Regularization says to us how much is our feature important. For instance, for L2 and C low, weight of some of the features will be zero.\n",
    "(https://towardsdatascience.com/hyperparameter-tuning-for-support-vector-machines-c-and-gamma-parameters-6a5097416167, https://en.wikipedia.org/wiki/Logistic_regression, https://medium.com/axum-labs/logistic-regression-vs-support-vector-machines-svm-c335610a3d16)"
   ]
  }
 ],
 "metadata": {
  "kernelspec": {
   "display_name": "Python 3",
   "language": "python",
   "name": "python3"
  },
  "language_info": {
   "codemirror_mode": {
    "name": "ipython",
    "version": 3
   },
   "file_extension": ".py",
   "mimetype": "text/x-python",
   "name": "python",
   "nbconvert_exporter": "python",
   "pygments_lexer": "ipython3",
   "version": "3.7.9"
  }
 },
 "nbformat": 4,
 "nbformat_minor": 4
}
