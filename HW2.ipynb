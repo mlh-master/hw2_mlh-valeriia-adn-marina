{
 "cells": [
  {
   "cell_type": "code",
   "execution_count": 1,
   "metadata": {},
   "outputs": [
    {
     "data": {
      "text/html": [
       "<div>\n",
       "<style scoped>\n",
       "    .dataframe tbody tr th:only-of-type {\n",
       "        vertical-align: middle;\n",
       "    }\n",
       "\n",
       "    .dataframe tbody tr th {\n",
       "        vertical-align: top;\n",
       "    }\n",
       "\n",
       "    .dataframe thead th {\n",
       "        text-align: right;\n",
       "    }\n",
       "</style>\n",
       "<table border=\"1\" class=\"dataframe\">\n",
       "  <thead>\n",
       "    <tr style=\"text-align: right;\">\n",
       "      <th></th>\n",
       "      <th>Age</th>\n",
       "      <th>Gender</th>\n",
       "      <th>Increased Urination</th>\n",
       "      <th>Increased Thirst</th>\n",
       "      <th>Sudden Weight Loss</th>\n",
       "      <th>Weakness</th>\n",
       "      <th>Increased Hunger</th>\n",
       "      <th>Genital Thrush</th>\n",
       "      <th>Visual Blurring</th>\n",
       "      <th>Itching</th>\n",
       "      <th>Irritability</th>\n",
       "      <th>Delayed Healing</th>\n",
       "      <th>Partial Paresis</th>\n",
       "      <th>Muscle Stiffness</th>\n",
       "      <th>Hair Loss</th>\n",
       "      <th>Obesity</th>\n",
       "      <th>Diagnosis</th>\n",
       "      <th>Family History</th>\n",
       "    </tr>\n",
       "  </thead>\n",
       "  <tbody>\n",
       "    <tr>\n",
       "      <th>0</th>\n",
       "      <td>45</td>\n",
       "      <td>Male</td>\n",
       "      <td>No</td>\n",
       "      <td>No</td>\n",
       "      <td>No</td>\n",
       "      <td>Yes</td>\n",
       "      <td>No</td>\n",
       "      <td>No</td>\n",
       "      <td>No</td>\n",
       "      <td>Yes</td>\n",
       "      <td>No</td>\n",
       "      <td>No</td>\n",
       "      <td>Yes</td>\n",
       "      <td>No</td>\n",
       "      <td>Yes</td>\n",
       "      <td>No</td>\n",
       "      <td>Negative</td>\n",
       "      <td>0</td>\n",
       "    </tr>\n",
       "    <tr>\n",
       "      <th>1</th>\n",
       "      <td>42</td>\n",
       "      <td>Male</td>\n",
       "      <td>No</td>\n",
       "      <td>No</td>\n",
       "      <td>No</td>\n",
       "      <td>No</td>\n",
       "      <td>No</td>\n",
       "      <td>No</td>\n",
       "      <td>No</td>\n",
       "      <td>No</td>\n",
       "      <td>No</td>\n",
       "      <td>No</td>\n",
       "      <td>No</td>\n",
       "      <td>No</td>\n",
       "      <td>Yes</td>\n",
       "      <td>No</td>\n",
       "      <td>Negative</td>\n",
       "      <td>0</td>\n",
       "    </tr>\n",
       "    <tr>\n",
       "      <th>2</th>\n",
       "      <td>45</td>\n",
       "      <td>Male</td>\n",
       "      <td>Yes</td>\n",
       "      <td>Yes</td>\n",
       "      <td>No</td>\n",
       "      <td>Yes</td>\n",
       "      <td>No</td>\n",
       "      <td>Yes</td>\n",
       "      <td>No</td>\n",
       "      <td>No</td>\n",
       "      <td>No</td>\n",
       "      <td>Yes</td>\n",
       "      <td>No</td>\n",
       "      <td>No</td>\n",
       "      <td>Yes</td>\n",
       "      <td>No</td>\n",
       "      <td>Positive</td>\n",
       "      <td>0</td>\n",
       "    </tr>\n",
       "    <tr>\n",
       "      <th>3</th>\n",
       "      <td>59</td>\n",
       "      <td>Female</td>\n",
       "      <td>No</td>\n",
       "      <td>No</td>\n",
       "      <td>No</td>\n",
       "      <td>No</td>\n",
       "      <td>No</td>\n",
       "      <td>No</td>\n",
       "      <td>No</td>\n",
       "      <td>No</td>\n",
       "      <td>No</td>\n",
       "      <td>No</td>\n",
       "      <td>No</td>\n",
       "      <td>No</td>\n",
       "      <td>No</td>\n",
       "      <td>No</td>\n",
       "      <td>Positive</td>\n",
       "      <td>1</td>\n",
       "    </tr>\n",
       "    <tr>\n",
       "      <th>4</th>\n",
       "      <td>40</td>\n",
       "      <td>Female</td>\n",
       "      <td>Yes</td>\n",
       "      <td>Yes</td>\n",
       "      <td>Yes</td>\n",
       "      <td>Yes</td>\n",
       "      <td>No</td>\n",
       "      <td>No</td>\n",
       "      <td>Yes</td>\n",
       "      <td>Yes</td>\n",
       "      <td>No</td>\n",
       "      <td>No</td>\n",
       "      <td>Yes</td>\n",
       "      <td>Yes</td>\n",
       "      <td>No</td>\n",
       "      <td>No</td>\n",
       "      <td>Positive</td>\n",
       "      <td>0</td>\n",
       "    </tr>\n",
       "    <tr>\n",
       "      <th>5</th>\n",
       "      <td>72</td>\n",
       "      <td>Male</td>\n",
       "      <td>Yes</td>\n",
       "      <td>No</td>\n",
       "      <td>No</td>\n",
       "      <td>No</td>\n",
       "      <td>Yes</td>\n",
       "      <td>No</td>\n",
       "      <td>Yes</td>\n",
       "      <td>Yes</td>\n",
       "      <td>No</td>\n",
       "      <td>Yes</td>\n",
       "      <td>Yes</td>\n",
       "      <td>Yes</td>\n",
       "      <td>Yes</td>\n",
       "      <td>No</td>\n",
       "      <td>Negative</td>\n",
       "      <td>0</td>\n",
       "    </tr>\n",
       "    <tr>\n",
       "      <th>6</th>\n",
       "      <td>43</td>\n",
       "      <td>Male</td>\n",
       "      <td>No</td>\n",
       "      <td>No</td>\n",
       "      <td>No</td>\n",
       "      <td>Yes</td>\n",
       "      <td>No</td>\n",
       "      <td>Yes</td>\n",
       "      <td>No</td>\n",
       "      <td>Yes</td>\n",
       "      <td>No</td>\n",
       "      <td>Yes</td>\n",
       "      <td>No</td>\n",
       "      <td>No</td>\n",
       "      <td>Yes</td>\n",
       "      <td>No</td>\n",
       "      <td>Negative</td>\n",
       "      <td>1</td>\n",
       "    </tr>\n",
       "    <tr>\n",
       "      <th>7</th>\n",
       "      <td>57</td>\n",
       "      <td>Male</td>\n",
       "      <td>Yes</td>\n",
       "      <td>Yes</td>\n",
       "      <td>Yes</td>\n",
       "      <td>Yes</td>\n",
       "      <td>Yes</td>\n",
       "      <td>No</td>\n",
       "      <td>Yes</td>\n",
       "      <td>No</td>\n",
       "      <td>No</td>\n",
       "      <td>No</td>\n",
       "      <td>Yes</td>\n",
       "      <td>No</td>\n",
       "      <td>No</td>\n",
       "      <td>No</td>\n",
       "      <td>Positive</td>\n",
       "      <td>0</td>\n",
       "    </tr>\n",
       "    <tr>\n",
       "      <th>8</th>\n",
       "      <td>37</td>\n",
       "      <td>Male</td>\n",
       "      <td>No</td>\n",
       "      <td>No</td>\n",
       "      <td>No</td>\n",
       "      <td>Yes</td>\n",
       "      <td>No</td>\n",
       "      <td>No</td>\n",
       "      <td>No</td>\n",
       "      <td>No</td>\n",
       "      <td>No</td>\n",
       "      <td>Yes</td>\n",
       "      <td>No</td>\n",
       "      <td>No</td>\n",
       "      <td>Yes</td>\n",
       "      <td>No</td>\n",
       "      <td>Positive</td>\n",
       "      <td>1</td>\n",
       "    </tr>\n",
       "    <tr>\n",
       "      <th>9</th>\n",
       "      <td>56</td>\n",
       "      <td>Male</td>\n",
       "      <td>Yes</td>\n",
       "      <td>No</td>\n",
       "      <td>Yes</td>\n",
       "      <td>Yes</td>\n",
       "      <td>No</td>\n",
       "      <td>Yes</td>\n",
       "      <td>No</td>\n",
       "      <td>Yes</td>\n",
       "      <td>Yes</td>\n",
       "      <td>No</td>\n",
       "      <td>No</td>\n",
       "      <td>No</td>\n",
       "      <td>Yes</td>\n",
       "      <td>No</td>\n",
       "      <td>Positive</td>\n",
       "      <td>1</td>\n",
       "    </tr>\n",
       "  </tbody>\n",
       "</table>\n",
       "</div>"
      ],
      "text/plain": [
       "   Age  Gender Increased Urination Increased Thirst Sudden Weight Loss  \\\n",
       "0   45    Male                  No               No                 No   \n",
       "1   42    Male                  No               No                 No   \n",
       "2   45    Male                 Yes              Yes                 No   \n",
       "3   59  Female                  No               No                 No   \n",
       "4   40  Female                 Yes              Yes                Yes   \n",
       "5   72    Male                 Yes               No                 No   \n",
       "6   43    Male                  No               No                 No   \n",
       "7   57    Male                 Yes              Yes                Yes   \n",
       "8   37    Male                  No               No                 No   \n",
       "9   56    Male                 Yes               No                Yes   \n",
       "\n",
       "  Weakness Increased Hunger Genital Thrush Visual Blurring Itching  \\\n",
       "0      Yes               No             No              No     Yes   \n",
       "1       No               No             No              No      No   \n",
       "2      Yes               No            Yes              No      No   \n",
       "3       No               No             No              No      No   \n",
       "4      Yes               No             No             Yes     Yes   \n",
       "5       No              Yes             No             Yes     Yes   \n",
       "6      Yes               No            Yes              No     Yes   \n",
       "7      Yes              Yes             No             Yes      No   \n",
       "8      Yes               No             No              No      No   \n",
       "9      Yes               No            Yes              No     Yes   \n",
       "\n",
       "  Irritability Delayed Healing Partial Paresis Muscle Stiffness Hair Loss  \\\n",
       "0           No              No             Yes               No       Yes   \n",
       "1           No              No              No               No       Yes   \n",
       "2           No             Yes              No               No       Yes   \n",
       "3           No              No              No               No        No   \n",
       "4           No              No             Yes              Yes        No   \n",
       "5           No             Yes             Yes              Yes       Yes   \n",
       "6           No             Yes              No               No       Yes   \n",
       "7           No              No             Yes               No        No   \n",
       "8           No             Yes              No               No       Yes   \n",
       "9          Yes              No              No               No       Yes   \n",
       "\n",
       "  Obesity Diagnosis  Family History  \n",
       "0      No  Negative               0  \n",
       "1      No  Negative               0  \n",
       "2      No  Positive               0  \n",
       "3      No  Positive               1  \n",
       "4      No  Positive               0  \n",
       "5      No  Negative               0  \n",
       "6      No  Negative               1  \n",
       "7      No  Positive               0  \n",
       "8      No  Positive               1  \n",
       "9      No  Positive               1  "
      ]
     },
     "execution_count": 1,
     "metadata": {},
     "output_type": "execute_result"
    }
   ],
   "source": [
    "import pandas as pd\n",
    "import numpy as np\n",
    "from pathlib import Path\n",
    "import random\n",
    "import matplotlib.pyplot as plt\n",
    "from sklearn.preprocessing import StandardScaler\n",
    "import functions as f\n",
    "%load_ext autoreload\n",
    "\n",
    "file = Path.cwd().joinpath('HW2_data.csv') # concatenates HW2_data.csv to the current folder that should be the extracted zip folder \n",
    "dataset = pd.read_csv(file)  # load the data and drop the first row that was filled with nans\n",
    "features = ['Age', 'Gender', 'Increased Urination', 'Increased Thirst','Sudden Weight Loss',\n",
    "                       'Weakness','Increased Hunger','Genital Thrush','Visual Blurring','Itching','Irritability',\n",
    "                       'Delayed Healing','Partial Paresis','Muscle Stiffness','Hair Loss','Obesity','Diagnosis','Family History']\n",
    "\n",
    "random.seed(149) #our random seed\n",
    "dataset.head(10) #visualise file"
   ]
  },
  {
   "cell_type": "code",
   "execution_count": 2,
   "metadata": {},
   "outputs": [
    {
     "name": "stdout",
     "output_type": "stream",
     "text": [
      "<class 'pandas.core.frame.DataFrame'>\n",
      "RangeIndex: 565 entries, 0 to 564\n",
      "Data columns (total 18 columns):\n",
      " #   Column               Non-Null Count  Dtype \n",
      "---  ------               --------------  ----- \n",
      " 0   Age                  565 non-null    int64 \n",
      " 1   Gender               565 non-null    object\n",
      " 2   Increased Urination  565 non-null    object\n",
      " 3   Increased Thirst     545 non-null    object\n",
      " 4   Sudden Weight Loss   556 non-null    object\n",
      " 5   Weakness             565 non-null    object\n",
      " 6   Increased Hunger     552 non-null    object\n",
      " 7   Genital Thrush       551 non-null    object\n",
      " 8   Visual Blurring      565 non-null    object\n",
      " 9   Itching              554 non-null    object\n",
      " 10  Irritability         565 non-null    object\n",
      " 11  Delayed Healing      565 non-null    object\n",
      " 12  Partial Paresis      565 non-null    object\n",
      " 13  Muscle Stiffness     550 non-null    object\n",
      " 14  Hair Loss            565 non-null    object\n",
      " 15  Obesity              565 non-null    object\n",
      " 16  Diagnosis            565 non-null    object\n",
      " 17  Family History       565 non-null    int64 \n",
      "dtypes: int64(2), object(16)\n",
      "memory usage: 79.6+ KB\n"
     ]
    }
   ],
   "source": [
    "dataset = dataset.interpolate()\n",
    "dataset.info()"
   ]
  },
  {
   "cell_type": "code",
   "execution_count": 3,
   "metadata": {},
   "outputs": [
    {
     "data": {
      "text/html": [
       "<div>\n",
       "<style scoped>\n",
       "    .dataframe tbody tr th:only-of-type {\n",
       "        vertical-align: middle;\n",
       "    }\n",
       "\n",
       "    .dataframe tbody tr th {\n",
       "        vertical-align: top;\n",
       "    }\n",
       "\n",
       "    .dataframe thead th {\n",
       "        text-align: right;\n",
       "    }\n",
       "</style>\n",
       "<table border=\"1\" class=\"dataframe\">\n",
       "  <thead>\n",
       "    <tr style=\"text-align: right;\">\n",
       "      <th></th>\n",
       "      <th>Age</th>\n",
       "      <th>Gender</th>\n",
       "      <th>Increased Urination</th>\n",
       "      <th>Increased Thirst</th>\n",
       "      <th>Sudden Weight Loss</th>\n",
       "      <th>Weakness</th>\n",
       "      <th>Increased Hunger</th>\n",
       "      <th>Genital Thrush</th>\n",
       "      <th>Visual Blurring</th>\n",
       "      <th>Itching</th>\n",
       "      <th>Irritability</th>\n",
       "      <th>Delayed Healing</th>\n",
       "      <th>Partial Paresis</th>\n",
       "      <th>Muscle Stiffness</th>\n",
       "      <th>Hair Loss</th>\n",
       "      <th>Obesity</th>\n",
       "      <th>Diagnosis</th>\n",
       "      <th>Family History</th>\n",
       "    </tr>\n",
       "  </thead>\n",
       "  <tbody>\n",
       "    <tr>\n",
       "      <th>0</th>\n",
       "      <td>45</td>\n",
       "      <td>1</td>\n",
       "      <td>0</td>\n",
       "      <td>0.0</td>\n",
       "      <td>0.0</td>\n",
       "      <td>1</td>\n",
       "      <td>0.0</td>\n",
       "      <td>0.0</td>\n",
       "      <td>0</td>\n",
       "      <td>1.0</td>\n",
       "      <td>0</td>\n",
       "      <td>0</td>\n",
       "      <td>1</td>\n",
       "      <td>0.0</td>\n",
       "      <td>1</td>\n",
       "      <td>0</td>\n",
       "      <td>0</td>\n",
       "      <td>0</td>\n",
       "    </tr>\n",
       "    <tr>\n",
       "      <th>1</th>\n",
       "      <td>42</td>\n",
       "      <td>1</td>\n",
       "      <td>0</td>\n",
       "      <td>0.0</td>\n",
       "      <td>0.0</td>\n",
       "      <td>0</td>\n",
       "      <td>0.0</td>\n",
       "      <td>0.0</td>\n",
       "      <td>0</td>\n",
       "      <td>0.0</td>\n",
       "      <td>0</td>\n",
       "      <td>0</td>\n",
       "      <td>0</td>\n",
       "      <td>0.0</td>\n",
       "      <td>1</td>\n",
       "      <td>0</td>\n",
       "      <td>0</td>\n",
       "      <td>0</td>\n",
       "    </tr>\n",
       "    <tr>\n",
       "      <th>2</th>\n",
       "      <td>45</td>\n",
       "      <td>1</td>\n",
       "      <td>1</td>\n",
       "      <td>1.0</td>\n",
       "      <td>0.0</td>\n",
       "      <td>1</td>\n",
       "      <td>0.0</td>\n",
       "      <td>1.0</td>\n",
       "      <td>0</td>\n",
       "      <td>0.0</td>\n",
       "      <td>0</td>\n",
       "      <td>1</td>\n",
       "      <td>0</td>\n",
       "      <td>0.0</td>\n",
       "      <td>1</td>\n",
       "      <td>0</td>\n",
       "      <td>1</td>\n",
       "      <td>0</td>\n",
       "    </tr>\n",
       "    <tr>\n",
       "      <th>3</th>\n",
       "      <td>59</td>\n",
       "      <td>0</td>\n",
       "      <td>0</td>\n",
       "      <td>0.0</td>\n",
       "      <td>0.0</td>\n",
       "      <td>0</td>\n",
       "      <td>0.0</td>\n",
       "      <td>0.0</td>\n",
       "      <td>0</td>\n",
       "      <td>0.0</td>\n",
       "      <td>0</td>\n",
       "      <td>0</td>\n",
       "      <td>0</td>\n",
       "      <td>0.0</td>\n",
       "      <td>0</td>\n",
       "      <td>0</td>\n",
       "      <td>1</td>\n",
       "      <td>1</td>\n",
       "    </tr>\n",
       "    <tr>\n",
       "      <th>4</th>\n",
       "      <td>40</td>\n",
       "      <td>0</td>\n",
       "      <td>1</td>\n",
       "      <td>1.0</td>\n",
       "      <td>1.0</td>\n",
       "      <td>1</td>\n",
       "      <td>0.0</td>\n",
       "      <td>0.0</td>\n",
       "      <td>1</td>\n",
       "      <td>1.0</td>\n",
       "      <td>0</td>\n",
       "      <td>0</td>\n",
       "      <td>1</td>\n",
       "      <td>1.0</td>\n",
       "      <td>0</td>\n",
       "      <td>0</td>\n",
       "      <td>1</td>\n",
       "      <td>0</td>\n",
       "    </tr>\n",
       "    <tr>\n",
       "      <th>5</th>\n",
       "      <td>72</td>\n",
       "      <td>1</td>\n",
       "      <td>1</td>\n",
       "      <td>0.0</td>\n",
       "      <td>0.0</td>\n",
       "      <td>0</td>\n",
       "      <td>1.0</td>\n",
       "      <td>0.0</td>\n",
       "      <td>1</td>\n",
       "      <td>1.0</td>\n",
       "      <td>0</td>\n",
       "      <td>1</td>\n",
       "      <td>1</td>\n",
       "      <td>1.0</td>\n",
       "      <td>1</td>\n",
       "      <td>0</td>\n",
       "      <td>0</td>\n",
       "      <td>0</td>\n",
       "    </tr>\n",
       "    <tr>\n",
       "      <th>6</th>\n",
       "      <td>43</td>\n",
       "      <td>1</td>\n",
       "      <td>0</td>\n",
       "      <td>0.0</td>\n",
       "      <td>0.0</td>\n",
       "      <td>1</td>\n",
       "      <td>0.0</td>\n",
       "      <td>1.0</td>\n",
       "      <td>0</td>\n",
       "      <td>1.0</td>\n",
       "      <td>0</td>\n",
       "      <td>1</td>\n",
       "      <td>0</td>\n",
       "      <td>0.0</td>\n",
       "      <td>1</td>\n",
       "      <td>0</td>\n",
       "      <td>0</td>\n",
       "      <td>1</td>\n",
       "    </tr>\n",
       "    <tr>\n",
       "      <th>7</th>\n",
       "      <td>57</td>\n",
       "      <td>1</td>\n",
       "      <td>1</td>\n",
       "      <td>1.0</td>\n",
       "      <td>1.0</td>\n",
       "      <td>1</td>\n",
       "      <td>1.0</td>\n",
       "      <td>0.0</td>\n",
       "      <td>1</td>\n",
       "      <td>0.0</td>\n",
       "      <td>0</td>\n",
       "      <td>0</td>\n",
       "      <td>1</td>\n",
       "      <td>0.0</td>\n",
       "      <td>0</td>\n",
       "      <td>0</td>\n",
       "      <td>1</td>\n",
       "      <td>0</td>\n",
       "    </tr>\n",
       "    <tr>\n",
       "      <th>8</th>\n",
       "      <td>37</td>\n",
       "      <td>1</td>\n",
       "      <td>0</td>\n",
       "      <td>0.0</td>\n",
       "      <td>0.0</td>\n",
       "      <td>1</td>\n",
       "      <td>0.0</td>\n",
       "      <td>0.0</td>\n",
       "      <td>0</td>\n",
       "      <td>0.0</td>\n",
       "      <td>0</td>\n",
       "      <td>1</td>\n",
       "      <td>0</td>\n",
       "      <td>0.0</td>\n",
       "      <td>1</td>\n",
       "      <td>0</td>\n",
       "      <td>1</td>\n",
       "      <td>1</td>\n",
       "    </tr>\n",
       "    <tr>\n",
       "      <th>9</th>\n",
       "      <td>56</td>\n",
       "      <td>1</td>\n",
       "      <td>1</td>\n",
       "      <td>0.0</td>\n",
       "      <td>1.0</td>\n",
       "      <td>1</td>\n",
       "      <td>0.0</td>\n",
       "      <td>1.0</td>\n",
       "      <td>0</td>\n",
       "      <td>1.0</td>\n",
       "      <td>1</td>\n",
       "      <td>0</td>\n",
       "      <td>0</td>\n",
       "      <td>0.0</td>\n",
       "      <td>1</td>\n",
       "      <td>0</td>\n",
       "      <td>1</td>\n",
       "      <td>1</td>\n",
       "    </tr>\n",
       "  </tbody>\n",
       "</table>\n",
       "</div>"
      ],
      "text/plain": [
       "   Age  Gender  Increased Urination  Increased Thirst  Sudden Weight Loss  \\\n",
       "0   45       1                    0               0.0                 0.0   \n",
       "1   42       1                    0               0.0                 0.0   \n",
       "2   45       1                    1               1.0                 0.0   \n",
       "3   59       0                    0               0.0                 0.0   \n",
       "4   40       0                    1               1.0                 1.0   \n",
       "5   72       1                    1               0.0                 0.0   \n",
       "6   43       1                    0               0.0                 0.0   \n",
       "7   57       1                    1               1.0                 1.0   \n",
       "8   37       1                    0               0.0                 0.0   \n",
       "9   56       1                    1               0.0                 1.0   \n",
       "\n",
       "   Weakness  Increased Hunger  Genital Thrush  Visual Blurring  Itching  \\\n",
       "0         1               0.0             0.0                0      1.0   \n",
       "1         0               0.0             0.0                0      0.0   \n",
       "2         1               0.0             1.0                0      0.0   \n",
       "3         0               0.0             0.0                0      0.0   \n",
       "4         1               0.0             0.0                1      1.0   \n",
       "5         0               1.0             0.0                1      1.0   \n",
       "6         1               0.0             1.0                0      1.0   \n",
       "7         1               1.0             0.0                1      0.0   \n",
       "8         1               0.0             0.0                0      0.0   \n",
       "9         1               0.0             1.0                0      1.0   \n",
       "\n",
       "   Irritability  Delayed Healing  Partial Paresis  Muscle Stiffness  \\\n",
       "0             0                0                1               0.0   \n",
       "1             0                0                0               0.0   \n",
       "2             0                1                0               0.0   \n",
       "3             0                0                0               0.0   \n",
       "4             0                0                1               1.0   \n",
       "5             0                1                1               1.0   \n",
       "6             0                1                0               0.0   \n",
       "7             0                0                1               0.0   \n",
       "8             0                1                0               0.0   \n",
       "9             1                0                0               0.0   \n",
       "\n",
       "   Hair Loss  Obesity  Diagnosis  Family History  \n",
       "0          1        0          0               0  \n",
       "1          1        0          0               0  \n",
       "2          1        0          1               0  \n",
       "3          0        0          1               1  \n",
       "4          0        0          1               0  \n",
       "5          1        0          0               0  \n",
       "6          1        0          0               1  \n",
       "7          0        0          1               0  \n",
       "8          1        0          1               1  \n",
       "9          1        0          1               1  "
      ]
     },
     "execution_count": 3,
     "metadata": {},
     "output_type": "execute_result"
    }
   ],
   "source": [
    "def make_data_binary(data):\n",
    "    binary = data.copy()\n",
    "    ''' \n",
    "    We have changed the values from string to the binary ones, it will be easier for us \n",
    "    to work with the data.\n",
    "    Female = 0, Male = 1.\n",
    "    Yes = 1, No = 0\n",
    "    Positive = 1, Negative = 0\n",
    "    '''\n",
    "    binary = binary.replace('Female',0).replace('Male',1).replace('No',0).replace('Yes',1).replace('Positive',1).replace('Negative',0)\n",
    "    return binary.dropna() #we see in the data we have nan values. We have dropped them.\n",
    "\n",
    "data = make_data_binary(dataset)\n",
    "diag_state = data[[\"Diagnosis\"]]\n",
    "data.head(10) #visualize data after binarization"
   ]
  },
  {
   "cell_type": "code",
   "execution_count": 4,
   "metadata": {},
   "outputs": [
    {
     "name": "stdout",
     "output_type": "stream",
     "text": [
      "NAN pecent in feature Age  =  0.00%\n",
      "NAN pecent in feature Gender  =  0.00%\n",
      "NAN pecent in feature Increased Urination  =  0.00%\n",
      "NAN pecent in feature Increased Thirst  =  3.54%\n",
      "NAN pecent in feature Sudden Weight Loss  =  1.59%\n",
      "NAN pecent in feature Weakness  =  0.00%\n",
      "NAN pecent in feature Increased Hunger  =  2.30%\n",
      "NAN pecent in feature Genital Thrush  =  2.48%\n",
      "NAN pecent in feature Visual Blurring  =  0.00%\n",
      "NAN pecent in feature Itching  =  1.95%\n",
      "NAN pecent in feature Irritability  =  0.00%\n",
      "NAN pecent in feature Delayed Healing  =  0.00%\n",
      "NAN pecent in feature Partial Paresis  =  0.00%\n",
      "NAN pecent in feature Muscle Stiffness  =  2.65%\n",
      "NAN pecent in feature Hair Loss  =  0.00%\n",
      "NAN pecent in feature Obesity  =  0.00%\n",
      "NAN pecent in feature Diagnosis  =  0.00%\n",
      "NAN pecent in feature Family History  =  0.00%\n"
     ]
    }
   ],
   "source": [
    "df = dataset.copy()\n",
    "df = df.replace('Female',0).replace('Male',1).replace('No',0).replace('Yes',1).replace('Positive',1).replace('Negative',0)\n",
    "isna = np.zeros(len(df.keys()))\n",
    "percent_nan = np.zeros(len(df.keys()))\n",
    "for i,feat in enumerate(df.keys()):\n",
    "    isna[i] = df[feat].isna().sum()\n",
    "    percent_nan[i] = 100*(isna[i]/len(df[feat]))\n",
    "    print('NAN pecent in feature {}  =  {:.02f}%'.format(feat,percent_nan[i]))"
   ]
  },
  {
   "cell_type": "code",
   "execution_count": 5,
   "metadata": {},
   "outputs": [
    {
     "data": {
      "image/png": "[encoded data removed]",
      "text/plain": [
       "<Figure size 432x288 with 1 Axes>"
      ]
     },
     "metadata": {
      "needs_background": "light"
     },
     "output_type": "display_data"
    },
    {
     "name": "stdout",
     "output_type": "stream",
     "text": [
      "Negative samples account for 38.62% of the data.\n",
      "Positive samples account for 61.38% of the data.\n"
     ]
    }
   ],
   "source": [
    "import matplotlib.pyplot as plt\n",
    "import seaborn as sns\n",
    "\n",
    "g = sns.countplot(x = 'Diagnosis', data = diag_state)\n",
    "g.set(xticklabels=['Negative','Positive'])\n",
    "plt.show()\n",
    "idx_1 = (diag_state == 1).index[(diag_state == 1)['Diagnosis'] == True].tolist() # positive\n",
    "idx_2 = (diag_state == 0).index[(diag_state == 0)['Diagnosis'] == True].tolist() # negative\n",
    "print(\"Negative samples account for \" + str(\"{0:.2f}\".format(100 * len(idx_2) / len(diag_state))) + \"% of the data.\")\n",
    "print(\"Positive samples account for \" + str(\"{0:.2f}\".format(100 * len(idx_1) / len(diag_state))) + \"% of the data.\")"
   ]
  },
  {
   "cell_type": "code",
   "execution_count": 6,
   "metadata": {},
   "outputs": [
    {
     "data": {
      "image/png": "[encoded data removed]",
      "text/plain": [
       "<Figure size 432x288 with 1 Axes>"
      ]
     },
     "metadata": {
      "needs_background": "light"
     },
     "output_type": "display_data"
    }
   ],
   "source": [
    "bins = 100\n",
    "feat = 'Age'\n",
    "plt.hist(dataset[feat].loc[idx_2], bins, density=True, alpha=0.5, label='Negative')\n",
    "plt.hist(dataset[feat].loc[idx_1], bins, density=True, alpha=0.5, label='Positive')\n",
    "plt.xlabel('Age')\n",
    "plt.ylabel('Probabilty')\n",
    "plt.legend(loc='upper right')\n",
    "plt.show()"
   ]
  },
  {
   "cell_type": "code",
   "execution_count": 7,
   "metadata": {},
   "outputs": [
    {
     "name": "stderr",
     "output_type": "stream",
     "text": [
      "C:\\Users\\Valeriia Kravchik\\anaconda3\\envs\\bm-336546-hw2\\lib\\site-packages\\seaborn\\distributions.py:2551: FutureWarning: `distplot` is a deprecated function and will be removed in a future version. Please adapt your code to use either `displot` (a figure-level function with similar flexibility) or `histplot` (an axes-level function for histograms).\n",
      "  warnings.warn(msg, FutureWarning)\n",
      "C:\\Users\\Valeriia Kravchik\\anaconda3\\envs\\bm-336546-hw2\\lib\\site-packages\\seaborn\\distributions.py:2551: FutureWarning: `distplot` is a deprecated function and will be removed in a future version. Please adapt your code to use either `displot` (a figure-level function with similar flexibility) or `histplot` (an axes-level function for histograms).\n",
      "  warnings.warn(msg, FutureWarning)\n",
      "C:\\Users\\Valeriia Kravchik\\anaconda3\\envs\\bm-336546-hw2\\lib\\site-packages\\seaborn\\distributions.py:2551: FutureWarning: `distplot` is a deprecated function and will be removed in a future version. Please adapt your code to use either `displot` (a figure-level function with similar flexibility) or `histplot` (an axes-level function for histograms).\n",
      "  warnings.warn(msg, FutureWarning)\n",
      "C:\\Users\\Valeriia Kravchik\\anaconda3\\envs\\bm-336546-hw2\\lib\\site-packages\\seaborn\\distributions.py:2551: FutureWarning: `distplot` is a deprecated function and will be removed in a future version. Please adapt your code to use either `displot` (a figure-level function with similar flexibility) or `histplot` (an axes-level function for histograms).\n",
      "  warnings.warn(msg, FutureWarning)\n"
     ]
    },
    {
     "data": {
      "image/png": "[encoded data removed]",
      "text/plain": [
       "<Figure size 720x288 with 2 Axes>"
      ]
     },
     "metadata": {
      "needs_background": "light"
     },
     "output_type": "display_data"
    }
   ],
   "source": [
    "Positive = 'Positive'\n",
    "Negative = 'Negative'\n",
    "fig, axes = plt.subplots(nrows=1, ncols=2,figsize=(10, 4))\n",
    "women = data[data['Gender']==1]\n",
    "men = data[data['Gender']==0]\n",
    "ax = sns.distplot(women[women['Diagnosis']==1].Age.dropna(), bins=18, label = Positive, ax = axes[0], kde =False)\n",
    "ax = sns.distplot(women[women['Diagnosis']==0].Age.dropna(), bins=40, label = Negative, ax = axes[0], kde =False)\n",
    "ax.legend()\n",
    "ax.set_title('Female')\n",
    "ax = sns.distplot(men[men['Diagnosis']==1].Age.dropna(), bins=18, label = Positive, ax = axes[1], kde = False)\n",
    "ax = sns.distplot(men[men['Diagnosis']==0].Age.dropna(), bins=40, label = Negative, ax = axes[1], kde = False)\n",
    "ax.legend()\n",
    "_ = ax.set_title('Male')"
   ]
  },
  {
   "cell_type": "code",
   "execution_count": 8,
   "metadata": {},
   "outputs": [
    {
     "data": {
      "image/png": "[encoded data removed]",
      "text/plain": [
       "<Figure size 1440x1080 with 15 Axes>"
      ]
     },
     "metadata": {
      "needs_background": "light"
     },
     "output_type": "display_data"
    }
   ],
   "source": [
    "fig, axs = plt.subplots(3,5, figsize=(20,15))\n",
    "axs = axs.ravel()\n",
    "for i, feat in enumerate(dataset.keys()):\n",
    "    if feat== 'Age' or feat =='Diagnosis' or feat == 'Family History': \n",
    "        continue\n",
    "    sns.countplot(x = dataset[feat], hue = dataset['Diagnosis'], ax = axs[i-1])\n",
    "plt.tight_layout()\n",
    "plt.show()"
   ]
  },
  {
   "cell_type": "code",
   "execution_count": 9,
   "metadata": {},
   "outputs": [
    {
     "name": "stderr",
     "output_type": "stream",
     "text": [
      "C:\\Users\\Valeriia Kravchik\\anaconda3\\envs\\bm-336546-hw2\\lib\\site-packages\\seaborn\\axisgrid.py:316: UserWarning: The `size` parameter has been renamed to `height`; please update your code.\n",
      "  warnings.warn(msg, UserWarning)\n"
     ]
    },
    {
     "data": {
      "image/png": "[encoded data removed]",
      "text/plain": [
       "<Figure size 514.88x158.4 with 2 Axes>"
      ]
     },
     "metadata": {
      "needs_background": "light"
     },
     "output_type": "display_data"
    }
   ],
   "source": [
    "grid = sns.FacetGrid(data, col='Diagnosis', size=2.2, aspect=1.6)\n",
    "grid.map(plt.hist, 'Age', alpha=.5, bins=20)\n",
    "grid.add_legend();"
   ]
  },
  {
   "cell_type": "code",
   "execution_count": 10,
   "metadata": {},
   "outputs": [
    {
     "name": "stderr",
     "output_type": "stream",
     "text": [
      "C:\\Users\\Valeriia Kravchik\\anaconda3\\envs\\bm-336546-hw2\\lib\\site-packages\\seaborn\\axisgrid.py:316: UserWarning: The `size` parameter has been renamed to `height`; please update your code.\n",
      "  warnings.warn(msg, UserWarning)\n"
     ]
    },
    {
     "data": {
      "image/png": "[encoded data removed]",
      "text/plain": [
       "<Figure size 514.88x316.8 with 4 Axes>"
      ]
     },
     "metadata": {
      "needs_background": "light"
     },
     "output_type": "display_data"
    }
   ],
   "source": [
    "grid = sns.FacetGrid(data, col='Diagnosis', row='Family History', size=2.2, aspect=1.6)\n",
    "grid.map(plt.hist, 'Age', alpha=.5, bins=20)\n",
    "grid.add_legend();"
   ]
  },
  {
   "cell_type": "code",
   "execution_count": 11,
   "metadata": {},
   "outputs": [
    {
     "data": {
      "image/png": "[encoded data removed]",
      "text/plain": [
       "<Figure size 432x288 with 1 Axes>"
      ]
     },
     "metadata": {
      "needs_background": "light"
     },
     "output_type": "display_data"
    }
   ],
   "source": [
    "ax = sns.violinplot(x=data['Weakness'], y=data['Age'], hue=\"Gender\",\n",
    "                    data=dataset, palette=\"Set2\", split=True,\n",
    "                    scale=\"count\")"
   ]
  },
  {
   "cell_type": "code",
   "execution_count": 40,
   "metadata": {},
   "outputs": [],
   "source": [
    "from sklearn import metrics\n",
    "from sklearn.model_selection import train_test_split\n",
    "from sklearn.linear_model import LogisticRegression\n",
    "\n",
    "orig_feat = data.columns.values.tolist()\n",
    "orig_feat.remove('Diagnosis')\n",
    "X_train, X_test, y_train, y_test = train_test_split(data, np.ravel(diag_state), test_size=0.2, random_state=10, stratify=np.ravel(diag_state))\n",
    "                                              "
   ]
  },
  {
   "cell_type": "code",
   "execution_count": 41,
   "metadata": {},
   "outputs": [
    {
     "data": {
      "text/html": [
       "<div>\n",
       "<style scoped>\n",
       "    .dataframe tbody tr th:only-of-type {\n",
       "        vertical-align: middle;\n",
       "    }\n",
       "\n",
       "    .dataframe tbody tr th {\n",
       "        vertical-align: top;\n",
       "    }\n",
       "\n",
       "    .dataframe thead th {\n",
       "        text-align: right;\n",
       "    }\n",
       "</style>\n",
       "<table border=\"1\" class=\"dataframe\">\n",
       "  <thead>\n",
       "    <tr style=\"text-align: right;\">\n",
       "      <th></th>\n",
       "      <th>Train%</th>\n",
       "      <th>Test%</th>\n",
       "      <th>Delta%</th>\n",
       "    </tr>\n",
       "  </thead>\n",
       "  <tbody>\n",
       "    <tr>\n",
       "      <th>Gender</th>\n",
       "      <td>61.483254</td>\n",
       "      <td>69.523810</td>\n",
       "      <td>-8.040556</td>\n",
       "    </tr>\n",
       "    <tr>\n",
       "      <th>Increased Urination</th>\n",
       "      <td>50.478469</td>\n",
       "      <td>45.714286</td>\n",
       "      <td>4.764183</td>\n",
       "    </tr>\n",
       "    <tr>\n",
       "      <th>Increased Thirst</th>\n",
       "      <td>46.172249</td>\n",
       "      <td>38.095238</td>\n",
       "      <td>8.077011</td>\n",
       "    </tr>\n",
       "    <tr>\n",
       "      <th>Sudden Weight Loss</th>\n",
       "      <td>41.626794</td>\n",
       "      <td>40.952381</td>\n",
       "      <td>0.674413</td>\n",
       "    </tr>\n",
       "    <tr>\n",
       "      <th>Weakness</th>\n",
       "      <td>58.133971</td>\n",
       "      <td>60.000000</td>\n",
       "      <td>-1.866029</td>\n",
       "    </tr>\n",
       "    <tr>\n",
       "      <th>Increased Hunger</th>\n",
       "      <td>46.650718</td>\n",
       "      <td>40.952381</td>\n",
       "      <td>5.698337</td>\n",
       "    </tr>\n",
       "    <tr>\n",
       "      <th>Genital Thrush</th>\n",
       "      <td>20.334928</td>\n",
       "      <td>29.523810</td>\n",
       "      <td>-9.188881</td>\n",
       "    </tr>\n",
       "    <tr>\n",
       "      <th>Visual Blurring</th>\n",
       "      <td>45.933014</td>\n",
       "      <td>39.047619</td>\n",
       "      <td>6.885395</td>\n",
       "    </tr>\n",
       "    <tr>\n",
       "      <th>Itching</th>\n",
       "      <td>49.521531</td>\n",
       "      <td>44.761905</td>\n",
       "      <td>4.759626</td>\n",
       "    </tr>\n",
       "    <tr>\n",
       "      <th>Irritability</th>\n",
       "      <td>24.641148</td>\n",
       "      <td>22.857143</td>\n",
       "      <td>1.784005</td>\n",
       "    </tr>\n",
       "    <tr>\n",
       "      <th>Delayed Healing</th>\n",
       "      <td>47.846890</td>\n",
       "      <td>38.095238</td>\n",
       "      <td>9.751652</td>\n",
       "    </tr>\n",
       "    <tr>\n",
       "      <th>Partial Paresis</th>\n",
       "      <td>43.779904</td>\n",
       "      <td>39.047619</td>\n",
       "      <td>4.732285</td>\n",
       "    </tr>\n",
       "    <tr>\n",
       "      <th>Muscle Stiffness</th>\n",
       "      <td>37.559809</td>\n",
       "      <td>36.190476</td>\n",
       "      <td>1.369332</td>\n",
       "    </tr>\n",
       "    <tr>\n",
       "      <th>Hair Loss</th>\n",
       "      <td>34.928230</td>\n",
       "      <td>33.333333</td>\n",
       "      <td>1.594896</td>\n",
       "    </tr>\n",
       "    <tr>\n",
       "      <th>Obesity</th>\n",
       "      <td>17.224880</td>\n",
       "      <td>15.238095</td>\n",
       "      <td>1.986785</td>\n",
       "    </tr>\n",
       "    <tr>\n",
       "      <th>Family History</th>\n",
       "      <td>49.760766</td>\n",
       "      <td>55.238095</td>\n",
       "      <td>-5.477330</td>\n",
       "    </tr>\n",
       "  </tbody>\n",
       "</table>\n",
       "</div>"
      ],
      "text/plain": [
       "                        Train%      Test%    Delta%\n",
       "Gender               61.483254  69.523810 -8.040556\n",
       "Increased Urination  50.478469  45.714286  4.764183\n",
       "Increased Thirst     46.172249  38.095238  8.077011\n",
       "Sudden Weight Loss   41.626794  40.952381  0.674413\n",
       "Weakness             58.133971  60.000000 -1.866029\n",
       "Increased Hunger     46.650718  40.952381  5.698337\n",
       "Genital Thrush       20.334928  29.523810 -9.188881\n",
       "Visual Blurring      45.933014  39.047619  6.885395\n",
       "Itching              49.521531  44.761905  4.759626\n",
       "Irritability         24.641148  22.857143  1.784005\n",
       "Delayed Healing      47.846890  38.095238  9.751652\n",
       "Partial Paresis      43.779904  39.047619  4.732285\n",
       "Muscle Stiffness     37.559809  36.190476  1.369332\n",
       "Hair Loss            34.928230  33.333333  1.594896\n",
       "Obesity              17.224880  15.238095  1.986785\n",
       "Family History       49.760766  55.238095 -5.477330"
      ]
     },
     "execution_count": 41,
     "metadata": {},
     "output_type": "execute_result"
    }
   ],
   "source": [
    "percent_train,feat = f.find_distribution(X_train,features)\n",
    "percent_test,_ = f.find_distribution(X_test,features)\n",
    "delta = -(percent_test-percent_train)\n",
    "a = np.array([percent_train,percent_test,delta]).T\n",
    "\n",
    "distribution = pd.DataFrame(a,columns = ['Train%','Test%','Delta%'], index = feat )\n",
    "distribution.head(16)"
   ]
  },
  {
   "cell_type": "code",
   "execution_count": 55,
   "metadata": {},
   "outputs": [],
   "source": [
    "# Categorical boolean mask\n",
    "categorical_feature_mask = dataset.dtypes==object \n",
    "# filter categorical columns using mask and turn it into a list\n",
    "categorical_cols = dataset.dropna().columns[categorical_feature_mask].tolist()\n",
    "# import labelencoder\n",
    "from sklearn.preprocessing import LabelEncoder\n",
    "# instantiate labelencoder object\n",
    "le = LabelEncoder()\n",
    "d = dataset.dropna().copy() #drop nan's\n",
    "# apply le on categorical feature columns\n",
    "d[categorical_cols] = d[categorical_cols].apply(lambda col: le.fit_transform(col.astype(str)))"
   ]
  },
  {
   "cell_type": "code",
   "execution_count": 56,
   "metadata": {},
   "outputs": [],
   "source": [
    "# import OneHotEncoder\n",
    "from sklearn.preprocessing import OneHotEncoder\n",
    "# instantiate OneHotEncoder\n",
    "ohe = OneHotEncoder( sparse=False ) \n",
    "# apply OneHotEncoder on categorical feature columns\n",
    "X_ohe = ohe.fit_transform(d.drop('Age', axis=1)) # drop Age and Diagnosis"
   ]
  },
  {
   "cell_type": "code",
   "execution_count": 57,
   "metadata": {},
   "outputs": [],
   "source": [
    "dd = dataset.dropna()['Age'].values\n",
    "dd = np.reshape(dd,(1, dd.size))\n",
    "X_ohe = np.concatenate((dd.T,X_ohe), axis = 1)\n",
    "X = np.delete(X_ohe,32,0)"
   ]
  },
  {
   "cell_type": "code",
   "execution_count": 58,
   "metadata": {},
   "outputs": [],
   "source": [
    "X1 = np.delete(X,31,0).T #drop diagnosis\n",
    "Age =  X_ohe[:,0]\n",
    "mu = np.mean(Age)\n",
    "std = np.std(Age)\n",
    "Age -=mu\n",
    "Age/=std\n",
    "age = np.array([Age])\n",
    "X2 = np.concatenate((age.T, X_ohe[:,1:-1]),axis=1)"
   ]
  },
  {
   "cell_type": "code",
   "execution_count": 59,
   "metadata": {},
   "outputs": [
    {
     "name": "stdout",
     "output_type": "stream",
     "text": [
      "Accuracy is: 100.00%\n",
      "F1 score is: 100.00%\n"
     ]
    }
   ],
   "source": [
    "\n",
    "# X_train, X_test, y_train, y_test = train_test_split(X2, d[\"Diagnosis\"], test_size=0.2, random_state=10, stratify =d[\"Diagnosis\"] )\n",
    "X_train, X_test, y_train, y_test = train_test_split(X2, d['Diagnosis'], test_size=0.2, random_state=10, stratify =d['Diagnosis'] )\n",
    "logreg = LogisticRegression(solver='saga', multi_class='ovr', penalty='l2', max_iter=10000)\n",
    "logreg.fit(X_train,y_train)\n",
    "y_pred_log = logreg.predict(X_test)\n",
    "w_log = logreg.coef_\n",
    "\n",
    "print(\"Accuracy is: \" + str(\"{0:.2f}\".format(100 * metrics.accuracy_score(y_test, y_pred_log))) + \"%\")\n",
    "print(\"F1 score is: \" + str(\"{0:.2f}\".format(100 * metrics.f1_score(y_test, y_pred_log, average='macro'))) + \"%\")                                                    "
   ]
  },
  {
   "cell_type": "code",
   "execution_count": 60,
   "metadata": {},
   "outputs": [
    {
     "data": {
      "text/plain": [
       "(418, 34)"
      ]
     },
     "execution_count": 60,
     "metadata": {},
     "output_type": "execute_result"
    }
   ],
   "source": [
    "X_train.shape"
   ]
  },
  {
   "cell_type": "code",
   "execution_count": 37,
   "metadata": {},
   "outputs": [],
   "source": [
    "C = [0.001, 0.01, 0.1, 1, 10, 100]\n",
    "val_dict_logreg = f.cv_kfold_logreg(X_train,y_train,C=C,penalty=['l1','l2'],K=5)"
   ]
  },
  {
   "cell_type": "code",
   "execution_count": 38,
   "metadata": {},
   "outputs": [
    {
     "data": {
      "image/png": "[encoded data removed]",
      "text/plain": [
       "<Figure size 432x288 with 1 Axes>"
      ]
     },
     "metadata": {
      "needs_background": "light"
     },
     "output_type": "display_data"
    }
   ],
   "source": [
    "f.prob_curves(val_dict_logreg,flag = 'logreg')"
   ]
  },
  {
   "cell_type": "code",
   "execution_count": 39,
   "metadata": {},
   "outputs": [
    {
     "name": "stdout",
     "output_type": "stream",
     "text": [
      "Fitting 5 folds for each of 12 candidates, totalling 60 fits\n",
      "[CV] classifier=LogisticRegression(), classifier__C=0.001, classifier__penalty=l1, classifier__solver=liblinear \n",
      "[CV]  classifier=LogisticRegression(), classifier__C=0.001, classifier__penalty=l1, classifier__solver=liblinear, roc_auc=(train=0.536, test=0.626), total=   0.0s\n",
      "[CV] classifier=LogisticRegression(), classifier__C=0.001, classifier__penalty=l1, classifier__solver=liblinear \n",
      "[CV]  classifier=LogisticRegression(), classifier__C=0.001, classifier__penalty=l1, classifier__solver=liblinear, roc_auc=(train=0.565, test=0.512), total=   0.0s\n",
      "[CV] classifier=LogisticRegression(), classifier__C=0.001, classifier__penalty=l1, classifier__solver=liblinear \n",
      "[CV]  classifier=LogisticRegression(), classifier__C=0.001, classifier__penalty=l1, classifier__solver=liblinear, roc_auc=(train=0.552, test=0.563), total=   0.0s\n",
      "[CV] classifier=LogisticRegression(), classifier__C=0.001, classifier__penalty=l1, classifier__solver=liblinear \n",
      "[CV]  classifier=LogisticRegression(), classifier__C=0.001, classifier__penalty=l1, classifier__solver=liblinear, roc_auc=(train=0.547, test=0.576), total=   0.0s\n",
      "[CV] classifier=LogisticRegression(), classifier__C=0.001, classifier__penalty=l1, classifier__solver=liblinear \n",
      "[CV]  classifier=LogisticRegression(), classifier__C=0.001, classifier__penalty=l1, classifier__solver=liblinear, roc_auc=(train=0.571, test=0.494), total=   0.0s\n",
      "[CV] classifier=LogisticRegression(), classifier__C=0.001, classifier__penalty=l2, classifier__solver=liblinear \n",
      "[CV]  classifier=LogisticRegression(), classifier__C=0.001, classifier__penalty=l2, classifier__solver=liblinear, roc_auc=(train=0.941, test=0.927), total=   0.0s\n",
      "[CV] classifier=LogisticRegression(), classifier__C=0.001, classifier__penalty=l2, classifier__solver=liblinear \n",
      "[CV]  classifier=LogisticRegression(), classifier__C=0.001, classifier__penalty=l2, classifier__solver=liblinear, roc_auc=(train=0.915, test=0.914), total=   0.0s\n",
      "[CV] classifier=LogisticRegression(), classifier__C=0.001, classifier__penalty=l2, classifier__solver=liblinear \n",
      "[CV]  classifier=LogisticRegression(), classifier__C=0.001, classifier__penalty=l2, classifier__solver=liblinear, roc_auc=(train=0.918, test=0.939), total=   0.0s\n",
      "[CV] classifier=LogisticRegression(), classifier__C=0.001, classifier__penalty=l2, classifier__solver=liblinear \n",
      "[CV]  classifier=LogisticRegression(), classifier__C=0.001, classifier__penalty=l2, classifier__solver=liblinear, roc_auc=(train=0.917, test=0.934), total=   0.0s\n",
      "[CV] classifier=LogisticRegression(), classifier__C=0.001, classifier__penalty=l2, classifier__solver=liblinear \n",
      "[CV]  classifier=LogisticRegression(), classifier__C=0.001, classifier__penalty=l2, classifier__solver=liblinear, roc_auc=(train=0.918, test=0.903), total=   0.0s\n",
      "[CV] classifier=LogisticRegression(), classifier__C=0.01, classifier__penalty=l1, classifier__solver=liblinear \n",
      "[CV]  classifier=LogisticRegression(), classifier__C=0.01, classifier__penalty=l1, classifier__solver=liblinear, roc_auc=(train=0.536, test=0.626), total=   0.0s\n",
      "[CV] classifier=LogisticRegression(), classifier__C=0.01, classifier__penalty=l1, classifier__solver=liblinear \n",
      "[CV]  classifier=LogisticRegression(), classifier__C=0.01, classifier__penalty=l1, classifier__solver=liblinear, roc_auc=(train=0.565, test=0.512), total=   0.0s\n",
      "[CV] classifier=LogisticRegression(), classifier__C=0.01, classifier__penalty=l1, classifier__solver=liblinear \n",
      "[CV]  classifier=LogisticRegression(), classifier__C=0.01, classifier__penalty=l1, classifier__solver=liblinear, roc_auc=(train=0.552, test=0.563), total=   0.0s\n",
      "[CV] classifier=LogisticRegression(), classifier__C=0.01, classifier__penalty=l1, classifier__solver=liblinear \n",
      "[CV]  classifier=LogisticRegression(), classifier__C=0.01, classifier__penalty=l1, classifier__solver=liblinear, roc_auc=(train=0.547, test=0.576), total=   0.0s\n",
      "[CV] classifier=LogisticRegression(), classifier__C=0.01, classifier__penalty=l1, classifier__solver=liblinear \n",
      "[CV]  classifier=LogisticRegression(), classifier__C=0.01, classifier__penalty=l1, classifier__solver=liblinear, roc_auc=(train=0.571, test=0.494), total=   0.0s\n",
      "[CV] classifier=LogisticRegression(), classifier__C=0.01, classifier__penalty=l2, classifier__solver=liblinear \n",
      "[CV]  classifier=LogisticRegression(), classifier__C=0.01, classifier__penalty=l2, classifier__solver=liblinear, roc_auc=(train=0.999, test=0.996), total=   0.0s\n",
      "[CV] classifier=LogisticRegression(), classifier__C=0.01, classifier__penalty=l2, classifier__solver=liblinear \n",
      "[CV]  classifier=LogisticRegression(), classifier__C=0.01, classifier__penalty=l2, classifier__solver=liblinear, roc_auc=(train=0.998, test=0.999), total=   0.0s\n",
      "[CV] classifier=LogisticRegression(), classifier__C=0.01, classifier__penalty=l2, classifier__solver=liblinear \n",
      "[CV]  classifier=LogisticRegression(), classifier__C=0.01, classifier__penalty=l2, classifier__solver=liblinear, roc_auc=(train=0.999, test=0.999), total=   0.0s\n",
      "[CV] classifier=LogisticRegression(), classifier__C=0.01, classifier__penalty=l2, classifier__solver=liblinear \n",
      "[CV]  classifier=LogisticRegression(), classifier__C=0.01, classifier__penalty=l2, classifier__solver=liblinear, roc_auc=(train=0.999, test=1.000), total=   0.0s\n",
      "[CV] classifier=LogisticRegression(), classifier__C=0.01, classifier__penalty=l2, classifier__solver=liblinear \n",
      "[CV]  classifier=LogisticRegression(), classifier__C=0.01, classifier__penalty=l2, classifier__solver=liblinear, roc_auc=(train=0.998, test=0.998), total=   0.0s\n",
      "[CV] classifier=LogisticRegression(), classifier__C=0.1, classifier__penalty=l1, classifier__solver=liblinear \n",
      "[CV]  classifier=LogisticRegression(), classifier__C=0.1, classifier__penalty=l1, classifier__solver=liblinear, roc_auc=(train=1.000, test=1.000), total=   0.0s\n",
      "[CV] classifier=LogisticRegression(), classifier__C=0.1, classifier__penalty=l1, classifier__solver=liblinear \n",
      "[CV]  classifier=LogisticRegression(), classifier__C=0.1, classifier__penalty=l1, classifier__solver=liblinear, roc_auc=(train=1.000, test=1.000), total=   0.0s\n",
      "[CV] classifier=LogisticRegression(), classifier__C=0.1, classifier__penalty=l1, classifier__solver=liblinear \n",
      "[CV]  classifier=LogisticRegression(), classifier__C=0.1, classifier__penalty=l1, classifier__solver=liblinear, roc_auc=(train=1.000, test=1.000), total=   0.0s\n",
      "[CV] classifier=LogisticRegression(), classifier__C=0.1, classifier__penalty=l1, classifier__solver=liblinear \n",
      "[CV]  classifier=LogisticRegression(), classifier__C=0.1, classifier__penalty=l1, classifier__solver=liblinear, roc_auc=(train=1.000, test=1.000), total=   0.0s\n",
      "[CV] classifier=LogisticRegression(), classifier__C=0.1, classifier__penalty=l1, classifier__solver=liblinear \n",
      "[CV]  classifier=LogisticRegression(), classifier__C=0.1, classifier__penalty=l1, classifier__solver=liblinear, roc_auc=(train=1.000, test=1.000), total=   0.0s\n",
      "[CV] classifier=LogisticRegression(), classifier__C=0.1, classifier__penalty=l2, classifier__solver=liblinear \n",
      "[CV]  classifier=LogisticRegression(), classifier__C=0.1, classifier__penalty=l2, classifier__solver=liblinear, roc_auc=(train=1.000, test=1.000), total=   0.0s\n",
      "[CV] classifier=LogisticRegression(), classifier__C=0.1, classifier__penalty=l2, classifier__solver=liblinear \n",
      "[CV]  classifier=LogisticRegression(), classifier__C=0.1, classifier__penalty=l2, classifier__solver=liblinear, roc_auc=(train=1.000, test=1.000), total=   0.0s\n",
      "[CV] classifier=LogisticRegression(), classifier__C=0.1, classifier__penalty=l2, classifier__solver=liblinear \n",
      "[CV]  classifier=LogisticRegression(), classifier__C=0.1, classifier__penalty=l2, classifier__solver=liblinear, roc_auc=(train=1.000, test=1.000), total=   0.0s\n",
      "[CV] classifier=LogisticRegression(), classifier__C=0.1, classifier__penalty=l2, classifier__solver=liblinear \n",
      "[CV]  classifier=LogisticRegression(), classifier__C=0.1, classifier__penalty=l2, classifier__solver=liblinear, roc_auc=(train=1.000, test=1.000), total=   0.0s\n",
      "[CV] classifier=LogisticRegression(), classifier__C=0.1, classifier__penalty=l2, classifier__solver=liblinear \n",
      "[CV]  classifier=LogisticRegression(), classifier__C=0.1, classifier__penalty=l2, classifier__solver=liblinear, roc_auc=(train=1.000, test=1.000), total=   0.0s\n",
      "[CV] classifier=LogisticRegression(), classifier__C=1, classifier__penalty=l1, classifier__solver=liblinear \n",
      "[CV]  classifier=LogisticRegression(), classifier__C=1, classifier__penalty=l1, classifier__solver=liblinear, roc_auc=(train=1.000, test=1.000), total=   0.0s\n",
      "[CV] classifier=LogisticRegression(), classifier__C=1, classifier__penalty=l1, classifier__solver=liblinear \n",
      "[CV]  classifier=LogisticRegression(), classifier__C=1, classifier__penalty=l1, classifier__solver=liblinear, roc_auc=(train=1.000, test=1.000), total=   0.0s\n",
      "[CV] classifier=LogisticRegression(), classifier__C=1, classifier__penalty=l1, classifier__solver=liblinear \n"
     ]
    },
    {
     "name": "stderr",
     "output_type": "stream",
     "text": [
      "[Parallel(n_jobs=1)]: Using backend SequentialBackend with 1 concurrent workers.\n",
      "[Parallel(n_jobs=1)]: Done   1 out of   1 | elapsed:    0.0s remaining:    0.0s\n",
      "[Parallel(n_jobs=1)]: Done   2 out of   2 | elapsed:    0.0s remaining:    0.0s\n"
     ]
    },
    {
     "name": "stdout",
     "output_type": "stream",
     "text": [
      "[CV]  classifier=LogisticRegression(), classifier__C=1, classifier__penalty=l1, classifier__solver=liblinear, roc_auc=(train=1.000, test=1.000), total=   0.0s\n",
      "[CV] classifier=LogisticRegression(), classifier__C=1, classifier__penalty=l1, classifier__solver=liblinear \n",
      "[CV]  classifier=LogisticRegression(), classifier__C=1, classifier__penalty=l1, classifier__solver=liblinear, roc_auc=(train=1.000, test=1.000), total=   0.0s\n",
      "[CV] classifier=LogisticRegression(), classifier__C=1, classifier__penalty=l1, classifier__solver=liblinear \n",
      "[CV]  classifier=LogisticRegression(), classifier__C=1, classifier__penalty=l1, classifier__solver=liblinear, roc_auc=(train=1.000, test=1.000), total=   0.0s\n",
      "[CV] classifier=LogisticRegression(), classifier__C=1, classifier__penalty=l2, classifier__solver=liblinear \n",
      "[CV]  classifier=LogisticRegression(), classifier__C=1, classifier__penalty=l2, classifier__solver=liblinear, roc_auc=(train=1.000, test=1.000), total=   0.0s\n",
      "[CV] classifier=LogisticRegression(), classifier__C=1, classifier__penalty=l2, classifier__solver=liblinear \n",
      "[CV]  classifier=LogisticRegression(), classifier__C=1, classifier__penalty=l2, classifier__solver=liblinear, roc_auc=(train=1.000, test=1.000), total=   0.0s\n",
      "[CV] classifier=LogisticRegression(), classifier__C=1, classifier__penalty=l2, classifier__solver=liblinear \n",
      "[CV]  classifier=LogisticRegression(), classifier__C=1, classifier__penalty=l2, classifier__solver=liblinear, roc_auc=(train=1.000, test=1.000), total=   0.0s\n",
      "[CV] classifier=LogisticRegression(), classifier__C=1, classifier__penalty=l2, classifier__solver=liblinear \n",
      "[CV]  classifier=LogisticRegression(), classifier__C=1, classifier__penalty=l2, classifier__solver=liblinear, roc_auc=(train=1.000, test=1.000), total=   0.0s\n",
      "[CV] classifier=LogisticRegression(), classifier__C=1, classifier__penalty=l2, classifier__solver=liblinear \n",
      "[CV]  classifier=LogisticRegression(), classifier__C=1, classifier__penalty=l2, classifier__solver=liblinear, roc_auc=(train=1.000, test=1.000), total=   0.0s\n",
      "[CV] classifier=LogisticRegression(), classifier__C=10, classifier__penalty=l1, classifier__solver=liblinear \n",
      "[CV]  classifier=LogisticRegression(), classifier__C=10, classifier__penalty=l1, classifier__solver=liblinear, roc_auc=(train=1.000, test=1.000), total=   0.0s\n",
      "[CV] classifier=LogisticRegression(), classifier__C=10, classifier__penalty=l1, classifier__solver=liblinear \n",
      "[CV]  classifier=LogisticRegression(), classifier__C=10, classifier__penalty=l1, classifier__solver=liblinear, roc_auc=(train=1.000, test=1.000), total=   0.0s\n",
      "[CV] classifier=LogisticRegression(), classifier__C=10, classifier__penalty=l1, classifier__solver=liblinear \n",
      "[CV]  classifier=LogisticRegression(), classifier__C=10, classifier__penalty=l1, classifier__solver=liblinear, roc_auc=(train=1.000, test=1.000), total=   0.0s\n",
      "[CV] classifier=LogisticRegression(), classifier__C=10, classifier__penalty=l1, classifier__solver=liblinear \n",
      "[CV]  classifier=LogisticRegression(), classifier__C=10, classifier__penalty=l1, classifier__solver=liblinear, roc_auc=(train=1.000, test=1.000), total=   0.0s\n",
      "[CV] classifier=LogisticRegression(), classifier__C=10, classifier__penalty=l1, classifier__solver=liblinear \n",
      "[CV]  classifier=LogisticRegression(), classifier__C=10, classifier__penalty=l1, classifier__solver=liblinear, roc_auc=(train=1.000, test=1.000), total=   0.0s\n",
      "[CV] classifier=LogisticRegression(), classifier__C=10, classifier__penalty=l2, classifier__solver=liblinear \n",
      "[CV]  classifier=LogisticRegression(), classifier__C=10, classifier__penalty=l2, classifier__solver=liblinear, roc_auc=(train=1.000, test=1.000), total=   0.0s\n",
      "[CV] classifier=LogisticRegression(), classifier__C=10, classifier__penalty=l2, classifier__solver=liblinear \n",
      "[CV]  classifier=LogisticRegression(), classifier__C=10, classifier__penalty=l2, classifier__solver=liblinear, roc_auc=(train=1.000, test=1.000), total=   0.0s\n",
      "[CV] classifier=LogisticRegression(), classifier__C=10, classifier__penalty=l2, classifier__solver=liblinear \n",
      "[CV]  classifier=LogisticRegression(), classifier__C=10, classifier__penalty=l2, classifier__solver=liblinear, roc_auc=(train=1.000, test=1.000), total=   0.0s\n",
      "[CV] classifier=LogisticRegression(), classifier__C=10, classifier__penalty=l2, classifier__solver=liblinear \n",
      "[CV]  classifier=LogisticRegression(), classifier__C=10, classifier__penalty=l2, classifier__solver=liblinear, roc_auc=(train=1.000, test=1.000), total=   0.0s\n",
      "[CV] classifier=LogisticRegression(), classifier__C=10, classifier__penalty=l2, classifier__solver=liblinear \n",
      "[CV]  classifier=LogisticRegression(), classifier__C=10, classifier__penalty=l2, classifier__solver=liblinear, roc_auc=(train=1.000, test=1.000), total=   0.0s\n",
      "[CV] classifier=LogisticRegression(), classifier__C=100, classifier__penalty=l1, classifier__solver=liblinear \n",
      "[CV]  classifier=LogisticRegression(), classifier__C=100, classifier__penalty=l1, classifier__solver=liblinear, roc_auc=(train=1.000, test=1.000), total=   0.0s\n",
      "[CV] classifier=LogisticRegression(), classifier__C=100, classifier__penalty=l1, classifier__solver=liblinear \n",
      "[CV]  classifier=LogisticRegression(), classifier__C=100, classifier__penalty=l1, classifier__solver=liblinear, roc_auc=(train=1.000, test=1.000), total=   0.0s\n",
      "[CV] classifier=LogisticRegression(), classifier__C=100, classifier__penalty=l1, classifier__solver=liblinear \n",
      "[CV]  classifier=LogisticRegression(), classifier__C=100, classifier__penalty=l1, classifier__solver=liblinear, roc_auc=(train=1.000, test=1.000), total=   0.0s\n",
      "[CV] classifier=LogisticRegression(), classifier__C=100, classifier__penalty=l1, classifier__solver=liblinear \n",
      "[CV]  classifier=LogisticRegression(), classifier__C=100, classifier__penalty=l1, classifier__solver=liblinear, roc_auc=(train=1.000, test=1.000), total=   0.0s\n",
      "[CV] classifier=LogisticRegression(), classifier__C=100, classifier__penalty=l1, classifier__solver=liblinear \n",
      "[CV]  classifier=LogisticRegression(), classifier__C=100, classifier__penalty=l1, classifier__solver=liblinear, roc_auc=(train=1.000, test=1.000), total=   0.0s\n",
      "[CV] classifier=LogisticRegression(), classifier__C=100, classifier__penalty=l2, classifier__solver=liblinear \n",
      "[CV]  classifier=LogisticRegression(), classifier__C=100, classifier__penalty=l2, classifier__solver=liblinear, roc_auc=(train=1.000, test=1.000), total=   0.0s\n",
      "[CV] classifier=LogisticRegression(), classifier__C=100, classifier__penalty=l2, classifier__solver=liblinear \n",
      "[CV]  classifier=LogisticRegression(), classifier__C=100, classifier__penalty=l2, classifier__solver=liblinear, roc_auc=(train=1.000, test=1.000), total=   0.0s\n",
      "[CV] classifier=LogisticRegression(), classifier__C=100, classifier__penalty=l2, classifier__solver=liblinear \n",
      "[CV]  classifier=LogisticRegression(), classifier__C=100, classifier__penalty=l2, classifier__solver=liblinear, roc_auc=(train=1.000, test=1.000), total=   0.0s\n",
      "[CV] classifier=LogisticRegression(), classifier__C=100, classifier__penalty=l2, classifier__solver=liblinear \n",
      "[CV]  classifier=LogisticRegression(), classifier__C=100, classifier__penalty=l2, classifier__solver=liblinear, roc_auc=(train=1.000, test=1.000), total=   0.0s\n",
      "[CV] classifier=LogisticRegression(), classifier__C=100, classifier__penalty=l2, classifier__solver=liblinear \n",
      "[CV]  classifier=LogisticRegression(), classifier__C=100, classifier__penalty=l2, classifier__solver=liblinear, roc_auc=(train=1.000, test=1.000), total=   0.0s\n"
     ]
    },
    {
     "name": "stderr",
     "output_type": "stream",
     "text": [
      "[Parallel(n_jobs=1)]: Done  60 out of  60 | elapsed:    0.2s finished\n"
     ]
    },
    {
     "ename": "IndexError",
     "evalue": "positional indexers are out-of-bounds",
     "output_type": "error",
     "traceback": [
      "\u001b[1;31m---------------------------------------------------------------------------\u001b[0m",
      "\u001b[1;31mIndexError\u001b[0m                                Traceback (most recent call last)",
      "\u001b[1;32m~\\anaconda3\\envs\\bm-336546-hw2\\lib\\site-packages\\pandas\\core\\indexing.py\u001b[0m in \u001b[0;36m_get_list_axis\u001b[1;34m(self, key, axis)\u001b[0m\n\u001b[0;32m   1468\u001b[0m         \u001b[1;32mtry\u001b[0m\u001b[1;33m:\u001b[0m\u001b[1;33m\u001b[0m\u001b[1;33m\u001b[0m\u001b[0m\n\u001b[1;32m-> 1469\u001b[1;33m             \u001b[1;32mreturn\u001b[0m \u001b[0mself\u001b[0m\u001b[1;33m.\u001b[0m\u001b[0mobj\u001b[0m\u001b[1;33m.\u001b[0m\u001b[0m_take_with_is_copy\u001b[0m\u001b[1;33m(\u001b[0m\u001b[0mkey\u001b[0m\u001b[1;33m,\u001b[0m \u001b[0maxis\u001b[0m\u001b[1;33m=\u001b[0m\u001b[0maxis\u001b[0m\u001b[1;33m)\u001b[0m\u001b[1;33m\u001b[0m\u001b[1;33m\u001b[0m\u001b[0m\n\u001b[0m\u001b[0;32m   1470\u001b[0m         \u001b[1;32mexcept\u001b[0m \u001b[0mIndexError\u001b[0m \u001b[1;32mas\u001b[0m \u001b[0merr\u001b[0m\u001b[1;33m:\u001b[0m\u001b[1;33m\u001b[0m\u001b[1;33m\u001b[0m\u001b[0m\n",
      "\u001b[1;32m~\\anaconda3\\envs\\bm-336546-hw2\\lib\\site-packages\\pandas\\core\\series.py\u001b[0m in \u001b[0;36m_take_with_is_copy\u001b[1;34m(self, indices, axis)\u001b[0m\n\u001b[0;32m    846\u001b[0m         \"\"\"\n\u001b[1;32m--> 847\u001b[1;33m         \u001b[1;32mreturn\u001b[0m \u001b[0mself\u001b[0m\u001b[1;33m.\u001b[0m\u001b[0mtake\u001b[0m\u001b[1;33m(\u001b[0m\u001b[0mindices\u001b[0m\u001b[1;33m=\u001b[0m\u001b[0mindices\u001b[0m\u001b[1;33m,\u001b[0m \u001b[0maxis\u001b[0m\u001b[1;33m=\u001b[0m\u001b[0maxis\u001b[0m\u001b[1;33m)\u001b[0m\u001b[1;33m\u001b[0m\u001b[1;33m\u001b[0m\u001b[0m\n\u001b[0m\u001b[0;32m    848\u001b[0m \u001b[1;33m\u001b[0m\u001b[0m\n",
      "\u001b[1;32m~\\anaconda3\\envs\\bm-336546-hw2\\lib\\site-packages\\pandas\\core\\series.py\u001b[0m in \u001b[0;36mtake\u001b[1;34m(self, indices, axis, is_copy, **kwargs)\u001b[0m\n\u001b[0;32m    831\u001b[0m         \u001b[0mindices\u001b[0m \u001b[1;33m=\u001b[0m \u001b[0mensure_platform_int\u001b[0m\u001b[1;33m(\u001b[0m\u001b[0mindices\u001b[0m\u001b[1;33m)\u001b[0m\u001b[1;33m\u001b[0m\u001b[1;33m\u001b[0m\u001b[0m\n\u001b[1;32m--> 832\u001b[1;33m         \u001b[0mnew_index\u001b[0m \u001b[1;33m=\u001b[0m \u001b[0mself\u001b[0m\u001b[1;33m.\u001b[0m\u001b[0mindex\u001b[0m\u001b[1;33m.\u001b[0m\u001b[0mtake\u001b[0m\u001b[1;33m(\u001b[0m\u001b[0mindices\u001b[0m\u001b[1;33m)\u001b[0m\u001b[1;33m\u001b[0m\u001b[1;33m\u001b[0m\u001b[0m\n\u001b[0m\u001b[0;32m    833\u001b[0m         \u001b[0mnew_values\u001b[0m \u001b[1;33m=\u001b[0m \u001b[0mself\u001b[0m\u001b[1;33m.\u001b[0m\u001b[0m_values\u001b[0m\u001b[1;33m.\u001b[0m\u001b[0mtake\u001b[0m\u001b[1;33m(\u001b[0m\u001b[0mindices\u001b[0m\u001b[1;33m)\u001b[0m\u001b[1;33m\u001b[0m\u001b[1;33m\u001b[0m\u001b[0m\n",
      "\u001b[1;32m~\\anaconda3\\envs\\bm-336546-hw2\\lib\\site-packages\\pandas\\core\\indexes\\base.py\u001b[0m in \u001b[0;36mtake\u001b[1;34m(self, indices, axis, allow_fill, fill_value, **kwargs)\u001b[0m\n\u001b[0;32m    719\u001b[0m                 )\n\u001b[1;32m--> 720\u001b[1;33m             \u001b[0mtaken\u001b[0m \u001b[1;33m=\u001b[0m \u001b[0mself\u001b[0m\u001b[1;33m.\u001b[0m\u001b[0m_values\u001b[0m\u001b[1;33m.\u001b[0m\u001b[0mtake\u001b[0m\u001b[1;33m(\u001b[0m\u001b[0mindices\u001b[0m\u001b[1;33m)\u001b[0m\u001b[1;33m\u001b[0m\u001b[1;33m\u001b[0m\u001b[0m\n\u001b[0m\u001b[0;32m    721\u001b[0m         \u001b[1;32mreturn\u001b[0m \u001b[0mself\u001b[0m\u001b[1;33m.\u001b[0m\u001b[0m_shallow_copy\u001b[0m\u001b[1;33m(\u001b[0m\u001b[0mtaken\u001b[0m\u001b[1;33m)\u001b[0m\u001b[1;33m\u001b[0m\u001b[1;33m\u001b[0m\u001b[0m\n",
      "\u001b[1;31mIndexError\u001b[0m: index 334 is out of bounds for axis 0 with size 334",
      "\nThe above exception was the direct cause of the following exception:\n",
      "\u001b[1;31mIndexError\u001b[0m                                Traceback (most recent call last)",
      "\u001b[1;32m<ipython-input-39-482b3eec951f>\u001b[0m in \u001b[0;36m<module>\u001b[1;34m\u001b[0m\n\u001b[0;32m     16\u001b[0m \u001b[1;32mfor\u001b[0m \u001b[0mtrain_idx\u001b[0m\u001b[1;33m,\u001b[0m \u001b[0mval_idx\u001b[0m \u001b[1;32min\u001b[0m \u001b[0mkf\u001b[0m\u001b[1;33m.\u001b[0m\u001b[0msplit\u001b[0m\u001b[1;33m(\u001b[0m\u001b[0mX_train\u001b[0m\u001b[1;33m,\u001b[0m \u001b[0my_train\u001b[0m\u001b[1;33m)\u001b[0m\u001b[1;33m:\u001b[0m\u001b[1;33m\u001b[0m\u001b[1;33m\u001b[0m\u001b[0m\n\u001b[0;32m     17\u001b[0m     \u001b[0mx_train\u001b[0m\u001b[1;33m,\u001b[0m \u001b[0mx_val\u001b[0m \u001b[1;33m=\u001b[0m \u001b[0mX_train\u001b[0m\u001b[1;33m[\u001b[0m\u001b[0mtrain_idx\u001b[0m\u001b[1;33m]\u001b[0m\u001b[1;33m,\u001b[0m \u001b[0mX_train\u001b[0m\u001b[1;33m[\u001b[0m\u001b[0mval_idx\u001b[0m\u001b[1;33m]\u001b[0m\u001b[1;33m\u001b[0m\u001b[1;33m\u001b[0m\u001b[0m\n\u001b[1;32m---> 18\u001b[1;33m     \u001b[0my_train\u001b[0m\u001b[1;33m,\u001b[0m \u001b[0my_val\u001b[0m \u001b[1;33m=\u001b[0m \u001b[0my_train\u001b[0m\u001b[1;33m.\u001b[0m\u001b[0miloc\u001b[0m\u001b[1;33m[\u001b[0m\u001b[0mtrain_idx\u001b[0m\u001b[1;33m]\u001b[0m\u001b[1;33m,\u001b[0m \u001b[0my_train\u001b[0m\u001b[1;33m.\u001b[0m\u001b[0miloc\u001b[0m\u001b[1;33m[\u001b[0m\u001b[0mval_idx\u001b[0m\u001b[1;33m]\u001b[0m\u001b[1;33m\u001b[0m\u001b[1;33m\u001b[0m\u001b[0m\n\u001b[0m\u001b[0;32m     19\u001b[0m     \u001b[0mlogreg\u001b[0m\u001b[1;33m.\u001b[0m\u001b[0mfit\u001b[0m\u001b[1;33m(\u001b[0m\u001b[0mx_train\u001b[0m\u001b[1;33m,\u001b[0m \u001b[0my_train\u001b[0m\u001b[1;33m)\u001b[0m\u001b[1;33m\u001b[0m\u001b[1;33m\u001b[0m\u001b[0m\n\u001b[0;32m     20\u001b[0m     \u001b[0my_pred\u001b[0m \u001b[1;33m=\u001b[0m \u001b[0mlogreg\u001b[0m\u001b[1;33m.\u001b[0m\u001b[0mpredict_proba\u001b[0m\u001b[1;33m(\u001b[0m\u001b[0mx_val\u001b[0m\u001b[1;33m)\u001b[0m\u001b[1;33m\u001b[0m\u001b[1;33m\u001b[0m\u001b[0m\n",
      "\u001b[1;32m~\\anaconda3\\envs\\bm-336546-hw2\\lib\\site-packages\\pandas\\core\\indexing.py\u001b[0m in \u001b[0;36m__getitem__\u001b[1;34m(self, key)\u001b[0m\n\u001b[0;32m    877\u001b[0m \u001b[1;33m\u001b[0m\u001b[0m\n\u001b[0;32m    878\u001b[0m             \u001b[0mmaybe_callable\u001b[0m \u001b[1;33m=\u001b[0m \u001b[0mcom\u001b[0m\u001b[1;33m.\u001b[0m\u001b[0mapply_if_callable\u001b[0m\u001b[1;33m(\u001b[0m\u001b[0mkey\u001b[0m\u001b[1;33m,\u001b[0m \u001b[0mself\u001b[0m\u001b[1;33m.\u001b[0m\u001b[0mobj\u001b[0m\u001b[1;33m)\u001b[0m\u001b[1;33m\u001b[0m\u001b[1;33m\u001b[0m\u001b[0m\n\u001b[1;32m--> 879\u001b[1;33m             \u001b[1;32mreturn\u001b[0m \u001b[0mself\u001b[0m\u001b[1;33m.\u001b[0m\u001b[0m_getitem_axis\u001b[0m\u001b[1;33m(\u001b[0m\u001b[0mmaybe_callable\u001b[0m\u001b[1;33m,\u001b[0m \u001b[0maxis\u001b[0m\u001b[1;33m=\u001b[0m\u001b[0maxis\u001b[0m\u001b[1;33m)\u001b[0m\u001b[1;33m\u001b[0m\u001b[1;33m\u001b[0m\u001b[0m\n\u001b[0m\u001b[0;32m    880\u001b[0m \u001b[1;33m\u001b[0m\u001b[0m\n\u001b[0;32m    881\u001b[0m     \u001b[1;32mdef\u001b[0m \u001b[0m_is_scalar_access\u001b[0m\u001b[1;33m(\u001b[0m\u001b[0mself\u001b[0m\u001b[1;33m,\u001b[0m \u001b[0mkey\u001b[0m\u001b[1;33m:\u001b[0m \u001b[0mTuple\u001b[0m\u001b[1;33m)\u001b[0m\u001b[1;33m:\u001b[0m\u001b[1;33m\u001b[0m\u001b[1;33m\u001b[0m\u001b[0m\n",
      "\u001b[1;32m~\\anaconda3\\envs\\bm-336546-hw2\\lib\\site-packages\\pandas\\core\\indexing.py\u001b[0m in \u001b[0;36m_getitem_axis\u001b[1;34m(self, key, axis)\u001b[0m\n\u001b[0;32m   1485\u001b[0m         \u001b[1;31m# a list of integers\u001b[0m\u001b[1;33m\u001b[0m\u001b[1;33m\u001b[0m\u001b[1;33m\u001b[0m\u001b[0m\n\u001b[0;32m   1486\u001b[0m         \u001b[1;32melif\u001b[0m \u001b[0mis_list_like_indexer\u001b[0m\u001b[1;33m(\u001b[0m\u001b[0mkey\u001b[0m\u001b[1;33m)\u001b[0m\u001b[1;33m:\u001b[0m\u001b[1;33m\u001b[0m\u001b[1;33m\u001b[0m\u001b[0m\n\u001b[1;32m-> 1487\u001b[1;33m             \u001b[1;32mreturn\u001b[0m \u001b[0mself\u001b[0m\u001b[1;33m.\u001b[0m\u001b[0m_get_list_axis\u001b[0m\u001b[1;33m(\u001b[0m\u001b[0mkey\u001b[0m\u001b[1;33m,\u001b[0m \u001b[0maxis\u001b[0m\u001b[1;33m=\u001b[0m\u001b[0maxis\u001b[0m\u001b[1;33m)\u001b[0m\u001b[1;33m\u001b[0m\u001b[1;33m\u001b[0m\u001b[0m\n\u001b[0m\u001b[0;32m   1488\u001b[0m \u001b[1;33m\u001b[0m\u001b[0m\n\u001b[0;32m   1489\u001b[0m         \u001b[1;31m# a single integer\u001b[0m\u001b[1;33m\u001b[0m\u001b[1;33m\u001b[0m\u001b[1;33m\u001b[0m\u001b[0m\n",
      "\u001b[1;32m~\\anaconda3\\envs\\bm-336546-hw2\\lib\\site-packages\\pandas\\core\\indexing.py\u001b[0m in \u001b[0;36m_get_list_axis\u001b[1;34m(self, key, axis)\u001b[0m\n\u001b[0;32m   1470\u001b[0m         \u001b[1;32mexcept\u001b[0m \u001b[0mIndexError\u001b[0m \u001b[1;32mas\u001b[0m \u001b[0merr\u001b[0m\u001b[1;33m:\u001b[0m\u001b[1;33m\u001b[0m\u001b[1;33m\u001b[0m\u001b[0m\n\u001b[0;32m   1471\u001b[0m             \u001b[1;31m# re-raise with different error message\u001b[0m\u001b[1;33m\u001b[0m\u001b[1;33m\u001b[0m\u001b[1;33m\u001b[0m\u001b[0m\n\u001b[1;32m-> 1472\u001b[1;33m             \u001b[1;32mraise\u001b[0m \u001b[0mIndexError\u001b[0m\u001b[1;33m(\u001b[0m\u001b[1;34m\"positional indexers are out-of-bounds\"\u001b[0m\u001b[1;33m)\u001b[0m \u001b[1;32mfrom\u001b[0m \u001b[0merr\u001b[0m\u001b[1;33m\u001b[0m\u001b[1;33m\u001b[0m\u001b[0m\n\u001b[0m\u001b[0;32m   1473\u001b[0m \u001b[1;33m\u001b[0m\u001b[0m\n\u001b[0;32m   1474\u001b[0m     \u001b[1;32mdef\u001b[0m \u001b[0m_getitem_axis\u001b[0m\u001b[1;33m(\u001b[0m\u001b[0mself\u001b[0m\u001b[1;33m,\u001b[0m \u001b[0mkey\u001b[0m\u001b[1;33m,\u001b[0m \u001b[0maxis\u001b[0m\u001b[1;33m:\u001b[0m \u001b[0mint\u001b[0m\u001b[1;33m)\u001b[0m\u001b[1;33m:\u001b[0m\u001b[1;33m\u001b[0m\u001b[1;33m\u001b[0m\u001b[0m\n",
      "\u001b[1;31mIndexError\u001b[0m: positional indexers are out-of-bounds"
     ]
    }
   ],
   "source": [
    "# C =  1 #  best result\n",
    "from sklearn.model_selection import GridSearchCV\n",
    "from sklearn.pipeline import Pipeline\n",
    "from sklearn.model_selection import StratifiedKFold as SKFold\n",
    "params = {'classifier' : [LogisticRegression()],\n",
    "     'classifier__penalty' : ['l1', 'l2'],\n",
    "    'classifier__C' : C,\n",
    "    'classifier__solver' : ['liblinear']}\n",
    "pipe = Pipeline([('classifier' , LogisticRegression())])\n",
    "C = [0.001, 0.01, 0.1, 1, 10, 100]\n",
    "kf = SKFold(n_splits=5)\n",
    "logreg = GridSearchCV(estimator=pipe,\n",
    "                       param_grid=params,\n",
    "                       scoring=['roc_auc'],\n",
    "                       cv= kf, refit='roc_auc', verbose=3, return_train_score=True)\n",
    "for train_idx, val_idx in kf.split(X_train, y_train):\n",
    "    x_train, x_val = X_train[train_idx], X_train[val_idx]\n",
    "    y_train, y_val = y_train.iloc[train_idx], y_train.iloc[val_idx]\n",
    "    logreg.fit(x_train, y_train)\n",
    "    y_pred = logreg.predict_proba(x_val)\n",
    "\n",
    "# clf = GridSearchCV(pipe, param_grid = params,scoring=['accuracy', 'f1', 'precision', 'recall', 'roc_auc'], cv = 5, verbose=True, n_jobs=-1)\n",
    "best_logreg = logreg.best_estimator_\n",
    "# best_logreg = LogisticRegression(solver='saga', multi_class='ovr', penalty=penalty, C=C, max_iter=10000)\n",
    "# best_logreg.fit(X_train,y_train)\n",
    "y_pred_logreg =  best_logreg.predict(X_test)\n",
    "y_pred_proba_logreg = best_logreg.predict_proba(X_test)\n",
    "cnf_matrix = metrics.confusion_matrix(y_test, y_pred_logreg)\n",
    "ax1 = plt.subplot(211)\n",
    "sns.heatmap(cnf_matrix, annot=True, xticklabels=['Negative','Positive'], yticklabels=['Negative','Positive'])\n",
    "ax1.set(ylabel='True labels', xlabel='Predicted labels')\n",
    "plt.show()"
   ]
  },
  {
   "cell_type": "code",
   "execution_count": null,
   "metadata": {},
   "outputs": [],
   "source": [
    "f.calc_stat(X_test,y_test,best_logreg)"
   ]
  },
  {
   "cell_type": "code",
   "execution_count": null,
   "metadata": {},
   "outputs": [],
   "source": [
    "# C = [0.001, 0.01, 0.1, 1, 10, 100]\n",
    "C = [100]\n",
    "gamma = [100]\n",
    "# val_dict_linear_svm = f.cv_kfold_logreg(X_train,y_train,C=C,penalty=['-'],K=5)\n",
    "y_pred_svm_lin, svm_lin = f.cv_kfold_svm(X_train,y_train,C=C,K=5,gamma=gamma,flag = 'linear')\n",
    "best_svm_lin = svm_lin.best_estimator_"
   ]
  },
  {
   "cell_type": "code",
   "execution_count": null,
   "metadata": {},
   "outputs": [],
   "source": [
    "y_pred_svm_lin_best =  best_svm_lin.predict(X_test)\n",
    "y_pred_proba_svm_lin_best = best_svm_lin.predict_proba(X_test)\n",
    "cnf_matrix = metrics.confusion_matrix(y_test, y_pred_svm_lin_best)\n",
    "ax1 = plt.subplot(211)\n",
    "sns.heatmap(cnf_matrix, annot=True, xticklabels=['Negative','Positive'], yticklabels=['Negative','Positive'])\n",
    "ax1.set(ylabel='True labels', xlabel='Predicted labels')\n",
    "plt.show()\n"
   ]
  },
  {
   "cell_type": "code",
   "execution_count": null,
   "metadata": {},
   "outputs": [],
   "source": [
    "f.calc_stat(X_test,y_test,best_svm_lin)"
   ]
  },
  {
   "cell_type": "code",
   "execution_count": null,
   "metadata": {},
   "outputs": [],
   "source": [
    "# C = [0.001, 0.01, 0.1, 1, 10, 100]\n",
    "C = [10]\n",
    "gamma = [0.1]\n",
    "y_pred_svm_rbf, svm_rbf = f.cv_kfold_svm(X_train,y_train,C=C,K=5,gamma=gamma, flag = 'rbf')\n",
    "best_svm_rbf = svm_rbf.best_estimator_"
   ]
  },
  {
   "cell_type": "code",
   "execution_count": null,
   "metadata": {},
   "outputs": [],
   "source": [
    "y_pred_svm_rbf_best =  best_svm_rbf.predict(X_test)\n",
    "y_pred_proba_svm_rbf_best = best_svm_rbf.predict_proba(X_test)\n",
    "cnf_matrix = metrics.confusion_matrix(y_test, y_pred_svm_rbf_best)\n",
    "ax1 = plt.subplot(211)\n",
    "sns.heatmap(cnf_matrix, annot=True, xticklabels=['Negative','Positive'], yticklabels=['Negative','Positive'])\n",
    "ax1.set(ylabel='True labels', xlabel='Predicted labels')\n",
    "plt.show()"
   ]
  },
  {
   "cell_type": "code",
   "execution_count": null,
   "metadata": {},
   "outputs": [],
   "source": [
    "f.calc_stat(X_test,y_test,best_svm_rbf)"
   ]
  },
  {
   "cell_type": "code",
   "execution_count": null,
   "metadata": {},
   "outputs": [],
   "source": [
    "# C = [0.001, 0.01, 0.1, 1, 10, 100]\n",
    "C = [10]\n",
    "gamma = [0.1]\n",
    "y_pred_svm_poly, svm_poly = f.cv_kfold_svm(X_train,y_train,C=C,K=5,gamma=gamma, flag = 'poly')\n",
    "best_svm_poly = svm_poly.best_estimator_"
   ]
  },
  {
   "cell_type": "code",
   "execution_count": null,
   "metadata": {},
   "outputs": [],
   "source": [
    "y_pred_svm_poly_best =  best_svm_poly.predict(X_test)\n",
    "y_pred_proba_svm_poly_best = best_svm_poly.predict_proba(X_test)\n",
    "cnf_matrix = metrics.confusion_matrix(y_test, y_pred_svm_poly_best)\n",
    "ax1 = plt.subplot(211)\n",
    "sns.heatmap(cnf_matrix, annot=True, xticklabels=['Negative','Positive'], yticklabels=['Negative','Positive'])\n",
    "ax1.set(ylabel='True labels', xlabel='Predicted labels')\n",
    "plt.show()"
   ]
  },
  {
   "cell_type": "code",
   "execution_count": null,
   "metadata": {},
   "outputs": [],
   "source": [
    "f.calc_stat(X_test,y_test,best_svm_poly)"
   ]
  },
  {
   "cell_type": "code",
   "execution_count": null,
   "metadata": {},
   "outputs": [],
   "source": [
    "from sklearn.ensemble import RandomForestClassifier as rfc\n",
    "from sklearn.metrics import roc_auc_score\n",
    "clf = rfc(n_estimators=10)\n",
    "\n",
    "X_train, X_test, y_train, y_test = train_test_split(data.drop(['Diagnosis'],axis=1), np.ravel(diag_state), test_size=0.2, random_state=10, stratify = np.ravel(diag_state) )\n",
    "# X_train, X_test, y_train, y_test = train_test_split(X1, d[\"Diagnosis\"], test_size=0.2, random_state=10, stratify =d[\"Diagnosis\"] )\n",
    "clf.fit(X_train, y_train)\n",
    "y_pred = clf.predict(X_test)\n",
    "y_pred_proba_test = clf.predict_proba(X_test)\n",
    "cnf_matrix = metrics.confusion_matrix(y_test, y_pred)\n",
    "ax = plt.subplot()\n",
    "sns.heatmap(cnf_matrix, annot=True, xticklabels=['Negative', 'Positive'],\n",
    "            yticklabels=['Negative', 'Positive'])\n",
    "ax.set(ylabel='True labels', xlabel='Predicted labels')\n",
    "plt.show()\n",
    "print(\"Accuracy is: \" + str(\"{0:.2f}\".format(100 * metrics.accuracy_score(y_test, y_pred))) + \"%\")\n",
    "print(\"F1 score is: \" + str(\"{0:.2f}\".format(100 * metrics.f1_score(y_test, y_pred, average='macro'))) + \"%\")\n",
    "print('AUC is:  ' + str(\"{0:.02f}\".format(100*roc_auc_score(y_test, y_pred_proba_test[:, 1]))) + '%')"
   ]
  },
  {
   "cell_type": "code",
   "execution_count": 31,
   "metadata": {},
   "outputs": [
    {
     "data": {
      "image/png": "[encoded data removed]",
      "text/plain": [
       "<Figure size 864x432 with 1 Axes>"
      ]
     },
     "metadata": {
      "needs_background": "light"
     },
     "output_type": "display_data"
    }
   ],
   "source": [
    "# print (sorted(zip(map(lambda x: round(x, 4), clf.feature_importances_), orig_feat), \n",
    "#              reverse=True))\n",
    "importances = clf.feature_importances_\n",
    "std = np.std([tree.feature_importances_ for tree in clf.estimators_],\n",
    "             axis=0)\n",
    "indices = np.argsort(importances)[::-1]\n",
    "# for f in range(X_train.shape[1]):\n",
    "#     print(\"%d. feature %d (%f)\" % (f + 1, indices[f], importances[indices[f]]))\n",
    "\n",
    "# Plot the impurity-based feature importances of the forest\n",
    "plt.figure(figsize=(12,6))\n",
    "plt.title(\"Feature importances\")\n",
    "plt.bar(range(X_train.shape[1]), importances[indices],\n",
    "        color=\"r\", align=\"center\")\n",
    "o = np.zeros(len(orig_feat)).tolist()\n",
    "for i,val in enumerate(indices):\n",
    "    o[i] = orig_feat[val]\n",
    "plt.xticks(range(X_train.shape[1]), o)\n",
    "plt.xlim([-1, X_train.shape[1]])\n",
    "plt.xticks(rotation=90)\n",
    "plt.tight_layout()\n",
    "plt.show()"
   ]
  },
  {
   "cell_type": "code",
   "execution_count": 32,
   "metadata": {},
   "outputs": [
    {
     "data": {
      "text/plain": [
       "(565, 2)"
      ]
     },
     "execution_count": 32,
     "metadata": {},
     "output_type": "execute_result"
    },
    {
     "data": {
      "image/png": "[encoded data removed]",
      "text/plain": [
       "<Figure size 576x576 with 1 Axes>"
      ]
     },
     "metadata": {
      "needs_background": "light"
     },
     "output_type": "display_data"
    }
   ],
   "source": [
    "from sklearn.decomposition import PCA\n",
    "pca = PCA(n_components=2)\n",
    "pca.fit(data.drop(['Diagnosis'],axis=1))\n",
    "transform_data = pca.transform(data.drop(['Diagnosis'],axis=1))\n",
    "principalComponents = pca.fit_transform(data.drop(['Diagnosis'],axis=1))\n",
    "principalDf = pd.DataFrame(data = principalComponents\n",
    "             , columns = ['principal component 1', 'principal component 2'])\n",
    "finalDf = pd.concat([principalDf, data[['Diagnosis']]], axis = 1)\n",
    "fig = plt.figure(figsize = (8,8))\n",
    "ax = fig.add_subplot(1,1,1) \n",
    "ax.set_xlabel('Principal Component 1', fontsize = 15)\n",
    "ax.set_ylabel('Principal Component 2', fontsize = 15)\n",
    "ax.set_title('2 component PCA', fontsize = 20)\n",
    "targets = [1,0]\n",
    "colors = ['r', 'g']\n",
    "for target, color in zip(targets,colors):\n",
    "    indicesToKeep = finalDf['Diagnosis'] == target\n",
    "    ax.scatter(finalDf.loc[indicesToKeep, 'principal component 1']\n",
    "               , finalDf.loc[indicesToKeep, 'principal component 2']\n",
    "               , c = color\n",
    "               , s = 50)\n",
    "ax.legend(['Positive','Negative'])\n",
    "ax.grid()\n",
    "principalComponents.shape"
   ]
  },
  {
   "cell_type": "code",
   "execution_count": 41,
   "metadata": {},
   "outputs": [
    {
     "name": "stdout",
     "output_type": "stream",
     "text": [
      "Loss is 0.25. \n",
      "Accuracy is 0.87. \n",
      "F1 is 0.89. \n",
      "AUROC is 0.958\n"
     ]
    }
   ],
   "source": [
    "from sklearn.pipeline import Pipeline\n",
    "X_train, X_test, y_train, y_test = train_test_split(X2, d[\"Diagnosis\"], test_size=0.2, random_state=42,stratify = d[\"Diagnosis\"])\n",
    "log_reg = LogisticRegression()\n",
    "pca = PCA(n_components=2)\n",
    "\n",
    "pipe_pca_logreg = Pipeline(steps=[('pca', pca), ('logistic', log_reg)])\n",
    "pipe_pca_logreg.fit(X_train, y_train)\n",
    "y_pred_pca = pipe_pca_logreg.predict(X_test)\n",
    "f.calc_stat(X_test,y_test,pipe_pca_logreg)\n"
   ]
  },
  {
   "cell_type": "code",
   "execution_count": 49,
   "metadata": {},
   "outputs": [
    {
     "name": "stdout",
     "output_type": "stream",
     "text": [
      "Loss is 0.24. \n",
      "Accuracy is 0.90. \n",
      "F1 is 0.92. \n",
      "AUROC is 0.956\n"
     ]
    }
   ],
   "source": [
    "from sklearn import svm\n",
    "svm_lin = svm.SVC(probability=True,gamma='auto',kernel = 'linear')\n",
    "pca = PCA(n_components=2)\n",
    "pipe_pca_svm_lin = Pipeline(steps=[('pca', pca), ('svm', svm_lin)])\n",
    "pipe_pca_svm_lin.fit(X_train, y_train)\n",
    "y_pred_pca = pipe_pca_svm_lin.predict(X_test)\n",
    "f.calc_stat(X_test,y_test,pipe_pca_svm_lin)"
   ]
  },
  {
   "cell_type": "code",
   "execution_count": 51,
   "metadata": {},
   "outputs": [
    {
     "name": "stdout",
     "output_type": "stream",
     "text": [
      "Loss is 0.24. \n",
      "Accuracy is 0.90. \n",
      "F1 is 0.91. \n",
      "AUROC is 0.957\n"
     ]
    }
   ],
   "source": [
    "svm_rbf = svm.SVC(probability=True,gamma='auto',kernel = 'rbf')\n",
    "pca = PCA(n_components=2)\n",
    "pipe_pca_svm_rbf = Pipeline(steps=[('pca', pca), ('svm', svm_rbf)])\n",
    "pipe_pca_svm_rbf.fit(X_train, y_train)\n",
    "y_pred_pca = pipe_pca_svm_rbf.predict(X_test)\n",
    "f.calc_stat(X_test,y_test,pipe_pca_svm_rbf)"
   ]
  },
  {
   "cell_type": "code",
   "execution_count": 53,
   "metadata": {},
   "outputs": [
    {
     "name": "stdout",
     "output_type": "stream",
     "text": [
      "Loss is 0.26. \n",
      "Accuracy is 0.90. \n",
      "F1 is 0.91. \n",
      "AUROC is 0.972\n"
     ]
    }
   ],
   "source": [
    "svm_poly = svm.SVC(probability=True,gamma='auto',kernel = 'poly')\n",
    "pca = PCA(n_components=2)\n",
    "pipe_pca_svm_poly = Pipeline(steps=[('pca', pca), ('svm', svm_poly)])\n",
    "pipe_pca_svm_poly.fit(X_train, y_train)\n",
    "y_pred_pca = pipe_pca_svm_poly.predict(X_test)\n",
    "f.calc_stat(X_test,y_test,pipe_pca_svm_poly)"
   ]
  },
  {
   "cell_type": "code",
   "execution_count": 66,
   "metadata": {},
   "outputs": [
    {
     "name": "stdout",
     "output_type": "stream",
     "text": [
      "Loss is 0.29. \n",
      "Accuracy is 0.90. \n",
      "F1 is 0.91. \n",
      "AUROC is 0.918\n"
     ]
    }
   ],
   "source": [
    "X3 = dataset.dropna()[['Increased Urination', 'Increased Thirst']]\n",
    "X3n = pd.get_dummies(X3)\n",
    "X_train, X_test, y_train, y_test = train_test_split(X3n, d['Diagnosis'], test_size=0.2, random_state=42,stratify = d['Diagnosis'])\n",
    "log_reg = LogisticRegression()\n",
    "log_reg.fit(X_train,y_train)\n",
    "y_pred_log_reg = log_reg.predict(X_test)\n",
    "f.calc_stat(X_test,y_test,log_reg)"
   ]
  },
  {
   "cell_type": "code",
   "execution_count": 67,
   "metadata": {},
   "outputs": [
    {
     "name": "stdout",
     "output_type": "stream",
     "text": [
      "Loss is 0.29. \n",
      "Accuracy is 0.90. \n",
      "F1 is 0.91. \n",
      "AUROC is 0.924\n"
     ]
    }
   ],
   "source": [
    "svm_lin = svm.SVC(probability=True,gamma='auto',kernel = 'linear')\n",
    "pipe_svm_lin = Pipeline(steps=[('svm', svm_lin)])\n",
    "pipe_svm_lin.fit(X_train, y_train)\n",
    "y_pred = pipe_svm_lin.predict(X_test)\n",
    "f.calc_stat(X_test,y_test,pipe_svm_lin)"
   ]
  },
  {
   "cell_type": "code",
   "execution_count": 68,
   "metadata": {},
   "outputs": [
    {
     "name": "stdout",
     "output_type": "stream",
     "text": [
      "Loss is 0.30. \n",
      "Accuracy is 0.90. \n",
      "F1 is 0.91. \n",
      "AUROC is 0.929\n"
     ]
    }
   ],
   "source": [
    "svm_rbf = svm.SVC(probability=True,gamma='auto',kernel = 'rbf')\n",
    "pipe_svm_rbf = Pipeline(steps=[ ('svm', svm_rbf)])\n",
    "pipe_svm_rbf.fit(X_train, y_train)\n",
    "y_pred = pipe_svm_rbf.predict(X_test)\n",
    "f.calc_stat(X_test,y_test,pipe_svm_rbf)"
   ]
  },
  {
   "cell_type": "code",
   "execution_count": 69,
   "metadata": {},
   "outputs": [
    {
     "name": "stdout",
     "output_type": "stream",
     "text": [
      "Loss is 0.32. \n",
      "Accuracy is 0.90. \n",
      "F1 is 0.91. \n",
      "AUROC is 0.929\n"
     ]
    }
   ],
   "source": [
    "svm_poly = svm.SVC(probability=True,gamma='auto',kernel = 'poly')\n",
    "pipe_svm_poly = Pipeline(steps=[('svm', svm_poly)])\n",
    "pipe_svm_poly.fit(X_train, y_train)\n",
    "y_pred = pipe_svm_poly.predict(X_test)\n",
    "f.calc_stat(X_test,y_test,pipe_svm_poly)"
   ]
  },
  {
   "cell_type": "markdown",
   "metadata": {},
   "source": [
    "Theory Questions \n",
    "\n",
    "Q1: If we have unbalanced data we can get high accuracy but the other performances will be bad. For example if we have 3% pathology data samples and the classifier always returns healthy label we will get high accuracy (97%) but sensitivity, for example, will be low. \n",
    "\n",
    "Q2: If we chose just 2 features we have 2 options:\n",
    "1) we choose the most correlated features and other not usefull for our classification we will get good performance for predicted labels, and it will be easy for computation\n",
    "\n",
    "2) if we chose features with bad correlation (it means not usefull for classification) we will get a bad prediction results. But computation will be fast.\n",
    "\n",
    "If we chose all the features, we have extra information that is not useful for us and make computetions slower, require a large amount of system memory and will affect the performance. \n",
    "\n",
    "Q3: we will prfer SVM non-linear, because if we can not distinguish the difference between pancreas biopsies from the human eye the data is not separable linearly. So we do not want to use Logistiq regression and SVM with linear kernel, due to their similarity.\n",
    "\n",
    "Q4: SVM works well with unstructured and semi-structured data like text and images while logistic regression works with already identified independent variables. The risk of overfitting is less in SVM, while Logistic regression is vulnerable to overfitting. SVM is based on geometrical properties of the data while logistic regression is based on statistical approaches."
   ]
  },
  {
   "cell_type": "code",
   "execution_count": null,
   "metadata": {},
   "outputs": [],
   "source": []
  }
 ],
 "metadata": {
  "kernelspec": {
   "display_name": "Python 3",
   "language": "python",
   "name": "python3"
  },
  "language_info": {
   "codemirror_mode": {
    "name": "ipython",
    "version": 3
   },
   "file_extension": ".py",
   "mimetype": "text/x-python",
   "name": "python",
   "nbconvert_exporter": "python",
   "pygments_lexer": "ipython3",
   "version": "3.7.9"
  }
 },
 "nbformat": 4,
 "nbformat_minor": 4
}
