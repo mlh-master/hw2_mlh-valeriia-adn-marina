{
 "cells": [
  {
   "cell_type": "code",
   "execution_count": 1,
   "metadata": {},
   "outputs": [
    {
     "data": {
      "text/html": [
       "<div>\n",
       "<style scoped>\n",
       "    .dataframe tbody tr th:only-of-type {\n",
       "        vertical-align: middle;\n",
       "    }\n",
       "\n",
       "    .dataframe tbody tr th {\n",
       "        vertical-align: top;\n",
       "    }\n",
       "\n",
       "    .dataframe thead th {\n",
       "        text-align: right;\n",
       "    }\n",
       "</style>\n",
       "<table border=\"1\" class=\"dataframe\">\n",
       "  <thead>\n",
       "    <tr style=\"text-align: right;\">\n",
       "      <th></th>\n",
       "      <th>Age</th>\n",
       "      <th>Gender</th>\n",
       "      <th>Increased Urination</th>\n",
       "      <th>Increased Thirst</th>\n",
       "      <th>Sudden Weight Loss</th>\n",
       "      <th>Weakness</th>\n",
       "      <th>Increased Hunger</th>\n",
       "      <th>Genital Thrush</th>\n",
       "      <th>Visual Blurring</th>\n",
       "      <th>Itching</th>\n",
       "      <th>Irritability</th>\n",
       "      <th>Delayed Healing</th>\n",
       "      <th>Partial Paresis</th>\n",
       "      <th>Muscle Stiffness</th>\n",
       "      <th>Hair Loss</th>\n",
       "      <th>Obesity</th>\n",
       "      <th>Diagnosis</th>\n",
       "      <th>Family History</th>\n",
       "    </tr>\n",
       "  </thead>\n",
       "  <tbody>\n",
       "    <tr>\n",
       "      <th>0</th>\n",
       "      <td>45</td>\n",
       "      <td>Male</td>\n",
       "      <td>No</td>\n",
       "      <td>No</td>\n",
       "      <td>No</td>\n",
       "      <td>Yes</td>\n",
       "      <td>No</td>\n",
       "      <td>No</td>\n",
       "      <td>No</td>\n",
       "      <td>Yes</td>\n",
       "      <td>No</td>\n",
       "      <td>No</td>\n",
       "      <td>Yes</td>\n",
       "      <td>No</td>\n",
       "      <td>Yes</td>\n",
       "      <td>No</td>\n",
       "      <td>Negative</td>\n",
       "      <td>0</td>\n",
       "    </tr>\n",
       "    <tr>\n",
       "      <th>1</th>\n",
       "      <td>42</td>\n",
       "      <td>Male</td>\n",
       "      <td>No</td>\n",
       "      <td>No</td>\n",
       "      <td>No</td>\n",
       "      <td>No</td>\n",
       "      <td>No</td>\n",
       "      <td>No</td>\n",
       "      <td>No</td>\n",
       "      <td>No</td>\n",
       "      <td>No</td>\n",
       "      <td>No</td>\n",
       "      <td>No</td>\n",
       "      <td>No</td>\n",
       "      <td>Yes</td>\n",
       "      <td>No</td>\n",
       "      <td>Negative</td>\n",
       "      <td>0</td>\n",
       "    </tr>\n",
       "    <tr>\n",
       "      <th>2</th>\n",
       "      <td>45</td>\n",
       "      <td>Male</td>\n",
       "      <td>Yes</td>\n",
       "      <td>Yes</td>\n",
       "      <td>No</td>\n",
       "      <td>Yes</td>\n",
       "      <td>No</td>\n",
       "      <td>Yes</td>\n",
       "      <td>No</td>\n",
       "      <td>No</td>\n",
       "      <td>No</td>\n",
       "      <td>Yes</td>\n",
       "      <td>No</td>\n",
       "      <td>No</td>\n",
       "      <td>Yes</td>\n",
       "      <td>No</td>\n",
       "      <td>Positive</td>\n",
       "      <td>0</td>\n",
       "    </tr>\n",
       "    <tr>\n",
       "      <th>3</th>\n",
       "      <td>59</td>\n",
       "      <td>Female</td>\n",
       "      <td>No</td>\n",
       "      <td>No</td>\n",
       "      <td>No</td>\n",
       "      <td>No</td>\n",
       "      <td>No</td>\n",
       "      <td>No</td>\n",
       "      <td>No</td>\n",
       "      <td>No</td>\n",
       "      <td>No</td>\n",
       "      <td>No</td>\n",
       "      <td>No</td>\n",
       "      <td>No</td>\n",
       "      <td>No</td>\n",
       "      <td>No</td>\n",
       "      <td>Positive</td>\n",
       "      <td>1</td>\n",
       "    </tr>\n",
       "    <tr>\n",
       "      <th>4</th>\n",
       "      <td>40</td>\n",
       "      <td>Female</td>\n",
       "      <td>Yes</td>\n",
       "      <td>Yes</td>\n",
       "      <td>Yes</td>\n",
       "      <td>Yes</td>\n",
       "      <td>No</td>\n",
       "      <td>No</td>\n",
       "      <td>Yes</td>\n",
       "      <td>Yes</td>\n",
       "      <td>No</td>\n",
       "      <td>No</td>\n",
       "      <td>Yes</td>\n",
       "      <td>Yes</td>\n",
       "      <td>No</td>\n",
       "      <td>No</td>\n",
       "      <td>Positive</td>\n",
       "      <td>0</td>\n",
       "    </tr>\n",
       "    <tr>\n",
       "      <th>5</th>\n",
       "      <td>72</td>\n",
       "      <td>Male</td>\n",
       "      <td>Yes</td>\n",
       "      <td>No</td>\n",
       "      <td>No</td>\n",
       "      <td>No</td>\n",
       "      <td>Yes</td>\n",
       "      <td>No</td>\n",
       "      <td>Yes</td>\n",
       "      <td>Yes</td>\n",
       "      <td>No</td>\n",
       "      <td>Yes</td>\n",
       "      <td>Yes</td>\n",
       "      <td>Yes</td>\n",
       "      <td>Yes</td>\n",
       "      <td>No</td>\n",
       "      <td>Negative</td>\n",
       "      <td>0</td>\n",
       "    </tr>\n",
       "    <tr>\n",
       "      <th>6</th>\n",
       "      <td>43</td>\n",
       "      <td>Male</td>\n",
       "      <td>No</td>\n",
       "      <td>No</td>\n",
       "      <td>No</td>\n",
       "      <td>Yes</td>\n",
       "      <td>No</td>\n",
       "      <td>Yes</td>\n",
       "      <td>No</td>\n",
       "      <td>Yes</td>\n",
       "      <td>No</td>\n",
       "      <td>Yes</td>\n",
       "      <td>No</td>\n",
       "      <td>No</td>\n",
       "      <td>Yes</td>\n",
       "      <td>No</td>\n",
       "      <td>Negative</td>\n",
       "      <td>1</td>\n",
       "    </tr>\n",
       "    <tr>\n",
       "      <th>7</th>\n",
       "      <td>57</td>\n",
       "      <td>Male</td>\n",
       "      <td>Yes</td>\n",
       "      <td>Yes</td>\n",
       "      <td>Yes</td>\n",
       "      <td>Yes</td>\n",
       "      <td>Yes</td>\n",
       "      <td>No</td>\n",
       "      <td>Yes</td>\n",
       "      <td>No</td>\n",
       "      <td>No</td>\n",
       "      <td>No</td>\n",
       "      <td>Yes</td>\n",
       "      <td>No</td>\n",
       "      <td>No</td>\n",
       "      <td>No</td>\n",
       "      <td>Positive</td>\n",
       "      <td>0</td>\n",
       "    </tr>\n",
       "    <tr>\n",
       "      <th>8</th>\n",
       "      <td>37</td>\n",
       "      <td>Male</td>\n",
       "      <td>No</td>\n",
       "      <td>No</td>\n",
       "      <td>No</td>\n",
       "      <td>Yes</td>\n",
       "      <td>No</td>\n",
       "      <td>No</td>\n",
       "      <td>No</td>\n",
       "      <td>No</td>\n",
       "      <td>No</td>\n",
       "      <td>Yes</td>\n",
       "      <td>No</td>\n",
       "      <td>No</td>\n",
       "      <td>Yes</td>\n",
       "      <td>No</td>\n",
       "      <td>Positive</td>\n",
       "      <td>1</td>\n",
       "    </tr>\n",
       "    <tr>\n",
       "      <th>9</th>\n",
       "      <td>56</td>\n",
       "      <td>Male</td>\n",
       "      <td>Yes</td>\n",
       "      <td>No</td>\n",
       "      <td>Yes</td>\n",
       "      <td>Yes</td>\n",
       "      <td>No</td>\n",
       "      <td>Yes</td>\n",
       "      <td>No</td>\n",
       "      <td>Yes</td>\n",
       "      <td>Yes</td>\n",
       "      <td>No</td>\n",
       "      <td>No</td>\n",
       "      <td>No</td>\n",
       "      <td>Yes</td>\n",
       "      <td>No</td>\n",
       "      <td>Positive</td>\n",
       "      <td>1</td>\n",
       "    </tr>\n",
       "  </tbody>\n",
       "</table>\n",
       "</div>"
      ],
      "text/plain": [
       "   Age  Gender Increased Urination Increased Thirst Sudden Weight Loss  \\\n",
       "0   45    Male                  No               No                 No   \n",
       "1   42    Male                  No               No                 No   \n",
       "2   45    Male                 Yes              Yes                 No   \n",
       "3   59  Female                  No               No                 No   \n",
       "4   40  Female                 Yes              Yes                Yes   \n",
       "5   72    Male                 Yes               No                 No   \n",
       "6   43    Male                  No               No                 No   \n",
       "7   57    Male                 Yes              Yes                Yes   \n",
       "8   37    Male                  No               No                 No   \n",
       "9   56    Male                 Yes               No                Yes   \n",
       "\n",
       "  Weakness Increased Hunger Genital Thrush Visual Blurring Itching  \\\n",
       "0      Yes               No             No              No     Yes   \n",
       "1       No               No             No              No      No   \n",
       "2      Yes               No            Yes              No      No   \n",
       "3       No               No             No              No      No   \n",
       "4      Yes               No             No             Yes     Yes   \n",
       "5       No              Yes             No             Yes     Yes   \n",
       "6      Yes               No            Yes              No     Yes   \n",
       "7      Yes              Yes             No             Yes      No   \n",
       "8      Yes               No             No              No      No   \n",
       "9      Yes               No            Yes              No     Yes   \n",
       "\n",
       "  Irritability Delayed Healing Partial Paresis Muscle Stiffness Hair Loss  \\\n",
       "0           No              No             Yes               No       Yes   \n",
       "1           No              No              No               No       Yes   \n",
       "2           No             Yes              No               No       Yes   \n",
       "3           No              No              No               No        No   \n",
       "4           No              No             Yes              Yes        No   \n",
       "5           No             Yes             Yes              Yes       Yes   \n",
       "6           No             Yes              No               No       Yes   \n",
       "7           No              No             Yes               No        No   \n",
       "8           No             Yes              No               No       Yes   \n",
       "9          Yes              No              No               No       Yes   \n",
       "\n",
       "  Obesity Diagnosis  Family History  \n",
       "0      No  Negative               0  \n",
       "1      No  Negative               0  \n",
       "2      No  Positive               0  \n",
       "3      No  Positive               1  \n",
       "4      No  Positive               0  \n",
       "5      No  Negative               0  \n",
       "6      No  Negative               1  \n",
       "7      No  Positive               0  \n",
       "8      No  Positive               1  \n",
       "9      No  Positive               1  "
      ]
     },
     "execution_count": 1,
     "metadata": {},
     "output_type": "execute_result"
    }
   ],
   "source": [
    "import pandas as pd\n",
    "import numpy as np\n",
    "from pathlib import Path\n",
    "import random\n",
    "import matplotlib.pyplot as plt\n",
    "from sklearn.preprocessing import StandardScaler\n",
    "import functions as f\n",
    "%load_ext autoreload\n",
    "\n",
    "file = Path.cwd().joinpath('HW2_data.csv') # concatenates HW2_data.csv to the current folder that should be the extracted zip folder \n",
    "dataset = pd.read_csv(file)  # load the data and drop the first row that was filled with nans\n",
    "features = ['Age', 'Gender', 'Increased Urination', 'Increased Thirst','Sudden Weight Loss',\n",
    "                       'Weakness','Increased Hunger','Genital Thrush','Visual Blurring','Itching','Irritability',\n",
    "                       'Delayed Healing','Partial Paresis','Muscle Stiffness','Hair Loss','Obesity','Diagnosis','Family History']\n",
    "\n",
    "random.seed(149) #our random seed\n",
    "dataset.head(10) #visualise file"
   ]
  },
  {
   "cell_type": "code",
   "execution_count": 2,
   "metadata": {},
   "outputs": [
    {
     "name": "stdout",
     "output_type": "stream",
     "text": [
      "<class 'pandas.core.frame.DataFrame'>\n",
      "RangeIndex: 565 entries, 0 to 564\n",
      "Data columns (total 18 columns):\n",
      " #   Column               Non-Null Count  Dtype \n",
      "---  ------               --------------  ----- \n",
      " 0   Age                  565 non-null    int64 \n",
      " 1   Gender               565 non-null    object\n",
      " 2   Increased Urination  565 non-null    object\n",
      " 3   Increased Thirst     545 non-null    object\n",
      " 4   Sudden Weight Loss   556 non-null    object\n",
      " 5   Weakness             565 non-null    object\n",
      " 6   Increased Hunger     552 non-null    object\n",
      " 7   Genital Thrush       551 non-null    object\n",
      " 8   Visual Blurring      565 non-null    object\n",
      " 9   Itching              554 non-null    object\n",
      " 10  Irritability         565 non-null    object\n",
      " 11  Delayed Healing      565 non-null    object\n",
      " 12  Partial Paresis      565 non-null    object\n",
      " 13  Muscle Stiffness     550 non-null    object\n",
      " 14  Hair Loss            565 non-null    object\n",
      " 15  Obesity              565 non-null    object\n",
      " 16  Diagnosis            565 non-null    object\n",
      " 17  Family History       565 non-null    int64 \n",
      "dtypes: int64(2), object(16)\n",
      "memory usage: 79.6+ KB\n"
     ]
    }
   ],
   "source": [
    "dataset = dataset.interpolate()\n",
    "dataset.info()"
   ]
  },
  {
   "cell_type": "code",
   "execution_count": 3,
   "metadata": {},
   "outputs": [
    {
     "data": {
      "text/html": [
       "<div>\n",
       "<style scoped>\n",
       "    .dataframe tbody tr th:only-of-type {\n",
       "        vertical-align: middle;\n",
       "    }\n",
       "\n",
       "    .dataframe tbody tr th {\n",
       "        vertical-align: top;\n",
       "    }\n",
       "\n",
       "    .dataframe thead th {\n",
       "        text-align: right;\n",
       "    }\n",
       "</style>\n",
       "<table border=\"1\" class=\"dataframe\">\n",
       "  <thead>\n",
       "    <tr style=\"text-align: right;\">\n",
       "      <th></th>\n",
       "      <th>Age</th>\n",
       "      <th>Gender</th>\n",
       "      <th>Increased Urination</th>\n",
       "      <th>Increased Thirst</th>\n",
       "      <th>Sudden Weight Loss</th>\n",
       "      <th>Weakness</th>\n",
       "      <th>Increased Hunger</th>\n",
       "      <th>Genital Thrush</th>\n",
       "      <th>Visual Blurring</th>\n",
       "      <th>Itching</th>\n",
       "      <th>Irritability</th>\n",
       "      <th>Delayed Healing</th>\n",
       "      <th>Partial Paresis</th>\n",
       "      <th>Muscle Stiffness</th>\n",
       "      <th>Hair Loss</th>\n",
       "      <th>Obesity</th>\n",
       "      <th>Diagnosis</th>\n",
       "      <th>Family History</th>\n",
       "    </tr>\n",
       "  </thead>\n",
       "  <tbody>\n",
       "    <tr>\n",
       "      <th>0</th>\n",
       "      <td>45</td>\n",
       "      <td>1</td>\n",
       "      <td>0</td>\n",
       "      <td>0.0</td>\n",
       "      <td>0.0</td>\n",
       "      <td>1</td>\n",
       "      <td>0.0</td>\n",
       "      <td>0.0</td>\n",
       "      <td>0</td>\n",
       "      <td>1.0</td>\n",
       "      <td>0</td>\n",
       "      <td>0</td>\n",
       "      <td>1</td>\n",
       "      <td>0.0</td>\n",
       "      <td>1</td>\n",
       "      <td>0</td>\n",
       "      <td>0</td>\n",
       "      <td>0</td>\n",
       "    </tr>\n",
       "    <tr>\n",
       "      <th>1</th>\n",
       "      <td>42</td>\n",
       "      <td>1</td>\n",
       "      <td>0</td>\n",
       "      <td>0.0</td>\n",
       "      <td>0.0</td>\n",
       "      <td>0</td>\n",
       "      <td>0.0</td>\n",
       "      <td>0.0</td>\n",
       "      <td>0</td>\n",
       "      <td>0.0</td>\n",
       "      <td>0</td>\n",
       "      <td>0</td>\n",
       "      <td>0</td>\n",
       "      <td>0.0</td>\n",
       "      <td>1</td>\n",
       "      <td>0</td>\n",
       "      <td>0</td>\n",
       "      <td>0</td>\n",
       "    </tr>\n",
       "    <tr>\n",
       "      <th>2</th>\n",
       "      <td>45</td>\n",
       "      <td>1</td>\n",
       "      <td>1</td>\n",
       "      <td>1.0</td>\n",
       "      <td>0.0</td>\n",
       "      <td>1</td>\n",
       "      <td>0.0</td>\n",
       "      <td>1.0</td>\n",
       "      <td>0</td>\n",
       "      <td>0.0</td>\n",
       "      <td>0</td>\n",
       "      <td>1</td>\n",
       "      <td>0</td>\n",
       "      <td>0.0</td>\n",
       "      <td>1</td>\n",
       "      <td>0</td>\n",
       "      <td>1</td>\n",
       "      <td>0</td>\n",
       "    </tr>\n",
       "    <tr>\n",
       "      <th>3</th>\n",
       "      <td>59</td>\n",
       "      <td>0</td>\n",
       "      <td>0</td>\n",
       "      <td>0.0</td>\n",
       "      <td>0.0</td>\n",
       "      <td>0</td>\n",
       "      <td>0.0</td>\n",
       "      <td>0.0</td>\n",
       "      <td>0</td>\n",
       "      <td>0.0</td>\n",
       "      <td>0</td>\n",
       "      <td>0</td>\n",
       "      <td>0</td>\n",
       "      <td>0.0</td>\n",
       "      <td>0</td>\n",
       "      <td>0</td>\n",
       "      <td>1</td>\n",
       "      <td>1</td>\n",
       "    </tr>\n",
       "    <tr>\n",
       "      <th>4</th>\n",
       "      <td>40</td>\n",
       "      <td>0</td>\n",
       "      <td>1</td>\n",
       "      <td>1.0</td>\n",
       "      <td>1.0</td>\n",
       "      <td>1</td>\n",
       "      <td>0.0</td>\n",
       "      <td>0.0</td>\n",
       "      <td>1</td>\n",
       "      <td>1.0</td>\n",
       "      <td>0</td>\n",
       "      <td>0</td>\n",
       "      <td>1</td>\n",
       "      <td>1.0</td>\n",
       "      <td>0</td>\n",
       "      <td>0</td>\n",
       "      <td>1</td>\n",
       "      <td>0</td>\n",
       "    </tr>\n",
       "    <tr>\n",
       "      <th>5</th>\n",
       "      <td>72</td>\n",
       "      <td>1</td>\n",
       "      <td>1</td>\n",
       "      <td>0.0</td>\n",
       "      <td>0.0</td>\n",
       "      <td>0</td>\n",
       "      <td>1.0</td>\n",
       "      <td>0.0</td>\n",
       "      <td>1</td>\n",
       "      <td>1.0</td>\n",
       "      <td>0</td>\n",
       "      <td>1</td>\n",
       "      <td>1</td>\n",
       "      <td>1.0</td>\n",
       "      <td>1</td>\n",
       "      <td>0</td>\n",
       "      <td>0</td>\n",
       "      <td>0</td>\n",
       "    </tr>\n",
       "    <tr>\n",
       "      <th>6</th>\n",
       "      <td>43</td>\n",
       "      <td>1</td>\n",
       "      <td>0</td>\n",
       "      <td>0.0</td>\n",
       "      <td>0.0</td>\n",
       "      <td>1</td>\n",
       "      <td>0.0</td>\n",
       "      <td>1.0</td>\n",
       "      <td>0</td>\n",
       "      <td>1.0</td>\n",
       "      <td>0</td>\n",
       "      <td>1</td>\n",
       "      <td>0</td>\n",
       "      <td>0.0</td>\n",
       "      <td>1</td>\n",
       "      <td>0</td>\n",
       "      <td>0</td>\n",
       "      <td>1</td>\n",
       "    </tr>\n",
       "    <tr>\n",
       "      <th>7</th>\n",
       "      <td>57</td>\n",
       "      <td>1</td>\n",
       "      <td>1</td>\n",
       "      <td>1.0</td>\n",
       "      <td>1.0</td>\n",
       "      <td>1</td>\n",
       "      <td>1.0</td>\n",
       "      <td>0.0</td>\n",
       "      <td>1</td>\n",
       "      <td>0.0</td>\n",
       "      <td>0</td>\n",
       "      <td>0</td>\n",
       "      <td>1</td>\n",
       "      <td>0.0</td>\n",
       "      <td>0</td>\n",
       "      <td>0</td>\n",
       "      <td>1</td>\n",
       "      <td>0</td>\n",
       "    </tr>\n",
       "    <tr>\n",
       "      <th>8</th>\n",
       "      <td>37</td>\n",
       "      <td>1</td>\n",
       "      <td>0</td>\n",
       "      <td>0.0</td>\n",
       "      <td>0.0</td>\n",
       "      <td>1</td>\n",
       "      <td>0.0</td>\n",
       "      <td>0.0</td>\n",
       "      <td>0</td>\n",
       "      <td>0.0</td>\n",
       "      <td>0</td>\n",
       "      <td>1</td>\n",
       "      <td>0</td>\n",
       "      <td>0.0</td>\n",
       "      <td>1</td>\n",
       "      <td>0</td>\n",
       "      <td>1</td>\n",
       "      <td>1</td>\n",
       "    </tr>\n",
       "    <tr>\n",
       "      <th>9</th>\n",
       "      <td>56</td>\n",
       "      <td>1</td>\n",
       "      <td>1</td>\n",
       "      <td>0.0</td>\n",
       "      <td>1.0</td>\n",
       "      <td>1</td>\n",
       "      <td>0.0</td>\n",
       "      <td>1.0</td>\n",
       "      <td>0</td>\n",
       "      <td>1.0</td>\n",
       "      <td>1</td>\n",
       "      <td>0</td>\n",
       "      <td>0</td>\n",
       "      <td>0.0</td>\n",
       "      <td>1</td>\n",
       "      <td>0</td>\n",
       "      <td>1</td>\n",
       "      <td>1</td>\n",
       "    </tr>\n",
       "  </tbody>\n",
       "</table>\n",
       "</div>"
      ],
      "text/plain": [
       "   Age  Gender  Increased Urination  Increased Thirst  Sudden Weight Loss  \\\n",
       "0   45       1                    0               0.0                 0.0   \n",
       "1   42       1                    0               0.0                 0.0   \n",
       "2   45       1                    1               1.0                 0.0   \n",
       "3   59       0                    0               0.0                 0.0   \n",
       "4   40       0                    1               1.0                 1.0   \n",
       "5   72       1                    1               0.0                 0.0   \n",
       "6   43       1                    0               0.0                 0.0   \n",
       "7   57       1                    1               1.0                 1.0   \n",
       "8   37       1                    0               0.0                 0.0   \n",
       "9   56       1                    1               0.0                 1.0   \n",
       "\n",
       "   Weakness  Increased Hunger  Genital Thrush  Visual Blurring  Itching  \\\n",
       "0         1               0.0             0.0                0      1.0   \n",
       "1         0               0.0             0.0                0      0.0   \n",
       "2         1               0.0             1.0                0      0.0   \n",
       "3         0               0.0             0.0                0      0.0   \n",
       "4         1               0.0             0.0                1      1.0   \n",
       "5         0               1.0             0.0                1      1.0   \n",
       "6         1               0.0             1.0                0      1.0   \n",
       "7         1               1.0             0.0                1      0.0   \n",
       "8         1               0.0             0.0                0      0.0   \n",
       "9         1               0.0             1.0                0      1.0   \n",
       "\n",
       "   Irritability  Delayed Healing  Partial Paresis  Muscle Stiffness  \\\n",
       "0             0                0                1               0.0   \n",
       "1             0                0                0               0.0   \n",
       "2             0                1                0               0.0   \n",
       "3             0                0                0               0.0   \n",
       "4             0                0                1               1.0   \n",
       "5             0                1                1               1.0   \n",
       "6             0                1                0               0.0   \n",
       "7             0                0                1               0.0   \n",
       "8             0                1                0               0.0   \n",
       "9             1                0                0               0.0   \n",
       "\n",
       "   Hair Loss  Obesity  Diagnosis  Family History  \n",
       "0          1        0          0               0  \n",
       "1          1        0          0               0  \n",
       "2          1        0          1               0  \n",
       "3          0        0          1               1  \n",
       "4          0        0          1               0  \n",
       "5          1        0          0               0  \n",
       "6          1        0          0               1  \n",
       "7          0        0          1               0  \n",
       "8          1        0          1               1  \n",
       "9          1        0          1               1  "
      ]
     },
     "execution_count": 3,
     "metadata": {},
     "output_type": "execute_result"
    }
   ],
   "source": [
    "def make_data_binary(data):\n",
    "    binary = data.copy()\n",
    "    ''' \n",
    "    We have changed the values from string to the binary ones, it will be easier for us \n",
    "    to work with the data.\n",
    "    Female = 0, Male = 1.\n",
    "    Yes = 1, No = 0\n",
    "    Positive = 1, Negative = 0\n",
    "    '''\n",
    "    binary = binary.replace('Female',0).replace('Male',1).replace('No',0).replace('Yes',1).replace('Positive',1).replace('Negative',0)\n",
    "    return binary.replace(np.nan, np.random.choice([0,1])) #we see in the data we have nan values. We have dropped them.\n",
    "\n",
    "data = make_data_binary(dataset)\n",
    "diag_state = data[[\"Diagnosis\"]]\n",
    "data.head(10) #visualize data after binarization"
   ]
  },
  {
   "cell_type": "code",
   "execution_count": 4,
   "metadata": {},
   "outputs": [
    {
     "data": {
      "image/png": "[encoded data removed]",
      "text/plain": [
       "<Figure size 432x288 with 1 Axes>"
      ]
     },
     "metadata": {
      "needs_background": "light"
     },
     "output_type": "display_data"
    },
    {
     "name": "stdout",
     "output_type": "stream",
     "text": [
      "Negative samples account for 39.29% of the data.\n",
      "Positive samples account for 60.71% of the data.\n"
     ]
    }
   ],
   "source": [
    "import matplotlib.pyplot as plt\n",
    "import seaborn as sns\n",
    "\n",
    "g = sns.countplot(x = 'Diagnosis', data = diag_state)\n",
    "g.set(xticklabels=['Negative','Positive'])\n",
    "plt.show()\n",
    "idx_1 = (diag_state == 1).index[(diag_state == 1)['Diagnosis'] == True].tolist() # positive\n",
    "idx_2 = (diag_state == 0).index[(diag_state == 0)['Diagnosis'] == True].tolist() # negative\n",
    "print(\"Negative samples account for \" + str(\"{0:.2f}\".format(100 * len(idx_2) / len(diag_state))) + \"% of the data.\")\n",
    "print(\"Positive samples account for \" + str(\"{0:.2f}\".format(100 * len(idx_1) / len(diag_state))) + \"% of the data.\")"
   ]
  },
  {
   "cell_type": "code",
   "execution_count": 5,
   "metadata": {},
   "outputs": [
    {
     "data": {
      "image/png": "[encoded data removed]",
      "text/plain": [
       "<Figure size 432x288 with 1 Axes>"
      ]
     },
     "metadata": {
      "needs_background": "light"
     },
     "output_type": "display_data"
    }
   ],
   "source": [
    "bins = 100\n",
    "feat = 'Age'\n",
    "plt.hist(dataset[feat].loc[idx_2], bins, density=True, alpha=0.5, label='Negative')\n",
    "plt.hist(dataset[feat].loc[idx_1], bins, density=True, alpha=0.5, label='Positive')\n",
    "plt.xlabel('Age')\n",
    "plt.ylabel('Probabilty')\n",
    "plt.legend(loc='upper right')\n",
    "plt.show()"
   ]
  },
  {
   "cell_type": "code",
   "execution_count": 6,
   "metadata": {},
   "outputs": [
    {
     "name": "stderr",
     "output_type": "stream",
     "text": [
      "C:\\Users\\Valeriia Kravchik\\anaconda3\\envs\\bm-336546-hw2\\lib\\site-packages\\seaborn\\distributions.py:2551: FutureWarning: `distplot` is a deprecated function and will be removed in a future version. Please adapt your code to use either `displot` (a figure-level function with similar flexibility) or `histplot` (an axes-level function for histograms).\n",
      "  warnings.warn(msg, FutureWarning)\n",
      "C:\\Users\\Valeriia Kravchik\\anaconda3\\envs\\bm-336546-hw2\\lib\\site-packages\\seaborn\\distributions.py:2551: FutureWarning: `distplot` is a deprecated function and will be removed in a future version. Please adapt your code to use either `displot` (a figure-level function with similar flexibility) or `histplot` (an axes-level function for histograms).\n",
      "  warnings.warn(msg, FutureWarning)\n",
      "C:\\Users\\Valeriia Kravchik\\anaconda3\\envs\\bm-336546-hw2\\lib\\site-packages\\seaborn\\distributions.py:2551: FutureWarning: `distplot` is a deprecated function and will be removed in a future version. Please adapt your code to use either `displot` (a figure-level function with similar flexibility) or `histplot` (an axes-level function for histograms).\n",
      "  warnings.warn(msg, FutureWarning)\n",
      "C:\\Users\\Valeriia Kravchik\\anaconda3\\envs\\bm-336546-hw2\\lib\\site-packages\\seaborn\\distributions.py:2551: FutureWarning: `distplot` is a deprecated function and will be removed in a future version. Please adapt your code to use either `displot` (a figure-level function with similar flexibility) or `histplot` (an axes-level function for histograms).\n",
      "  warnings.warn(msg, FutureWarning)\n"
     ]
    },
    {
     "data": {
      "image/png": "[encoded data removed]",
      "text/plain": [
       "<Figure size 720x288 with 2 Axes>"
      ]
     },
     "metadata": {
      "needs_background": "light"
     },
     "output_type": "display_data"
    }
   ],
   "source": [
    "Positive = 'Positive'\n",
    "Negative = 'Negative'\n",
    "fig, axes = plt.subplots(nrows=1, ncols=2,figsize=(10, 4))\n",
    "women = data[data['Gender']==1]\n",
    "men = data[data['Gender']==0]\n",
    "ax = sns.distplot(women[women['Diagnosis']==1].Age.dropna(), bins=18, label = Positive, ax = axes[0], kde =False)\n",
    "ax = sns.distplot(women[women['Diagnosis']==0].Age.dropna(), bins=40, label = Negative, ax = axes[0], kde =False)\n",
    "ax.legend()\n",
    "ax.set_title('Female')\n",
    "ax = sns.distplot(men[men['Diagnosis']==1].Age.dropna(), bins=18, label = Positive, ax = axes[1], kde = False)\n",
    "ax = sns.distplot(men[men['Diagnosis']==0].Age.dropna(), bins=40, label = Negative, ax = axes[1], kde = False)\n",
    "ax.legend()\n",
    "_ = ax.set_title('Male')"
   ]
  },
  {
   "cell_type": "code",
   "execution_count": 7,
   "metadata": {},
   "outputs": [
    {
     "data": {
      "image/png": "[encoded data removed]",
      "text/plain": [
       "<Figure size 432x288 with 1 Axes>"
      ]
     },
     "metadata": {
      "needs_background": "light"
     },
     "output_type": "display_data"
    },
    {
     "data": {
      "image/png": "[encoded data removed]",
      "text/plain": [
       "<Figure size 432x288 with 1 Axes>"
      ]
     },
     "metadata": {
      "needs_background": "light"
     },
     "output_type": "display_data"
    },
    {
     "data": {
      "image/png": "[encoded data removed]",
      "text/plain": [
       "<Figure size 432x288 with 1 Axes>"
      ]
     },
     "metadata": {
      "needs_background": "light"
     },
     "output_type": "display_data"
    },
    {
     "data": {
      "image/png": "[encoded data removed]",
      "text/plain": [
       "<Figure size 432x288 with 1 Axes>"
      ]
     },
     "metadata": {
      "needs_background": "light"
     },
     "output_type": "display_data"
    },
    {
     "data": {
      "image/png": "[encoded data removed]",
      "text/plain": [
       "<Figure size 432x288 with 1 Axes>"
      ]
     },
     "metadata": {
      "needs_background": "light"
     },
     "output_type": "display_data"
    },
    {
     "data": {
      "image/png": "[encoded data removed]",
      "text/plain": [
       "<Figure size 432x288 with 1 Axes>"
      ]
     },
     "metadata": {
      "needs_background": "light"
     },
     "output_type": "display_data"
    },
    {
     "data": {
      "image/png": "[encoded data removed]",
      "text/plain": [
       "<Figure size 432x288 with 1 Axes>"
      ]
     },
     "metadata": {
      "needs_background": "light"
     },
     "output_type": "display_data"
    },
    {
     "data": {
      "image/png": "[encoded data removed]",
      "text/plain": [
       "<Figure size 432x288 with 1 Axes>"
      ]
     },
     "metadata": {
      "needs_background": "light"
     },
     "output_type": "display_data"
    },
    {
     "data": {
      "image/png": "[encoded data removed]",
      "text/plain": [
       "<Figure size 432x288 with 1 Axes>"
      ]
     },
     "metadata": {
      "needs_background": "light"
     },
     "output_type": "display_data"
    },
    {
     "data": {
      "image/png": "[encoded data removed]",
      "text/plain": [
       "<Figure size 432x288 with 1 Axes>"
      ]
     },
     "metadata": {
      "needs_background": "light"
     },
     "output_type": "display_data"
    },
    {
     "data": {
      "image/png": "[encoded data removed]",
      "text/plain": [
       "<Figure size 432x288 with 1 Axes>"
      ]
     },
     "metadata": {
      "needs_background": "light"
     },
     "output_type": "display_data"
    },
    {
     "data": {
      "image/png": "[encoded data removed]",
      "text/plain": [
       "<Figure size 432x288 with 1 Axes>"
      ]
     },
     "metadata": {
      "needs_background": "light"
     },
     "output_type": "display_data"
    },
    {
     "data": {
      "image/png": "[encoded data removed]",
      "text/plain": [
       "<Figure size 432x288 with 1 Axes>"
      ]
     },
     "metadata": {
      "needs_background": "light"
     },
     "output_type": "display_data"
    },
    {
     "data": {
      "image/png": "[encoded data removed]",
      "text/plain": [
       "<Figure size 432x288 with 1 Axes>"
      ]
     },
     "metadata": {
      "needs_background": "light"
     },
     "output_type": "display_data"
    }
   ],
   "source": [
    "for i in dataset.keys():\n",
    "    if i == 'Age' or i == 'Gender' or i =='Diagnosis' or i == 'Family History': \n",
    "        continue\n",
    "    g = sns.countplot(x = 'Gender', hue= 'Diagnosis', data = dataset[dataset[i] == 'Yes'])\n",
    "    g.set(xticklabels=['Male','Female'])\n",
    "    plt.title('Yes for {}'. format(i))\n",
    "    plt.show()"
   ]
  },
  {
   "cell_type": "code",
   "execution_count": 8,
   "metadata": {},
   "outputs": [
    {
     "name": "stderr",
     "output_type": "stream",
     "text": [
      "C:\\Users\\Valeriia Kravchik\\anaconda3\\envs\\bm-336546-hw2\\lib\\site-packages\\seaborn\\axisgrid.py:316: UserWarning: The `size` parameter has been renamed to `height`; please update your code.\n",
      "  warnings.warn(msg, UserWarning)\n"
     ]
    },
    {
     "data": {
      "image/png": "[encoded data removed]",
      "text/plain": [
       "<Figure size 514.88x316.8 with 4 Axes>"
      ]
     },
     "metadata": {
      "needs_background": "light"
     },
     "output_type": "display_data"
    }
   ],
   "source": [
    "grid = sns.FacetGrid(data, col='Diagnosis', row='Family History', size=2.2, aspect=1.6)\n",
    "grid.map(plt.hist, 'Age', alpha=.5, bins=20)\n",
    "grid.add_legend();"
   ]
  },
  {
   "cell_type": "code",
   "execution_count": 9,
   "metadata": {},
   "outputs": [],
   "source": [
    "from sklearn import metrics\n",
    "from sklearn.model_selection import train_test_split\n",
    "from sklearn.linear_model import LogisticRegression\n",
    "\n",
    "orig_feat = data.columns.values.tolist()\n",
    "orig_feat.remove('Diagnosis')\n",
    "X_train, X_test, y_train, y_test = train_test_split(data, np.ravel(diag_state), test_size=0.2, random_state=10, stratify=np.ravel(diag_state))\n",
    "                                              "
   ]
  },
  {
   "cell_type": "code",
   "execution_count": 10,
   "metadata": {},
   "outputs": [
    {
     "data": {
      "text/html": [
       "<div>\n",
       "<style scoped>\n",
       "    .dataframe tbody tr th:only-of-type {\n",
       "        vertical-align: middle;\n",
       "    }\n",
       "\n",
       "    .dataframe tbody tr th {\n",
       "        vertical-align: top;\n",
       "    }\n",
       "\n",
       "    .dataframe thead th {\n",
       "        text-align: right;\n",
       "    }\n",
       "</style>\n",
       "<table border=\"1\" class=\"dataframe\">\n",
       "  <thead>\n",
       "    <tr style=\"text-align: right;\">\n",
       "      <th></th>\n",
       "      <th>Train%</th>\n",
       "      <th>Test%</th>\n",
       "      <th>Delta%</th>\n",
       "    </tr>\n",
       "  </thead>\n",
       "  <tbody>\n",
       "    <tr>\n",
       "      <th>Gender</th>\n",
       "      <td>62.610619</td>\n",
       "      <td>68.141593</td>\n",
       "      <td>-5.530973</td>\n",
       "    </tr>\n",
       "    <tr>\n",
       "      <th>Increased Urination</th>\n",
       "      <td>48.451327</td>\n",
       "      <td>47.787611</td>\n",
       "      <td>0.663717</td>\n",
       "    </tr>\n",
       "    <tr>\n",
       "      <th>Increased Thirst</th>\n",
       "      <td>42.699115</td>\n",
       "      <td>43.362832</td>\n",
       "      <td>-0.663717</td>\n",
       "    </tr>\n",
       "    <tr>\n",
       "      <th>Sudden Weight Loss</th>\n",
       "      <td>40.265487</td>\n",
       "      <td>40.707965</td>\n",
       "      <td>-0.442478</td>\n",
       "    </tr>\n",
       "    <tr>\n",
       "      <th>Weakness</th>\n",
       "      <td>55.752212</td>\n",
       "      <td>62.831858</td>\n",
       "      <td>-7.079646</td>\n",
       "    </tr>\n",
       "    <tr>\n",
       "      <th>Increased Hunger</th>\n",
       "      <td>43.141593</td>\n",
       "      <td>45.132743</td>\n",
       "      <td>-1.991150</td>\n",
       "    </tr>\n",
       "    <tr>\n",
       "      <th>Genital Thrush</th>\n",
       "      <td>20.353982</td>\n",
       "      <td>26.548673</td>\n",
       "      <td>-6.194690</td>\n",
       "    </tr>\n",
       "    <tr>\n",
       "      <th>Visual Blurring</th>\n",
       "      <td>44.247788</td>\n",
       "      <td>47.787611</td>\n",
       "      <td>-3.539823</td>\n",
       "    </tr>\n",
       "    <tr>\n",
       "      <th>Itching</th>\n",
       "      <td>46.460177</td>\n",
       "      <td>51.327434</td>\n",
       "      <td>-4.867257</td>\n",
       "    </tr>\n",
       "    <tr>\n",
       "      <th>Irritability</th>\n",
       "      <td>22.566372</td>\n",
       "      <td>27.433628</td>\n",
       "      <td>-4.867257</td>\n",
       "    </tr>\n",
       "    <tr>\n",
       "      <th>Delayed Healing</th>\n",
       "      <td>46.902655</td>\n",
       "      <td>43.362832</td>\n",
       "      <td>3.539823</td>\n",
       "    </tr>\n",
       "    <tr>\n",
       "      <th>Partial Paresis</th>\n",
       "      <td>42.256637</td>\n",
       "      <td>44.247788</td>\n",
       "      <td>-1.991150</td>\n",
       "    </tr>\n",
       "    <tr>\n",
       "      <th>Muscle Stiffness</th>\n",
       "      <td>35.176991</td>\n",
       "      <td>38.053097</td>\n",
       "      <td>-2.876106</td>\n",
       "    </tr>\n",
       "    <tr>\n",
       "      <th>Hair Loss</th>\n",
       "      <td>35.840708</td>\n",
       "      <td>35.398230</td>\n",
       "      <td>0.442478</td>\n",
       "    </tr>\n",
       "    <tr>\n",
       "      <th>Obesity</th>\n",
       "      <td>17.035398</td>\n",
       "      <td>15.929204</td>\n",
       "      <td>1.106195</td>\n",
       "    </tr>\n",
       "    <tr>\n",
       "      <th>Family History</th>\n",
       "      <td>48.672566</td>\n",
       "      <td>58.407080</td>\n",
       "      <td>-9.734513</td>\n",
       "    </tr>\n",
       "  </tbody>\n",
       "</table>\n",
       "</div>"
      ],
      "text/plain": [
       "                        Train%      Test%    Delta%\n",
       "Gender               62.610619  68.141593 -5.530973\n",
       "Increased Urination  48.451327  47.787611  0.663717\n",
       "Increased Thirst     42.699115  43.362832 -0.663717\n",
       "Sudden Weight Loss   40.265487  40.707965 -0.442478\n",
       "Weakness             55.752212  62.831858 -7.079646\n",
       "Increased Hunger     43.141593  45.132743 -1.991150\n",
       "Genital Thrush       20.353982  26.548673 -6.194690\n",
       "Visual Blurring      44.247788  47.787611 -3.539823\n",
       "Itching              46.460177  51.327434 -4.867257\n",
       "Irritability         22.566372  27.433628 -4.867257\n",
       "Delayed Healing      46.902655  43.362832  3.539823\n",
       "Partial Paresis      42.256637  44.247788 -1.991150\n",
       "Muscle Stiffness     35.176991  38.053097 -2.876106\n",
       "Hair Loss            35.840708  35.398230  0.442478\n",
       "Obesity              17.035398  15.929204  1.106195\n",
       "Family History       48.672566  58.407080 -9.734513"
      ]
     },
     "execution_count": 10,
     "metadata": {},
     "output_type": "execute_result"
    }
   ],
   "source": [
    "percent_train,feat = f.find_distribution(X_train,features)\n",
    "percent_test,_ = f.find_distribution(X_test,features)\n",
    "delta = -(percent_test-percent_train)\n",
    "a = np.array([percent_train,percent_test,delta]).T\n",
    "\n",
    "distribution = pd.DataFrame(a,columns = ['Train%','Test%','Delta%'], index = feat )\n",
    "distribution.head(16)"
   ]
  },
  {
   "cell_type": "code",
   "execution_count": 11,
   "metadata": {},
   "outputs": [
    {
     "data": {
      "text/html": [
       "<div>\n",
       "<style scoped>\n",
       "    .dataframe tbody tr th:only-of-type {\n",
       "        vertical-align: middle;\n",
       "    }\n",
       "\n",
       "    .dataframe tbody tr th {\n",
       "        vertical-align: top;\n",
       "    }\n",
       "\n",
       "    .dataframe thead th {\n",
       "        text-align: right;\n",
       "    }\n",
       "</style>\n",
       "<table border=\"1\" class=\"dataframe\">\n",
       "  <thead>\n",
       "    <tr style=\"text-align: right;\">\n",
       "      <th></th>\n",
       "      <th>Age</th>\n",
       "      <th>Gender</th>\n",
       "      <th>Increased Urination</th>\n",
       "      <th>Increased Thirst</th>\n",
       "      <th>Sudden Weight Loss</th>\n",
       "      <th>Weakness</th>\n",
       "      <th>Increased Hunger</th>\n",
       "      <th>Genital Thrush</th>\n",
       "      <th>Visual Blurring</th>\n",
       "      <th>Itching</th>\n",
       "      <th>Irritability</th>\n",
       "      <th>Delayed Healing</th>\n",
       "      <th>Partial Paresis</th>\n",
       "      <th>Muscle Stiffness</th>\n",
       "      <th>Hair Loss</th>\n",
       "      <th>Obesity</th>\n",
       "      <th>Diagnosis</th>\n",
       "      <th>Family History</th>\n",
       "    </tr>\n",
       "  </thead>\n",
       "  <tbody>\n",
       "    <tr>\n",
       "      <th>0</th>\n",
       "      <td>45</td>\n",
       "      <td>1</td>\n",
       "      <td>0</td>\n",
       "      <td>0</td>\n",
       "      <td>0</td>\n",
       "      <td>1</td>\n",
       "      <td>0</td>\n",
       "      <td>0</td>\n",
       "      <td>0</td>\n",
       "      <td>1</td>\n",
       "      <td>0</td>\n",
       "      <td>0</td>\n",
       "      <td>1</td>\n",
       "      <td>0</td>\n",
       "      <td>1</td>\n",
       "      <td>0</td>\n",
       "      <td>0</td>\n",
       "      <td>0</td>\n",
       "    </tr>\n",
       "    <tr>\n",
       "      <th>1</th>\n",
       "      <td>42</td>\n",
       "      <td>1</td>\n",
       "      <td>0</td>\n",
       "      <td>0</td>\n",
       "      <td>0</td>\n",
       "      <td>0</td>\n",
       "      <td>0</td>\n",
       "      <td>0</td>\n",
       "      <td>0</td>\n",
       "      <td>0</td>\n",
       "      <td>0</td>\n",
       "      <td>0</td>\n",
       "      <td>0</td>\n",
       "      <td>0</td>\n",
       "      <td>1</td>\n",
       "      <td>0</td>\n",
       "      <td>0</td>\n",
       "      <td>0</td>\n",
       "    </tr>\n",
       "    <tr>\n",
       "      <th>2</th>\n",
       "      <td>45</td>\n",
       "      <td>1</td>\n",
       "      <td>1</td>\n",
       "      <td>1</td>\n",
       "      <td>0</td>\n",
       "      <td>1</td>\n",
       "      <td>0</td>\n",
       "      <td>1</td>\n",
       "      <td>0</td>\n",
       "      <td>0</td>\n",
       "      <td>0</td>\n",
       "      <td>1</td>\n",
       "      <td>0</td>\n",
       "      <td>0</td>\n",
       "      <td>1</td>\n",
       "      <td>0</td>\n",
       "      <td>1</td>\n",
       "      <td>0</td>\n",
       "    </tr>\n",
       "    <tr>\n",
       "      <th>3</th>\n",
       "      <td>59</td>\n",
       "      <td>0</td>\n",
       "      <td>0</td>\n",
       "      <td>0</td>\n",
       "      <td>0</td>\n",
       "      <td>0</td>\n",
       "      <td>0</td>\n",
       "      <td>0</td>\n",
       "      <td>0</td>\n",
       "      <td>0</td>\n",
       "      <td>0</td>\n",
       "      <td>0</td>\n",
       "      <td>0</td>\n",
       "      <td>0</td>\n",
       "      <td>0</td>\n",
       "      <td>0</td>\n",
       "      <td>1</td>\n",
       "      <td>1</td>\n",
       "    </tr>\n",
       "    <tr>\n",
       "      <th>4</th>\n",
       "      <td>40</td>\n",
       "      <td>0</td>\n",
       "      <td>1</td>\n",
       "      <td>1</td>\n",
       "      <td>1</td>\n",
       "      <td>1</td>\n",
       "      <td>0</td>\n",
       "      <td>0</td>\n",
       "      <td>1</td>\n",
       "      <td>1</td>\n",
       "      <td>0</td>\n",
       "      <td>0</td>\n",
       "      <td>1</td>\n",
       "      <td>1</td>\n",
       "      <td>0</td>\n",
       "      <td>0</td>\n",
       "      <td>1</td>\n",
       "      <td>0</td>\n",
       "    </tr>\n",
       "    <tr>\n",
       "      <th>...</th>\n",
       "      <td>...</td>\n",
       "      <td>...</td>\n",
       "      <td>...</td>\n",
       "      <td>...</td>\n",
       "      <td>...</td>\n",
       "      <td>...</td>\n",
       "      <td>...</td>\n",
       "      <td>...</td>\n",
       "      <td>...</td>\n",
       "      <td>...</td>\n",
       "      <td>...</td>\n",
       "      <td>...</td>\n",
       "      <td>...</td>\n",
       "      <td>...</td>\n",
       "      <td>...</td>\n",
       "      <td>...</td>\n",
       "      <td>...</td>\n",
       "      <td>...</td>\n",
       "    </tr>\n",
       "    <tr>\n",
       "      <th>518</th>\n",
       "      <td>62</td>\n",
       "      <td>1</td>\n",
       "      <td>1</td>\n",
       "      <td>0</td>\n",
       "      <td>0</td>\n",
       "      <td>1</td>\n",
       "      <td>0</td>\n",
       "      <td>1</td>\n",
       "      <td>1</td>\n",
       "      <td>1</td>\n",
       "      <td>1</td>\n",
       "      <td>0</td>\n",
       "      <td>1</td>\n",
       "      <td>1</td>\n",
       "      <td>1</td>\n",
       "      <td>1</td>\n",
       "      <td>1</td>\n",
       "      <td>0</td>\n",
       "    </tr>\n",
       "    <tr>\n",
       "      <th>519</th>\n",
       "      <td>35</td>\n",
       "      <td>1</td>\n",
       "      <td>1</td>\n",
       "      <td>0</td>\n",
       "      <td>0</td>\n",
       "      <td>0</td>\n",
       "      <td>1</td>\n",
       "      <td>1</td>\n",
       "      <td>0</td>\n",
       "      <td>0</td>\n",
       "      <td>1</td>\n",
       "      <td>1</td>\n",
       "      <td>0</td>\n",
       "      <td>0</td>\n",
       "      <td>1</td>\n",
       "      <td>0</td>\n",
       "      <td>1</td>\n",
       "      <td>0</td>\n",
       "    </tr>\n",
       "    <tr>\n",
       "      <th>562</th>\n",
       "      <td>61</td>\n",
       "      <td>0</td>\n",
       "      <td>1</td>\n",
       "      <td>0</td>\n",
       "      <td>0</td>\n",
       "      <td>0</td>\n",
       "      <td>1</td>\n",
       "      <td>0</td>\n",
       "      <td>0</td>\n",
       "      <td>0</td>\n",
       "      <td>1</td>\n",
       "      <td>0</td>\n",
       "      <td>0</td>\n",
       "      <td>0</td>\n",
       "      <td>1</td>\n",
       "      <td>0</td>\n",
       "      <td>1</td>\n",
       "      <td>1</td>\n",
       "    </tr>\n",
       "    <tr>\n",
       "      <th>563</th>\n",
       "      <td>46</td>\n",
       "      <td>1</td>\n",
       "      <td>0</td>\n",
       "      <td>0</td>\n",
       "      <td>0</td>\n",
       "      <td>1</td>\n",
       "      <td>0</td>\n",
       "      <td>0</td>\n",
       "      <td>0</td>\n",
       "      <td>1</td>\n",
       "      <td>0</td>\n",
       "      <td>1</td>\n",
       "      <td>0</td>\n",
       "      <td>0</td>\n",
       "      <td>1</td>\n",
       "      <td>0</td>\n",
       "      <td>0</td>\n",
       "      <td>0</td>\n",
       "    </tr>\n",
       "    <tr>\n",
       "      <th>564</th>\n",
       "      <td>37</td>\n",
       "      <td>1</td>\n",
       "      <td>0</td>\n",
       "      <td>0</td>\n",
       "      <td>0</td>\n",
       "      <td>0</td>\n",
       "      <td>0</td>\n",
       "      <td>0</td>\n",
       "      <td>0</td>\n",
       "      <td>0</td>\n",
       "      <td>0</td>\n",
       "      <td>0</td>\n",
       "      <td>0</td>\n",
       "      <td>0</td>\n",
       "      <td>0</td>\n",
       "      <td>0</td>\n",
       "      <td>0</td>\n",
       "      <td>0</td>\n",
       "    </tr>\n",
       "  </tbody>\n",
       "</table>\n",
       "<p>523 rows × 18 columns</p>\n",
       "</div>"
      ],
      "text/plain": [
       "     Age  Gender  Increased Urination  Increased Thirst  Sudden Weight Loss  \\\n",
       "0     45       1                    0                 0                   0   \n",
       "1     42       1                    0                 0                   0   \n",
       "2     45       1                    1                 1                   0   \n",
       "3     59       0                    0                 0                   0   \n",
       "4     40       0                    1                 1                   1   \n",
       "..   ...     ...                  ...               ...                 ...   \n",
       "518   62       1                    1                 0                   0   \n",
       "519   35       1                    1                 0                   0   \n",
       "562   61       0                    1                 0                   0   \n",
       "563   46       1                    0                 0                   0   \n",
       "564   37       1                    0                 0                   0   \n",
       "\n",
       "     Weakness  Increased Hunger  Genital Thrush  Visual Blurring  Itching  \\\n",
       "0           1                 0               0                0        1   \n",
       "1           0                 0               0                0        0   \n",
       "2           1                 0               1                0        0   \n",
       "3           0                 0               0                0        0   \n",
       "4           1                 0               0                1        1   \n",
       "..        ...               ...             ...              ...      ...   \n",
       "518         1                 0               1                1        1   \n",
       "519         0                 1               1                0        0   \n",
       "562         0                 1               0                0        0   \n",
       "563         1                 0               0                0        1   \n",
       "564         0                 0               0                0        0   \n",
       "\n",
       "     Irritability  Delayed Healing  Partial Paresis  Muscle Stiffness  \\\n",
       "0               0                0                1                 0   \n",
       "1               0                0                0                 0   \n",
       "2               0                1                0                 0   \n",
       "3               0                0                0                 0   \n",
       "4               0                0                1                 1   \n",
       "..            ...              ...              ...               ...   \n",
       "518             1                0                1                 1   \n",
       "519             1                1                0                 0   \n",
       "562             1                0                0                 0   \n",
       "563             0                1                0                 0   \n",
       "564             0                0                0                 0   \n",
       "\n",
       "     Hair Loss  Obesity  Diagnosis  Family History  \n",
       "0            1        0          0               0  \n",
       "1            1        0          0               0  \n",
       "2            1        0          1               0  \n",
       "3            0        0          1               1  \n",
       "4            0        0          1               0  \n",
       "..         ...      ...        ...             ...  \n",
       "518          1        1          1               0  \n",
       "519          1        0          1               0  \n",
       "562          1        0          1               1  \n",
       "563          1        0          0               0  \n",
       "564          0        0          0               0  \n",
       "\n",
       "[523 rows x 18 columns]"
      ]
     },
     "execution_count": 11,
     "metadata": {},
     "output_type": "execute_result"
    }
   ],
   "source": [
    "# Categorical boolean mask\n",
    "categorical_feature_mask = dataset.dtypes==object \n",
    "# filter categorical columns using mask and turn it into a list\n",
    "categorical_cols = dataset.dropna().columns[categorical_feature_mask].tolist()\n",
    "\n",
    "# import labelencoder\n",
    "from sklearn.preprocessing import LabelEncoder\n",
    "# instantiate labelencoder object\n",
    "le = LabelEncoder()\n",
    "d = dataset.dropna().copy()\n",
    "# apply le on categorical feature columns\n",
    "d[categorical_cols] = d[categorical_cols].apply(lambda col: le.fit_transform(col.astype(str)))\n",
    "\n",
    "d"
   ]
  },
  {
   "cell_type": "code",
   "execution_count": 12,
   "metadata": {},
   "outputs": [],
   "source": [
    "# import OneHotEncoder\n",
    "from sklearn.preprocessing import OneHotEncoder\n",
    "# instantiate OneHotEncoder\n",
    "ohe = OneHotEncoder( sparse=False ) \n",
    "# categorical_features = boolean mask for categorical columns\n",
    "# sparse = False output an array not sparse matrix\n",
    "# apply OneHotEncoder on categorical feature columns\n",
    "X_ohe = ohe.fit_transform(d.drop('Age', axis=1)) # It returns an numpy array"
   ]
  },
  {
   "cell_type": "code",
   "execution_count": 13,
   "metadata": {},
   "outputs": [],
   "source": [
    "dd = dataset.dropna()['Age'].values\n",
    "dd = np.reshape(dd,(1, dd.size))\n",
    "X_ohe = np.concatenate((dd.T,X_ohe), axis = 1)"
   ]
  },
  {
   "cell_type": "code",
   "execution_count": 14,
   "metadata": {},
   "outputs": [],
   "source": [
    "X = np.delete(X_ohe.T,32,0)"
   ]
  },
  {
   "cell_type": "code",
   "execution_count": 15,
   "metadata": {},
   "outputs": [],
   "source": [
    "X1 = np.delete(X,31,0).T\n",
    "Age =  X1[:,0]\n",
    "mu = np.mean(Age)\n",
    "std = np.std(Age)\n",
    "Age -=mu\n",
    "Age/=std\n",
    "age = np.array([Age])\n",
    "X2 = np.concatenate((age.T, X1[:,1:-1]),axis=1)"
   ]
  },
  {
   "cell_type": "code",
   "execution_count": 16,
   "metadata": {},
   "outputs": [
    {
     "name": "stdout",
     "output_type": "stream",
     "text": [
      "Accuracy is: 91.43%\n",
      "F1 score is: 91.04%\n"
     ]
    }
   ],
   "source": [
    "X_train, X_test, y_train, y_test = train_test_split(X2, d[\"Diagnosis\"], test_size=0.2, random_state=10, stratify =d[\"Diagnosis\"] )\n",
    "logreg = LogisticRegression(solver='saga', multi_class='ovr', penalty='l2', max_iter=10000)\n",
    "logreg.fit(X_train,y_train)\n",
    "y_pred_log = logreg.predict(X_test)\n",
    "w_log = logreg.coef_\n",
    "\n",
    "print(\"Accuracy is: \" + str(\"{0:.2f}\".format(100 * metrics.accuracy_score(y_test, y_pred_log))) + \"%\")\n",
    "print(\"F1 score is: \" + str(\"{0:.2f}\".format(100 * metrics.f1_score(y_test, y_pred_log, average='macro'))) + \"%\")                                                    "
   ]
  },
  {
   "cell_type": "code",
   "execution_count": 17,
   "metadata": {},
   "outputs": [],
   "source": [
    "C = [0.001, 0.01, 0.1, 1, 10, 100]\n",
    "val_dict_logreg = f.cv_kfold_logreg(X_train,y_train,C=C,penalty=['l1','l2'],K=5)"
   ]
  },
  {
   "cell_type": "code",
   "execution_count": 18,
   "metadata": {},
   "outputs": [
    {
     "data": {
      "image/png": "[encoded data removed]",
      "text/plain": [
       "<Figure size 432x288 with 1 Axes>"
      ]
     },
     "metadata": {
      "needs_background": "light"
     },
     "output_type": "display_data"
    }
   ],
   "source": [
    "f.prob_curves(val_dict_logreg,flag = 'logreg')"
   ]
  },
  {
   "cell_type": "code",
   "execution_count": 19,
   "metadata": {},
   "outputs": [
    {
     "data": {
      "image/png": "[encoded data removed]",
      "text/plain": [
       "<Figure size 432x288 with 2 Axes>"
      ]
     },
     "metadata": {
      "needs_background": "light"
     },
     "output_type": "display_data"
    }
   ],
   "source": [
    "C =  100 #  best result\n",
    "penalty =  'l1'# best result\n",
    "best_logreg = LogisticRegression(solver='saga', multi_class='ovr', penalty=penalty, C=C, max_iter=10000)\n",
    "best_logreg.fit(X_train,y_train)\n",
    "y_pred_logreg =  best_logreg.predict(X_test)\n",
    "y_pred_proba_logreg = best_logreg.predict_proba(X_test)\n",
    "cnf_matrix = metrics.confusion_matrix(y_test, y_pred_logreg)\n",
    "ax1 = plt.subplot(211)\n",
    "sns.heatmap(cnf_matrix, annot=True, xticklabels=['Negative','Positive'], yticklabels=['Negative','Positive'])\n",
    "ax1.set(ylabel='True labels', xlabel='Predicted labels')\n",
    "plt.show()"
   ]
  },
  {
   "cell_type": "code",
   "execution_count": 20,
   "metadata": {},
   "outputs": [
    {
     "name": "stdout",
     "output_type": "stream",
     "text": [
      "Loss is 0.27. \n",
      "Accuracy is 0.89. \n",
      "F1 is 0.90. \n",
      "AUROC is 0.955\n"
     ]
    }
   ],
   "source": [
    "f.calc_stat(X_test,y_test,best_logreg)"
   ]
  },
  {
   "cell_type": "code",
   "execution_count": 21,
   "metadata": {},
   "outputs": [
    {
     "name": "stdout",
     "output_type": "stream",
     "text": [
      "Fitting 5 folds for each of 1 candidates, totalling 5 fits\n",
      "[CV] svm__C=100, svm__gamma=100, svm__kernel=linear ..................\n",
      "[CV]  svm__C=100, svm__gamma=100, svm__kernel=linear, accuracy=(train=0.966, test=0.866), f1=(train=0.973, test=0.894), precision=(train=0.970, test=0.884), recall=(train=0.976, test=0.905), roc_auc=(train=0.991, test=0.922), total=   0.1s\n",
      "[CV] svm__C=100, svm__gamma=100, svm__kernel=linear ..................\n"
     ]
    },
    {
     "name": "stderr",
     "output_type": "stream",
     "text": [
      "[Parallel(n_jobs=1)]: Using backend SequentialBackend with 1 concurrent workers.\n",
      "[Parallel(n_jobs=1)]: Done   1 out of   1 | elapsed:    0.0s remaining:    0.0s\n"
     ]
    },
    {
     "name": "stdout",
     "output_type": "stream",
     "text": [
      "[CV]  svm__C=100, svm__gamma=100, svm__kernel=linear, accuracy=(train=0.940, test=0.925), f1=(train=0.951, test=0.938), precision=(train=0.963, test=0.950), recall=(train=0.939, test=0.927), roc_auc=(train=0.970, test=0.980), total=   0.2s\n",
      "[CV] svm__C=100, svm__gamma=100, svm__kernel=linear ..................\n",
      "[CV]  svm__C=100, svm__gamma=100, svm__kernel=linear, accuracy=(train=0.959, test=0.925), f1=(train=0.967, test=0.937), precision=(train=0.964, test=0.974), recall=(train=0.970, test=0.902), roc_auc=(train=0.977, test=0.942), total=   0.2s\n",
      "[CV] svm__C=100, svm__gamma=100, svm__kernel=linear ..................\n"
     ]
    },
    {
     "name": "stderr",
     "output_type": "stream",
     "text": [
      "[Parallel(n_jobs=1)]: Done   2 out of   2 | elapsed:    0.2s remaining:    0.0s\n"
     ]
    },
    {
     "name": "stdout",
     "output_type": "stream",
     "text": [
      "[CV]  svm__C=100, svm__gamma=100, svm__kernel=linear, accuracy=(train=0.940, test=0.896), f1=(train=0.952, test=0.916), precision=(train=0.952, test=0.905), recall=(train=0.952, test=0.927), roc_auc=(train=0.972, test=0.986), total=   0.5s\n",
      "[CV] svm__C=100, svm__gamma=100, svm__kernel=linear ..................\n",
      "[CV]  svm__C=100, svm__gamma=100, svm__kernel=linear, accuracy=(train=0.937, test=0.894), f1=(train=0.949, test=0.911), precision=(train=0.946, test=0.947), recall=(train=0.952, test=0.878), roc_auc=(train=0.983, test=0.974), total=   0.2s\n"
     ]
    },
    {
     "name": "stderr",
     "output_type": "stream",
     "text": [
      "[Parallel(n_jobs=1)]: Done   5 out of   5 | elapsed:    1.0s finished\n"
     ]
    },
    {
     "name": "stdout",
     "output_type": "stream",
     "text": [
      "Fitting 5 folds for each of 1 candidates, totalling 5 fits\n",
      "[CV] svm__C=100, svm__gamma=100, svm__kernel=linear ..................\n",
      "[CV]  svm__C=100, svm__gamma=100, svm__kernel=linear, accuracy=(train=0.978, test=0.940), f1=(train=0.982, test=0.951), precision=(train=0.982, test=0.951), recall=(train=0.982, test=0.951), roc_auc=(train=0.993, test=0.982), total=   0.1s\n",
      "[CV] svm__C=100, svm__gamma=100, svm__kernel=linear ..................\n",
      "[CV]  svm__C=100, svm__gamma=100, svm__kernel=linear, accuracy=(train=0.951, test=0.970), f1=(train=0.960, test=0.975), precision=(train=0.969, test=1.000), recall=(train=0.951, test=0.951), roc_auc=(train=0.987, test=0.994), total=   0.1s\n",
      "[CV] svm__C=100, svm__gamma=100, svm__kernel=linear ..................\n"
     ]
    },
    {
     "name": "stderr",
     "output_type": "stream",
     "text": [
      "[Parallel(n_jobs=1)]: Using backend SequentialBackend with 1 concurrent workers.\n",
      "[Parallel(n_jobs=1)]: Done   1 out of   1 | elapsed:    0.0s remaining:    0.0s\n",
      "[Parallel(n_jobs=1)]: Done   2 out of   2 | elapsed:    0.1s remaining:    0.0s\n"
     ]
    },
    {
     "name": "stdout",
     "output_type": "stream",
     "text": [
      "[CV]  svm__C=100, svm__gamma=100, svm__kernel=linear, accuracy=(train=0.985, test=0.866), f1=(train=0.988, test=0.886), precision=(train=0.988, test=0.921), recall=(train=0.988, test=0.854), roc_auc=(train=0.993, test=0.938), total=   0.0s\n",
      "[CV] svm__C=100, svm__gamma=100, svm__kernel=linear ..................\n",
      "[CV]  svm__C=100, svm__gamma=100, svm__kernel=linear, accuracy=(train=0.963, test=0.955), f1=(train=0.969, test=0.964), precision=(train=0.981, test=0.952), recall=(train=0.957, test=0.976), roc_auc=(train=0.991, test=0.993), total=   0.1s\n",
      "[CV] svm__C=100, svm__gamma=100, svm__kernel=linear ..................\n",
      "[CV]  svm__C=100, svm__gamma=100, svm__kernel=linear, accuracy=(train=0.993, test=0.879), f1=(train=0.994, test=0.900), precision=(train=1.000, test=0.923), recall=(train=0.988, test=0.878), roc_auc=(train=0.992, test=0.935), total=   0.0s\n"
     ]
    },
    {
     "name": "stderr",
     "output_type": "stream",
     "text": [
      "[Parallel(n_jobs=1)]: Done   5 out of   5 | elapsed:    0.3s finished\n",
      "[Parallel(n_jobs=1)]: Using backend SequentialBackend with 1 concurrent workers.\n"
     ]
    },
    {
     "name": "stdout",
     "output_type": "stream",
     "text": [
      "Fitting 5 folds for each of 1 candidates, totalling 5 fits\n",
      "[CV] svm__C=100, svm__gamma=100, svm__kernel=linear ..................\n",
      "[CV]  svm__C=100, svm__gamma=100, svm__kernel=linear, accuracy=(train=0.959, test=0.955), f1=(train=0.967, test=0.963), precision=(train=0.964, test=0.975), recall=(train=0.970, test=0.951), roc_auc=(train=0.982, test=0.973), total=   0.1s\n",
      "[CV] svm__C=100, svm__gamma=100, svm__kernel=linear ..................\n"
     ]
    },
    {
     "name": "stderr",
     "output_type": "stream",
     "text": [
      "[Parallel(n_jobs=1)]: Done   1 out of   1 | elapsed:    0.1s remaining:    0.0s\n",
      "[Parallel(n_jobs=1)]: Done   2 out of   2 | elapsed:    0.1s remaining:    0.0s\n"
     ]
    },
    {
     "name": "stdout",
     "output_type": "stream",
     "text": [
      "[CV]  svm__C=100, svm__gamma=100, svm__kernel=linear, accuracy=(train=0.959, test=0.910), f1=(train=0.966, test=0.927), precision=(train=0.969, test=0.927), recall=(train=0.963, test=0.927), roc_auc=(train=0.989, test=0.950), total=   0.1s\n",
      "[CV] svm__C=100, svm__gamma=100, svm__kernel=linear ..................\n",
      "[CV]  svm__C=100, svm__gamma=100, svm__kernel=linear, accuracy=(train=0.970, test=0.925), f1=(train=0.976, test=0.940), precision=(train=0.976, test=0.929), recall=(train=0.976, test=0.951), roc_auc=(train=0.984, test=0.961), total=   0.1s\n",
      "[CV] svm__C=100, svm__gamma=100, svm__kernel=linear ..................\n",
      "[CV]  svm__C=100, svm__gamma=100, svm__kernel=linear, accuracy=(train=0.951, test=0.940), f1=(train=0.960, test=0.952), precision=(train=0.958, test=0.930), recall=(train=0.963, test=0.976), roc_auc=(train=0.975, test=0.985), total=   0.2s\n",
      "[CV] svm__C=100, svm__gamma=100, svm__kernel=linear ..................\n",
      "[CV]  svm__C=100, svm__gamma=100, svm__kernel=linear, accuracy=(train=0.959, test=0.909), f1=(train=0.966, test=0.921), precision=(train=0.981, test=1.000), recall=(train=0.951, test=0.854), roc_auc=(train=0.984, test=0.966), total=   0.1s\n"
     ]
    },
    {
     "name": "stderr",
     "output_type": "stream",
     "text": [
      "[Parallel(n_jobs=1)]: Done   5 out of   5 | elapsed:    0.6s finished\n"
     ]
    },
    {
     "name": "stdout",
     "output_type": "stream",
     "text": [
      "Fitting 5 folds for each of 1 candidates, totalling 5 fits\n",
      "[CV] svm__C=100, svm__gamma=100, svm__kernel=linear ..................\n"
     ]
    },
    {
     "name": "stderr",
     "output_type": "stream",
     "text": [
      "[Parallel(n_jobs=1)]: Using backend SequentialBackend with 1 concurrent workers.\n"
     ]
    },
    {
     "name": "stdout",
     "output_type": "stream",
     "text": [
      "[CV]  svm__C=100, svm__gamma=100, svm__kernel=linear, accuracy=(train=0.955, test=0.925), f1=(train=0.964, test=0.940), precision=(train=0.964, test=0.929), recall=(train=0.964, test=0.951), roc_auc=(train=0.975, test=0.982), total=   0.3s\n",
      "[CV] svm__C=100, svm__gamma=100, svm__kernel=linear ..................\n",
      "[CV]  svm__C=100, svm__gamma=100, svm__kernel=linear, accuracy=(train=0.963, test=0.866), f1=(train=0.970, test=0.886), precision=(train=0.959, test=0.921), recall=(train=0.982, test=0.854), roc_auc=(train=0.989, test=0.940), total=   0.1s\n",
      "[CV] svm__C=100, svm__gamma=100, svm__kernel=linear ..................\n"
     ]
    },
    {
     "name": "stderr",
     "output_type": "stream",
     "text": [
      "[Parallel(n_jobs=1)]: Done   1 out of   1 | elapsed:    0.2s remaining:    0.0s\n",
      "[Parallel(n_jobs=1)]: Done   2 out of   2 | elapsed:    0.3s remaining:    0.0s\n"
     ]
    },
    {
     "name": "stdout",
     "output_type": "stream",
     "text": [
      "[CV]  svm__C=100, svm__gamma=100, svm__kernel=linear, accuracy=(train=0.948, test=0.896), f1=(train=0.957, test=0.916), precision=(train=0.969, test=0.905), recall=(train=0.945, test=0.927), roc_auc=(train=0.979, test=0.972), total=   0.2s\n",
      "[CV] svm__C=100, svm__gamma=100, svm__kernel=linear ..................\n",
      "[CV]  svm__C=100, svm__gamma=100, svm__kernel=linear, accuracy=(train=0.951, test=0.881), f1=(train=0.961, test=0.897), precision=(train=0.952, test=0.946), recall=(train=0.970, test=0.854), roc_auc=(train=0.980, test=0.961), total=   0.2s\n",
      "[CV] svm__C=100, svm__gamma=100, svm__kernel=linear ..................\n",
      "[CV]  svm__C=100, svm__gamma=100, svm__kernel=linear, accuracy=(train=0.944, test=0.896), f1=(train=0.954, test=0.914), precision=(train=0.957, test=0.949), recall=(train=0.951, test=0.881), roc_auc=(train=0.982, test=0.964), total=   0.1s\n"
     ]
    },
    {
     "name": "stderr",
     "output_type": "stream",
     "text": [
      "[Parallel(n_jobs=1)]: Done   5 out of   5 | elapsed:    1.0s finished\n"
     ]
    },
    {
     "name": "stdout",
     "output_type": "stream",
     "text": [
      "Fitting 5 folds for each of 1 candidates, totalling 5 fits\n",
      "[CV] svm__C=100, svm__gamma=100, svm__kernel=linear ..................\n",
      "[CV]  svm__C=100, svm__gamma=100, svm__kernel=linear, accuracy=(train=0.925, test=0.925), f1=(train=0.939, test=0.938), precision=(train=0.939, test=0.950), recall=(train=0.939, test=0.927), roc_auc=(train=0.979, test=0.993), total=   0.1s\n",
      "[CV] svm__C=100, svm__gamma=100, svm__kernel=linear ..................\n"
     ]
    },
    {
     "name": "stderr",
     "output_type": "stream",
     "text": [
      "[Parallel(n_jobs=1)]: Using backend SequentialBackend with 1 concurrent workers.\n",
      "[Parallel(n_jobs=1)]: Done   1 out of   1 | elapsed:    0.0s remaining:    0.0s\n"
     ]
    },
    {
     "name": "stdout",
     "output_type": "stream",
     "text": [
      "[CV]  svm__C=100, svm__gamma=100, svm__kernel=linear, accuracy=(train=0.970, test=0.821), f1=(train=0.976, test=0.854), precision=(train=0.976, test=0.854), recall=(train=0.976, test=0.854), roc_auc=(train=0.987, test=0.911), total=   0.1s\n",
      "[CV] svm__C=100, svm__gamma=100, svm__kernel=linear ..................\n",
      "[CV]  svm__C=100, svm__gamma=100, svm__kernel=linear, accuracy=(train=0.959, test=0.910), f1=(train=0.967, test=0.927), precision=(train=0.964, test=0.927), recall=(train=0.970, test=0.927), roc_auc=(train=0.980, test=0.951), total=   0.1s\n",
      "[CV] svm__C=100, svm__gamma=100, svm__kernel=linear ..................\n"
     ]
    },
    {
     "name": "stderr",
     "output_type": "stream",
     "text": [
      "[Parallel(n_jobs=1)]: Done   2 out of   2 | elapsed:    0.1s remaining:    0.0s\n"
     ]
    },
    {
     "name": "stdout",
     "output_type": "stream",
     "text": [
      "[CV]  svm__C=100, svm__gamma=100, svm__kernel=linear, accuracy=(train=0.955, test=0.851), f1=(train=0.963, test=0.875), precision=(train=0.969, test=0.897), recall=(train=0.958, test=0.854), roc_auc=(train=0.984, test=0.929), total=   0.2s\n",
      "[CV] svm__C=100, svm__gamma=100, svm__kernel=linear ..................\n",
      "[CV]  svm__C=100, svm__gamma=100, svm__kernel=linear, accuracy=(train=0.937, test=0.955), f1=(train=0.948, test=0.965), precision=(train=0.951, test=0.953), recall=(train=0.945, test=0.976), roc_auc=(train=0.983, test=0.982), total=   0.1s\n"
     ]
    },
    {
     "name": "stderr",
     "output_type": "stream",
     "text": [
      "[Parallel(n_jobs=1)]: Done   5 out of   5 | elapsed:    0.6s finished\n"
     ]
    }
   ],
   "source": [
    "# C = [0.001, 0.01, 0.1, 1, 10, 100]\n",
    "C = [100]\n",
    "gamma = [100]\n",
    "# val_dict_linear_svm = f.cv_kfold_logreg(X_train,y_train,C=C,penalty=['-'],K=5)\n",
    "y_pred_svm_lin, svm_lin = f.cv_kfold_svm(X_train,y_train,C=C,K=5,gamma=gamma,flag = 'linear')\n",
    "best_svm_lin = svm_lin.best_estimator_"
   ]
  },
  {
   "cell_type": "code",
   "execution_count": 22,
   "metadata": {},
   "outputs": [
    {
     "data": {
      "image/png": "[encoded data removed]",
      "text/plain": [
       "<Figure size 432x288 with 2 Axes>"
      ]
     },
     "metadata": {
      "needs_background": "light"
     },
     "output_type": "display_data"
    }
   ],
   "source": [
    "y_pred_svm_lin_best =  best_svm_lin.predict(X_test)\n",
    "y_pred_proba_svm_lin_best = best_svm_lin.predict_proba(X_test)\n",
    "cnf_matrix = metrics.confusion_matrix(y_test, y_pred_svm_lin_best)\n",
    "ax1 = plt.subplot(211)\n",
    "sns.heatmap(cnf_matrix, annot=True, xticklabels=['Negative','Positive'], yticklabels=['Negative','Positive'])\n",
    "ax1.set(ylabel='True labels', xlabel='Predicted labels')\n",
    "plt.show()\n"
   ]
  },
  {
   "cell_type": "code",
   "execution_count": 23,
   "metadata": {},
   "outputs": [
    {
     "name": "stdout",
     "output_type": "stream",
     "text": [
      "Loss is 0.30. \n",
      "Accuracy is 0.90. \n",
      "F1 is 0.92. \n",
      "AUROC is 0.948\n"
     ]
    }
   ],
   "source": [
    "f.calc_stat(X_test,y_test,best_svm_lin)"
   ]
  },
  {
   "cell_type": "code",
   "execution_count": 24,
   "metadata": {},
   "outputs": [
    {
     "name": "stdout",
     "output_type": "stream",
     "text": [
      "Fitting 5 folds for each of 1 candidates, totalling 5 fits\n",
      "[CV] svm__C=10, svm__gamma=0.1, svm__kernel=rbf ......................\n",
      "[CV]  svm__C=10, svm__gamma=0.1, svm__kernel=rbf, accuracy=(train=1.000, test=0.940), f1=(train=1.000, test=0.952), precision=(train=1.000, test=0.952), recall=(train=1.000, test=0.952), roc_auc=(train=1.000, test=0.991), total=   0.0s\n",
      "[CV] svm__C=10, svm__gamma=0.1, svm__kernel=rbf ......................\n",
      "[CV]  svm__C=10, svm__gamma=0.1, svm__kernel=rbf, accuracy=(train=0.996, test=0.925), f1=(train=0.997, test=0.938), precision=(train=1.000, test=0.950), recall=(train=0.994, test=0.927), roc_auc=(train=1.000, test=0.991), total=   0.0s\n",
      "[CV] svm__C=10, svm__gamma=0.1, svm__kernel=rbf ......................\n",
      "[CV]  svm__C=10, svm__gamma=0.1, svm__kernel=rbf, accuracy=(train=0.996, test=0.985), f1=(train=0.997, test=0.988), precision=(train=1.000, test=1.000), recall=(train=0.994, test=0.976), roc_auc=(train=1.000, test=0.999), total=   0.0s\n",
      "[CV] svm__C=10, svm__gamma=0.1, svm__kernel=rbf ......................\n",
      "[CV]  svm__C=10, svm__gamma=0.1, svm__kernel=rbf, accuracy=(train=1.000, test=1.000), f1=(train=1.000, test=1.000), precision=(train=1.000, test=1.000), recall=(train=1.000, test=1.000), roc_auc=(train=1.000, test=1.000), total=   0.0s\n",
      "[CV] svm__C=10, svm__gamma=0.1, svm__kernel=rbf ......................\n",
      "[CV]  svm__C=10, svm__gamma=0.1, svm__kernel=rbf, accuracy=(train=0.996, test=0.970), f1=(train=0.997, test=0.975), precision=(train=1.000, test=1.000), recall=(train=0.994, test=0.951), roc_auc=(train=1.000, test=0.997), total=   0.0s\n",
      "Fitting 5 folds for each of 1 candidates, totalling 5 fits\n",
      "[CV] svm__C=10, svm__gamma=0.1, svm__kernel=rbf ......................\n",
      "[CV]  svm__C=10, svm__gamma=0.1, svm__kernel=rbf, accuracy=(train=1.000, test=0.985), f1=(train=1.000, test=0.988), precision=(train=1.000, test=0.976), recall=(train=1.000, test=1.000), roc_auc=(train=1.000, test=0.994), total=   0.0s\n",
      "[CV] svm__C=10, svm__gamma=0.1, svm__kernel=rbf ......................\n"
     ]
    },
    {
     "name": "stderr",
     "output_type": "stream",
     "text": [
      "[Parallel(n_jobs=1)]: Using backend SequentialBackend with 1 concurrent workers.\n",
      "[Parallel(n_jobs=1)]: Done   1 out of   1 | elapsed:    0.0s remaining:    0.0s\n",
      "[Parallel(n_jobs=1)]: Done   2 out of   2 | elapsed:    0.0s remaining:    0.0s\n",
      "[Parallel(n_jobs=1)]: Done   5 out of   5 | elapsed:    0.1s finished\n",
      "[Parallel(n_jobs=1)]: Using backend SequentialBackend with 1 concurrent workers.\n",
      "[Parallel(n_jobs=1)]: Done   1 out of   1 | elapsed:    0.0s remaining:    0.0s\n"
     ]
    },
    {
     "name": "stdout",
     "output_type": "stream",
     "text": [
      "[CV]  svm__C=10, svm__gamma=0.1, svm__kernel=rbf, accuracy=(train=0.996, test=0.970), f1=(train=0.997, test=0.975), precision=(train=1.000, test=1.000), recall=(train=0.994, test=0.951), roc_auc=(train=1.000, test=1.000), total=   0.0s\n",
      "[CV] svm__C=10, svm__gamma=0.1, svm__kernel=rbf ......................\n",
      "[CV]  svm__C=10, svm__gamma=0.1, svm__kernel=rbf, accuracy=(train=0.996, test=0.970), f1=(train=0.997, test=0.975), precision=(train=1.000, test=1.000), recall=(train=0.994, test=0.951), roc_auc=(train=1.000, test=0.999), total=   0.0s\n",
      "[CV] svm__C=10, svm__gamma=0.1, svm__kernel=rbf ......................\n",
      "[CV]  svm__C=10, svm__gamma=0.1, svm__kernel=rbf, accuracy=(train=0.996, test=1.000), f1=(train=0.997, test=1.000), precision=(train=1.000, test=1.000), recall=(train=0.994, test=1.000), roc_auc=(train=1.000, test=1.000), total=   0.0s\n",
      "[CV] svm__C=10, svm__gamma=0.1, svm__kernel=rbf ......................\n",
      "[CV]  svm__C=10, svm__gamma=0.1, svm__kernel=rbf, accuracy=(train=1.000, test=0.939), f1=(train=1.000, test=0.951), precision=(train=1.000, test=0.951), recall=(train=1.000, test=0.951), roc_auc=(train=1.000, test=0.989), total=   0.0s\n",
      "Fitting 5 folds for each of 1 candidates, totalling 5 fits\n",
      "[CV] svm__C=10, svm__gamma=0.1, svm__kernel=rbf ......................\n",
      "[CV]  svm__C=10, svm__gamma=0.1, svm__kernel=rbf, accuracy=(train=0.996, test=0.970), f1=(train=0.997, test=0.976), precision=(train=1.000, test=0.976), recall=(train=0.994, test=0.976), roc_auc=(train=1.000, test=0.999), total=   0.0s\n",
      "[CV] svm__C=10, svm__gamma=0.1, svm__kernel=rbf ......................\n",
      "[CV]  svm__C=10, svm__gamma=0.1, svm__kernel=rbf, accuracy=(train=0.996, test=0.970), f1=(train=0.997, test=0.975), precision=(train=1.000, test=1.000), recall=(train=0.994, test=0.951), roc_auc=(train=1.000, test=0.995), total=   0.0s\n",
      "[CV] svm__C=10, svm__gamma=0.1, svm__kernel=rbf ......................\n",
      "[CV]  svm__C=10, svm__gamma=0.1, svm__kernel=rbf, accuracy=(train=0.993, test=0.955), f1=(train=0.994, test=0.964), precision=(train=1.000, test=0.952), recall=(train=0.988, test=0.976), roc_auc=(train=1.000, test=0.991), total=   0.0s\n",
      "[CV] svm__C=10, svm__gamma=0.1, svm__kernel=rbf ......................\n",
      "[CV]  svm__C=10, svm__gamma=0.1, svm__kernel=rbf, accuracy=(train=0.993, test=1.000), f1=(train=0.994, test=1.000), precision=(train=1.000, test=1.000), recall=(train=0.988, test=1.000), roc_auc=(train=1.000, test=1.000), total=   0.0s\n",
      "[CV] svm__C=10, svm__gamma=0.1, svm__kernel=rbf ......................\n"
     ]
    },
    {
     "name": "stderr",
     "output_type": "stream",
     "text": [
      "[Parallel(n_jobs=1)]: Done   2 out of   2 | elapsed:    0.0s remaining:    0.0s\n",
      "[Parallel(n_jobs=1)]: Done   5 out of   5 | elapsed:    0.0s finished\n",
      "[Parallel(n_jobs=1)]: Using backend SequentialBackend with 1 concurrent workers.\n",
      "[Parallel(n_jobs=1)]: Done   1 out of   1 | elapsed:    0.0s remaining:    0.0s\n",
      "[Parallel(n_jobs=1)]: Done   2 out of   2 | elapsed:    0.0s remaining:    0.0s\n"
     ]
    },
    {
     "name": "stdout",
     "output_type": "stream",
     "text": [
      "[CV]  svm__C=10, svm__gamma=0.1, svm__kernel=rbf, accuracy=(train=0.996, test=0.955), f1=(train=0.997, test=0.962), precision=(train=1.000, test=1.000), recall=(train=0.994, test=0.927), roc_auc=(train=1.000, test=0.987), total=   0.0s\n",
      "Fitting 5 folds for each of 1 candidates, totalling 5 fits\n",
      "[CV] svm__C=10, svm__gamma=0.1, svm__kernel=rbf ......................\n",
      "[CV]  svm__C=10, svm__gamma=0.1, svm__kernel=rbf, accuracy=(train=0.996, test=0.985), f1=(train=0.997, test=0.988), precision=(train=0.994, test=0.976), recall=(train=1.000, test=1.000), roc_auc=(train=1.000, test=0.995), total=   0.0s\n",
      "[CV] svm__C=10, svm__gamma=0.1, svm__kernel=rbf ......................\n",
      "[CV]  svm__C=10, svm__gamma=0.1, svm__kernel=rbf, accuracy=(train=0.996, test=0.955), f1=(train=0.997, test=0.963), precision=(train=1.000, test=0.975), recall=(train=0.994, test=0.951), roc_auc=(train=1.000, test=0.981), total=   0.0s\n",
      "[CV] svm__C=10, svm__gamma=0.1, svm__kernel=rbf ......................\n",
      "[CV]  svm__C=10, svm__gamma=0.1, svm__kernel=rbf, accuracy=(train=0.996, test=0.940), f1=(train=0.997, test=0.951), precision=(train=0.994, test=0.951), recall=(train=1.000, test=0.951), roc_auc=(train=1.000, test=0.983), total=   0.0s\n",
      "[CV] svm__C=10, svm__gamma=0.1, svm__kernel=rbf ......................\n",
      "[CV]  svm__C=10, svm__gamma=0.1, svm__kernel=rbf, accuracy=(train=0.993, test=0.985), f1=(train=0.994, test=0.988), precision=(train=1.000, test=1.000), recall=(train=0.988, test=0.976), roc_auc=(train=1.000, test=1.000), total=   0.0s\n",
      "[CV] svm__C=10, svm__gamma=0.1, svm__kernel=rbf ......................\n",
      "[CV]  svm__C=10, svm__gamma=0.1, svm__kernel=rbf, accuracy=(train=0.996, test=0.955), f1=(train=0.997, test=0.964), precision=(train=1.000, test=0.976), recall=(train=0.994, test=0.952), roc_auc=(train=1.000, test=0.988), total=   0.0s\n",
      "Fitting 5 folds for each of 1 candidates, totalling 5 fits\n",
      "[CV] svm__C=10, svm__gamma=0.1, svm__kernel=rbf ......................\n",
      "[CV]  svm__C=10, svm__gamma=0.1, svm__kernel=rbf, accuracy=(train=0.996, test=1.000), f1=(train=0.997, test=1.000), precision=(train=1.000, test=1.000), recall=(train=0.994, test=1.000), roc_auc=(train=1.000, test=1.000), total=   0.0s\n",
      "[CV] svm__C=10, svm__gamma=0.1, svm__kernel=rbf ......................\n"
     ]
    },
    {
     "name": "stderr",
     "output_type": "stream",
     "text": [
      "[Parallel(n_jobs=1)]: Done   5 out of   5 | elapsed:    0.0s finished\n",
      "[Parallel(n_jobs=1)]: Using backend SequentialBackend with 1 concurrent workers.\n",
      "[Parallel(n_jobs=1)]: Done   1 out of   1 | elapsed:    0.0s remaining:    0.0s\n",
      "[Parallel(n_jobs=1)]: Done   2 out of   2 | elapsed:    0.0s remaining:    0.0s\n",
      "[Parallel(n_jobs=1)]: Done   5 out of   5 | elapsed:    0.0s finished\n",
      "[Parallel(n_jobs=1)]: Using backend SequentialBackend with 1 concurrent workers.\n",
      "[Parallel(n_jobs=1)]: Done   1 out of   1 | elapsed:    0.0s remaining:    0.0s\n"
     ]
    },
    {
     "name": "stdout",
     "output_type": "stream",
     "text": [
      "[CV]  svm__C=10, svm__gamma=0.1, svm__kernel=rbf, accuracy=(train=1.000, test=0.940), f1=(train=1.000, test=0.950), precision=(train=1.000, test=0.974), recall=(train=1.000, test=0.927), roc_auc=(train=1.000, test=0.991), total=   0.0s\n",
      "[CV] svm__C=10, svm__gamma=0.1, svm__kernel=rbf ......................\n",
      "[CV]  svm__C=10, svm__gamma=0.1, svm__kernel=rbf, accuracy=(train=0.996, test=0.940), f1=(train=0.997, test=0.950), precision=(train=1.000, test=0.974), recall=(train=0.994, test=0.927), roc_auc=(train=1.000, test=0.992), total=   0.0s\n",
      "[CV] svm__C=10, svm__gamma=0.1, svm__kernel=rbf ......................\n",
      "[CV]  svm__C=10, svm__gamma=0.1, svm__kernel=rbf, accuracy=(train=0.996, test=0.985), f1=(train=0.997, test=0.988), precision=(train=1.000, test=1.000), recall=(train=0.994, test=0.976), roc_auc=(train=1.000, test=1.000), total=   0.0s\n",
      "[CV] svm__C=10, svm__gamma=0.1, svm__kernel=rbf ......................\n",
      "[CV]  svm__C=10, svm__gamma=0.1, svm__kernel=rbf, accuracy=(train=0.996, test=0.985), f1=(train=0.997, test=0.988), precision=(train=1.000, test=0.977), recall=(train=0.994, test=1.000), roc_auc=(train=1.000, test=1.000), total=   0.0s\n"
     ]
    },
    {
     "name": "stderr",
     "output_type": "stream",
     "text": [
      "[Parallel(n_jobs=1)]: Done   2 out of   2 | elapsed:    0.0s remaining:    0.0s\n",
      "[Parallel(n_jobs=1)]: Done   5 out of   5 | elapsed:    0.0s finished\n"
     ]
    }
   ],
   "source": [
    "# C = [0.001, 0.01, 0.1, 1, 10, 100]\n",
    "C = [10]\n",
    "gamma = [0.1]\n",
    "y_pred_svm_rbf, svm_rbf = f.cv_kfold_svm(X_train,y_train,C=C,K=5,gamma=gamma, flag = 'rbf')\n",
    "best_svm_rbf = svm_rbf.best_estimator_"
   ]
  },
  {
   "cell_type": "code",
   "execution_count": 25,
   "metadata": {},
   "outputs": [
    {
     "data": {
      "image/png": "[encoded data removed]",
      "text/plain": [
       "<Figure size 432x288 with 2 Axes>"
      ]
     },
     "metadata": {
      "needs_background": "light"
     },
     "output_type": "display_data"
    }
   ],
   "source": [
    "y_pred_svm_rbf_best =  best_svm_rbf.predict(X_test)\n",
    "y_pred_proba_svm_rbf_best = best_svm_rbf.predict_proba(X_test)\n",
    "cnf_matrix = metrics.confusion_matrix(y_test, y_pred_svm_rbf_best)\n",
    "ax1 = plt.subplot(211)\n",
    "sns.heatmap(cnf_matrix, annot=True, xticklabels=['Negative','Positive'], yticklabels=['Negative','Positive'])\n",
    "ax1.set(ylabel='True labels', xlabel='Predicted labels')\n",
    "plt.show()"
   ]
  },
  {
   "cell_type": "code",
   "execution_count": 26,
   "metadata": {},
   "outputs": [
    {
     "name": "stdout",
     "output_type": "stream",
     "text": [
      "Loss is 0.21. \n",
      "Accuracy is 0.90. \n",
      "F1 is 0.92. \n",
      "AUROC is 0.989\n"
     ]
    }
   ],
   "source": [
    "f.calc_stat(X_test,y_test,best_svm_rbf)"
   ]
  },
  {
   "cell_type": "code",
   "execution_count": 27,
   "metadata": {},
   "outputs": [
    {
     "name": "stdout",
     "output_type": "stream",
     "text": [
      "Fitting 5 folds for each of 1 candidates, totalling 5 fits\n",
      "[CV] svm__C=10, svm__gamma=0.1, svm__kernel=poly .....................\n",
      "[CV]  svm__C=10, svm__gamma=0.1, svm__kernel=poly, accuracy=(train=1.000, test=0.925), f1=(train=1.000, test=0.938), precision=(train=1.000, test=0.974), recall=(train=1.000, test=0.905), roc_auc=(train=1.000, test=0.984), total=   0.0s\n",
      "[CV] svm__C=10, svm__gamma=0.1, svm__kernel=poly .....................\n",
      "[CV]  svm__C=10, svm__gamma=0.1, svm__kernel=poly, accuracy=(train=0.996, test=0.925), f1=(train=0.997, test=0.938), precision=(train=1.000, test=0.950), recall=(train=0.994, test=0.927), roc_auc=(train=1.000, test=0.985), total=   0.0s\n",
      "[CV] svm__C=10, svm__gamma=0.1, svm__kernel=poly .....................\n",
      "[CV]  svm__C=10, svm__gamma=0.1, svm__kernel=poly, accuracy=(train=0.996, test=0.985), f1=(train=0.997, test=0.988), precision=(train=1.000, test=1.000), recall=(train=0.994, test=0.976), roc_auc=(train=1.000, test=0.999), total=   0.0s\n",
      "[CV] svm__C=10, svm__gamma=0.1, svm__kernel=poly .....................\n",
      "[CV]  svm__C=10, svm__gamma=0.1, svm__kernel=poly, accuracy=(train=0.996, test=0.985), f1=(train=0.997, test=0.988), precision=(train=0.994, test=0.976), recall=(train=1.000, test=1.000), roc_auc=(train=1.000, test=1.000), total=   0.0s\n",
      "[CV] svm__C=10, svm__gamma=0.1, svm__kernel=poly .....................\n",
      "[CV]  svm__C=10, svm__gamma=0.1, svm__kernel=poly, accuracy=(train=0.996, test=0.955), f1=(train=0.997, test=0.962), precision=(train=1.000, test=1.000), recall=(train=0.994, test=0.927), roc_auc=(train=1.000, test=0.998), total=   0.0s\n",
      "Fitting 5 folds for each of 1 candidates, totalling 5 fits\n",
      "[CV] svm__C=10, svm__gamma=0.1, svm__kernel=poly .....................\n",
      "[CV]  svm__C=10, svm__gamma=0.1, svm__kernel=poly, accuracy=(train=1.000, test=0.955), f1=(train=1.000, test=0.963), precision=(train=1.000, test=0.975), recall=(train=1.000, test=0.951), roc_auc=(train=1.000, test=0.993), total=   0.0s\n",
      "[CV] svm__C=10, svm__gamma=0.1, svm__kernel=poly .....................\n",
      "[CV]  svm__C=10, svm__gamma=0.1, svm__kernel=poly, accuracy=(train=0.996, test=0.940), f1=(train=0.997, test=0.949), precision=(train=1.000, test=1.000), recall=(train=0.994, test=0.902), roc_auc=(train=1.000, test=0.999), total=   0.0s\n",
      "[CV] svm__C=10, svm__gamma=0.1, svm__kernel=poly .....................\n"
     ]
    },
    {
     "name": "stderr",
     "output_type": "stream",
     "text": [
      "[Parallel(n_jobs=1)]: Using backend SequentialBackend with 1 concurrent workers.\n",
      "[Parallel(n_jobs=1)]: Done   1 out of   1 | elapsed:    0.0s remaining:    0.0s\n",
      "[Parallel(n_jobs=1)]: Done   2 out of   2 | elapsed:    0.0s remaining:    0.0s\n",
      "[Parallel(n_jobs=1)]: Done   5 out of   5 | elapsed:    0.0s finished\n",
      "[Parallel(n_jobs=1)]: Using backend SequentialBackend with 1 concurrent workers.\n",
      "[Parallel(n_jobs=1)]: Done   1 out of   1 | elapsed:    0.0s remaining:    0.0s\n",
      "[Parallel(n_jobs=1)]: Done   2 out of   2 | elapsed:    0.0s remaining:    0.0s\n"
     ]
    },
    {
     "name": "stdout",
     "output_type": "stream",
     "text": [
      "[CV]  svm__C=10, svm__gamma=0.1, svm__kernel=poly, accuracy=(train=0.996, test=0.985), f1=(train=0.997, test=0.988), precision=(train=1.000, test=1.000), recall=(train=0.994, test=0.976), roc_auc=(train=1.000, test=1.000), total=   0.0s\n",
      "[CV] svm__C=10, svm__gamma=0.1, svm__kernel=poly .....................\n",
      "[CV]  svm__C=10, svm__gamma=0.1, svm__kernel=poly, accuracy=(train=0.996, test=1.000), f1=(train=0.997, test=1.000), precision=(train=1.000, test=1.000), recall=(train=0.994, test=1.000), roc_auc=(train=1.000, test=1.000), total=   0.0s\n",
      "[CV] svm__C=10, svm__gamma=0.1, svm__kernel=poly .....................\n",
      "[CV]  svm__C=10, svm__gamma=0.1, svm__kernel=poly, accuracy=(train=1.000, test=0.939), f1=(train=1.000, test=0.951), precision=(train=1.000, test=0.951), recall=(train=1.000, test=0.951), roc_auc=(train=1.000, test=0.991), total=   0.0s\n",
      "Fitting 5 folds for each of 1 candidates, totalling 5 fits\n",
      "[CV] svm__C=10, svm__gamma=0.1, svm__kernel=poly .....................\n",
      "[CV]  svm__C=10, svm__gamma=0.1, svm__kernel=poly, accuracy=(train=0.996, test=0.955), f1=(train=0.997, test=0.963), precision=(train=1.000, test=0.975), recall=(train=0.994, test=0.951), roc_auc=(train=1.000, test=0.990), total=   0.0s\n",
      "[CV] svm__C=10, svm__gamma=0.1, svm__kernel=poly .....................\n",
      "[CV]  svm__C=10, svm__gamma=0.1, svm__kernel=poly, accuracy=(train=0.996, test=0.970), f1=(train=0.997, test=0.975), precision=(train=1.000, test=1.000), recall=(train=0.994, test=0.951), roc_auc=(train=1.000, test=0.994), total=   0.0s\n",
      "[CV] svm__C=10, svm__gamma=0.1, svm__kernel=poly .....................\n",
      "[CV]  svm__C=10, svm__gamma=0.1, svm__kernel=poly, accuracy=(train=0.993, test=0.970), f1=(train=0.994, test=0.976), precision=(train=1.000, test=0.976), recall=(train=0.988, test=0.976), roc_auc=(train=1.000, test=0.991), total=   0.0s\n",
      "[CV] svm__C=10, svm__gamma=0.1, svm__kernel=poly .....................\n",
      "[CV]  svm__C=10, svm__gamma=0.1, svm__kernel=poly, accuracy=(train=0.993, test=0.985), f1=(train=0.994, test=0.988), precision=(train=1.000, test=1.000), recall=(train=0.988, test=0.976), roc_auc=(train=1.000, test=1.000), total=   0.0s\n",
      "[CV] svm__C=10, svm__gamma=0.1, svm__kernel=poly .....................\n",
      "[CV]  svm__C=10, svm__gamma=0.1, svm__kernel=poly, accuracy=(train=0.996, test=0.955), f1=(train=0.997, test=0.962), precision=(train=1.000, test=1.000), recall=(train=0.994, test=0.927), roc_auc=(train=1.000, test=0.987), total=   0.0s\n",
      "Fitting 5 folds for each of 1 candidates, totalling 5 fits\n"
     ]
    },
    {
     "name": "stderr",
     "output_type": "stream",
     "text": [
      "[Parallel(n_jobs=1)]: Done   5 out of   5 | elapsed:    0.0s finished\n",
      "[Parallel(n_jobs=1)]: Using backend SequentialBackend with 1 concurrent workers.\n",
      "[Parallel(n_jobs=1)]: Done   1 out of   1 | elapsed:    0.0s remaining:    0.0s\n",
      "[Parallel(n_jobs=1)]: Done   2 out of   2 | elapsed:    0.0s remaining:    0.0s\n",
      "[Parallel(n_jobs=1)]: Done   5 out of   5 | elapsed:    0.0s finished\n",
      "[Parallel(n_jobs=1)]: Using backend SequentialBackend with 1 concurrent workers.\n",
      "[Parallel(n_jobs=1)]: Done   1 out of   1 | elapsed:    0.0s remaining:    0.0s\n",
      "[Parallel(n_jobs=1)]: Done   2 out of   2 | elapsed:    0.0s remaining:    0.0s\n"
     ]
    },
    {
     "name": "stdout",
     "output_type": "stream",
     "text": [
      "[CV] svm__C=10, svm__gamma=0.1, svm__kernel=poly .....................\n",
      "[CV]  svm__C=10, svm__gamma=0.1, svm__kernel=poly, accuracy=(train=0.996, test=0.940), f1=(train=0.997, test=0.950), precision=(train=0.994, test=0.974), recall=(train=1.000, test=0.927), roc_auc=(train=1.000, test=0.996), total=   0.0s\n",
      "[CV] svm__C=10, svm__gamma=0.1, svm__kernel=poly .....................\n",
      "[CV]  svm__C=10, svm__gamma=0.1, svm__kernel=poly, accuracy=(train=0.996, test=0.925), f1=(train=0.997, test=0.937), precision=(train=1.000, test=0.974), recall=(train=0.994, test=0.902), roc_auc=(train=1.000, test=0.991), total=   0.0s\n",
      "[CV] svm__C=10, svm__gamma=0.1, svm__kernel=poly .....................\n",
      "[CV]  svm__C=10, svm__gamma=0.1, svm__kernel=poly, accuracy=(train=0.996, test=0.925), f1=(train=0.997, test=0.938), precision=(train=0.994, test=0.950), recall=(train=1.000, test=0.927), roc_auc=(train=1.000, test=0.981), total=   0.0s\n",
      "[CV] svm__C=10, svm__gamma=0.1, svm__kernel=poly .....................\n",
      "[CV]  svm__C=10, svm__gamma=0.1, svm__kernel=poly, accuracy=(train=0.993, test=0.985), f1=(train=0.994, test=0.988), precision=(train=1.000, test=1.000), recall=(train=0.988, test=0.976), roc_auc=(train=1.000, test=1.000), total=   0.0s\n",
      "[CV] svm__C=10, svm__gamma=0.1, svm__kernel=poly .....................\n",
      "[CV]  svm__C=10, svm__gamma=0.1, svm__kernel=poly, accuracy=(train=0.996, test=0.955), f1=(train=0.997, test=0.964), precision=(train=1.000, test=0.976), recall=(train=0.994, test=0.952), roc_auc=(train=1.000, test=0.990), total=   0.0s\n",
      "Fitting 5 folds for each of 1 candidates, totalling 5 fits\n",
      "[CV] svm__C=10, svm__gamma=0.1, svm__kernel=poly .....................\n",
      "[CV]  svm__C=10, svm__gamma=0.1, svm__kernel=poly, accuracy=(train=0.996, test=1.000), f1=(train=0.997, test=1.000), precision=(train=1.000, test=1.000), recall=(train=0.994, test=1.000), roc_auc=(train=1.000, test=1.000), total=   0.0s\n",
      "[CV] svm__C=10, svm__gamma=0.1, svm__kernel=poly .....................\n",
      "[CV]  svm__C=10, svm__gamma=0.1, svm__kernel=poly, accuracy=(train=1.000, test=0.940), f1=(train=1.000, test=0.950), precision=(train=1.000, test=0.974), recall=(train=1.000, test=0.927), roc_auc=(train=1.000, test=0.992), total=   0.0s\n",
      "[CV] svm__C=10, svm__gamma=0.1, svm__kernel=poly .....................\n",
      "[CV]  svm__C=10, svm__gamma=0.1, svm__kernel=poly, accuracy=(train=0.996, test=0.910), f1=(train=0.997, test=0.923), precision=(train=1.000, test=0.973), recall=(train=0.994, test=0.878), roc_auc=(train=1.000, test=0.990), total=   0.0s\n",
      "[CV] svm__C=10, svm__gamma=0.1, svm__kernel=poly .....................\n",
      "[CV]  svm__C=10, svm__gamma=0.1, svm__kernel=poly, accuracy=(train=0.996, test=0.985), f1=(train=0.997, test=0.988), precision=(train=1.000, test=1.000), recall=(train=0.994, test=0.976), roc_auc=(train=1.000, test=1.000), total=   0.0s\n",
      "[CV] svm__C=10, svm__gamma=0.1, svm__kernel=poly .....................\n",
      "[CV]  svm__C=10, svm__gamma=0.1, svm__kernel=poly, accuracy=(train=0.996, test=1.000), f1=(train=0.997, test=1.000), precision=(train=1.000, test=1.000), recall=(train=0.994, test=1.000), roc_auc=(train=1.000, test=1.000), total=   0.0s\n"
     ]
    },
    {
     "name": "stderr",
     "output_type": "stream",
     "text": [
      "[Parallel(n_jobs=1)]: Done   5 out of   5 | elapsed:    0.0s finished\n",
      "[Parallel(n_jobs=1)]: Using backend SequentialBackend with 1 concurrent workers.\n",
      "[Parallel(n_jobs=1)]: Done   1 out of   1 | elapsed:    0.0s remaining:    0.0s\n",
      "[Parallel(n_jobs=1)]: Done   2 out of   2 | elapsed:    0.0s remaining:    0.0s\n",
      "[Parallel(n_jobs=1)]: Done   5 out of   5 | elapsed:    0.0s finished\n"
     ]
    }
   ],
   "source": [
    "# C = [0.001, 0.01, 0.1, 1, 10, 100]\n",
    "C = [10]\n",
    "gamma = [0.1]\n",
    "y_pred_svm_poly, svm_poly = f.cv_kfold_svm(X_train,y_train,C=C,K=5,gamma=gamma, flag = 'poly')\n",
    "best_svm_poly = svm_poly.best_estimator_"
   ]
  },
  {
   "cell_type": "code",
   "execution_count": 28,
   "metadata": {},
   "outputs": [
    {
     "data": {
      "image/png": "[encoded data removed]",
      "text/plain": [
       "<Figure size 432x288 with 2 Axes>"
      ]
     },
     "metadata": {
      "needs_background": "light"
     },
     "output_type": "display_data"
    }
   ],
   "source": [
    "y_pred_svm_poly_best =  best_svm_poly.predict(X_test)\n",
    "y_pred_proba_svm_poly_best = best_svm_poly.predict_proba(X_test)\n",
    "cnf_matrix = metrics.confusion_matrix(y_test, y_pred_svm_poly_best)\n",
    "ax1 = plt.subplot(211)\n",
    "sns.heatmap(cnf_matrix, annot=True, xticklabels=['Negative','Positive'], yticklabels=['Negative','Positive'])\n",
    "ax1.set(ylabel='True labels', xlabel='Predicted labels')\n",
    "plt.show()"
   ]
  },
  {
   "cell_type": "code",
   "execution_count": 29,
   "metadata": {},
   "outputs": [
    {
     "name": "stdout",
     "output_type": "stream",
     "text": [
      "Loss is 0.17. \n",
      "Accuracy is 0.90. \n",
      "F1 is 0.92. \n",
      "AUROC is 0.997\n"
     ]
    }
   ],
   "source": [
    "f.calc_stat(X_test,y_test,best_svm_poly)"
   ]
  },
  {
   "cell_type": "code",
   "execution_count": 30,
   "metadata": {},
   "outputs": [
    {
     "data": {
      "image/png": "[encoded data removed]",
      "text/plain": [
       "<Figure size 432x288 with 2 Axes>"
      ]
     },
     "metadata": {
      "needs_background": "light"
     },
     "output_type": "display_data"
    },
    {
     "name": "stdout",
     "output_type": "stream",
     "text": [
      "Accuracy is: 95.58%\n",
      "F1 score is: 95.40%\n",
      "AUC is:  99.41%\n"
     ]
    }
   ],
   "source": [
    "from sklearn.ensemble import RandomForestClassifier as rfc\n",
    "from sklearn.metrics import roc_auc_score\n",
    "clf = rfc(n_estimators=10)\n",
    "\n",
    "X_train, X_test, y_train, y_test = train_test_split(data.drop(['Diagnosis'],axis=1), np.ravel(diag_state), test_size=0.2, random_state=10, stratify = np.ravel(diag_state) )\n",
    "# X_train, X_test, y_train, y_test = train_test_split(X1, d[\"Diagnosis\"], test_size=0.2, random_state=10, stratify =d[\"Diagnosis\"] )\n",
    "clf.fit(X_train, y_train)\n",
    "y_pred = clf.predict(X_test)\n",
    "y_pred_proba_test = clf.predict_proba(X_test)\n",
    "cnf_matrix = metrics.confusion_matrix(y_test, y_pred)\n",
    "ax = plt.subplot()\n",
    "sns.heatmap(cnf_matrix, annot=True, xticklabels=['Negative', 'Positive'],\n",
    "            yticklabels=['Negative', 'Positive'])\n",
    "ax.set(ylabel='True labels', xlabel='Predicted labels')\n",
    "plt.show()\n",
    "print(\"Accuracy is: \" + str(\"{0:.2f}\".format(100 * metrics.accuracy_score(y_test, y_pred))) + \"%\")\n",
    "print(\"F1 score is: \" + str(\"{0:.2f}\".format(100 * metrics.f1_score(y_test, y_pred, average='macro'))) + \"%\")\n",
    "print('AUC is:  ' + str(\"{0:.02f}\".format(100*roc_auc_score(y_test, y_pred_proba_test[:, 1]))) + '%')"
   ]
  },
  {
   "cell_type": "code",
   "execution_count": 31,
   "metadata": {},
   "outputs": [
    {
     "data": {
      "image/png": "[encoded data removed]",
      "text/plain": [
       "<Figure size 864x432 with 1 Axes>"
      ]
     },
     "metadata": {
      "needs_background": "light"
     },
     "output_type": "display_data"
    }
   ],
   "source": [
    "# print (sorted(zip(map(lambda x: round(x, 4), clf.feature_importances_), orig_feat), \n",
    "#              reverse=True))\n",
    "importances = clf.feature_importances_\n",
    "std = np.std([tree.feature_importances_ for tree in clf.estimators_],\n",
    "             axis=0)\n",
    "indices = np.argsort(importances)[::-1]\n",
    "# for f in range(X_train.shape[1]):\n",
    "#     print(\"%d. feature %d (%f)\" % (f + 1, indices[f], importances[indices[f]]))\n",
    "\n",
    "# Plot the impurity-based feature importances of the forest\n",
    "plt.figure(figsize=(12,6))\n",
    "plt.title(\"Feature importances\")\n",
    "plt.bar(range(X_train.shape[1]), importances[indices],\n",
    "        color=\"r\", align=\"center\")\n",
    "o = np.zeros(len(orig_feat)).tolist()\n",
    "for i,val in enumerate(indices):\n",
    "    o[i] = orig_feat[val]\n",
    "plt.xticks(range(X_train.shape[1]), o)\n",
    "plt.xlim([-1, X_train.shape[1]])\n",
    "plt.xticks(rotation=90)\n",
    "plt.tight_layout()\n",
    "plt.show()"
   ]
  },
  {
   "cell_type": "code",
   "execution_count": 32,
   "metadata": {},
   "outputs": [
    {
     "data": {
      "text/plain": [
       "(565, 2)"
      ]
     },
     "execution_count": 32,
     "metadata": {},
     "output_type": "execute_result"
    },
    {
     "data": {
      "image/png": "[encoded data removed]",
      "text/plain": [
       "<Figure size 576x576 with 1 Axes>"
      ]
     },
     "metadata": {
      "needs_background": "light"
     },
     "output_type": "display_data"
    }
   ],
   "source": [
    "from sklearn.decomposition import PCA\n",
    "pca = PCA(n_components=2)\n",
    "pca.fit(data.drop(['Diagnosis'],axis=1))\n",
    "transform_data = pca.transform(data.drop(['Diagnosis'],axis=1))\n",
    "principalComponents = pca.fit_transform(data.drop(['Diagnosis'],axis=1))\n",
    "principalDf = pd.DataFrame(data = principalComponents\n",
    "             , columns = ['principal component 1', 'principal component 2'])\n",
    "finalDf = pd.concat([principalDf, data[['Diagnosis']]], axis = 1)\n",
    "fig = plt.figure(figsize = (8,8))\n",
    "ax = fig.add_subplot(1,1,1) \n",
    "ax.set_xlabel('Principal Component 1', fontsize = 15)\n",
    "ax.set_ylabel('Principal Component 2', fontsize = 15)\n",
    "ax.set_title('2 component PCA', fontsize = 20)\n",
    "targets = [1,0]\n",
    "colors = ['r', 'g']\n",
    "for target, color in zip(targets,colors):\n",
    "    indicesToKeep = finalDf['Diagnosis'] == target\n",
    "    ax.scatter(finalDf.loc[indicesToKeep, 'principal component 1']\n",
    "               , finalDf.loc[indicesToKeep, 'principal component 2']\n",
    "               , c = color\n",
    "               , s = 50)\n",
    "ax.legend(['Positive','Negative'])\n",
    "ax.grid()\n",
    "principalComponents.shape"
   ]
  },
  {
   "cell_type": "code",
   "execution_count": 41,
   "metadata": {},
   "outputs": [
    {
     "name": "stdout",
     "output_type": "stream",
     "text": [
      "Loss is 0.25. \n",
      "Accuracy is 0.87. \n",
      "F1 is 0.89. \n",
      "AUROC is 0.958\n"
     ]
    }
   ],
   "source": [
    "from sklearn.pipeline import Pipeline\n",
    "X_train, X_test, y_train, y_test = train_test_split(X2, d[\"Diagnosis\"], test_size=0.2, random_state=42,stratify = d[\"Diagnosis\"])\n",
    "log_reg = LogisticRegression()\n",
    "pca = PCA(n_components=2)\n",
    "\n",
    "pipe_pca_logreg = Pipeline(steps=[('pca', pca), ('logistic', log_reg)])\n",
    "pipe_pca_logreg.fit(X_train, y_train)\n",
    "y_pred_pca = pipe_pca_logreg.predict(X_test)\n",
    "f.calc_stat(X_test,y_test,pipe_pca_logreg)\n"
   ]
  },
  {
   "cell_type": "code",
   "execution_count": 49,
   "metadata": {},
   "outputs": [
    {
     "name": "stdout",
     "output_type": "stream",
     "text": [
      "Loss is 0.24. \n",
      "Accuracy is 0.90. \n",
      "F1 is 0.92. \n",
      "AUROC is 0.956\n"
     ]
    }
   ],
   "source": [
    "from sklearn import svm\n",
    "svm_lin = svm.SVC(probability=True,gamma='auto',kernel = 'linear')\n",
    "pca = PCA(n_components=2)\n",
    "pipe_pca_svm_lin = Pipeline(steps=[('pca', pca), ('svm', svm_lin)])\n",
    "pipe_pca_svm_lin.fit(X_train, y_train)\n",
    "y_pred_pca = pipe_pca_svm_lin.predict(X_test)\n",
    "f.calc_stat(X_test,y_test,pipe_pca_svm_lin)"
   ]
  },
  {
   "cell_type": "code",
   "execution_count": 51,
   "metadata": {},
   "outputs": [
    {
     "name": "stdout",
     "output_type": "stream",
     "text": [
      "Loss is 0.24. \n",
      "Accuracy is 0.90. \n",
      "F1 is 0.91. \n",
      "AUROC is 0.957\n"
     ]
    }
   ],
   "source": [
    "svm_rbf = svm.SVC(probability=True,gamma='auto',kernel = 'rbf')\n",
    "pca = PCA(n_components=2)\n",
    "pipe_pca_svm_rbf = Pipeline(steps=[('pca', pca), ('svm', svm_rbf)])\n",
    "pipe_pca_svm_rbf.fit(X_train, y_train)\n",
    "y_pred_pca = pipe_pca_svm_rbf.predict(X_test)\n",
    "f.calc_stat(X_test,y_test,pipe_pca_svm_rbf)"
   ]
  },
  {
   "cell_type": "code",
   "execution_count": 53,
   "metadata": {},
   "outputs": [
    {
     "name": "stdout",
     "output_type": "stream",
     "text": [
      "Loss is 0.26. \n",
      "Accuracy is 0.90. \n",
      "F1 is 0.91. \n",
      "AUROC is 0.972\n"
     ]
    }
   ],
   "source": [
    "svm_poly = svm.SVC(probability=True,gamma='auto',kernel = 'poly')\n",
    "pca = PCA(n_components=2)\n",
    "pipe_pca_svm_poly = Pipeline(steps=[('pca', pca), ('svm', svm_poly)])\n",
    "pipe_pca_svm_poly.fit(X_train, y_train)\n",
    "y_pred_pca = pipe_pca_svm_poly.predict(X_test)\n",
    "f.calc_stat(X_test,y_test,pipe_pca_svm_poly)"
   ]
  },
  {
   "cell_type": "code",
   "execution_count": 66,
   "metadata": {},
   "outputs": [
    {
     "name": "stdout",
     "output_type": "stream",
     "text": [
      "Loss is 0.29. \n",
      "Accuracy is 0.90. \n",
      "F1 is 0.91. \n",
      "AUROC is 0.918\n"
     ]
    }
   ],
   "source": [
    "X3 = dataset.dropna()[['Increased Urination', 'Increased Thirst']]\n",
    "X3n = pd.get_dummies(X3)\n",
    "X_train, X_test, y_train, y_test = train_test_split(X3n, d['Diagnosis'], test_size=0.2, random_state=42,stratify = d['Diagnosis'])\n",
    "log_reg = LogisticRegression()\n",
    "log_reg.fit(X_train,y_train)\n",
    "y_pred_log_reg = log_reg.predict(X_test)\n",
    "f.calc_stat(X_test,y_test,log_reg)"
   ]
  },
  {
   "cell_type": "code",
   "execution_count": 67,
   "metadata": {},
   "outputs": [
    {
     "name": "stdout",
     "output_type": "stream",
     "text": [
      "Loss is 0.29. \n",
      "Accuracy is 0.90. \n",
      "F1 is 0.91. \n",
      "AUROC is 0.924\n"
     ]
    }
   ],
   "source": [
    "svm_lin = svm.SVC(probability=True,gamma='auto',kernel = 'linear')\n",
    "pipe_svm_lin = Pipeline(steps=[('svm', svm_lin)])\n",
    "pipe_svm_lin.fit(X_train, y_train)\n",
    "y_pred = pipe_svm_lin.predict(X_test)\n",
    "f.calc_stat(X_test,y_test,pipe_svm_lin)"
   ]
  },
  {
   "cell_type": "code",
   "execution_count": 68,
   "metadata": {},
   "outputs": [
    {
     "name": "stdout",
     "output_type": "stream",
     "text": [
      "Loss is 0.30. \n",
      "Accuracy is 0.90. \n",
      "F1 is 0.91. \n",
      "AUROC is 0.929\n"
     ]
    }
   ],
   "source": [
    "svm_rbf = svm.SVC(probability=True,gamma='auto',kernel = 'rbf')\n",
    "pipe_svm_rbf = Pipeline(steps=[ ('svm', svm_rbf)])\n",
    "pipe_svm_rbf.fit(X_train, y_train)\n",
    "y_pred = pipe_svm_rbf.predict(X_test)\n",
    "f.calc_stat(X_test,y_test,pipe_svm_rbf)"
   ]
  },
  {
   "cell_type": "code",
   "execution_count": 69,
   "metadata": {},
   "outputs": [
    {
     "name": "stdout",
     "output_type": "stream",
     "text": [
      "Loss is 0.32. \n",
      "Accuracy is 0.90. \n",
      "F1 is 0.91. \n",
      "AUROC is 0.929\n"
     ]
    }
   ],
   "source": [
    "svm_poly = svm.SVC(probability=True,gamma='auto',kernel = 'poly')\n",
    "pipe_svm_poly = Pipeline(steps=[('svm', svm_poly)])\n",
    "pipe_svm_poly.fit(X_train, y_train)\n",
    "y_pred = pipe_svm_poly.predict(X_test)\n",
    "f.calc_stat(X_test,y_test,pipe_svm_poly)"
   ]
  },
  {
   "cell_type": "markdown",
   "metadata": {},
   "source": [
    "Theory Questions \n",
    "\n",
    "Q1: If we have unbalanced data we can get high accuracy but the other performances will be bad. For example if we have 3% pathology data samples and the classifier always returns healthy label we will get high accuracy (97%) but sensitivity, for example, will be low. \n",
    "\n",
    "Q2: If we chose just 2 features we have 2 options:\n",
    "1) we choose the most correlated features and other not usefull for our classification we will get good performance for predicted labels, and it will be easy for computation\n",
    "\n",
    "2) if we chose features with bad correlation (it means not usefull for classification) we will get a bad prediction results. But computation will be fast.\n",
    "\n",
    "If we chose all the features, we have extra information that is not useful for us and make computetions slower, require a large amount of system memory and will affect the performance. \n",
    "\n",
    "Q3: we will prfer SVM non-linear, because if we can not distinguish the difference between pancreas biopsies from the human eye the data is not separable linearly. So we do not want to use Logistiq regression and SVM with linear kernel, due to their similarity.\n",
    "\n",
    "Q4: SVM works well with unstructured and semi-structured data like text and images while logistic regression works with already identified independent variables. The risk of overfitting is less in SVM, while Logistic regression is vulnerable to overfitting. SVM is based on geometrical properties of the data while logistic regression is based on statistical approaches."
   ]
  },
  {
   "cell_type": "code",
   "execution_count": null,
   "metadata": {},
   "outputs": [],
   "source": []
  }
 ],
 "metadata": {
  "kernelspec": {
   "display_name": "Python 3",
   "language": "python",
   "name": "python3"
  },
  "language_info": {
   "codemirror_mode": {
    "name": "ipython",
    "version": 3
   },
   "file_extension": ".py",
   "mimetype": "text/x-python",
   "name": "python",
   "nbconvert_exporter": "python",
   "pygments_lexer": "ipython3",
   "version": "3.7.9"
  }
 },
 "nbformat": 4,
 "nbformat_minor": 4
}
