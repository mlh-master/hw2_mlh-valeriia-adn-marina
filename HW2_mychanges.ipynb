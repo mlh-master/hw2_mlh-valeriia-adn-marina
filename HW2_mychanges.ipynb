{
 "cells": [
  {
   "cell_type": "markdown",
   "metadata": {},
   "source": [
    "# Coding Assignment"
   ]
  },
  {
   "cell_type": "markdown",
   "metadata": {},
   "source": [
    "## Question 1"
   ]
  },
  {
   "cell_type": "code",
   "execution_count": 1,
   "metadata": {},
   "outputs": [
    {
     "data": {
      "text/html": [
       "<div>\n",
       "<style scoped>\n",
       "    .dataframe tbody tr th:only-of-type {\n",
       "        vertical-align: middle;\n",
       "    }\n",
       "\n",
       "    .dataframe tbody tr th {\n",
       "        vertical-align: top;\n",
       "    }\n",
       "\n",
       "    .dataframe thead th {\n",
       "        text-align: right;\n",
       "    }\n",
       "</style>\n",
       "<table border=\"1\" class=\"dataframe\">\n",
       "  <thead>\n",
       "    <tr style=\"text-align: right;\">\n",
       "      <th></th>\n",
       "      <th>Age</th>\n",
       "      <th>Gender</th>\n",
       "      <th>Increased Urination</th>\n",
       "      <th>Increased Thirst</th>\n",
       "      <th>Sudden Weight Loss</th>\n",
       "      <th>Weakness</th>\n",
       "      <th>Increased Hunger</th>\n",
       "      <th>Genital Thrush</th>\n",
       "      <th>Visual Blurring</th>\n",
       "      <th>Itching</th>\n",
       "      <th>Irritability</th>\n",
       "      <th>Delayed Healing</th>\n",
       "      <th>Partial Paresis</th>\n",
       "      <th>Muscle Stiffness</th>\n",
       "      <th>Hair Loss</th>\n",
       "      <th>Obesity</th>\n",
       "      <th>Diagnosis</th>\n",
       "      <th>Family History</th>\n",
       "    </tr>\n",
       "  </thead>\n",
       "  <tbody>\n",
       "    <tr>\n",
       "      <th>0</th>\n",
       "      <td>45</td>\n",
       "      <td>Male</td>\n",
       "      <td>No</td>\n",
       "      <td>No</td>\n",
       "      <td>No</td>\n",
       "      <td>Yes</td>\n",
       "      <td>No</td>\n",
       "      <td>No</td>\n",
       "      <td>No</td>\n",
       "      <td>Yes</td>\n",
       "      <td>No</td>\n",
       "      <td>No</td>\n",
       "      <td>Yes</td>\n",
       "      <td>No</td>\n",
       "      <td>Yes</td>\n",
       "      <td>No</td>\n",
       "      <td>Negative</td>\n",
       "      <td>0</td>\n",
       "    </tr>\n",
       "    <tr>\n",
       "      <th>1</th>\n",
       "      <td>42</td>\n",
       "      <td>Male</td>\n",
       "      <td>No</td>\n",
       "      <td>No</td>\n",
       "      <td>No</td>\n",
       "      <td>No</td>\n",
       "      <td>No</td>\n",
       "      <td>No</td>\n",
       "      <td>No</td>\n",
       "      <td>No</td>\n",
       "      <td>No</td>\n",
       "      <td>No</td>\n",
       "      <td>No</td>\n",
       "      <td>No</td>\n",
       "      <td>Yes</td>\n",
       "      <td>No</td>\n",
       "      <td>Negative</td>\n",
       "      <td>0</td>\n",
       "    </tr>\n",
       "    <tr>\n",
       "      <th>2</th>\n",
       "      <td>45</td>\n",
       "      <td>Male</td>\n",
       "      <td>Yes</td>\n",
       "      <td>Yes</td>\n",
       "      <td>No</td>\n",
       "      <td>Yes</td>\n",
       "      <td>No</td>\n",
       "      <td>Yes</td>\n",
       "      <td>No</td>\n",
       "      <td>No</td>\n",
       "      <td>No</td>\n",
       "      <td>Yes</td>\n",
       "      <td>No</td>\n",
       "      <td>No</td>\n",
       "      <td>Yes</td>\n",
       "      <td>No</td>\n",
       "      <td>Positive</td>\n",
       "      <td>0</td>\n",
       "    </tr>\n",
       "    <tr>\n",
       "      <th>3</th>\n",
       "      <td>59</td>\n",
       "      <td>Female</td>\n",
       "      <td>No</td>\n",
       "      <td>No</td>\n",
       "      <td>No</td>\n",
       "      <td>No</td>\n",
       "      <td>No</td>\n",
       "      <td>No</td>\n",
       "      <td>No</td>\n",
       "      <td>No</td>\n",
       "      <td>No</td>\n",
       "      <td>No</td>\n",
       "      <td>No</td>\n",
       "      <td>No</td>\n",
       "      <td>No</td>\n",
       "      <td>No</td>\n",
       "      <td>Positive</td>\n",
       "      <td>1</td>\n",
       "    </tr>\n",
       "    <tr>\n",
       "      <th>4</th>\n",
       "      <td>40</td>\n",
       "      <td>Female</td>\n",
       "      <td>Yes</td>\n",
       "      <td>Yes</td>\n",
       "      <td>Yes</td>\n",
       "      <td>Yes</td>\n",
       "      <td>No</td>\n",
       "      <td>No</td>\n",
       "      <td>Yes</td>\n",
       "      <td>Yes</td>\n",
       "      <td>No</td>\n",
       "      <td>No</td>\n",
       "      <td>Yes</td>\n",
       "      <td>Yes</td>\n",
       "      <td>No</td>\n",
       "      <td>No</td>\n",
       "      <td>Positive</td>\n",
       "      <td>0</td>\n",
       "    </tr>\n",
       "    <tr>\n",
       "      <th>5</th>\n",
       "      <td>72</td>\n",
       "      <td>Male</td>\n",
       "      <td>Yes</td>\n",
       "      <td>No</td>\n",
       "      <td>No</td>\n",
       "      <td>No</td>\n",
       "      <td>Yes</td>\n",
       "      <td>No</td>\n",
       "      <td>Yes</td>\n",
       "      <td>Yes</td>\n",
       "      <td>No</td>\n",
       "      <td>Yes</td>\n",
       "      <td>Yes</td>\n",
       "      <td>Yes</td>\n",
       "      <td>Yes</td>\n",
       "      <td>No</td>\n",
       "      <td>Negative</td>\n",
       "      <td>0</td>\n",
       "    </tr>\n",
       "    <tr>\n",
       "      <th>6</th>\n",
       "      <td>43</td>\n",
       "      <td>Male</td>\n",
       "      <td>No</td>\n",
       "      <td>No</td>\n",
       "      <td>No</td>\n",
       "      <td>Yes</td>\n",
       "      <td>No</td>\n",
       "      <td>Yes</td>\n",
       "      <td>No</td>\n",
       "      <td>Yes</td>\n",
       "      <td>No</td>\n",
       "      <td>Yes</td>\n",
       "      <td>No</td>\n",
       "      <td>No</td>\n",
       "      <td>Yes</td>\n",
       "      <td>No</td>\n",
       "      <td>Negative</td>\n",
       "      <td>1</td>\n",
       "    </tr>\n",
       "    <tr>\n",
       "      <th>7</th>\n",
       "      <td>57</td>\n",
       "      <td>Male</td>\n",
       "      <td>Yes</td>\n",
       "      <td>Yes</td>\n",
       "      <td>Yes</td>\n",
       "      <td>Yes</td>\n",
       "      <td>Yes</td>\n",
       "      <td>No</td>\n",
       "      <td>Yes</td>\n",
       "      <td>No</td>\n",
       "      <td>No</td>\n",
       "      <td>No</td>\n",
       "      <td>Yes</td>\n",
       "      <td>No</td>\n",
       "      <td>No</td>\n",
       "      <td>No</td>\n",
       "      <td>Positive</td>\n",
       "      <td>0</td>\n",
       "    </tr>\n",
       "    <tr>\n",
       "      <th>8</th>\n",
       "      <td>37</td>\n",
       "      <td>Male</td>\n",
       "      <td>No</td>\n",
       "      <td>No</td>\n",
       "      <td>No</td>\n",
       "      <td>Yes</td>\n",
       "      <td>No</td>\n",
       "      <td>No</td>\n",
       "      <td>No</td>\n",
       "      <td>No</td>\n",
       "      <td>No</td>\n",
       "      <td>Yes</td>\n",
       "      <td>No</td>\n",
       "      <td>No</td>\n",
       "      <td>Yes</td>\n",
       "      <td>No</td>\n",
       "      <td>Positive</td>\n",
       "      <td>1</td>\n",
       "    </tr>\n",
       "    <tr>\n",
       "      <th>9</th>\n",
       "      <td>56</td>\n",
       "      <td>Male</td>\n",
       "      <td>Yes</td>\n",
       "      <td>No</td>\n",
       "      <td>Yes</td>\n",
       "      <td>Yes</td>\n",
       "      <td>No</td>\n",
       "      <td>Yes</td>\n",
       "      <td>No</td>\n",
       "      <td>Yes</td>\n",
       "      <td>Yes</td>\n",
       "      <td>No</td>\n",
       "      <td>No</td>\n",
       "      <td>No</td>\n",
       "      <td>Yes</td>\n",
       "      <td>No</td>\n",
       "      <td>Positive</td>\n",
       "      <td>1</td>\n",
       "    </tr>\n",
       "  </tbody>\n",
       "</table>\n",
       "</div>"
      ],
      "text/plain": [
       "   Age  Gender Increased Urination Increased Thirst Sudden Weight Loss  \\\n",
       "0   45    Male                  No               No                 No   \n",
       "1   42    Male                  No               No                 No   \n",
       "2   45    Male                 Yes              Yes                 No   \n",
       "3   59  Female                  No               No                 No   \n",
       "4   40  Female                 Yes              Yes                Yes   \n",
       "5   72    Male                 Yes               No                 No   \n",
       "6   43    Male                  No               No                 No   \n",
       "7   57    Male                 Yes              Yes                Yes   \n",
       "8   37    Male                  No               No                 No   \n",
       "9   56    Male                 Yes               No                Yes   \n",
       "\n",
       "  Weakness Increased Hunger Genital Thrush Visual Blurring Itching  \\\n",
       "0      Yes               No             No              No     Yes   \n",
       "1       No               No             No              No      No   \n",
       "2      Yes               No            Yes              No      No   \n",
       "3       No               No             No              No      No   \n",
       "4      Yes               No             No             Yes     Yes   \n",
       "5       No              Yes             No             Yes     Yes   \n",
       "6      Yes               No            Yes              No     Yes   \n",
       "7      Yes              Yes             No             Yes      No   \n",
       "8      Yes               No             No              No      No   \n",
       "9      Yes               No            Yes              No     Yes   \n",
       "\n",
       "  Irritability Delayed Healing Partial Paresis Muscle Stiffness Hair Loss  \\\n",
       "0           No              No             Yes               No       Yes   \n",
       "1           No              No              No               No       Yes   \n",
       "2           No             Yes              No               No       Yes   \n",
       "3           No              No              No               No        No   \n",
       "4           No              No             Yes              Yes        No   \n",
       "5           No             Yes             Yes              Yes       Yes   \n",
       "6           No             Yes              No               No       Yes   \n",
       "7           No              No             Yes               No        No   \n",
       "8           No             Yes              No               No       Yes   \n",
       "9          Yes              No              No               No       Yes   \n",
       "\n",
       "  Obesity Diagnosis  Family History  \n",
       "0      No  Negative               0  \n",
       "1      No  Negative               0  \n",
       "2      No  Positive               0  \n",
       "3      No  Positive               1  \n",
       "4      No  Positive               0  \n",
       "5      No  Negative               0  \n",
       "6      No  Negative               1  \n",
       "7      No  Positive               0  \n",
       "8      No  Positive               1  \n",
       "9      No  Positive               1  "
      ]
     },
     "execution_count": 1,
     "metadata": {},
     "output_type": "execute_result"
    }
   ],
   "source": [
    "import pandas as pd\n",
    "import numpy as np\n",
    "from pathlib import Path\n",
    "import random\n",
    "import matplotlib.pyplot as plt\n",
    "from sklearn.preprocessing import StandardScaler\n",
    "import functions as f\n",
    "import functions_mychange as func\n",
    "%load_ext autoreload\n",
    "\n",
    "file = Path.cwd().joinpath('HW2_data.csv') # concatenates HW2_data.csv to the current folder that should be the extracted zip folder \n",
    "dataset = pd.read_csv(file)  # load the data and drop the first row that was filled with nans\n",
    "features = ['Age', 'Gender', 'Increased Urination', 'Increased Thirst','Sudden Weight Loss',\n",
    "                       'Weakness','Increased Hunger','Genital Thrush','Visual Blurring','Itching','Irritability',\n",
    "                       'Delayed Healing','Partial Paresis','Muscle Stiffness','Hair Loss','Obesity','Diagnosis','Family History']\n",
    "\n",
    "random.seed(149) #our random seed\n",
    "dataset.head(10) #visualise file"
   ]
  },
  {
   "cell_type": "code",
   "execution_count": 2,
   "metadata": {},
   "outputs": [
    {
     "name": "stdout",
     "output_type": "stream",
     "text": [
      "<class 'pandas.core.frame.DataFrame'>\n",
      "RangeIndex: 565 entries, 0 to 564\n",
      "Data columns (total 18 columns):\n",
      " #   Column               Non-Null Count  Dtype \n",
      "---  ------               --------------  ----- \n",
      " 0   Age                  565 non-null    int64 \n",
      " 1   Gender               565 non-null    object\n",
      " 2   Increased Urination  565 non-null    object\n",
      " 3   Increased Thirst     545 non-null    object\n",
      " 4   Sudden Weight Loss   556 non-null    object\n",
      " 5   Weakness             565 non-null    object\n",
      " 6   Increased Hunger     552 non-null    object\n",
      " 7   Genital Thrush       551 non-null    object\n",
      " 8   Visual Blurring      565 non-null    object\n",
      " 9   Itching              554 non-null    object\n",
      " 10  Irritability         565 non-null    object\n",
      " 11  Delayed Healing      565 non-null    object\n",
      " 12  Partial Paresis      565 non-null    object\n",
      " 13  Muscle Stiffness     550 non-null    object\n",
      " 14  Hair Loss            565 non-null    object\n",
      " 15  Obesity              565 non-null    object\n",
      " 16  Diagnosis            565 non-null    object\n",
      " 17  Family History       565 non-null    int64 \n",
      "dtypes: int64(2), object(16)\n",
      "memory usage: 79.6+ KB\n"
     ]
    }
   ],
   "source": [
    "dataset = dataset.interpolate()\n",
    "dataset.info()"
   ]
  },
  {
   "cell_type": "code",
   "execution_count": 3,
   "metadata": {},
   "outputs": [
    {
     "name": "stdout",
     "output_type": "stream",
     "text": [
      "NAN pecent in feature Age  =  0.00%\n",
      "NAN pecent in feature Gender  =  0.00%\n",
      "NAN pecent in feature Increased Urination  =  0.00%\n",
      "NAN pecent in feature Increased Thirst  =  3.54%\n",
      "NAN pecent in feature Sudden Weight Loss  =  1.59%\n",
      "NAN pecent in feature Weakness  =  0.00%\n",
      "NAN pecent in feature Increased Hunger  =  2.30%\n",
      "NAN pecent in feature Genital Thrush  =  2.48%\n",
      "NAN pecent in feature Visual Blurring  =  0.00%\n",
      "NAN pecent in feature Itching  =  1.95%\n",
      "NAN pecent in feature Irritability  =  0.00%\n",
      "NAN pecent in feature Delayed Healing  =  0.00%\n",
      "NAN pecent in feature Partial Paresis  =  0.00%\n",
      "NAN pecent in feature Muscle Stiffness  =  2.65%\n",
      "NAN pecent in feature Hair Loss  =  0.00%\n",
      "NAN pecent in feature Obesity  =  0.00%\n",
      "NAN pecent in feature Diagnosis  =  0.00%\n",
      "NAN pecent in feature Family History  =  0.00%\n"
     ]
    }
   ],
   "source": [
    "# Here we check percent of NaNs in the dataset:\n",
    "df = dataset.copy()\n",
    "df = df.replace('Female',0).replace('Male',1).replace('No',0).replace('Yes',1).replace('Positive',1).replace('Negative',0)\n",
    "isna = np.zeros(len(df.keys()))\n",
    "percent_nan = np.zeros(len(df.keys()))\n",
    "for i,feat in enumerate(df.keys()):\n",
    "    isna[i] = df[feat].isna().sum()\n",
    "    percent_nan[i] = 100*(isna[i]/len(df[feat]))\n",
    "    print('NAN pecent in feature {}  =  {:.02f}%'.format(feat,percent_nan[i]))"
   ]
  },
  {
   "cell_type": "markdown",
   "metadata": {},
   "source": [
    "We see that NaNs' percent is small so we can drop tha data and it wilך hardly affect results/perfomance"
   ]
  },
  {
   "cell_type": "code",
   "execution_count": 4,
   "metadata": {},
   "outputs": [
    {
     "data": {
      "text/html": [
       "<div>\n",
       "<style scoped>\n",
       "    .dataframe tbody tr th:only-of-type {\n",
       "        vertical-align: middle;\n",
       "    }\n",
       "\n",
       "    .dataframe tbody tr th {\n",
       "        vertical-align: top;\n",
       "    }\n",
       "\n",
       "    .dataframe thead th {\n",
       "        text-align: right;\n",
       "    }\n",
       "</style>\n",
       "<table border=\"1\" class=\"dataframe\">\n",
       "  <thead>\n",
       "    <tr style=\"text-align: right;\">\n",
       "      <th></th>\n",
       "      <th>Age</th>\n",
       "      <th>Gender</th>\n",
       "      <th>Increased Urination</th>\n",
       "      <th>Increased Thirst</th>\n",
       "      <th>Sudden Weight Loss</th>\n",
       "      <th>Weakness</th>\n",
       "      <th>Increased Hunger</th>\n",
       "      <th>Genital Thrush</th>\n",
       "      <th>Visual Blurring</th>\n",
       "      <th>Itching</th>\n",
       "      <th>Irritability</th>\n",
       "      <th>Delayed Healing</th>\n",
       "      <th>Partial Paresis</th>\n",
       "      <th>Muscle Stiffness</th>\n",
       "      <th>Hair Loss</th>\n",
       "      <th>Obesity</th>\n",
       "      <th>Diagnosis</th>\n",
       "      <th>Family History</th>\n",
       "    </tr>\n",
       "  </thead>\n",
       "  <tbody>\n",
       "    <tr>\n",
       "      <th>0</th>\n",
       "      <td>45</td>\n",
       "      <td>1</td>\n",
       "      <td>0</td>\n",
       "      <td>0.0</td>\n",
       "      <td>0.0</td>\n",
       "      <td>1</td>\n",
       "      <td>0.0</td>\n",
       "      <td>0.0</td>\n",
       "      <td>0</td>\n",
       "      <td>1.0</td>\n",
       "      <td>0</td>\n",
       "      <td>0</td>\n",
       "      <td>1</td>\n",
       "      <td>0.0</td>\n",
       "      <td>1</td>\n",
       "      <td>0</td>\n",
       "      <td>0</td>\n",
       "      <td>0</td>\n",
       "    </tr>\n",
       "    <tr>\n",
       "      <th>1</th>\n",
       "      <td>42</td>\n",
       "      <td>1</td>\n",
       "      <td>0</td>\n",
       "      <td>0.0</td>\n",
       "      <td>0.0</td>\n",
       "      <td>0</td>\n",
       "      <td>0.0</td>\n",
       "      <td>0.0</td>\n",
       "      <td>0</td>\n",
       "      <td>0.0</td>\n",
       "      <td>0</td>\n",
       "      <td>0</td>\n",
       "      <td>0</td>\n",
       "      <td>0.0</td>\n",
       "      <td>1</td>\n",
       "      <td>0</td>\n",
       "      <td>0</td>\n",
       "      <td>0</td>\n",
       "    </tr>\n",
       "    <tr>\n",
       "      <th>2</th>\n",
       "      <td>45</td>\n",
       "      <td>1</td>\n",
       "      <td>1</td>\n",
       "      <td>1.0</td>\n",
       "      <td>0.0</td>\n",
       "      <td>1</td>\n",
       "      <td>0.0</td>\n",
       "      <td>1.0</td>\n",
       "      <td>0</td>\n",
       "      <td>0.0</td>\n",
       "      <td>0</td>\n",
       "      <td>1</td>\n",
       "      <td>0</td>\n",
       "      <td>0.0</td>\n",
       "      <td>1</td>\n",
       "      <td>0</td>\n",
       "      <td>1</td>\n",
       "      <td>0</td>\n",
       "    </tr>\n",
       "    <tr>\n",
       "      <th>3</th>\n",
       "      <td>59</td>\n",
       "      <td>0</td>\n",
       "      <td>0</td>\n",
       "      <td>0.0</td>\n",
       "      <td>0.0</td>\n",
       "      <td>0</td>\n",
       "      <td>0.0</td>\n",
       "      <td>0.0</td>\n",
       "      <td>0</td>\n",
       "      <td>0.0</td>\n",
       "      <td>0</td>\n",
       "      <td>0</td>\n",
       "      <td>0</td>\n",
       "      <td>0.0</td>\n",
       "      <td>0</td>\n",
       "      <td>0</td>\n",
       "      <td>1</td>\n",
       "      <td>1</td>\n",
       "    </tr>\n",
       "    <tr>\n",
       "      <th>4</th>\n",
       "      <td>40</td>\n",
       "      <td>0</td>\n",
       "      <td>1</td>\n",
       "      <td>1.0</td>\n",
       "      <td>1.0</td>\n",
       "      <td>1</td>\n",
       "      <td>0.0</td>\n",
       "      <td>0.0</td>\n",
       "      <td>1</td>\n",
       "      <td>1.0</td>\n",
       "      <td>0</td>\n",
       "      <td>0</td>\n",
       "      <td>1</td>\n",
       "      <td>1.0</td>\n",
       "      <td>0</td>\n",
       "      <td>0</td>\n",
       "      <td>1</td>\n",
       "      <td>0</td>\n",
       "    </tr>\n",
       "    <tr>\n",
       "      <th>5</th>\n",
       "      <td>72</td>\n",
       "      <td>1</td>\n",
       "      <td>1</td>\n",
       "      <td>0.0</td>\n",
       "      <td>0.0</td>\n",
       "      <td>0</td>\n",
       "      <td>1.0</td>\n",
       "      <td>0.0</td>\n",
       "      <td>1</td>\n",
       "      <td>1.0</td>\n",
       "      <td>0</td>\n",
       "      <td>1</td>\n",
       "      <td>1</td>\n",
       "      <td>1.0</td>\n",
       "      <td>1</td>\n",
       "      <td>0</td>\n",
       "      <td>0</td>\n",
       "      <td>0</td>\n",
       "    </tr>\n",
       "    <tr>\n",
       "      <th>6</th>\n",
       "      <td>43</td>\n",
       "      <td>1</td>\n",
       "      <td>0</td>\n",
       "      <td>0.0</td>\n",
       "      <td>0.0</td>\n",
       "      <td>1</td>\n",
       "      <td>0.0</td>\n",
       "      <td>1.0</td>\n",
       "      <td>0</td>\n",
       "      <td>1.0</td>\n",
       "      <td>0</td>\n",
       "      <td>1</td>\n",
       "      <td>0</td>\n",
       "      <td>0.0</td>\n",
       "      <td>1</td>\n",
       "      <td>0</td>\n",
       "      <td>0</td>\n",
       "      <td>1</td>\n",
       "    </tr>\n",
       "    <tr>\n",
       "      <th>7</th>\n",
       "      <td>57</td>\n",
       "      <td>1</td>\n",
       "      <td>1</td>\n",
       "      <td>1.0</td>\n",
       "      <td>1.0</td>\n",
       "      <td>1</td>\n",
       "      <td>1.0</td>\n",
       "      <td>0.0</td>\n",
       "      <td>1</td>\n",
       "      <td>0.0</td>\n",
       "      <td>0</td>\n",
       "      <td>0</td>\n",
       "      <td>1</td>\n",
       "      <td>0.0</td>\n",
       "      <td>0</td>\n",
       "      <td>0</td>\n",
       "      <td>1</td>\n",
       "      <td>0</td>\n",
       "    </tr>\n",
       "    <tr>\n",
       "      <th>8</th>\n",
       "      <td>37</td>\n",
       "      <td>1</td>\n",
       "      <td>0</td>\n",
       "      <td>0.0</td>\n",
       "      <td>0.0</td>\n",
       "      <td>1</td>\n",
       "      <td>0.0</td>\n",
       "      <td>0.0</td>\n",
       "      <td>0</td>\n",
       "      <td>0.0</td>\n",
       "      <td>0</td>\n",
       "      <td>1</td>\n",
       "      <td>0</td>\n",
       "      <td>0.0</td>\n",
       "      <td>1</td>\n",
       "      <td>0</td>\n",
       "      <td>1</td>\n",
       "      <td>1</td>\n",
       "    </tr>\n",
       "    <tr>\n",
       "      <th>9</th>\n",
       "      <td>56</td>\n",
       "      <td>1</td>\n",
       "      <td>1</td>\n",
       "      <td>0.0</td>\n",
       "      <td>1.0</td>\n",
       "      <td>1</td>\n",
       "      <td>0.0</td>\n",
       "      <td>1.0</td>\n",
       "      <td>0</td>\n",
       "      <td>1.0</td>\n",
       "      <td>1</td>\n",
       "      <td>0</td>\n",
       "      <td>0</td>\n",
       "      <td>0.0</td>\n",
       "      <td>1</td>\n",
       "      <td>0</td>\n",
       "      <td>1</td>\n",
       "      <td>1</td>\n",
       "    </tr>\n",
       "  </tbody>\n",
       "</table>\n",
       "</div>"
      ],
      "text/plain": [
       "   Age  Gender  Increased Urination  Increased Thirst  Sudden Weight Loss  \\\n",
       "0   45       1                    0               0.0                 0.0   \n",
       "1   42       1                    0               0.0                 0.0   \n",
       "2   45       1                    1               1.0                 0.0   \n",
       "3   59       0                    0               0.0                 0.0   \n",
       "4   40       0                    1               1.0                 1.0   \n",
       "5   72       1                    1               0.0                 0.0   \n",
       "6   43       1                    0               0.0                 0.0   \n",
       "7   57       1                    1               1.0                 1.0   \n",
       "8   37       1                    0               0.0                 0.0   \n",
       "9   56       1                    1               0.0                 1.0   \n",
       "\n",
       "   Weakness  Increased Hunger  Genital Thrush  Visual Blurring  Itching  \\\n",
       "0         1               0.0             0.0                0      1.0   \n",
       "1         0               0.0             0.0                0      0.0   \n",
       "2         1               0.0             1.0                0      0.0   \n",
       "3         0               0.0             0.0                0      0.0   \n",
       "4         1               0.0             0.0                1      1.0   \n",
       "5         0               1.0             0.0                1      1.0   \n",
       "6         1               0.0             1.0                0      1.0   \n",
       "7         1               1.0             0.0                1      0.0   \n",
       "8         1               0.0             0.0                0      0.0   \n",
       "9         1               0.0             1.0                0      1.0   \n",
       "\n",
       "   Irritability  Delayed Healing  Partial Paresis  Muscle Stiffness  \\\n",
       "0             0                0                1               0.0   \n",
       "1             0                0                0               0.0   \n",
       "2             0                1                0               0.0   \n",
       "3             0                0                0               0.0   \n",
       "4             0                0                1               1.0   \n",
       "5             0                1                1               1.0   \n",
       "6             0                1                0               0.0   \n",
       "7             0                0                1               0.0   \n",
       "8             0                1                0               0.0   \n",
       "9             1                0                0               0.0   \n",
       "\n",
       "   Hair Loss  Obesity  Diagnosis  Family History  \n",
       "0          1        0          0               0  \n",
       "1          1        0          0               0  \n",
       "2          1        0          1               0  \n",
       "3          0        0          1               1  \n",
       "4          0        0          1               0  \n",
       "5          1        0          0               0  \n",
       "6          1        0          0               1  \n",
       "7          0        0          1               0  \n",
       "8          1        0          1               1  \n",
       "9          1        0          1               1  "
      ]
     },
     "execution_count": 4,
     "metadata": {},
     "output_type": "execute_result"
    }
   ],
   "source": [
    "def make_data_binary(data):\n",
    "    binary = data.copy()\n",
    "    ''' \n",
    "    We have changed the values from string to the binary ones, it will be easier for us \n",
    "    to work with the data.\n",
    "    Female = 0, Male = 1.\n",
    "    Yes = 1, No = 0\n",
    "    Positive = 1, Negative = 0\n",
    "    '''\n",
    "    binary = binary.replace('Female',0).replace('Male',1).replace('No',0).replace('Yes',1).replace('Positive',1).replace('Negative',0)\n",
    "    return binary.dropna() #we see in the data we have nan values. We have dropped them.\n",
    "\n",
    "data = make_data_binary(dataset)\n",
    "diag_state = data[[\"Diagnosis\"]]\n",
    "data.head(10) #visualize data after binarization"
   ]
  },
  {
   "cell_type": "markdown",
   "metadata": {},
   "source": [
    "## Question 2"
   ]
  },
  {
   "cell_type": "code",
   "execution_count": 5,
   "metadata": {},
   "outputs": [],
   "source": [
    "from sklearn import metrics\n",
    "from sklearn.model_selection import train_test_split\n",
    "from sklearn.linear_model import LogisticRegression\n",
    "\n",
    "orig_feat = data.columns.values.tolist()\n",
    "orig_feat.remove('Diagnosis')\n",
    "X_train, X_test, y_train, y_test = train_test_split(data, np.ravel(diag_state), test_size=0.2, random_state=10, stratify=np.ravel(diag_state)) #we use stratify to save proportion of classes in the train and test sets  "
   ]
  },
  {
   "cell_type": "markdown",
   "metadata": {},
   "source": [
    "## Question 3"
   ]
  },
  {
   "cell_type": "code",
   "execution_count": 6,
   "metadata": {},
   "outputs": [
    {
     "data": {
      "text/html": [
       "<div>\n",
       "<style scoped>\n",
       "    .dataframe tbody tr th:only-of-type {\n",
       "        vertical-align: middle;\n",
       "    }\n",
       "\n",
       "    .dataframe tbody tr th {\n",
       "        vertical-align: top;\n",
       "    }\n",
       "\n",
       "    .dataframe thead th {\n",
       "        text-align: right;\n",
       "    }\n",
       "</style>\n",
       "<table border=\"1\" class=\"dataframe\">\n",
       "  <thead>\n",
       "    <tr style=\"text-align: right;\">\n",
       "      <th></th>\n",
       "      <th>Train%</th>\n",
       "      <th>Test%</th>\n",
       "      <th>Delta%</th>\n",
       "    </tr>\n",
       "  </thead>\n",
       "  <tbody>\n",
       "    <tr>\n",
       "      <th>Gender</th>\n",
       "      <td>61.483254</td>\n",
       "      <td>69.523810</td>\n",
       "      <td>-8.040556</td>\n",
       "    </tr>\n",
       "    <tr>\n",
       "      <th>Increased Urination</th>\n",
       "      <td>50.478469</td>\n",
       "      <td>45.714286</td>\n",
       "      <td>4.764183</td>\n",
       "    </tr>\n",
       "    <tr>\n",
       "      <th>Increased Thirst</th>\n",
       "      <td>46.172249</td>\n",
       "      <td>38.095238</td>\n",
       "      <td>8.077011</td>\n",
       "    </tr>\n",
       "    <tr>\n",
       "      <th>Sudden Weight Loss</th>\n",
       "      <td>41.626794</td>\n",
       "      <td>40.952381</td>\n",
       "      <td>0.674413</td>\n",
       "    </tr>\n",
       "    <tr>\n",
       "      <th>Weakness</th>\n",
       "      <td>58.133971</td>\n",
       "      <td>60.000000</td>\n",
       "      <td>-1.866029</td>\n",
       "    </tr>\n",
       "    <tr>\n",
       "      <th>Increased Hunger</th>\n",
       "      <td>46.650718</td>\n",
       "      <td>40.952381</td>\n",
       "      <td>5.698337</td>\n",
       "    </tr>\n",
       "    <tr>\n",
       "      <th>Genital Thrush</th>\n",
       "      <td>20.334928</td>\n",
       "      <td>29.523810</td>\n",
       "      <td>-9.188881</td>\n",
       "    </tr>\n",
       "    <tr>\n",
       "      <th>Visual Blurring</th>\n",
       "      <td>45.933014</td>\n",
       "      <td>39.047619</td>\n",
       "      <td>6.885395</td>\n",
       "    </tr>\n",
       "    <tr>\n",
       "      <th>Itching</th>\n",
       "      <td>49.521531</td>\n",
       "      <td>44.761905</td>\n",
       "      <td>4.759626</td>\n",
       "    </tr>\n",
       "    <tr>\n",
       "      <th>Irritability</th>\n",
       "      <td>24.641148</td>\n",
       "      <td>22.857143</td>\n",
       "      <td>1.784005</td>\n",
       "    </tr>\n",
       "    <tr>\n",
       "      <th>Delayed Healing</th>\n",
       "      <td>47.846890</td>\n",
       "      <td>38.095238</td>\n",
       "      <td>9.751652</td>\n",
       "    </tr>\n",
       "    <tr>\n",
       "      <th>Partial Paresis</th>\n",
       "      <td>43.779904</td>\n",
       "      <td>39.047619</td>\n",
       "      <td>4.732285</td>\n",
       "    </tr>\n",
       "    <tr>\n",
       "      <th>Muscle Stiffness</th>\n",
       "      <td>37.559809</td>\n",
       "      <td>36.190476</td>\n",
       "      <td>1.369332</td>\n",
       "    </tr>\n",
       "    <tr>\n",
       "      <th>Hair Loss</th>\n",
       "      <td>34.928230</td>\n",
       "      <td>33.333333</td>\n",
       "      <td>1.594896</td>\n",
       "    </tr>\n",
       "    <tr>\n",
       "      <th>Obesity</th>\n",
       "      <td>17.224880</td>\n",
       "      <td>15.238095</td>\n",
       "      <td>1.986785</td>\n",
       "    </tr>\n",
       "    <tr>\n",
       "      <th>Family History</th>\n",
       "      <td>49.760766</td>\n",
       "      <td>55.238095</td>\n",
       "      <td>-5.477330</td>\n",
       "    </tr>\n",
       "  </tbody>\n",
       "</table>\n",
       "</div>"
      ],
      "text/plain": [
       "                        Train%      Test%    Delta%\n",
       "Gender               61.483254  69.523810 -8.040556\n",
       "Increased Urination  50.478469  45.714286  4.764183\n",
       "Increased Thirst     46.172249  38.095238  8.077011\n",
       "Sudden Weight Loss   41.626794  40.952381  0.674413\n",
       "Weakness             58.133971  60.000000 -1.866029\n",
       "Increased Hunger     46.650718  40.952381  5.698337\n",
       "Genital Thrush       20.334928  29.523810 -9.188881\n",
       "Visual Blurring      45.933014  39.047619  6.885395\n",
       "Itching              49.521531  44.761905  4.759626\n",
       "Irritability         24.641148  22.857143  1.784005\n",
       "Delayed Healing      47.846890  38.095238  9.751652\n",
       "Partial Paresis      43.779904  39.047619  4.732285\n",
       "Muscle Stiffness     37.559809  36.190476  1.369332\n",
       "Hair Loss            34.928230  33.333333  1.594896\n",
       "Obesity              17.224880  15.238095  1.986785\n",
       "Family History       49.760766  55.238095 -5.477330"
      ]
     },
     "execution_count": 6,
     "metadata": {},
     "output_type": "execute_result"
    }
   ],
   "source": [
    "# a\n",
    "percent_train,feat = f.find_distribution(X_train,features)\n",
    "percent_test,_ = f.find_distribution(X_test,features)\n",
    "delta = -(percent_test-percent_train)\n",
    "a = np.array([percent_train,percent_test,delta]).T\n",
    "\n",
    "distribution = pd.DataFrame(a,columns = ['Train%','Test%','Delta%'], index = feat )\n",
    "distribution.head(16)"
   ]
  },
  {
   "cell_type": "markdown",
   "metadata": {},
   "source": [
    "ai. If the data is not balanced, regular splitting the data to train and test can lead to imbalance of features between train and test."
   ]
  },
  {
   "cell_type": "markdown",
   "metadata": {},
   "source": [
    "aii. To solve the issue we need to use \"stratify\" that save proportion of classes during splitting to train and test sets."
   ]
  },
  {
   "cell_type": "code",
   "execution_count": 7,
   "metadata": {},
   "outputs": [
    {
     "data": {
      "image/png": "[encoded data removed]",
      "text/plain": [
       "<Figure size 1440x1080 with 15 Axes>"
      ]
     },
     "metadata": {
      "needs_background": "light"
     },
     "output_type": "display_data"
    }
   ],
   "source": [
    "# b\n",
    "import matplotlib.pyplot as plt\n",
    "import seaborn as sns\n",
    "\n",
    "fig, axs = plt.subplots(3,5, figsize=(20,15))\n",
    "axs = axs.ravel()\n",
    "for i, feat in enumerate(dataset.keys()):\n",
    "    if feat== 'Age' or feat =='Diagnosis' or feat == 'Family History': \n",
    "        continue\n",
    "    sns.countplot(x = dataset[feat], hue = dataset['Diagnosis'], ax = axs[i-1])\n",
    "plt.tight_layout()\n",
    "plt.show()"
   ]
  },
  {
   "cell_type": "code",
   "execution_count": 8,
   "metadata": {},
   "outputs": [
    {
     "data": {
      "image/png": "[encoded data removed]",
      "text/plain": [
       "<Figure size 432x288 with 1 Axes>"
      ]
     },
     "metadata": {
      "needs_background": "light"
     },
     "output_type": "display_data"
    },
    {
     "name": "stdout",
     "output_type": "stream",
     "text": [
      "Negative samples account for 38.62% of the data.\n",
      "Positive samples account for 61.38% of the data.\n"
     ]
    }
   ],
   "source": [
    "# c\n",
    "\n",
    "\n",
    "g = sns.countplot(x = 'Diagnosis', data = diag_state)\n",
    "g.set(xticklabels=['Negative','Positive'])\n",
    "plt.show()\n",
    "idx_1 = (diag_state == 1).index[(diag_state == 1)['Diagnosis'] == True].tolist() # positive\n",
    "idx_2 = (diag_state == 0).index[(diag_state == 0)['Diagnosis'] == True].tolist() # negative\n",
    "print(\"Negative samples account for \" + str(\"{0:.2f}\".format(100 * len(idx_2) / len(diag_state))) + \"% of the data.\")\n",
    "print(\"Positive samples account for \" + str(\"{0:.2f}\".format(100 * len(idx_1) / len(diag_state))) + \"% of the data.\")"
   ]
  },
  {
   "cell_type": "code",
   "execution_count": 9,
   "metadata": {},
   "outputs": [
    {
     "data": {
      "image/png": "[encoded data removed]",
      "text/plain": [
       "<Figure size 432x288 with 1 Axes>"
      ]
     },
     "metadata": {
      "needs_background": "light"
     },
     "output_type": "display_data"
    }
   ],
   "source": [
    "bins = 100\n",
    "feat = 'Age'\n",
    "plt.hist(dataset[feat].loc[idx_2], bins, density=True, alpha=0.5, label='Negative')\n",
    "plt.hist(dataset[feat].loc[idx_1], bins, density=True, alpha=0.5, label='Positive')\n",
    "plt.xlabel('Age')\n",
    "plt.ylabel('Probabilty')\n",
    "plt.legend(loc='upper right')\n",
    "plt.show()"
   ]
  },
  {
   "cell_type": "code",
   "execution_count": 10,
   "metadata": {},
   "outputs": [
    {
     "name": "stderr",
     "output_type": "stream",
     "text": [
      "C:\\Anaconda3\\envs\\bm-336546-hw2\\lib\\site-packages\\seaborn\\distributions.py:2557: FutureWarning: `distplot` is a deprecated function and will be removed in a future version. Please adapt your code to use either `displot` (a figure-level function with similar flexibility) or `histplot` (an axes-level function for histograms).\n",
      "  warnings.warn(msg, FutureWarning)\n",
      "C:\\Anaconda3\\envs\\bm-336546-hw2\\lib\\site-packages\\seaborn\\distributions.py:2557: FutureWarning: `distplot` is a deprecated function and will be removed in a future version. Please adapt your code to use either `displot` (a figure-level function with similar flexibility) or `histplot` (an axes-level function for histograms).\n",
      "  warnings.warn(msg, FutureWarning)\n",
      "C:\\Anaconda3\\envs\\bm-336546-hw2\\lib\\site-packages\\seaborn\\distributions.py:2557: FutureWarning: `distplot` is a deprecated function and will be removed in a future version. Please adapt your code to use either `displot` (a figure-level function with similar flexibility) or `histplot` (an axes-level function for histograms).\n",
      "  warnings.warn(msg, FutureWarning)\n",
      "C:\\Anaconda3\\envs\\bm-336546-hw2\\lib\\site-packages\\seaborn\\distributions.py:2557: FutureWarning: `distplot` is a deprecated function and will be removed in a future version. Please adapt your code to use either `displot` (a figure-level function with similar flexibility) or `histplot` (an axes-level function for histograms).\n",
      "  warnings.warn(msg, FutureWarning)\n"
     ]
    },
    {
     "data": {
      "image/png": "[encoded data removed]",
      "text/plain": [
       "<Figure size 720x288 with 2 Axes>"
      ]
     },
     "metadata": {
      "needs_background": "light"
     },
     "output_type": "display_data"
    }
   ],
   "source": [
    "Positive = 'Positive'\n",
    "Negative = 'Negative'\n",
    "fig, axes = plt.subplots(nrows=1, ncols=2,figsize=(10, 4))\n",
    "women = data[data['Gender']==1]\n",
    "men = data[data['Gender']==0]\n",
    "ax = sns.distplot(women[women['Diagnosis']==1].Age.dropna(), bins=18, label = Positive, ax = axes[0], kde =False)\n",
    "ax = sns.distplot(women[women['Diagnosis']==0].Age.dropna(), bins=40, label = Negative, ax = axes[0], kde =False)\n",
    "ax.legend()\n",
    "ax.set_title('Female')\n",
    "ax = sns.distplot(men[men['Diagnosis']==1].Age.dropna(), bins=18, label = Positive, ax = axes[1], kde = False)\n",
    "ax = sns.distplot(men[men['Diagnosis']==0].Age.dropna(), bins=40, label = Negative, ax = axes[1], kde = False)\n",
    "ax.legend()\n",
    "_ = ax.set_title('Male')"
   ]
  },
  {
   "cell_type": "code",
   "execution_count": 11,
   "metadata": {},
   "outputs": [
    {
     "name": "stderr",
     "output_type": "stream",
     "text": [
      "C:\\Anaconda3\\envs\\bm-336546-hw2\\lib\\site-packages\\seaborn\\axisgrid.py:316: UserWarning: The `size` parameter has been renamed to `height`; please update your code.\n",
      "  warnings.warn(msg, UserWarning)\n"
     ]
    },
    {
     "data": {
      "image/png": "[encoded data removed]",
      "text/plain": [
       "<Figure size 514.88x158.4 with 2 Axes>"
      ]
     },
     "metadata": {
      "needs_background": "light"
     },
     "output_type": "display_data"
    }
   ],
   "source": [
    "grid = sns.FacetGrid(data, col='Diagnosis', size=2.2, aspect=1.6)\n",
    "grid.map(plt.hist, 'Age', alpha=.5, bins=20)\n",
    "grid.add_legend();"
   ]
  },
  {
   "cell_type": "code",
   "execution_count": 12,
   "metadata": {},
   "outputs": [
    {
     "name": "stderr",
     "output_type": "stream",
     "text": [
      "C:\\Anaconda3\\envs\\bm-336546-hw2\\lib\\site-packages\\seaborn\\axisgrid.py:316: UserWarning: The `size` parameter has been renamed to `height`; please update your code.\n",
      "  warnings.warn(msg, UserWarning)\n"
     ]
    },
    {
     "data": {
      "image/png": "[encoded data removed]",
      "text/plain": [
       "<Figure size 514.88x316.8 with 4 Axes>"
      ]
     },
     "metadata": {
      "needs_background": "light"
     },
     "output_type": "display_data"
    }
   ],
   "source": [
    "grid = sns.FacetGrid(data, col='Diagnosis', row='Family History', size=2.2, aspect=1.6)\n",
    "grid.map(plt.hist, 'Age', alpha=.5, bins=20)\n",
    "grid.add_legend();"
   ]
  },
  {
   "cell_type": "code",
   "execution_count": 13,
   "metadata": {},
   "outputs": [
    {
     "data": {
      "image/png": "[encoded data removed]",
      "text/plain": [
       "<Figure size 432x288 with 1 Axes>"
      ]
     },
     "metadata": {
      "needs_background": "light"
     },
     "output_type": "display_data"
    }
   ],
   "source": [
    "ax = sns.violinplot(x=data['Weakness'], y=data['Age'], hue=\"Gender\",\n",
    "                    data=dataset, palette=\"Set2\", split=True,\n",
    "                    scale=\"count\")"
   ]
  },
  {
   "cell_type": "markdown",
   "metadata": {},
   "source": [
    "d. \n",
    "i. There are few negative samples of female in the data and number of positive samples of female in the dataset is bigger than number of positive samples of men, but we found in the internet that more men suffer from the Type 1 Diabetes. Moreover distribution of ages of the negative patienst is smaller than one of the positive patients. "
   ]
  },
  {
   "cell_type": "markdown",
   "metadata": {},
   "source": [
    "d.ii. There are features like Increased urination and Increased thirst that have separation (not 100%) between positive and negative diagnoses. For example if \"Increased urination\" = Yes the probability to get positive doagnosis much bigger than probability to get negative diagnosis and vice versa.   "
   ]
  },
  {
   "cell_type": "markdown",
   "metadata": {},
   "source": [
    "## Question 4"
   ]
  },
  {
   "cell_type": "code",
   "execution_count": 14,
   "metadata": {},
   "outputs": [
    {
     "data": {
      "text/plain": [
       "(523, 32)"
      ]
     },
     "execution_count": 14,
     "metadata": {},
     "output_type": "execute_result"
    }
   ],
   "source": [
    "# import OneHotEncoder\n",
    "from sklearn.preprocessing import OneHotEncoder\n",
    "# instantiate OneHotEncoder\n",
    "ohe = OneHotEncoder( sparse=False ) \n",
    "d = dataset.dropna().copy() #drop nan's from the dataset\n",
    "# apply OneHotEncoder on categorical feature columns and drop Age and Diagnosis\n",
    "X_ohe = ohe.fit_transform(d.drop('Age', axis=1).drop('Diagnosis', axis=1)) \n",
    "X_ohe.shape"
   ]
  },
  {
   "cell_type": "code",
   "execution_count": 15,
   "metadata": {},
   "outputs": [
    {
     "data": {
      "text/plain": [
       "(523,)"
      ]
     },
     "execution_count": 15,
     "metadata": {},
     "output_type": "execute_result"
    }
   ],
   "source": [
    "d['Diagnosis'].shape"
   ]
  },
  {
   "cell_type": "code",
   "execution_count": 16,
   "metadata": {},
   "outputs": [
    {
     "data": {
      "text/plain": [
       "(523, 33)"
      ]
     },
     "execution_count": 16,
     "metadata": {},
     "output_type": "execute_result"
    }
   ],
   "source": [
    "# Here we add Age to one hot vector\n",
    "dd = dataset.dropna()['Age'].values\n",
    "dd = np.reshape(dd,(1, dd.size))\n",
    "X_ohe = np.concatenate((dd.T,X_ohe), axis = 1)\n",
    "X_ohe.shape"
   ]
  },
  {
   "cell_type": "code",
   "execution_count": 17,
   "metadata": {},
   "outputs": [],
   "source": [
    "# Here we do scaling on the age\n",
    "Age =  X_ohe[:,0]\n",
    "mu = np.mean(Age)\n",
    "std = np.std(Age)\n",
    "Age -=mu\n",
    "Age/=std\n",
    "age = np.array([Age])\n",
    "X2 = np.concatenate((age.T, X_ohe[:,1:-1]),axis=1)"
   ]
  },
  {
   "cell_type": "code",
   "execution_count": 18,
   "metadata": {},
   "outputs": [],
   "source": [
    "X_train, X_test, y_train, y_test = train_test_split(X_ohe, d['Diagnosis'], test_size=0.2, random_state=10, stratify =d['Diagnosis'] )                                                   "
   ]
  },
  {
   "cell_type": "code",
   "execution_count": 19,
   "metadata": {},
   "outputs": [
    {
     "name": "stdout",
     "output_type": "stream",
     "text": [
      "Fitting 5 folds for each of 12 candidates, totalling 60 fits\n",
      "[CV 1/5] END logistic__C=100.0, logistic__penalty=l2; roc_auc: (train=0.984, test=0.992) total time=   0.0s\n",
      "[CV 2/5] END logistic__C=100.0, logistic__penalty=l2; roc_auc: (train=0.993, test=0.944) total time=   0.0s\n",
      "[CV 3/5] END logistic__C=100.0, logistic__penalty=l2; roc_auc: (train=0.987, test=0.978) total time=   0.0s\n",
      "[CV 4/5] END logistic__C=100.0, logistic__penalty=l2; roc_auc: (train=0.987, test=0.988) total time=   0.0s\n",
      "[CV 5/5] END logistic__C=100.0, logistic__penalty=l2; roc_auc: (train=0.987, test=0.974) total time=   0.0s\n",
      "[CV 1/5] END logistic__C=100.0, logistic__penalty=l1; roc_auc: (train=0.984, test=0.991) total time=   0.1s\n",
      "[CV 2/5] END logistic__C=100.0, logistic__penalty=l1; roc_auc: (train=0.993, test=0.945) total time=   0.1s\n",
      "[CV 3/5] END logistic__C=100.0, logistic__penalty=l1; roc_auc: (train=0.987, test=0.979) total time=   0.0s\n",
      "[CV 4/5] END logistic__C=100.0, logistic__penalty=l1; roc_auc: (train=0.987, test=0.988) total time=   0.0s\n",
      "[CV 5/5] END logistic__C=100.0, logistic__penalty=l1; roc_auc: (train=0.987, test=0.974) total time=   0.1s\n",
      "[CV 1/5] END logistic__C=100.0, logistic__penalty=l2; roc_auc: (train=0.984, test=0.992) total time=   0.0s\n",
      "[CV 2/5] END logistic__C=100.0, logistic__penalty=l2; roc_auc: (train=0.993, test=0.944) total time=   0.0s\n",
      "[CV 3/5] END logistic__C=100.0, logistic__penalty=l2; roc_auc: (train=0.987, test=0.978) total time=   0.0s\n",
      "[CV 4/5] END logistic__C=100.0, logistic__penalty=l2; roc_auc: (train=0.987, test=0.988) total time=   0.0s\n",
      "[CV 5/5] END logistic__C=100.0, logistic__penalty=l2; roc_auc: (train=0.987, test=0.974) total time=   0.0s\n",
      "[CV 1/5] END logistic__C=100.0, logistic__penalty=l1; roc_auc: (train=0.984, test=0.991) total time=   0.1s\n",
      "[CV 2/5] END logistic__C=100.0, logistic__penalty=l1; roc_auc: (train=0.993, test=0.945) total time=   0.1s\n",
      "[CV 3/5] END logistic__C=100.0, logistic__penalty=l1; roc_auc: (train=0.987, test=0.979) total time=   0.0s\n",
      "[CV 4/5] END logistic__C=100.0, logistic__penalty=l1; roc_auc: (train=0.987, test=0.988) total time=   0.0s\n",
      "[CV 5/5] END logistic__C=100.0, logistic__penalty=l1; roc_auc: (train=0.987, test=0.974) total time=   0.1s\n",
      "[CV 1/5] END logistic__C=1.0, logistic__penalty=l2; roc_auc: (train=0.983, test=0.996) total time=   0.0s\n",
      "[CV 2/5] END logistic__C=1.0, logistic__penalty=l2; roc_auc: (train=0.989, test=0.943) total time=   0.0s\n",
      "[CV 3/5] END logistic__C=1.0, logistic__penalty=l2; roc_auc: (train=0.987, test=0.976) total time=   0.0s\n",
      "[CV 4/5] END logistic__C=1.0, logistic__penalty=l2; roc_auc: (train=0.984, test=0.987) total time=   0.0s\n",
      "[CV 5/5] END logistic__C=1.0, logistic__penalty=l2; roc_auc: (train=0.985, test=0.977) total time=   0.0s\n",
      "[CV 1/5] END logistic__C=1.0, logistic__penalty=l1; roc_auc: (train=0.983, test=0.992) total time=   0.0s\n",
      "[CV 2/5] END logistic__C=1.0, logistic__penalty=l1; roc_auc: (train=0.991, test=0.944) total time=   0.0s\n",
      "[CV 3/5] END logistic__C=1.0, logistic__penalty=l1; roc_auc: (train=0.986, test=0.983) total time=   0.0s\n",
      "[CV 4/5] END logistic__C=1.0, logistic__penalty=l1; roc_auc: (train=0.984, test=0.993) total time=   0.0s\n",
      "[CV 5/5] END logistic__C=1.0, logistic__penalty=l1; roc_auc: (train=0.986, test=0.971) total time=   0.0s\n",
      "[CV 1/5] END logistic__C=0.1, logistic__penalty=l2; roc_auc: (train=0.975, test=0.999) total time=   0.0s\n",
      "[CV 2/5] END logistic__C=0.1, logistic__penalty=l2; roc_auc: (train=0.986, test=0.941) total time=   0.0s\n",
      "[CV 3/5] END logistic__C=0.1, logistic__penalty=l2; roc_auc: (train=0.981, test=0.973) total time=   0.0s\n",
      "[CV 4/5] END logistic__C=0.1, logistic__penalty=l2; roc_auc: (train=0.977, test=0.985) total time=   0.0s\n",
      "[CV 5/5] END logistic__C=0.1, logistic__penalty=l2; roc_auc: (train=0.981, test=0.965) total time=   0.0s\n",
      "[CV 1/5] END logistic__C=0.1, logistic__penalty=l1; roc_auc: (train=0.956, test=0.987) total time=   0.0s\n",
      "[CV 2/5] END logistic__C=0.1, logistic__penalty=l1; roc_auc: (train=0.971, test=0.924) total time=   0.0s\n",
      "[CV 3/5] END logistic__C=0.1, logistic__penalty=l1; roc_auc: (train=0.961, test=0.959) total time=   0.0s\n",
      "[CV 4/5] END logistic__C=0.1, logistic__penalty=l1; roc_auc: (train=0.954, test=0.980) total time=   0.0s\n",
      "[CV 5/5] END logistic__C=0.1, logistic__penalty=l1; roc_auc: (train=0.968, test=0.928) total time=   0.0s\n",
      "[CV 1/5] END logistic__C=0.01, logistic__penalty=l2; roc_auc: (train=0.962, test=0.991) total time=   0.0s\n",
      "[CV 2/5] END logistic__C=0.01, logistic__penalty=l2; roc_auc: (train=0.975, test=0.933) total time=   0.0s\n",
      "[CV 3/5] END logistic__C=0.01, logistic__penalty=l2; roc_auc: (train=0.966, test=0.951) total time=   0.0s\n",
      "[CV 4/5] END logistic__C=0.01, logistic__penalty=l2; roc_auc: (train=0.965, test=0.986) total time=   0.0s\n",
      "[CV 5/5] END logistic__C=0.01, logistic__penalty=l2; roc_auc: (train=0.968, test=0.939) total time=   0.0s\n",
      "[CV 1/5] END logistic__C=0.01, logistic__penalty=l1; roc_auc: (train=0.500, test=0.500) total time=   0.0s\n",
      "[CV 2/5] END logistic__C=0.01, logistic__penalty=l1; roc_auc: (train=0.500, test=0.500) total time=   0.0s\n",
      "[CV 3/5] END logistic__C=0.01, logistic__penalty=l1; roc_auc: (train=0.500, test=0.500) total time=   0.0s\n",
      "[CV 4/5] END logistic__C=0.01, logistic__penalty=l1; roc_auc: (train=0.500, test=0.500) total time=   0.0s\n",
      "[CV 5/5] END logistic__C=0.01, logistic__penalty=l1; roc_auc: (train=0.500, test=0.500) total time=   0.0s\n",
      "[CV 1/5] END logistic__C=0.001, logistic__penalty=l2; roc_auc: (train=0.948, test=0.981) total time=   0.0s\n",
      "[CV 2/5] END logistic__C=0.001, logistic__penalty=l2; roc_auc: (train=0.964, test=0.925) total time=   0.0s\n",
      "[CV 3/5] END logistic__C=0.001, logistic__penalty=l2; roc_auc: (train=0.952, test=0.929) total time=   0.0s\n",
      "[CV 4/5] END logistic__C=0.001, logistic__penalty=l2; roc_auc: (train=0.950, test=0.985) total time=   0.0s\n",
      "[CV 5/5] END logistic__C=0.001, logistic__penalty=l2; roc_auc: (train=0.956, test=0.934) total time=   0.0s\n",
      "[CV 1/5] END logistic__C=0.001, logistic__penalty=l1; roc_auc: (train=0.500, test=0.500) total time=   0.0s\n",
      "[CV 2/5] END logistic__C=0.001, logistic__penalty=l1; roc_auc: (train=0.500, test=0.500) total time=   0.0s\n",
      "[CV 3/5] END logistic__C=0.001, logistic__penalty=l1; roc_auc: (train=0.500, test=0.500) total time=   0.0s\n",
      "[CV 4/5] END logistic__C=0.001, logistic__penalty=l1; roc_auc: (train=0.500, test=0.500) total time=   0.0s\n",
      "[CV 5/5] END logistic__C=0.001, logistic__penalty=l1; roc_auc: (train=0.500, test=0.500) total time=   0.0s\n"
     ]
    },
    {
     "data": {
      "text/plain": [
       "{'logistic__C': 1.0, 'logistic__penalty': 'l1'}"
      ]
     },
     "execution_count": 19,
     "metadata": {},
     "output_type": "execute_result"
    }
   ],
   "source": [
    "# from tutorial 5\n",
    "from sklearn.model_selection import GridSearchCV\n",
    "from sklearn.pipeline import Pipeline\n",
    "from sklearn.model_selection import StratifiedKFold as SKFold\n",
    "from sklearn.linear_model import LogisticRegression\n",
    "\n",
    "logreg = LogisticRegression(random_state=5,solver='saga', multi_class='ovr', max_iter=10000)\n",
    "lmbda = np.array([0.01, 0.01, 1, 10, 100, 1000])\n",
    "kf = SKFold(n_splits=5)\n",
    "pipe_lin = Pipeline(steps=[('logistic', logreg)])\n",
    "clf = GridSearchCV(estimator=pipe_lin, param_grid={'logistic__C': 1/lmbda, 'logistic__penalty': ['l2', 'l1']},\n",
    "                   scoring=['roc_auc'], cv=kf,\n",
    "                   refit='roc_auc', verbose=3, return_train_score=True) # verbose bigger - more data we see, logistic__C - do logistiq regression with parameter C\n",
    "clf.fit(X_train, y_train)\n",
    "clf.best_params_"
   ]
  },
  {
   "cell_type": "code",
   "execution_count": 20,
   "metadata": {},
   "outputs": [],
   "source": [
    "best_logreg = clf.best_estimator_"
   ]
  },
  {
   "cell_type": "code",
   "execution_count": 21,
   "metadata": {},
   "outputs": [
    {
     "name": "stdout",
     "output_type": "stream",
     "text": [
      "For the test set:\n",
      "\n",
      "Loss is 0.25. \n",
      "Accuracy is 0.90. \n",
      "F1 is 0.92. \n",
      "AUROC is 0.954\n",
      "\n",
      "For the train set:\n",
      "\n",
      "Loss is 0.16. \n",
      "Accuracy is 0.93. \n",
      "F1 is 0.94. \n",
      "AUROC is 0.986\n"
     ]
    }
   ],
   "source": [
    "print('For the test set:\\n')\n",
    "func.calc_stat(X_test,y_test,best_logreg, flag = 'log') # calculate performance of test\n",
    "print('\\nFor the train set:\\n')\n",
    "func.calc_stat(X_train,y_train,best_logreg,flag ='log') # calculate performance of train"
   ]
  },
  {
   "cell_type": "code",
   "execution_count": 22,
   "metadata": {},
   "outputs": [
    {
     "name": "stdout",
     "output_type": "stream",
     "text": [
      "Fitting 5 folds for each of 6 candidates, totalling 30 fits\n",
      "[CV 1/5] END svm__C=0.001, svm__kernel=linear; roc_auc: (train=0.954, test=0.983) total time=   0.0s\n",
      "[CV 2/5] END svm__C=0.001, svm__kernel=linear; roc_auc: (train=0.969, test=0.925) total time=   0.0s\n",
      "[CV 3/5] END svm__C=0.001, svm__kernel=linear; roc_auc: (train=0.956, test=0.938) total time=   0.0s\n",
      "[CV 4/5] END svm__C=0.001, svm__kernel=linear; roc_auc: (train=0.954, test=0.987) total time=   0.0s\n",
      "[CV 5/5] END svm__C=0.001, svm__kernel=linear; roc_auc: (train=0.959, test=0.936) total time=   0.0s\n",
      "[CV 1/5] END svm__C=0.01, svm__kernel=linear; roc_auc: (train=0.968, test=0.995) total time=   0.0s\n",
      "[CV 2/5] END svm__C=0.01, svm__kernel=linear; roc_auc: (train=0.978, test=0.934) total time=   0.0s\n",
      "[CV 3/5] END svm__C=0.01, svm__kernel=linear; roc_auc: (train=0.975, test=0.968) total time=   0.0s\n",
      "[CV 4/5] END svm__C=0.01, svm__kernel=linear; roc_auc: (train=0.969, test=0.987) total time=   0.0s\n",
      "[CV 5/5] END svm__C=0.01, svm__kernel=linear; roc_auc: (train=0.974, test=0.947) total time=   0.0s\n",
      "[CV 1/5] END svm__C=0.1, svm__kernel=linear; roc_auc: (train=0.972, test=0.991) total time=   0.0s\n",
      "[CV 2/5] END svm__C=0.1, svm__kernel=linear; roc_auc: (train=0.986, test=0.933) total time=   0.0s\n",
      "[CV 3/5] END svm__C=0.1, svm__kernel=linear; roc_auc: (train=0.980, test=0.969) total time=   0.0s\n",
      "[CV 4/5] END svm__C=0.1, svm__kernel=linear; roc_auc: (train=0.976, test=0.986) total time=   0.0s\n",
      "[CV 5/5] END svm__C=0.1, svm__kernel=linear; roc_auc: (train=0.979, test=0.969) total time=   0.0s\n",
      "[CV 1/5] END svm__C=1, svm__kernel=linear; roc_auc: (train=0.972, test=0.990) total time=   0.0s\n",
      "[CV 2/5] END svm__C=1, svm__kernel=linear; roc_auc: (train=0.987, test=0.940) total time=   0.0s\n",
      "[CV 3/5] END svm__C=1, svm__kernel=linear; roc_auc: (train=0.982, test=0.960) total time=   0.0s\n",
      "[CV 4/5] END svm__C=1, svm__kernel=linear; roc_auc: (train=0.977, test=0.987) total time=   0.0s\n",
      "[CV 5/5] END svm__C=1, svm__kernel=linear; roc_auc: (train=0.981, test=0.975) total time=   0.0s\n",
      "[CV 1/5] END svm__C=10, svm__kernel=linear; roc_auc: (train=0.974, test=0.990) total time=   0.0s\n",
      "[CV 2/5] END svm__C=10, svm__kernel=linear; roc_auc: (train=0.991, test=0.939) total time=   0.0s\n",
      "[CV 3/5] END svm__C=10, svm__kernel=linear; roc_auc: (train=0.980, test=0.953) total time=   0.0s\n",
      "[CV 4/5] END svm__C=10, svm__kernel=linear; roc_auc: (train=0.980, test=0.987) total time=   0.0s\n",
      "[CV 5/5] END svm__C=10, svm__kernel=linear; roc_auc: (train=0.982, test=0.972) total time=   0.0s\n",
      "[CV 1/5] END svm__C=100, svm__kernel=linear; roc_auc: (train=0.972, test=0.989) total time=   0.4s\n",
      "[CV 2/5] END svm__C=100, svm__kernel=linear; roc_auc: (train=0.991, test=0.939) total time=   0.3s\n",
      "[CV 3/5] END svm__C=100, svm__kernel=linear; roc_auc: (train=0.980, test=0.953) total time=   0.7s\n",
      "[CV 4/5] END svm__C=100, svm__kernel=linear; roc_auc: (train=0.980, test=0.987) total time=   0.6s\n",
      "[CV 5/5] END svm__C=100, svm__kernel=linear; roc_auc: (train=0.982, test=0.972) total time=   0.6s\n"
     ]
    }
   ],
   "source": [
    "C = [0.001, 0.01, 0.1, 1, 10, 100]\n",
    "gamma = [0];\n",
    "best_svm_lin = func.cv_kfold_svm(X_train,y_train,C=C,K=5,gamma=gamma, flag = 'linear')"
   ]
  },
  {
   "cell_type": "code",
   "execution_count": 23,
   "metadata": {},
   "outputs": [
    {
     "data": {
      "image/png": "[encoded data removed]",
      "text/plain": [
       "<Figure size 432x288 with 2 Axes>"
      ]
     },
     "metadata": {
      "needs_background": "light"
     },
     "output_type": "display_data"
    }
   ],
   "source": [
    "y_pred_svm_lin_best =  best_svm_lin.predict(X_test)\n",
    "y_pred_proba_svm_lin_best = best_svm_lin.predict_proba(X_test)\n",
    "cnf_matrix = metrics.confusion_matrix(y_test, y_pred_svm_lin_best)\n",
    "ax1 = plt.subplot(211)\n",
    "sns.heatmap(cnf_matrix, annot=True, xticklabels=['Negative','Positive'], yticklabels=['Negative','Positive'])\n",
    "ax1.set(ylabel='True labels', xlabel='Predicted labels')\n",
    "plt.show()\n"
   ]
  },
  {
   "cell_type": "code",
   "execution_count": 24,
   "metadata": {},
   "outputs": [
    {
     "name": "stdout",
     "output_type": "stream",
     "text": [
      "For the test set:\n",
      "\n",
      "Loss is 0.17. \n",
      "Accuracy is 0.91. \n",
      "F1 is 0.93. \n",
      "AUROC is 0.968\n",
      "\n",
      "For the train set:\n",
      "\n",
      "Loss is 0.11. \n",
      "Accuracy is 0.94. \n",
      "F1 is 0.95. \n",
      "AUROC is 0.980\n"
     ]
    }
   ],
   "source": [
    "print('For the test set:\\n')\n",
    "func.calc_stat(X_test,y_test,best_svm_lin, flag = 'non_log') # calculate performance of test\n",
    "print('\\nFor the train set:\\n')\n",
    "func.calc_stat(X_train,y_train,best_svm_lin,flag ='non_log') # calculate performance of train"
   ]
  },
  {
   "cell_type": "code",
   "execution_count": 25,
   "metadata": {},
   "outputs": [
    {
     "name": "stdout",
     "output_type": "stream",
     "text": [
      "Fitting 5 folds for each of 36 candidates, totalling 180 fits\n",
      "[CV 1/5] END svm__C=0.001, svm__gamma=0.001, svm__kernel=rbf; roc_auc: (train=0.957, test=0.985) total time=   0.0s\n",
      "[CV 2/5] END svm__C=0.001, svm__gamma=0.001, svm__kernel=rbf; roc_auc: (train=0.970, test=0.928) total time=   0.0s\n",
      "[CV 3/5] END svm__C=0.001, svm__gamma=0.001, svm__kernel=rbf; roc_auc: (train=0.962, test=0.947) total time=   0.0s\n",
      "[CV 4/5] END svm__C=0.001, svm__gamma=0.001, svm__kernel=rbf; roc_auc: (train=0.957, test=0.988) total time=   0.0s\n",
      "[CV 5/5] END svm__C=0.001, svm__gamma=0.001, svm__kernel=rbf; roc_auc: (train=0.962, test=0.937) total time=   0.0s\n",
      "[CV 1/5] END svm__C=0.001, svm__gamma=0.01, svm__kernel=rbf; roc_auc: (train=0.955, test=0.985) total time=   0.0s\n",
      "[CV 2/5] END svm__C=0.001, svm__gamma=0.01, svm__kernel=rbf; roc_auc: (train=0.968, test=0.928) total time=   0.0s\n",
      "[CV 3/5] END svm__C=0.001, svm__gamma=0.01, svm__kernel=rbf; roc_auc: (train=0.958, test=0.942) total time=   0.0s\n",
      "[CV 4/5] END svm__C=0.001, svm__gamma=0.01, svm__kernel=rbf; roc_auc: (train=0.954, test=0.987) total time=   0.0s\n",
      "[CV 5/5] END svm__C=0.001, svm__gamma=0.01, svm__kernel=rbf; roc_auc: (train=0.962, test=0.936) total time=   0.0s\n",
      "[CV 1/5] END svm__C=0.001, svm__gamma=0.1, svm__kernel=rbf; roc_auc: (train=0.974, test=0.993) total time=   0.0s\n",
      "[CV 2/5] END svm__C=0.001, svm__gamma=0.1, svm__kernel=rbf; roc_auc: (train=0.982, test=0.942) total time=   0.0s\n",
      "[CV 3/5] END svm__C=0.001, svm__gamma=0.1, svm__kernel=rbf; roc_auc: (train=0.972, test=0.964) total time=   0.0s\n",
      "[CV 4/5] END svm__C=0.001, svm__gamma=0.1, svm__kernel=rbf; roc_auc: (train=0.974, test=0.988) total time=   0.0s\n",
      "[CV 5/5] END svm__C=0.001, svm__gamma=0.1, svm__kernel=rbf; roc_auc: (train=0.976, test=0.945) total time=   0.0s\n",
      "[CV 1/5] END svm__C=0.001, svm__gamma=1, svm__kernel=rbf; roc_auc: (train=0.997, test=0.999) total time=   0.0s\n",
      "[CV 2/5] END svm__C=0.001, svm__gamma=1, svm__kernel=rbf; roc_auc: (train=0.999, test=0.980) total time=   0.0s\n",
      "[CV 3/5] END svm__C=0.001, svm__gamma=1, svm__kernel=rbf; roc_auc: (train=0.996, test=0.997) total time=   0.0s\n",
      "[CV 4/5] END svm__C=0.001, svm__gamma=1, svm__kernel=rbf; roc_auc: (train=0.998, test=0.999) total time=   0.0s\n",
      "[CV 5/5] END svm__C=0.001, svm__gamma=1, svm__kernel=rbf; roc_auc: (train=0.998, test=0.983) total time=   0.0s\n",
      "[CV 1/5] END svm__C=0.001, svm__gamma=10, svm__kernel=rbf; roc_auc: (train=1.000, test=0.967) total time=   0.0s\n",
      "[CV 2/5] END svm__C=0.001, svm__gamma=10, svm__kernel=rbf; roc_auc: (train=1.000, test=0.979) total time=   0.0s\n",
      "[CV 3/5] END svm__C=0.001, svm__gamma=10, svm__kernel=rbf; roc_auc: (train=1.000, test=0.988) total time=   0.0s\n",
      "[CV 4/5] END svm__C=0.001, svm__gamma=10, svm__kernel=rbf; roc_auc: (train=1.000, test=0.982) total time=   0.0s\n",
      "[CV 5/5] END svm__C=0.001, svm__gamma=10, svm__kernel=rbf; roc_auc: (train=1.000, test=0.989) total time=   0.0s\n",
      "[CV 1/5] END svm__C=0.001, svm__gamma=100, svm__kernel=rbf; roc_auc: (train=1.000, test=0.891) total time=   0.0s\n",
      "[CV 2/5] END svm__C=0.001, svm__gamma=100, svm__kernel=rbf; roc_auc: (train=1.000, test=0.857) total time=   0.0s\n",
      "[CV 3/5] END svm__C=0.001, svm__gamma=100, svm__kernel=rbf; roc_auc: (train=1.000, test=0.881) total time=   0.0s\n",
      "[CV 4/5] END svm__C=0.001, svm__gamma=100, svm__kernel=rbf; roc_auc: (train=1.000, test=0.858) total time=   0.0s\n",
      "[CV 5/5] END svm__C=0.001, svm__gamma=100, svm__kernel=rbf; roc_auc: (train=1.000, test=0.911) total time=   0.0s\n",
      "[CV 1/5] END svm__C=0.01, svm__gamma=0.001, svm__kernel=rbf; roc_auc: (train=0.955, test=0.985) total time=   0.0s\n",
      "[CV 2/5] END svm__C=0.01, svm__gamma=0.001, svm__kernel=rbf; roc_auc: (train=0.968, test=0.925) total time=   0.0s\n",
      "[CV 3/5] END svm__C=0.01, svm__gamma=0.001, svm__kernel=rbf; roc_auc: (train=0.955, test=0.934) total time=   0.0s\n",
      "[CV 4/5] END svm__C=0.01, svm__gamma=0.001, svm__kernel=rbf; roc_auc: (train=0.953, test=0.987) total time=   0.0s\n",
      "[CV 5/5] END svm__C=0.01, svm__gamma=0.001, svm__kernel=rbf; roc_auc: (train=0.959, test=0.936) total time=   0.0s\n",
      "[CV 1/5] END svm__C=0.01, svm__gamma=0.01, svm__kernel=rbf; roc_auc: (train=0.957, test=0.986) total time=   0.0s\n",
      "[CV 2/5] END svm__C=0.01, svm__gamma=0.01, svm__kernel=rbf; roc_auc: (train=0.970, test=0.930) total time=   0.0s\n",
      "[CV 3/5] END svm__C=0.01, svm__gamma=0.01, svm__kernel=rbf; roc_auc: (train=0.958, test=0.943) total time=   0.0s\n",
      "[CV 4/5] END svm__C=0.01, svm__gamma=0.01, svm__kernel=rbf; roc_auc: (train=0.956, test=0.987) total time=   0.0s\n",
      "[CV 5/5] END svm__C=0.01, svm__gamma=0.01, svm__kernel=rbf; roc_auc: (train=0.962, test=0.936) total time=   0.0s\n",
      "[CV 1/5] END svm__C=0.01, svm__gamma=0.1, svm__kernel=rbf; roc_auc: (train=0.974, test=0.993) total time=   0.0s\n",
      "[CV 2/5] END svm__C=0.01, svm__gamma=0.1, svm__kernel=rbf; roc_auc: (train=0.982, test=0.942) total time=   0.0s\n",
      "[CV 3/5] END svm__C=0.01, svm__gamma=0.1, svm__kernel=rbf; roc_auc: (train=0.972, test=0.964) total time=   0.0s\n",
      "[CV 4/5] END svm__C=0.01, svm__gamma=0.1, svm__kernel=rbf; roc_auc: (train=0.974, test=0.989) total time=   0.0s\n",
      "[CV 5/5] END svm__C=0.01, svm__gamma=0.1, svm__kernel=rbf; roc_auc: (train=0.976, test=0.945) total time=   0.0s\n",
      "[CV 1/5] END svm__C=0.01, svm__gamma=1, svm__kernel=rbf; roc_auc: (train=0.997, test=0.999) total time=   0.0s\n",
      "[CV 2/5] END svm__C=0.01, svm__gamma=1, svm__kernel=rbf; roc_auc: (train=0.999, test=0.980) total time=   0.0s\n",
      "[CV 3/5] END svm__C=0.01, svm__gamma=1, svm__kernel=rbf; roc_auc: (train=0.996, test=0.997) total time=   0.0s\n",
      "[CV 4/5] END svm__C=0.01, svm__gamma=1, svm__kernel=rbf; roc_auc: (train=0.998, test=0.999) total time=   0.0s\n",
      "[CV 5/5] END svm__C=0.01, svm__gamma=1, svm__kernel=rbf; roc_auc: (train=0.998, test=0.983) total time=   0.0s\n",
      "[CV 1/5] END svm__C=0.01, svm__gamma=10, svm__kernel=rbf; roc_auc: (train=1.000, test=0.969) total time=   0.0s\n",
      "[CV 2/5] END svm__C=0.01, svm__gamma=10, svm__kernel=rbf; roc_auc: (train=1.000, test=0.979) total time=   0.0s\n",
      "[CV 3/5] END svm__C=0.01, svm__gamma=10, svm__kernel=rbf; roc_auc: (train=1.000, test=0.988) total time=   0.0s\n",
      "[CV 4/5] END svm__C=0.01, svm__gamma=10, svm__kernel=rbf; roc_auc: (train=1.000, test=0.984) total time=   0.0s\n",
      "[CV 5/5] END svm__C=0.01, svm__gamma=10, svm__kernel=rbf; roc_auc: (train=1.000, test=0.989) total time=   0.0s\n",
      "[CV 1/5] END svm__C=0.01, svm__gamma=100, svm__kernel=rbf; roc_auc: (train=1.000, test=0.895) total time=   0.0s\n",
      "[CV 2/5] END svm__C=0.01, svm__gamma=100, svm__kernel=rbf; roc_auc: (train=1.000, test=0.857) total time=   0.0s\n",
      "[CV 3/5] END svm__C=0.01, svm__gamma=100, svm__kernel=rbf; roc_auc: (train=1.000, test=0.881) total time=   0.0s\n",
      "[CV 4/5] END svm__C=0.01, svm__gamma=100, svm__kernel=rbf; roc_auc: (train=1.000, test=0.858) total time=   0.0s\n",
      "[CV 5/5] END svm__C=0.01, svm__gamma=100, svm__kernel=rbf; roc_auc: (train=1.000, test=0.911) total time=   0.0s\n",
      "[CV 1/5] END svm__C=0.1, svm__gamma=0.001, svm__kernel=rbf; roc_auc: (train=0.955, test=0.984) total time=   0.0s\n",
      "[CV 2/5] END svm__C=0.1, svm__gamma=0.001, svm__kernel=rbf; roc_auc: (train=0.969, test=0.925) total time=   0.0s\n",
      "[CV 3/5] END svm__C=0.1, svm__gamma=0.001, svm__kernel=rbf; roc_auc: (train=0.956, test=0.938) total time=   0.0s\n",
      "[CV 4/5] END svm__C=0.1, svm__gamma=0.001, svm__kernel=rbf; roc_auc: (train=0.954, test=0.987) total time=   0.0s\n",
      "[CV 5/5] END svm__C=0.1, svm__gamma=0.001, svm__kernel=rbf; roc_auc: (train=0.960, test=0.936) total time=   0.0s\n",
      "[CV 1/5] END svm__C=0.1, svm__gamma=0.01, svm__kernel=rbf; roc_auc: (train=0.957, test=0.986) total time=   0.0s\n",
      "[CV 2/5] END svm__C=0.1, svm__gamma=0.01, svm__kernel=rbf; roc_auc: (train=0.970, test=0.929) total time=   0.0s\n",
      "[CV 3/5] END svm__C=0.1, svm__gamma=0.01, svm__kernel=rbf; roc_auc: (train=0.958, test=0.944) total time=   0.0s\n",
      "[CV 4/5] END svm__C=0.1, svm__gamma=0.01, svm__kernel=rbf; roc_auc: (train=0.956, test=0.987) total time=   0.0s\n",
      "[CV 5/5] END svm__C=0.1, svm__gamma=0.01, svm__kernel=rbf; roc_auc: (train=0.962, test=0.936) total time=   0.0s\n",
      "[CV 1/5] END svm__C=0.1, svm__gamma=0.1, svm__kernel=rbf; roc_auc: (train=0.983, test=0.998) total time=   0.0s\n",
      "[CV 2/5] END svm__C=0.1, svm__gamma=0.1, svm__kernel=rbf; roc_auc: (train=0.989, test=0.961) total time=   0.0s\n",
      "[CV 3/5] END svm__C=0.1, svm__gamma=0.1, svm__kernel=rbf; roc_auc: (train=0.985, test=0.980) total time=   0.0s\n",
      "[CV 4/5] END svm__C=0.1, svm__gamma=0.1, svm__kernel=rbf; roc_auc: (train=0.983, test=0.993) total time=   0.0s\n",
      "[CV 5/5] END svm__C=0.1, svm__gamma=0.1, svm__kernel=rbf; roc_auc: (train=0.987, test=0.964) total time=   0.0s\n",
      "[CV 1/5] END svm__C=0.1, svm__gamma=1, svm__kernel=rbf; roc_auc: (train=0.997, test=0.999) total time=   0.0s\n",
      "[CV 2/5] END svm__C=0.1, svm__gamma=1, svm__kernel=rbf; roc_auc: (train=0.999, test=0.979) total time=   0.0s\n",
      "[CV 3/5] END svm__C=0.1, svm__gamma=1, svm__kernel=rbf; roc_auc: (train=0.996, test=0.997) total time=   0.0s\n",
      "[CV 4/5] END svm__C=0.1, svm__gamma=1, svm__kernel=rbf; roc_auc: (train=0.998, test=0.999) total time=   0.0s\n",
      "[CV 5/5] END svm__C=0.1, svm__gamma=1, svm__kernel=rbf; roc_auc: (train=0.998, test=0.983) total time=   0.0s\n",
      "[CV 1/5] END svm__C=0.1, svm__gamma=10, svm__kernel=rbf; roc_auc: (train=1.000, test=0.972) total time=   0.0s\n",
      "[CV 2/5] END svm__C=0.1, svm__gamma=10, svm__kernel=rbf; roc_auc: (train=1.000, test=0.979) total time=   0.0s\n",
      "[CV 3/5] END svm__C=0.1, svm__gamma=10, svm__kernel=rbf; roc_auc: (train=1.000, test=0.988) total time=   0.0s\n",
      "[CV 4/5] END svm__C=0.1, svm__gamma=10, svm__kernel=rbf; roc_auc: (train=1.000, test=0.984) total time=   0.0s\n",
      "[CV 5/5] END svm__C=0.1, svm__gamma=10, svm__kernel=rbf; roc_auc: (train=1.000, test=0.989) total time=   0.0s\n",
      "[CV 1/5] END svm__C=0.1, svm__gamma=100, svm__kernel=rbf; roc_auc: (train=1.000, test=0.895) total time=   0.0s\n",
      "[CV 2/5] END svm__C=0.1, svm__gamma=100, svm__kernel=rbf; roc_auc: (train=1.000, test=0.861) total time=   0.0s\n",
      "[CV 3/5] END svm__C=0.1, svm__gamma=100, svm__kernel=rbf; roc_auc: (train=1.000, test=0.881) total time=   0.0s\n",
      "[CV 4/5] END svm__C=0.1, svm__gamma=100, svm__kernel=rbf; roc_auc: (train=1.000, test=0.867) total time=   0.0s\n",
      "[CV 5/5] END svm__C=0.1, svm__gamma=100, svm__kernel=rbf; roc_auc: (train=1.000, test=0.911) total time=   0.0s\n",
      "[CV 1/5] END svm__C=1, svm__gamma=0.001, svm__kernel=rbf; roc_auc: (train=0.955, test=0.985) total time=   0.0s\n",
      "[CV 2/5] END svm__C=1, svm__gamma=0.001, svm__kernel=rbf; roc_auc: (train=0.969, test=0.925) total time=   0.0s\n",
      "[CV 3/5] END svm__C=1, svm__gamma=0.001, svm__kernel=rbf; roc_auc: (train=0.956, test=0.939) total time=   0.0s\n",
      "[CV 4/5] END svm__C=1, svm__gamma=0.001, svm__kernel=rbf; roc_auc: (train=0.954, test=0.987) total time=   0.0s\n",
      "[CV 5/5] END svm__C=1, svm__gamma=0.001, svm__kernel=rbf; roc_auc: (train=0.960, test=0.936) total time=   0.0s\n",
      "[CV 1/5] END svm__C=1, svm__gamma=0.01, svm__kernel=rbf; roc_auc: (train=0.976, test=1.000) total time=   0.0s\n",
      "[CV 2/5] END svm__C=1, svm__gamma=0.01, svm__kernel=rbf; roc_auc: (train=0.984, test=0.936) total time=   0.0s\n",
      "[CV 3/5] END svm__C=1, svm__gamma=0.01, svm__kernel=rbf; roc_auc: (train=0.981, test=0.980) total time=   0.0s\n",
      "[CV 4/5] END svm__C=1, svm__gamma=0.01, svm__kernel=rbf; roc_auc: (train=0.977, test=0.986) total time=   0.0s\n",
      "[CV 5/5] END svm__C=1, svm__gamma=0.01, svm__kernel=rbf; roc_auc: (train=0.980, test=0.960) total time=   0.0s\n",
      "[CV 1/5] END svm__C=1, svm__gamma=0.1, svm__kernel=rbf; roc_auc: (train=0.999, test=1.000) total time=   0.0s\n",
      "[CV 2/5] END svm__C=1, svm__gamma=0.1, svm__kernel=rbf; roc_auc: (train=1.000, test=0.980) total time=   0.0s\n",
      "[CV 3/5] END svm__C=1, svm__gamma=0.1, svm__kernel=rbf; roc_auc: (train=0.999, test=0.998) total time=   0.0s\n",
      "[CV 4/5] END svm__C=1, svm__gamma=0.1, svm__kernel=rbf; roc_auc: (train=0.999, test=0.996) total time=   0.0s\n",
      "[CV 5/5] END svm__C=1, svm__gamma=0.1, svm__kernel=rbf; roc_auc: (train=0.999, test=0.988) total time=   0.0s\n",
      "[CV 1/5] END svm__C=1, svm__gamma=1, svm__kernel=rbf; roc_auc: (train=1.000, test=0.980) total time=   0.0s\n",
      "[CV 2/5] END svm__C=1, svm__gamma=1, svm__kernel=rbf; roc_auc: (train=1.000, test=0.981) total time=   0.0s\n",
      "[CV 3/5] END svm__C=1, svm__gamma=1, svm__kernel=rbf; roc_auc: (train=0.999, test=1.000) total time=   0.0s\n",
      "[CV 4/5] END svm__C=1, svm__gamma=1, svm__kernel=rbf; roc_auc: (train=1.000, test=0.999) total time=   0.0s\n",
      "[CV 5/5] END svm__C=1, svm__gamma=1, svm__kernel=rbf; roc_auc: (train=0.998, test=0.990) total time=   0.0s\n",
      "[CV 1/5] END svm__C=1, svm__gamma=10, svm__kernel=rbf; roc_auc: (train=1.000, test=0.972) total time=   0.0s\n",
      "[CV 2/5] END svm__C=1, svm__gamma=10, svm__kernel=rbf; roc_auc: (train=1.000, test=0.979) total time=   0.0s\n",
      "[CV 3/5] END svm__C=1, svm__gamma=10, svm__kernel=rbf; roc_auc: (train=1.000, test=0.988) total time=   0.0s\n",
      "[CV 4/5] END svm__C=1, svm__gamma=10, svm__kernel=rbf; roc_auc: (train=1.000, test=0.984) total time=   0.0s\n",
      "[CV 5/5] END svm__C=1, svm__gamma=10, svm__kernel=rbf; roc_auc: (train=1.000, test=0.989) total time=   0.0s\n",
      "[CV 1/5] END svm__C=1, svm__gamma=100, svm__kernel=rbf; roc_auc: (train=1.000, test=0.895) total time=   0.0s\n",
      "[CV 2/5] END svm__C=1, svm__gamma=100, svm__kernel=rbf; roc_auc: (train=1.000, test=0.861) total time=   0.0s\n",
      "[CV 3/5] END svm__C=1, svm__gamma=100, svm__kernel=rbf; roc_auc: (train=1.000, test=0.881) total time=   0.0s\n",
      "[CV 4/5] END svm__C=1, svm__gamma=100, svm__kernel=rbf; roc_auc: (train=1.000, test=0.867) total time=   0.0s\n",
      "[CV 5/5] END svm__C=1, svm__gamma=100, svm__kernel=rbf; roc_auc: (train=1.000, test=0.911) total time=   0.0s\n",
      "[CV 1/5] END svm__C=10, svm__gamma=0.001, svm__kernel=rbf; roc_auc: (train=0.972, test=0.998) total time=   0.0s\n",
      "[CV 2/5] END svm__C=10, svm__gamma=0.001, svm__kernel=rbf; roc_auc: (train=0.982, test=0.933) total time=   0.0s\n",
      "[CV 3/5] END svm__C=10, svm__gamma=0.001, svm__kernel=rbf; roc_auc: (train=0.980, test=0.978) total time=   0.0s\n",
      "[CV 4/5] END svm__C=10, svm__gamma=0.001, svm__kernel=rbf; roc_auc: (train=0.974, test=0.982) total time=   0.0s\n",
      "[CV 5/5] END svm__C=10, svm__gamma=0.001, svm__kernel=rbf; roc_auc: (train=0.977, test=0.953) total time=   0.0s\n",
      "[CV 1/5] END svm__C=10, svm__gamma=0.01, svm__kernel=rbf; roc_auc: (train=0.983, test=0.998) total time=   0.0s\n",
      "[CV 2/5] END svm__C=10, svm__gamma=0.01, svm__kernel=rbf; roc_auc: (train=0.991, test=0.946) total time=   0.0s\n",
      "[CV 3/5] END svm__C=10, svm__gamma=0.01, svm__kernel=rbf; roc_auc: (train=0.990, test=0.986) total time=   0.0s\n",
      "[CV 4/5] END svm__C=10, svm__gamma=0.01, svm__kernel=rbf; roc_auc: (train=0.988, test=0.991) total time=   0.0s\n",
      "[CV 5/5] END svm__C=10, svm__gamma=0.01, svm__kernel=rbf; roc_auc: (train=0.989, test=0.980) total time=   0.0s\n",
      "[CV 1/5] END svm__C=10, svm__gamma=0.1, svm__kernel=rbf; roc_auc: (train=1.000, test=0.999) total time=   0.0s\n",
      "[CV 2/5] END svm__C=10, svm__gamma=0.1, svm__kernel=rbf; roc_auc: (train=1.000, test=0.990) total time=   0.0s\n",
      "[CV 3/5] END svm__C=10, svm__gamma=0.1, svm__kernel=rbf; roc_auc: (train=1.000, test=1.000) total time=   0.0s\n",
      "[CV 4/5] END svm__C=10, svm__gamma=0.1, svm__kernel=rbf; roc_auc: (train=1.000, test=1.000) total time=   0.0s\n",
      "[CV 5/5] END svm__C=10, svm__gamma=0.1, svm__kernel=rbf; roc_auc: (train=1.000, test=0.988) total time=   0.0s\n",
      "[CV 1/5] END svm__C=10, svm__gamma=1, svm__kernel=rbf; roc_auc: (train=1.000, test=0.980) total time=   0.0s\n",
      "[CV 2/5] END svm__C=10, svm__gamma=1, svm__kernel=rbf; roc_auc: (train=1.000, test=0.983) total time=   0.0s\n",
      "[CV 3/5] END svm__C=10, svm__gamma=1, svm__kernel=rbf; roc_auc: (train=1.000, test=1.000) total time=   0.0s\n",
      "[CV 4/5] END svm__C=10, svm__gamma=1, svm__kernel=rbf; roc_auc: (train=1.000, test=0.999) total time=   0.0s\n",
      "[CV 5/5] END svm__C=10, svm__gamma=1, svm__kernel=rbf; roc_auc: (train=1.000, test=0.994) total time=   0.0s\n",
      "[CV 1/5] END svm__C=10, svm__gamma=10, svm__kernel=rbf; roc_auc: (train=1.000, test=0.972) total time=   0.0s\n",
      "[CV 2/5] END svm__C=10, svm__gamma=10, svm__kernel=rbf; roc_auc: (train=1.000, test=0.979) total time=   0.0s\n",
      "[CV 3/5] END svm__C=10, svm__gamma=10, svm__kernel=rbf; roc_auc: (train=1.000, test=0.988) total time=   0.0s\n",
      "[CV 4/5] END svm__C=10, svm__gamma=10, svm__kernel=rbf; roc_auc: (train=1.000, test=0.985) total time=   0.0s\n",
      "[CV 5/5] END svm__C=10, svm__gamma=10, svm__kernel=rbf; roc_auc: (train=1.000, test=0.989) total time=   0.0s\n",
      "[CV 1/5] END svm__C=10, svm__gamma=100, svm__kernel=rbf; roc_auc: (train=1.000, test=0.895) total time=   0.0s\n",
      "[CV 2/5] END svm__C=10, svm__gamma=100, svm__kernel=rbf; roc_auc: (train=1.000, test=0.861) total time=   0.0s\n",
      "[CV 3/5] END svm__C=10, svm__gamma=100, svm__kernel=rbf; roc_auc: (train=1.000, test=0.881) total time=   0.0s\n",
      "[CV 4/5] END svm__C=10, svm__gamma=100, svm__kernel=rbf; roc_auc: (train=1.000, test=0.867) total time=   0.0s\n",
      "[CV 5/5] END svm__C=10, svm__gamma=100, svm__kernel=rbf; roc_auc: (train=1.000, test=0.911) total time=   0.0s\n",
      "[CV 1/5] END svm__C=100, svm__gamma=0.001, svm__kernel=rbf; roc_auc: (train=0.974, test=0.994) total time=   0.0s\n",
      "[CV 2/5] END svm__C=100, svm__gamma=0.001, svm__kernel=rbf; roc_auc: (train=0.986, test=0.934) total time=   0.0s\n",
      "[CV 3/5] END svm__C=100, svm__gamma=0.001, svm__kernel=rbf; roc_auc: (train=0.983, test=0.969) total time=   0.0s\n",
      "[CV 4/5] END svm__C=100, svm__gamma=0.001, svm__kernel=rbf; roc_auc: (train=0.977, test=0.988) total time=   0.0s\n",
      "[CV 5/5] END svm__C=100, svm__gamma=0.001, svm__kernel=rbf; roc_auc: (train=0.982, test=0.972) total time=   0.0s\n",
      "[CV 1/5] END svm__C=100, svm__gamma=0.01, svm__kernel=rbf; roc_auc: (train=1.000, test=1.000) total time=   0.0s\n",
      "[CV 2/5] END svm__C=100, svm__gamma=0.01, svm__kernel=rbf; roc_auc: (train=1.000, test=0.987) total time=   0.0s\n",
      "[CV 3/5] END svm__C=100, svm__gamma=0.01, svm__kernel=rbf; roc_auc: (train=1.000, test=0.999) total time=   0.0s\n",
      "[CV 4/5] END svm__C=100, svm__gamma=0.01, svm__kernel=rbf; roc_auc: (train=1.000, test=1.000) total time=   0.0s\n",
      "[CV 5/5] END svm__C=100, svm__gamma=0.01, svm__kernel=rbf; roc_auc: (train=1.000, test=0.996) total time=   0.0s\n",
      "[CV 1/5] END svm__C=100, svm__gamma=0.1, svm__kernel=rbf; roc_auc: (train=1.000, test=0.995) total time=   0.0s\n",
      "[CV 2/5] END svm__C=100, svm__gamma=0.1, svm__kernel=rbf; roc_auc: (train=1.000, test=0.992) total time=   0.0s\n",
      "[CV 3/5] END svm__C=100, svm__gamma=0.1, svm__kernel=rbf; roc_auc: (train=1.000, test=0.992) total time=   0.0s\n",
      "[CV 4/5] END svm__C=100, svm__gamma=0.1, svm__kernel=rbf; roc_auc: (train=1.000, test=1.000) total time=   0.0s\n",
      "[CV 5/5] END svm__C=100, svm__gamma=0.1, svm__kernel=rbf; roc_auc: (train=1.000, test=0.999) total time=   0.0s\n",
      "[CV 1/5] END svm__C=100, svm__gamma=1, svm__kernel=rbf; roc_auc: (train=1.000, test=0.980) total time=   0.0s\n",
      "[CV 2/5] END svm__C=100, svm__gamma=1, svm__kernel=rbf; roc_auc: (train=1.000, test=0.983) total time=   0.0s\n",
      "[CV 3/5] END svm__C=100, svm__gamma=1, svm__kernel=rbf; roc_auc: (train=1.000, test=1.000) total time=   0.0s\n",
      "[CV 4/5] END svm__C=100, svm__gamma=1, svm__kernel=rbf; roc_auc: (train=1.000, test=0.999) total time=   0.0s\n",
      "[CV 5/5] END svm__C=100, svm__gamma=1, svm__kernel=rbf; roc_auc: (train=1.000, test=0.994) total time=   0.0s\n",
      "[CV 1/5] END svm__C=100, svm__gamma=10, svm__kernel=rbf; roc_auc: (train=1.000, test=0.972) total time=   0.0s\n",
      "[CV 2/5] END svm__C=100, svm__gamma=10, svm__kernel=rbf; roc_auc: (train=1.000, test=0.979) total time=   0.0s\n",
      "[CV 3/5] END svm__C=100, svm__gamma=10, svm__kernel=rbf; roc_auc: (train=1.000, test=0.988) total time=   0.0s\n",
      "[CV 4/5] END svm__C=100, svm__gamma=10, svm__kernel=rbf; roc_auc: (train=1.000, test=0.985) total time=   0.0s\n",
      "[CV 5/5] END svm__C=100, svm__gamma=10, svm__kernel=rbf; roc_auc: (train=1.000, test=0.989) total time=   0.0s\n",
      "[CV 1/5] END svm__C=100, svm__gamma=100, svm__kernel=rbf; roc_auc: (train=1.000, test=0.895) total time=   0.0s\n",
      "[CV 2/5] END svm__C=100, svm__gamma=100, svm__kernel=rbf; roc_auc: (train=1.000, test=0.861) total time=   0.0s\n",
      "[CV 3/5] END svm__C=100, svm__gamma=100, svm__kernel=rbf; roc_auc: (train=1.000, test=0.881) total time=   0.0s\n",
      "[CV 4/5] END svm__C=100, svm__gamma=100, svm__kernel=rbf; roc_auc: (train=1.000, test=0.867) total time=   0.0s\n",
      "[CV 5/5] END svm__C=100, svm__gamma=100, svm__kernel=rbf; roc_auc: (train=1.000, test=0.911) total time=   0.0s\n"
     ]
    }
   ],
   "source": [
    "C = [0.001, 0.01, 0.1, 1, 10, 100]\n",
    "gamma = [0.001,0.01, 0.1, 1, 10, 100]\n",
    "best_svm_rbf = func.cv_kfold_svm(X_train,y_train,C=C,K=5,gamma=gamma, flag = 'rbf')"
   ]
  },
  {
   "cell_type": "code",
   "execution_count": 26,
   "metadata": {},
   "outputs": [
    {
     "data": {
      "image/png": "[encoded data removed]",
      "text/plain": [
       "<Figure size 432x288 with 2 Axes>"
      ]
     },
     "metadata": {
      "needs_background": "light"
     },
     "output_type": "display_data"
    }
   ],
   "source": [
    "y_pred_svm_rbf_best =  best_svm_rbf.predict(X_test)\n",
    "y_pred_proba_svm_rbf_best = best_svm_rbf.predict_proba(X_test)\n",
    "cnf_matrix = metrics.confusion_matrix(y_test, y_pred_svm_rbf_best)\n",
    "ax1 = plt.subplot(211)\n",
    "sns.heatmap(cnf_matrix, annot=True, xticklabels=['Negative','Positive'], yticklabels=['Negative','Positive'])\n",
    "ax1.set(ylabel='True labels', xlabel='Predicted labels')\n",
    "plt.show()"
   ]
  },
  {
   "cell_type": "code",
   "execution_count": 27,
   "metadata": {},
   "outputs": [
    {
     "name": "stdout",
     "output_type": "stream",
     "text": [
      "For the test set:\n",
      "\n",
      "Loss is 0.21. \n",
      "Accuracy is 0.90. \n",
      "F1 is 0.91. \n",
      "AUROC is 0.984\n",
      "\n",
      "For the train set:\n",
      "\n",
      "Loss is 0.01. \n",
      "Accuracy is 1.00. \n",
      "F1 is 1.00. \n",
      "AUROC is 1.000\n"
     ]
    }
   ],
   "source": [
    "print('For the test set:\\n')\n",
    "func.calc_stat(X_test,y_test,best_svm_rbf, flag = 'non_log') # calculate performance of test\n",
    "print('\\nFor the train set:\\n')\n",
    "func.calc_stat(X_train,y_train,best_svm_rbf,flag ='non_log') # calculate performance of train"
   ]
  },
  {
   "cell_type": "code",
   "execution_count": 28,
   "metadata": {},
   "outputs": [
    {
     "name": "stdout",
     "output_type": "stream",
     "text": [
      "Fitting 5 folds for each of 36 candidates, totalling 180 fits\n",
      "[CV 1/5] END svm__C=0.001, svm__gamma=0.001, svm__kernel=poly; roc_auc: (train=0.975, test=0.994) total time=   0.0s\n",
      "[CV 2/5] END svm__C=0.001, svm__gamma=0.001, svm__kernel=poly; roc_auc: (train=0.983, test=0.950) total time=   0.0s\n",
      "[CV 3/5] END svm__C=0.001, svm__gamma=0.001, svm__kernel=poly; roc_auc: (train=0.974, test=0.962) total time=   0.0s\n",
      "[CV 4/5] END svm__C=0.001, svm__gamma=0.001, svm__kernel=poly; roc_auc: (train=0.976, test=0.988) total time=   0.0s\n",
      "[CV 5/5] END svm__C=0.001, svm__gamma=0.001, svm__kernel=poly; roc_auc: (train=0.978, test=0.952) total time=   0.0s\n",
      "[CV 1/5] END svm__C=0.001, svm__gamma=0.01, svm__kernel=poly; roc_auc: (train=0.975, test=0.994) total time=   0.0s\n",
      "[CV 2/5] END svm__C=0.001, svm__gamma=0.01, svm__kernel=poly; roc_auc: (train=0.983, test=0.950) total time=   0.0s\n",
      "[CV 3/5] END svm__C=0.001, svm__gamma=0.01, svm__kernel=poly; roc_auc: (train=0.974, test=0.962) total time=   0.0s\n",
      "[CV 4/5] END svm__C=0.001, svm__gamma=0.01, svm__kernel=poly; roc_auc: (train=0.976, test=0.988) total time=   0.0s\n",
      "[CV 5/5] END svm__C=0.001, svm__gamma=0.01, svm__kernel=poly; roc_auc: (train=0.978, test=0.952) total time=   0.0s\n",
      "[CV 1/5] END svm__C=0.001, svm__gamma=0.1, svm__kernel=poly; roc_auc: (train=0.971, test=0.993) total time=   0.0s\n",
      "[CV 2/5] END svm__C=0.001, svm__gamma=0.1, svm__kernel=poly; roc_auc: (train=0.981, test=0.944) total time=   0.0s\n",
      "[CV 3/5] END svm__C=0.001, svm__gamma=0.1, svm__kernel=poly; roc_auc: (train=0.970, test=0.955) total time=   0.0s\n",
      "[CV 4/5] END svm__C=0.001, svm__gamma=0.1, svm__kernel=poly; roc_auc: (train=0.972, test=0.987) total time=   0.0s\n",
      "[CV 5/5] END svm__C=0.001, svm__gamma=0.1, svm__kernel=poly; roc_auc: (train=0.975, test=0.945) total time=   0.0s\n",
      "[CV 1/5] END svm__C=0.001, svm__gamma=1, svm__kernel=poly; roc_auc: (train=1.000, test=1.000) total time=   0.0s\n",
      "[CV 2/5] END svm__C=0.001, svm__gamma=1, svm__kernel=poly; roc_auc: (train=1.000, test=0.989) total time=   0.0s\n",
      "[CV 3/5] END svm__C=0.001, svm__gamma=1, svm__kernel=poly; roc_auc: (train=1.000, test=0.998) total time=   0.0s\n",
      "[CV 4/5] END svm__C=0.001, svm__gamma=1, svm__kernel=poly; roc_auc: (train=1.000, test=1.000) total time=   0.0s\n",
      "[CV 5/5] END svm__C=0.001, svm__gamma=1, svm__kernel=poly; roc_auc: (train=1.000, test=0.990) total time=   0.0s\n",
      "[CV 1/5] END svm__C=0.001, svm__gamma=10, svm__kernel=poly; roc_auc: (train=1.000, test=0.963) total time=   0.0s\n",
      "[CV 2/5] END svm__C=0.001, svm__gamma=10, svm__kernel=poly; roc_auc: (train=1.000, test=0.978) total time=   0.0s\n",
      "[CV 3/5] END svm__C=0.001, svm__gamma=10, svm__kernel=poly; roc_auc: (train=1.000, test=0.930) total time=   0.0s\n",
      "[CV 4/5] END svm__C=0.001, svm__gamma=10, svm__kernel=poly; roc_auc: (train=1.000, test=0.998) total time=   0.0s\n",
      "[CV 5/5] END svm__C=0.001, svm__gamma=10, svm__kernel=poly; roc_auc: (train=1.000, test=0.995) total time=   0.0s\n",
      "[CV 1/5] END svm__C=0.001, svm__gamma=100, svm__kernel=poly; roc_auc: (train=1.000, test=0.963) total time=   0.0s\n",
      "[CV 2/5] END svm__C=0.001, svm__gamma=100, svm__kernel=poly; roc_auc: (train=1.000, test=0.978) total time=   0.0s\n",
      "[CV 3/5] END svm__C=0.001, svm__gamma=100, svm__kernel=poly; roc_auc: (train=1.000, test=0.930) total time=   0.0s\n",
      "[CV 4/5] END svm__C=0.001, svm__gamma=100, svm__kernel=poly; roc_auc: (train=1.000, test=0.998) total time=   0.0s\n",
      "[CV 5/5] END svm__C=0.001, svm__gamma=100, svm__kernel=poly; roc_auc: (train=1.000, test=0.995) total time=   0.0s\n",
      "[CV 1/5] END svm__C=0.01, svm__gamma=0.001, svm__kernel=poly; roc_auc: (train=0.975, test=0.994) total time=   0.0s\n",
      "[CV 2/5] END svm__C=0.01, svm__gamma=0.001, svm__kernel=poly; roc_auc: (train=0.983, test=0.950) total time=   0.0s\n",
      "[CV 3/5] END svm__C=0.01, svm__gamma=0.001, svm__kernel=poly; roc_auc: (train=0.974, test=0.962) total time=   0.0s\n",
      "[CV 4/5] END svm__C=0.01, svm__gamma=0.001, svm__kernel=poly; roc_auc: (train=0.976, test=0.988) total time=   0.0s\n",
      "[CV 5/5] END svm__C=0.01, svm__gamma=0.001, svm__kernel=poly; roc_auc: (train=0.978, test=0.952) total time=   0.0s\n",
      "[CV 1/5] END svm__C=0.01, svm__gamma=0.01, svm__kernel=poly; roc_auc: (train=0.976, test=0.994) total time=   0.0s\n",
      "[CV 2/5] END svm__C=0.01, svm__gamma=0.01, svm__kernel=poly; roc_auc: (train=0.982, test=0.949) total time=   0.0s\n",
      "[CV 3/5] END svm__C=0.01, svm__gamma=0.01, svm__kernel=poly; roc_auc: (train=0.973, test=0.960) total time=   0.0s\n",
      "[CV 4/5] END svm__C=0.01, svm__gamma=0.01, svm__kernel=poly; roc_auc: (train=0.975, test=0.988) total time=   0.0s\n",
      "[CV 5/5] END svm__C=0.01, svm__gamma=0.01, svm__kernel=poly; roc_auc: (train=0.978, test=0.952) total time=   0.0s\n",
      "[CV 1/5] END svm__C=0.01, svm__gamma=0.1, svm__kernel=poly; roc_auc: (train=0.971, test=0.993) total time=   0.0s\n",
      "[CV 2/5] END svm__C=0.01, svm__gamma=0.1, svm__kernel=poly; roc_auc: (train=0.983, test=0.950) total time=   0.0s\n",
      "[CV 3/5] END svm__C=0.01, svm__gamma=0.1, svm__kernel=poly; roc_auc: (train=0.976, test=0.966) total time=   0.0s\n",
      "[CV 4/5] END svm__C=0.01, svm__gamma=0.1, svm__kernel=poly; roc_auc: (train=0.973, test=0.988) total time=   0.0s\n",
      "[CV 5/5] END svm__C=0.01, svm__gamma=0.1, svm__kernel=poly; roc_auc: (train=0.978, test=0.950) total time=   0.0s\n",
      "[CV 1/5] END svm__C=0.01, svm__gamma=1, svm__kernel=poly; roc_auc: (train=1.000, test=0.995) total time=   0.0s\n",
      "[CV 2/5] END svm__C=0.01, svm__gamma=1, svm__kernel=poly; roc_auc: (train=1.000, test=0.992) total time=   0.0s\n",
      "[CV 3/5] END svm__C=0.01, svm__gamma=1, svm__kernel=poly; roc_auc: (train=1.000, test=0.989) total time=   0.0s\n",
      "[CV 4/5] END svm__C=0.01, svm__gamma=1, svm__kernel=poly; roc_auc: (train=1.000, test=1.000) total time=   0.0s\n",
      "[CV 5/5] END svm__C=0.01, svm__gamma=1, svm__kernel=poly; roc_auc: (train=1.000, test=0.992) total time=   0.0s\n",
      "[CV 1/5] END svm__C=0.01, svm__gamma=10, svm__kernel=poly; roc_auc: (train=1.000, test=0.963) total time=   0.0s\n",
      "[CV 2/5] END svm__C=0.01, svm__gamma=10, svm__kernel=poly; roc_auc: (train=1.000, test=0.978) total time=   0.0s\n",
      "[CV 3/5] END svm__C=0.01, svm__gamma=10, svm__kernel=poly; roc_auc: (train=1.000, test=0.930) total time=   0.0s\n",
      "[CV 4/5] END svm__C=0.01, svm__gamma=10, svm__kernel=poly; roc_auc: (train=1.000, test=0.998) total time=   0.0s\n",
      "[CV 5/5] END svm__C=0.01, svm__gamma=10, svm__kernel=poly; roc_auc: (train=1.000, test=0.995) total time=   0.0s\n",
      "[CV 1/5] END svm__C=0.01, svm__gamma=100, svm__kernel=poly; roc_auc: (train=1.000, test=0.963) total time=   0.0s\n",
      "[CV 2/5] END svm__C=0.01, svm__gamma=100, svm__kernel=poly; roc_auc: (train=1.000, test=0.978) total time=   0.0s\n",
      "[CV 3/5] END svm__C=0.01, svm__gamma=100, svm__kernel=poly; roc_auc: (train=1.000, test=0.930) total time=   0.0s\n",
      "[CV 4/5] END svm__C=0.01, svm__gamma=100, svm__kernel=poly; roc_auc: (train=1.000, test=0.998) total time=   0.0s\n",
      "[CV 5/5] END svm__C=0.01, svm__gamma=100, svm__kernel=poly; roc_auc: (train=1.000, test=0.995) total time=   0.0s\n",
      "[CV 1/5] END svm__C=0.1, svm__gamma=0.001, svm__kernel=poly; roc_auc: (train=0.975, test=0.994) total time=   0.0s\n",
      "[CV 2/5] END svm__C=0.1, svm__gamma=0.001, svm__kernel=poly; roc_auc: (train=0.983, test=0.950) total time=   0.0s\n",
      "[CV 3/5] END svm__C=0.1, svm__gamma=0.001, svm__kernel=poly; roc_auc: (train=0.974, test=0.962) total time=   0.0s\n",
      "[CV 4/5] END svm__C=0.1, svm__gamma=0.001, svm__kernel=poly; roc_auc: (train=0.976, test=0.988) total time=   0.0s\n",
      "[CV 5/5] END svm__C=0.1, svm__gamma=0.001, svm__kernel=poly; roc_auc: (train=0.978, test=0.952) total time=   0.0s\n",
      "[CV 1/5] END svm__C=0.1, svm__gamma=0.01, svm__kernel=poly; roc_auc: (train=0.971, test=0.993) total time=   0.0s\n",
      "[CV 2/5] END svm__C=0.1, svm__gamma=0.01, svm__kernel=poly; roc_auc: (train=0.981, test=0.945) total time=   0.0s\n",
      "[CV 3/5] END svm__C=0.1, svm__gamma=0.01, svm__kernel=poly; roc_auc: (train=0.970, test=0.955) total time=   0.0s\n",
      "[CV 4/5] END svm__C=0.1, svm__gamma=0.01, svm__kernel=poly; roc_auc: (train=0.972, test=0.987) total time=   0.0s\n",
      "[CV 5/5] END svm__C=0.1, svm__gamma=0.01, svm__kernel=poly; roc_auc: (train=0.975, test=0.945) total time=   0.0s\n",
      "[CV 1/5] END svm__C=0.1, svm__gamma=0.1, svm__kernel=poly; roc_auc: (train=0.995, test=0.999) total time=   0.0s\n",
      "[CV 2/5] END svm__C=0.1, svm__gamma=0.1, svm__kernel=poly; roc_auc: (train=0.997, test=0.968) total time=   0.0s\n",
      "[CV 3/5] END svm__C=0.1, svm__gamma=0.1, svm__kernel=poly; roc_auc: (train=0.996, test=0.996) total time=   0.0s\n",
      "[CV 4/5] END svm__C=0.1, svm__gamma=0.1, svm__kernel=poly; roc_auc: (train=0.996, test=0.995) total time=   0.0s\n",
      "[CV 5/5] END svm__C=0.1, svm__gamma=0.1, svm__kernel=poly; roc_auc: (train=0.996, test=0.987) total time=   0.0s\n",
      "[CV 1/5] END svm__C=0.1, svm__gamma=1, svm__kernel=poly; roc_auc: (train=1.000, test=0.985) total time=   0.0s\n",
      "[CV 2/5] END svm__C=0.1, svm__gamma=1, svm__kernel=poly; roc_auc: (train=1.000, test=0.993) total time=   0.0s\n",
      "[CV 3/5] END svm__C=0.1, svm__gamma=1, svm__kernel=poly; roc_auc: (train=1.000, test=0.966) total time=   0.0s\n",
      "[CV 4/5] END svm__C=0.1, svm__gamma=1, svm__kernel=poly; roc_auc: (train=1.000, test=1.000) total time=   0.0s\n",
      "[CV 5/5] END svm__C=0.1, svm__gamma=1, svm__kernel=poly; roc_auc: (train=1.000, test=0.999) total time=   0.0s\n",
      "[CV 1/5] END svm__C=0.1, svm__gamma=10, svm__kernel=poly; roc_auc: (train=1.000, test=0.963) total time=   0.0s\n",
      "[CV 2/5] END svm__C=0.1, svm__gamma=10, svm__kernel=poly; roc_auc: (train=1.000, test=0.978) total time=   0.0s\n",
      "[CV 3/5] END svm__C=0.1, svm__gamma=10, svm__kernel=poly; roc_auc: (train=1.000, test=0.930) total time=   0.0s\n",
      "[CV 4/5] END svm__C=0.1, svm__gamma=10, svm__kernel=poly; roc_auc: (train=1.000, test=0.998) total time=   0.0s\n",
      "[CV 5/5] END svm__C=0.1, svm__gamma=10, svm__kernel=poly; roc_auc: (train=1.000, test=0.995) total time=   0.0s\n",
      "[CV 1/5] END svm__C=0.1, svm__gamma=100, svm__kernel=poly; roc_auc: (train=1.000, test=0.963) total time=   0.0s\n",
      "[CV 2/5] END svm__C=0.1, svm__gamma=100, svm__kernel=poly; roc_auc: (train=1.000, test=0.978) total time=   0.0s\n",
      "[CV 3/5] END svm__C=0.1, svm__gamma=100, svm__kernel=poly; roc_auc: (train=1.000, test=0.930) total time=   0.0s\n",
      "[CV 4/5] END svm__C=0.1, svm__gamma=100, svm__kernel=poly; roc_auc: (train=1.000, test=0.998) total time=   0.0s\n",
      "[CV 5/5] END svm__C=0.1, svm__gamma=100, svm__kernel=poly; roc_auc: (train=1.000, test=0.995) total time=   0.0s\n",
      "[CV 1/5] END svm__C=1, svm__gamma=0.001, svm__kernel=poly; roc_auc: (train=0.975, test=0.994) total time=   0.0s\n",
      "[CV 2/5] END svm__C=1, svm__gamma=0.001, svm__kernel=poly; roc_auc: (train=0.983, test=0.950) total time=   0.0s\n",
      "[CV 3/5] END svm__C=1, svm__gamma=0.001, svm__kernel=poly; roc_auc: (train=0.974, test=0.962) total time=   0.0s\n",
      "[CV 4/5] END svm__C=1, svm__gamma=0.001, svm__kernel=poly; roc_auc: (train=0.976, test=0.988) total time=   0.0s\n",
      "[CV 5/5] END svm__C=1, svm__gamma=0.001, svm__kernel=poly; roc_auc: (train=0.978, test=0.952) total time=   0.0s\n",
      "[CV 1/5] END svm__C=1, svm__gamma=0.01, svm__kernel=poly; roc_auc: (train=0.971, test=0.993) total time=   0.0s\n",
      "[CV 2/5] END svm__C=1, svm__gamma=0.01, svm__kernel=poly; roc_auc: (train=0.981, test=0.944) total time=   0.0s\n",
      "[CV 3/5] END svm__C=1, svm__gamma=0.01, svm__kernel=poly; roc_auc: (train=0.970, test=0.955) total time=   0.0s\n",
      "[CV 4/5] END svm__C=1, svm__gamma=0.01, svm__kernel=poly; roc_auc: (train=0.972, test=0.987) total time=   0.0s\n",
      "[CV 5/5] END svm__C=1, svm__gamma=0.01, svm__kernel=poly; roc_auc: (train=0.975, test=0.945) total time=   0.0s\n",
      "[CV 1/5] END svm__C=1, svm__gamma=0.1, svm__kernel=poly; roc_auc: (train=1.000, test=1.000) total time=   0.0s\n",
      "[CV 2/5] END svm__C=1, svm__gamma=0.1, svm__kernel=poly; roc_auc: (train=1.000, test=0.989) total time=   0.0s\n",
      "[CV 3/5] END svm__C=1, svm__gamma=0.1, svm__kernel=poly; roc_auc: (train=1.000, test=0.998) total time=   0.0s\n",
      "[CV 4/5] END svm__C=1, svm__gamma=0.1, svm__kernel=poly; roc_auc: (train=1.000, test=1.000) total time=   0.0s\n",
      "[CV 5/5] END svm__C=1, svm__gamma=0.1, svm__kernel=poly; roc_auc: (train=1.000, test=0.990) total time=   0.0s\n",
      "[CV 1/5] END svm__C=1, svm__gamma=1, svm__kernel=poly; roc_auc: (train=1.000, test=0.963) total time=   0.0s\n",
      "[CV 2/5] END svm__C=1, svm__gamma=1, svm__kernel=poly; roc_auc: (train=1.000, test=0.978) total time=   0.0s\n",
      "[CV 3/5] END svm__C=1, svm__gamma=1, svm__kernel=poly; roc_auc: (train=1.000, test=0.930) total time=   0.0s\n",
      "[CV 4/5] END svm__C=1, svm__gamma=1, svm__kernel=poly; roc_auc: (train=1.000, test=0.998) total time=   0.0s\n",
      "[CV 5/5] END svm__C=1, svm__gamma=1, svm__kernel=poly; roc_auc: (train=1.000, test=0.995) total time=   0.0s\n",
      "[CV 1/5] END svm__C=1, svm__gamma=10, svm__kernel=poly; roc_auc: (train=1.000, test=0.963) total time=   0.0s\n",
      "[CV 2/5] END svm__C=1, svm__gamma=10, svm__kernel=poly; roc_auc: (train=1.000, test=0.978) total time=   0.0s\n",
      "[CV 3/5] END svm__C=1, svm__gamma=10, svm__kernel=poly; roc_auc: (train=1.000, test=0.930) total time=   0.0s\n",
      "[CV 4/5] END svm__C=1, svm__gamma=10, svm__kernel=poly; roc_auc: (train=1.000, test=0.998) total time=   0.0s\n",
      "[CV 5/5] END svm__C=1, svm__gamma=10, svm__kernel=poly; roc_auc: (train=1.000, test=0.995) total time=   0.0s\n",
      "[CV 1/5] END svm__C=1, svm__gamma=100, svm__kernel=poly; roc_auc: (train=1.000, test=0.963) total time=   0.0s\n",
      "[CV 2/5] END svm__C=1, svm__gamma=100, svm__kernel=poly; roc_auc: (train=1.000, test=0.978) total time=   0.0s\n",
      "[CV 3/5] END svm__C=1, svm__gamma=100, svm__kernel=poly; roc_auc: (train=1.000, test=0.930) total time=   0.0s\n",
      "[CV 4/5] END svm__C=1, svm__gamma=100, svm__kernel=poly; roc_auc: (train=1.000, test=0.998) total time=   0.0s\n",
      "[CV 5/5] END svm__C=1, svm__gamma=100, svm__kernel=poly; roc_auc: (train=1.000, test=0.995) total time=   0.0s\n",
      "[CV 1/5] END svm__C=10, svm__gamma=0.001, svm__kernel=poly; roc_auc: (train=0.976, test=0.994) total time=   0.0s\n",
      "[CV 2/5] END svm__C=10, svm__gamma=0.001, svm__kernel=poly; roc_auc: (train=0.982, test=0.949) total time=   0.0s\n",
      "[CV 3/5] END svm__C=10, svm__gamma=0.001, svm__kernel=poly; roc_auc: (train=0.973, test=0.960) total time=   0.0s\n",
      "[CV 4/5] END svm__C=10, svm__gamma=0.001, svm__kernel=poly; roc_auc: (train=0.975, test=0.988) total time=   0.0s\n",
      "[CV 5/5] END svm__C=10, svm__gamma=0.001, svm__kernel=poly; roc_auc: (train=0.978, test=0.952) total time=   0.0s\n",
      "[CV 1/5] END svm__C=10, svm__gamma=0.01, svm__kernel=poly; roc_auc: (train=0.971, test=0.993) total time=   0.0s\n",
      "[CV 2/5] END svm__C=10, svm__gamma=0.01, svm__kernel=poly; roc_auc: (train=0.983, test=0.950) total time=   0.0s\n",
      "[CV 3/5] END svm__C=10, svm__gamma=0.01, svm__kernel=poly; roc_auc: (train=0.976, test=0.966) total time=   0.0s\n",
      "[CV 4/5] END svm__C=10, svm__gamma=0.01, svm__kernel=poly; roc_auc: (train=0.973, test=0.988) total time=   0.0s\n",
      "[CV 5/5] END svm__C=10, svm__gamma=0.01, svm__kernel=poly; roc_auc: (train=0.978, test=0.950) total time=   0.0s\n",
      "[CV 1/5] END svm__C=10, svm__gamma=0.1, svm__kernel=poly; roc_auc: (train=1.000, test=0.995) total time=   0.0s\n",
      "[CV 2/5] END svm__C=10, svm__gamma=0.1, svm__kernel=poly; roc_auc: (train=1.000, test=0.992) total time=   0.0s\n",
      "[CV 3/5] END svm__C=10, svm__gamma=0.1, svm__kernel=poly; roc_auc: (train=1.000, test=0.989) total time=   0.0s\n",
      "[CV 4/5] END svm__C=10, svm__gamma=0.1, svm__kernel=poly; roc_auc: (train=1.000, test=1.000) total time=   0.0s\n",
      "[CV 5/5] END svm__C=10, svm__gamma=0.1, svm__kernel=poly; roc_auc: (train=1.000, test=0.992) total time=   0.0s\n",
      "[CV 1/5] END svm__C=10, svm__gamma=1, svm__kernel=poly; roc_auc: (train=1.000, test=0.963) total time=   0.0s\n",
      "[CV 2/5] END svm__C=10, svm__gamma=1, svm__kernel=poly; roc_auc: (train=1.000, test=0.978) total time=   0.0s\n",
      "[CV 3/5] END svm__C=10, svm__gamma=1, svm__kernel=poly; roc_auc: (train=1.000, test=0.930) total time=   0.0s\n",
      "[CV 4/5] END svm__C=10, svm__gamma=1, svm__kernel=poly; roc_auc: (train=1.000, test=0.998) total time=   0.0s\n",
      "[CV 5/5] END svm__C=10, svm__gamma=1, svm__kernel=poly; roc_auc: (train=1.000, test=0.995) total time=   0.0s\n",
      "[CV 1/5] END svm__C=10, svm__gamma=10, svm__kernel=poly; roc_auc: (train=1.000, test=0.963) total time=   0.0s\n",
      "[CV 2/5] END svm__C=10, svm__gamma=10, svm__kernel=poly; roc_auc: (train=1.000, test=0.978) total time=   0.0s\n",
      "[CV 3/5] END svm__C=10, svm__gamma=10, svm__kernel=poly; roc_auc: (train=1.000, test=0.930) total time=   0.0s\n",
      "[CV 4/5] END svm__C=10, svm__gamma=10, svm__kernel=poly; roc_auc: (train=1.000, test=0.998) total time=   0.0s\n",
      "[CV 5/5] END svm__C=10, svm__gamma=10, svm__kernel=poly; roc_auc: (train=1.000, test=0.995) total time=   0.0s\n",
      "[CV 1/5] END svm__C=10, svm__gamma=100, svm__kernel=poly; roc_auc: (train=1.000, test=0.963) total time=   0.0s\n",
      "[CV 2/5] END svm__C=10, svm__gamma=100, svm__kernel=poly; roc_auc: (train=1.000, test=0.978) total time=   0.0s\n",
      "[CV 3/5] END svm__C=10, svm__gamma=100, svm__kernel=poly; roc_auc: (train=1.000, test=0.930) total time=   0.0s\n",
      "[CV 4/5] END svm__C=10, svm__gamma=100, svm__kernel=poly; roc_auc: (train=1.000, test=0.998) total time=   0.0s\n",
      "[CV 5/5] END svm__C=10, svm__gamma=100, svm__kernel=poly; roc_auc: (train=1.000, test=0.995) total time=   0.0s\n",
      "[CV 1/5] END svm__C=100, svm__gamma=0.001, svm__kernel=poly; roc_auc: (train=0.971, test=0.993) total time=   0.0s\n",
      "[CV 2/5] END svm__C=100, svm__gamma=0.001, svm__kernel=poly; roc_auc: (train=0.981, test=0.945) total time=   0.0s\n",
      "[CV 3/5] END svm__C=100, svm__gamma=0.001, svm__kernel=poly; roc_auc: (train=0.970, test=0.955) total time=   0.0s\n",
      "[CV 4/5] END svm__C=100, svm__gamma=0.001, svm__kernel=poly; roc_auc: (train=0.972, test=0.987) total time=   0.0s\n",
      "[CV 5/5] END svm__C=100, svm__gamma=0.001, svm__kernel=poly; roc_auc: (train=0.975, test=0.945) total time=   0.0s\n",
      "[CV 1/5] END svm__C=100, svm__gamma=0.01, svm__kernel=poly; roc_auc: (train=0.995, test=0.999) total time=   0.0s\n",
      "[CV 2/5] END svm__C=100, svm__gamma=0.01, svm__kernel=poly; roc_auc: (train=0.997, test=0.968) total time=   0.0s\n",
      "[CV 3/5] END svm__C=100, svm__gamma=0.01, svm__kernel=poly; roc_auc: (train=0.996, test=0.996) total time=   0.0s\n",
      "[CV 4/5] END svm__C=100, svm__gamma=0.01, svm__kernel=poly; roc_auc: (train=0.996, test=0.995) total time=   0.0s\n",
      "[CV 5/5] END svm__C=100, svm__gamma=0.01, svm__kernel=poly; roc_auc: (train=0.996, test=0.987) total time=   0.0s\n",
      "[CV 1/5] END svm__C=100, svm__gamma=0.1, svm__kernel=poly; roc_auc: (train=1.000, test=0.985) total time=   0.0s\n",
      "[CV 2/5] END svm__C=100, svm__gamma=0.1, svm__kernel=poly; roc_auc: (train=1.000, test=0.993) total time=   0.0s\n",
      "[CV 3/5] END svm__C=100, svm__gamma=0.1, svm__kernel=poly; roc_auc: (train=1.000, test=0.966) total time=   0.0s\n",
      "[CV 4/5] END svm__C=100, svm__gamma=0.1, svm__kernel=poly; roc_auc: (train=1.000, test=1.000) total time=   0.0s\n",
      "[CV 5/5] END svm__C=100, svm__gamma=0.1, svm__kernel=poly; roc_auc: (train=1.000, test=0.999) total time=   0.0s\n",
      "[CV 1/5] END svm__C=100, svm__gamma=1, svm__kernel=poly; roc_auc: (train=1.000, test=0.963) total time=   0.0s\n",
      "[CV 2/5] END svm__C=100, svm__gamma=1, svm__kernel=poly; roc_auc: (train=1.000, test=0.978) total time=   0.0s\n",
      "[CV 3/5] END svm__C=100, svm__gamma=1, svm__kernel=poly; roc_auc: (train=1.000, test=0.930) total time=   0.0s\n",
      "[CV 4/5] END svm__C=100, svm__gamma=1, svm__kernel=poly; roc_auc: (train=1.000, test=0.998) total time=   0.0s\n",
      "[CV 5/5] END svm__C=100, svm__gamma=1, svm__kernel=poly; roc_auc: (train=1.000, test=0.995) total time=   0.0s\n",
      "[CV 1/5] END svm__C=100, svm__gamma=10, svm__kernel=poly; roc_auc: (train=1.000, test=0.963) total time=   0.0s\n",
      "[CV 2/5] END svm__C=100, svm__gamma=10, svm__kernel=poly; roc_auc: (train=1.000, test=0.978) total time=   0.0s\n",
      "[CV 3/5] END svm__C=100, svm__gamma=10, svm__kernel=poly; roc_auc: (train=1.000, test=0.930) total time=   0.0s\n",
      "[CV 4/5] END svm__C=100, svm__gamma=10, svm__kernel=poly; roc_auc: (train=1.000, test=0.998) total time=   0.0s\n",
      "[CV 5/5] END svm__C=100, svm__gamma=10, svm__kernel=poly; roc_auc: (train=1.000, test=0.995) total time=   0.0s\n",
      "[CV 1/5] END svm__C=100, svm__gamma=100, svm__kernel=poly; roc_auc: (train=1.000, test=0.963) total time=   0.0s\n",
      "[CV 2/5] END svm__C=100, svm__gamma=100, svm__kernel=poly; roc_auc: (train=1.000, test=0.978) total time=   0.0s\n",
      "[CV 3/5] END svm__C=100, svm__gamma=100, svm__kernel=poly; roc_auc: (train=1.000, test=0.930) total time=   0.0s\n",
      "[CV 4/5] END svm__C=100, svm__gamma=100, svm__kernel=poly; roc_auc: (train=1.000, test=0.998) total time=   0.0s\n",
      "[CV 5/5] END svm__C=100, svm__gamma=100, svm__kernel=poly; roc_auc: (train=1.000, test=0.995) total time=   0.0s\n"
     ]
    }
   ],
   "source": [
    "C = [0.001, 0.01, 0.1, 1, 10, 100]\n",
    "gamma  = [0.001, 0.01, 0.1, 1, 10, 100]\n",
    "best_svm_poly = func.cv_kfold_svm(X_train,y_train,C=C,K=5,gamma=gamma, flag = 'poly')"
   ]
  },
  {
   "cell_type": "code",
   "execution_count": 29,
   "metadata": {},
   "outputs": [
    {
     "data": {
      "image/png": "[encoded data removed]",
      "text/plain": [
       "<Figure size 432x288 with 2 Axes>"
      ]
     },
     "metadata": {
      "needs_background": "light"
     },
     "output_type": "display_data"
    }
   ],
   "source": [
    "y_pred_svm_poly_best =  best_svm_poly.predict(X_test)\n",
    "y_pred_proba_svm_poly_best = best_svm_poly.predict_proba(X_test)\n",
    "cnf_matrix = metrics.confusion_matrix(y_test, y_pred_svm_poly_best)\n",
    "ax1 = plt.subplot(211)\n",
    "sns.heatmap(cnf_matrix, annot=True, xticklabels=['Negative','Positive'], yticklabels=['Negative','Positive'])\n",
    "ax1.set(ylabel='True labels', xlabel='Predicted labels')\n",
    "plt.show()"
   ]
  },
  {
   "cell_type": "code",
   "execution_count": 30,
   "metadata": {},
   "outputs": [
    {
     "name": "stdout",
     "output_type": "stream",
     "text": [
      "For the test set:\n",
      "\n",
      "Loss is 0.19. \n",
      "Accuracy is 0.90. \n",
      "F1 is 0.92. \n",
      "AUROC is 0.992\n",
      "\n",
      "For the train set:\n",
      "\n",
      "Loss is 0.01. \n",
      "Accuracy is 1.00. \n",
      "F1 is 1.00. \n",
      "AUROC is 1.000\n"
     ]
    }
   ],
   "source": [
    "print('For the test set:\\n')\n",
    "func.calc_stat(X_test,y_test,best_svm_poly, flag = 'non_log') # calculate performance of test\n",
    "print('\\nFor the train set:\\n')\n",
    "func.calc_stat(X_train,y_train,best_svm_poly,flag ='non_log') # calculate performance of train"
   ]
  },
  {
   "cell_type": "code",
   "execution_count": 32,
   "metadata": {},
   "outputs": [
    {
     "data": {
      "image/png": "[encoded data removed]",
      "text/plain": [
       "<Figure size 432x288 with 2 Axes>"
      ]
     },
     "metadata": {
      "needs_background": "light"
     },
     "output_type": "display_data"
    },
    {
     "name": "stdout",
     "output_type": "stream",
     "text": [
      "Accuracy is: 94.29%\n",
      "F1 score is: 94.13%\n",
      "AUC is:  99.16%\n"
     ]
    }
   ],
   "source": [
    "# from the hw1:\n",
    "from sklearn.ensemble import RandomForestClassifier as rfc\n",
    "from sklearn.metrics import roc_auc_score\n",
    "clf = rfc(n_estimators=10)\n",
    "\n",
    "X_train, X_test, y_train, y_test = train_test_split(data.drop(['Diagnosis'],axis=1), np.ravel(diag_state), test_size=0.2, random_state=10, stratify = np.ravel(diag_state) )\n",
    "# X_train, X_test, y_train, y_test = train_test_split(X1, d[\"Diagnosis\"], test_size=0.2, random_state=10, stratify =d[\"Diagnosis\"] )\n",
    "clf.fit(X_train, y_train)\n",
    "y_pred = clf.predict(X_test)\n",
    "y_pred_proba_test = clf.predict_proba(X_test)\n",
    "cnf_matrix = metrics.confusion_matrix(y_test, y_pred)\n",
    "ax = plt.subplot()\n",
    "sns.heatmap(cnf_matrix, annot=True, xticklabels=['Negative', 'Positive'],\n",
    "            yticklabels=['Negative', 'Positive'])\n",
    "ax.set(ylabel='True labels', xlabel='Predicted labels')\n",
    "plt.show()\n",
    "print(\"Accuracy is: \" + str(\"{0:.2f}\".format(100 * metrics.accuracy_score(y_test, y_pred))) + \"%\")\n",
    "print(\"F1 score is: \" + str(\"{0:.2f}\".format(100 * metrics.f1_score(y_test, y_pred, average='macro'))) + \"%\")\n",
    "print('AUC is:  ' + str(\"{0:.02f}\".format(100*roc_auc_score(y_test, y_pred_proba_test[:, 1]))) + '%')"
   ]
  },
  {
   "cell_type": "code",
   "execution_count": 33,
   "metadata": {},
   "outputs": [
    {
     "data": {
      "image/png": "[encoded data removed]",
      "text/plain": [
       "<Figure size 864x432 with 1 Axes>"
      ]
     },
     "metadata": {
      "needs_background": "light"
     },
     "output_type": "display_data"
    }
   ],
   "source": [
    "# Here we show the most important features (from the most important to less)\n",
    "importances = clf.feature_importances_\n",
    "std = np.std([tree.feature_importances_ for tree in clf.estimators_],\n",
    "             axis=0)\n",
    "indices = np.argsort(importances)[::-1]\n",
    "plt.figure(figsize=(12,6))\n",
    "plt.title(\"Feature importances\")\n",
    "plt.bar(range(X_train.shape[1]), importances[indices],\n",
    "        color=\"r\", align=\"center\")\n",
    "o = np.zeros(len(orig_feat)).tolist()\n",
    "for i,val in enumerate(indices):\n",
    "    o[i] = orig_feat[val]\n",
    "plt.xticks(range(X_train.shape[1]), o)\n",
    "plt.xlim([-1, X_train.shape[1]])\n",
    "plt.xticks(rotation=90)\n",
    "plt.tight_layout()\n",
    "plt.show()"
   ]
  },
  {
   "cell_type": "code",
   "execution_count": 34,
   "metadata": {},
   "outputs": [
    {
     "data": {
      "text/plain": [
       "(523, 2)"
      ]
     },
     "execution_count": 34,
     "metadata": {},
     "output_type": "execute_result"
    },
    {
     "data": {
      "image/png": "[encoded data removed]",
      "text/plain": [
       "<Figure size 576x576 with 1 Axes>"
      ]
     },
     "metadata": {
      "needs_background": "light"
     },
     "output_type": "display_data"
    }
   ],
   "source": [
    "from sklearn.decomposition import PCA\n",
    "pca = PCA(n_components=2)\n",
    "pca.fit(data.drop(['Diagnosis'],axis=1))\n",
    "transform_data = pca.transform(data.drop(['Diagnosis'],axis=1))\n",
    "principalComponents = pca.fit_transform(data.drop(['Diagnosis'],axis=1))\n",
    "principalDf = pd.DataFrame(data = principalComponents\n",
    "             , columns = ['principal component 1', 'principal component 2'])\n",
    "finalDf = pd.concat([principalDf, data[['Diagnosis']]], axis = 1)\n",
    "fig = plt.figure(figsize = (8,8))\n",
    "ax = fig.add_subplot(1,1,1) \n",
    "ax.set_xlabel('Principal Component 1', fontsize = 15)\n",
    "ax.set_ylabel('Principal Component 2', fontsize = 15)\n",
    "ax.set_title('2 component PCA', fontsize = 20)\n",
    "targets = [1,0]\n",
    "colors = ['r', 'g']\n",
    "for target, color in zip(targets,colors):\n",
    "    indicesToKeep = finalDf['Diagnosis'] == target\n",
    "    ax.scatter(finalDf.loc[indicesToKeep, 'principal component 1']\n",
    "               , finalDf.loc[indicesToKeep, 'principal component 2']\n",
    "               , c = color\n",
    "               , s = 50)\n",
    "ax.legend(['Positive','Negative'])\n",
    "ax.grid()\n",
    "principalComponents.shape"
   ]
  },
  {
   "cell_type": "code",
   "execution_count": null,
   "metadata": {},
   "outputs": [],
   "source": [
    "from sklearn.pipeline import Pipeline\n",
    "X_train, X_test, y_train, y_test = train_test_split(X2, d[\"Diagnosis\"], test_size=0.2, random_state=42,stratify = d[\"Diagnosis\"])\n",
    "log_reg = LogisticRegression()\n",
    "pca = PCA(n_components=2)\n",
    "\n",
    "pipe_pca_logreg = Pipeline(steps=[('pca', pca), ('logistic', log_reg)])\n",
    "pipe_pca_logreg.fit(X_train, y_train)\n",
    "y_pred_pca = pipe_pca_logreg.predict(X_test)\n",
    "func.calc_stat(X_test,y_test,pipe_pca_logreg, flag = 'log')\n",
    "\n",
    "\n",
    "logreg = LogisticRegression(random_state=5,solver='saga', multi_class='ovr', max_iter=10000)\n",
    "lmbda = np.array([0.01, 0.01, 1, 10, 100, 1000])\n",
    "kf = SKFold(n_splits=5)\n",
    "pipe_lin = Pipeline(steps=[('pca', pca),('logistic', logreg)])\n",
    "clf = GridSearchCV(estimator=pipe_lin, param_grid={'logistic__C': 1/lmbda, 'logistic__penalty': ['l2', 'l1']},\n",
    "                   scoring=['roc_auc'], cv=kf,\n",
    "                   refit='roc_auc', verbose=3, return_train_score=True) # verbose bigger - more data we see, logistic__C - do logistiq regression with parameter C\n",
    "clf.fit(X_train, y_train)\n",
    "clf.best_params_\n"
   ]
  },
  {
   "cell_type": "code",
   "execution_count": null,
   "metadata": {},
   "outputs": [],
   "source": [
    "from sklearn import svm\n",
    "svm_lin = svm.SVC(probability=True,gamma='auto',kernel = 'linear')\n",
    "pca = PCA(n_components=2)\n",
    "pipe_pca_svm_lin = Pipeline(steps=[('pca', pca), ('svm', svm_lin)])\n",
    "pipe_pca_svm_lin.fit(X_train, y_train)\n",
    "y_pred_pca = pipe_pca_svm_lin.predict(X_test)\n",
    "f.calc_stat(X_test,y_test,pipe_pca_svm_lin)"
   ]
  },
  {
   "cell_type": "code",
   "execution_count": null,
   "metadata": {},
   "outputs": [],
   "source": [
    "svm_rbf = svm.SVC(probability=True,gamma='auto',kernel = 'rbf')\n",
    "pca = PCA(n_components=2)\n",
    "pipe_pca_svm_rbf = Pipeline(steps=[('pca', pca), ('svm', svm_rbf)])\n",
    "pipe_pca_svm_rbf.fit(X_train, y_train)\n",
    "y_pred_pca = pipe_pca_svm_rbf.predict(X_test)\n",
    "f.calc_stat(X_test,y_test,pipe_pca_svm_rbf)"
   ]
  },
  {
   "cell_type": "code",
   "execution_count": null,
   "metadata": {},
   "outputs": [],
   "source": [
    "svm_poly = svm.SVC(probability=True,gamma='auto',kernel = 'poly')\n",
    "pca = PCA(n_components=2)\n",
    "pipe_pca_svm_poly = Pipeline(steps=[('pca', pca), ('svm', svm_poly)])\n",
    "pipe_pca_svm_poly.fit(X_train, y_train)\n",
    "y_pred_pca = pipe_pca_svm_poly.predict(X_test)\n",
    "f.calc_stat(X_test,y_test,pipe_pca_svm_poly)"
   ]
  },
  {
   "cell_type": "code",
   "execution_count": null,
   "metadata": {},
   "outputs": [],
   "source": [
    "X3 = dataset.dropna()[['Increased Urination', 'Increased Thirst']]\n",
    "X3n = pd.get_dummies(X3)\n",
    "X_train, X_test, y_train, y_test = train_test_split(X3n, d['Diagnosis'], test_size=0.2, random_state=42,stratify = d['Diagnosis'])\n",
    "log_reg = LogisticRegression()\n",
    "log_reg.fit(X_train,y_train)\n",
    "y_pred_log_reg = log_reg.predict(X_test)\n",
    "f.calc_stat(X_test,y_test,log_reg)"
   ]
  },
  {
   "cell_type": "code",
   "execution_count": null,
   "metadata": {},
   "outputs": [],
   "source": [
    "svm_lin = svm.SVC(probability=True,gamma='auto',kernel = 'linear')\n",
    "pipe_svm_lin = Pipeline(steps=[('svm', svm_lin)])\n",
    "pipe_svm_lin.fit(X_train, y_train)\n",
    "y_pred = pipe_svm_lin.predict(X_test)\n",
    "f.calc_stat(X_test,y_test,pipe_svm_lin)"
   ]
  },
  {
   "cell_type": "code",
   "execution_count": null,
   "metadata": {},
   "outputs": [],
   "source": [
    "svm_rbf = svm.SVC(probability=True,gamma='auto',kernel = 'rbf')\n",
    "pipe_svm_rbf = Pipeline(steps=[ ('svm', svm_rbf)])\n",
    "pipe_svm_rbf.fit(X_train, y_train)\n",
    "y_pred = pipe_svm_rbf.predict(X_test)\n",
    "f.calc_stat(X_test,y_test,pipe_svm_rbf)"
   ]
  },
  {
   "cell_type": "code",
   "execution_count": null,
   "metadata": {},
   "outputs": [],
   "source": [
    "svm_poly = svm.SVC(probability=True,gamma='auto',kernel = 'poly')\n",
    "pipe_svm_poly = Pipeline(steps=[('svm', svm_poly)])\n",
    "pipe_svm_poly.fit(X_train, y_train)\n",
    "y_pred = pipe_svm_poly.predict(X_test)\n",
    "f.calc_stat(X_test,y_test,pipe_svm_poly)"
   ]
  },
  {
   "cell_type": "markdown",
   "metadata": {},
   "source": [
    "# Theory Questions \n",
    "\n",
    "Q1: We think that performance is more important for us, because if we have unbalanced data we can get high accuracy but the other performances will be bad. For example if we have 3% pathology data samples and the classifier always returns healthy label we will get high accuracy (97%) but sensitivity, for example, will be low. \n",
    "\n",
    "Q2: If we chose just 2 features we have 2 options:\n",
    "1) we choose the most correlated features and other not usefull for our classification we will get good performance for predicted labels, and it will be easy for computation\n",
    "\n",
    "2) if we chose features with bad correlation (it means not usefull for classification) we will get a bad prediction results. But computation will be fast.\n",
    "\n",
    "If we chose all the features, we have extra information that can be not useful for us and make computetions slower, require a large amount of system memory and will affect the performance. In other hand many features can lead to better performance, because we have more information that is usefull. \n",
    "\n",
    "Q3: We have very similar data, so it will be hard to find margin that maximize the distance between support vectors. Hence linear svm will be less usefull here. Logistic regression is based on probabilities so it we think that it will work better. In the question we have no information about number of examples and features, and the numbers will influence the model we will prefer. If we have small number of features and medium number of examples we will prefer to use non-linear SVM, in other cases we will prefer logistic regression. (We used information from https://medium.com/axum-labs/logistic-regression-vs-support-vector-machines-svm-c335610a3d16)\n",
    "\n",
    "Q4:\n",
    "SVM works well with unstructured and semi-structured data such as images and text, while logistic regression works well with already identified explanatory variables. The risk of overfitting is less in linear, whereas logistic regression can lead to overfitting easier. SVM is based on geometric properties of data, it tries to find the best margin that will maximize distance between support vectors. The main hyperparameter of linear SVM is C. The parameter regulates number of misclasified data points, because real data almost always is not ideally linear separable. If C is big number of misclassifications is low and margin is smaller than in the case when C is small. Logistic regression is based on statistical approaches. Its main hyperparameters are C, penalty and solver.  (https://towardsdatascience.com/hyperparameter-tuning-for-support-vector-machines-c-and-gamma-parameters-6a5097416167)"
   ]
  },
  {
   "cell_type": "code",
   "execution_count": null,
   "metadata": {},
   "outputs": [],
   "source": []
  }
 ],
 "metadata": {
  "kernelspec": {
   "display_name": "Python 3",
   "language": "python",
   "name": "python3"
  },
  "language_info": {
   "codemirror_mode": {
    "name": "ipython",
    "version": 3
   },
   "file_extension": ".py",
   "mimetype": "text/x-python",
   "name": "python",
   "nbconvert_exporter": "python",
   "pygments_lexer": "ipython3",
   "version": "3.7.9"
  }
 },
 "nbformat": 4,
 "nbformat_minor": 4
}
